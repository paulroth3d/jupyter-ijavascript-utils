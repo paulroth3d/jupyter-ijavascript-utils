{
 "cells": [
  {
   "cell_type": "markdown",
   "id": "b710fbdb-44d8-4343-a6d4-5bf0dbce9df5",
   "metadata": {},
   "source": [
    "## What is Jupyter Anyway?\n",
    "\n",
    "[Jupyter Lab is the latest environment for Jupyter](https://jupyter.org/) as a web-based interactive development environment.\n",
    "\n",
    "It has a very flexible interface to support workflows in data science, scientific computing, computational journalism and machine learning.\n",
    "\n",
    "A notebook is simply a collection of cells that are either `text` ([markdown](https://www.markdownguide.org/basic-syntax/)), or `code`.\n",
    "\n",
    "Jupyter doesn't understand the code itself - and merely passes it to another program that processes it and returns back what should be shown (kernel).\n",
    "\n",
    "![Screenshot of a cell setting a value, and then printing it in markdown](../img/howToUse_cellsBuilding.png)\n",
    "\n",
    "This makes Jupyter Notebooks very versatile as the the limits for languages  Jupyter supports really depends on which Kernels you have installed and registered."
   ]
  },
  {
   "cell_type": "markdown",
   "id": "b36f68e1-15a6-4bb6-9ab8-4cf7903ca84a",
   "metadata": {},
   "source": [
    "## Other Notebook Environments\n",
    "\n",
    "### Observable HQ\n",
    "\n",
    "[ObservableHQ](https://observablehq.com/tutorials) provides a really great experience for those familiar with JavaScript.  Although it [isn't technically JavaScript](https://observablehq.com/@observablehq/observables-not-javascript), those familiar with Modern JavaScript will feel right at home.\n",
    "\n",
    "![Screenshot of ObservableHQ](../img/started_observableHQ.png)\n",
    "\n",
    "One item to note about Observable though is that at least some aspect of your notebook will be online, which may be something to consider. See the writeup on [Advanced Embedding and Downloading](https://observablehq.com/@observablehq/advanced-embeds) on how you can embed your notebook on a web page or run it as an ES Module. "
   ]
  },
  {
   "cell_type": "markdown",
   "id": "185d4f7c-3ec2-4407-b3dd-d4c076d2a508",
   "metadata": {},
   "source": [
    "### Google Collab\n",
    "\n",
    "Google Collab is another online service for running and Authoring Notebooks.\n",
    "\n",
    "See the excellent writeup from [Alexey Okhrimenko on running TensorFlow within GoogleCollab](https://dev.to/obenjiro/silence-of-the-fans-part-1-javascript-quickstart-5f3m)\n",
    "\n",
    "Note the shortlink for an example document that sets up iJavaScript.\n",
    "\n",
    "![Screenshot of Google Collab](../img/started_collab.png)"
   ]
  },
  {
   "cell_type": "markdown",
   "id": "7a843595-c249-4616-89a4-4d2d4d3ef2b7",
   "metadata": {},
   "source": [
    "### Visual Studio Code\n",
    "\n",
    "Visual Studio Code also supports Jupyter Notebooks natively now too - [learn more here](https://code.visualstudio.com/docs/datascience/jupyter-notebooks)\n",
    "\n",
    "![Screenshot of VSCode](../img/started_vsCode.png);\n",
    "\n",
    "**Please note that there is an open bug to manage Scripts loaded with `text/html` mimetype - or all those rendered with `htmlScript`**"
   ]
  },
  {
   "cell_type": "markdown",
   "id": "cb556fef-b48d-410d-8725-74de4b2345ee",
   "metadata": {},
   "source": [
    "## What is the iJavaScript Kernel\n",
    "\n",
    "Jupyter supports multiple languages, but JavaScript is not available out of the box.\n",
    "\n",
    "[Try Jupyter Lab in your browser for the languages that are supported natively](https://jupyter.org/try)\n",
    "\n",
    "Language support is provided through Kernels within Jupyter Lab.\n",
    "\n",
    "[iJavaScript by nriesco](http://n-riesco.github.io/ijavascript/) is a kernel that provides JavaScript support\n",
    "through a Node.js session, and quite a few other smart ideas (such as Promise and Async support), along with various types of output options."
   ]
  }
 ],
 "metadata": {
  "kernelspec": {
   "display_name": "JavaScript (Node.js)",
   "language": "javascript",
   "name": "javascript"
  },
  "language_info": {
   "file_extension": ".js",
   "mimetype": "application/javascript",
   "name": "javascript",
   "version": "16.14.2"
  }
 },
 "nbformat": 4,
 "nbformat_minor": 5
}
