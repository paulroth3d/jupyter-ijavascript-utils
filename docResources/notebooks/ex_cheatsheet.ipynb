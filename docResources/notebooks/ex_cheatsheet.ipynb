{
 "cells": [
  {
   "cell_type": "markdown",
   "id": "60edafb6-ad96-405c-91bf-1885eccc73a7",
   "metadata": {},
   "source": [
    "**[This walkthrough is also available as a Jupyter ipynb Notebook - you can run yourself](notebooks/ex_Grouping.ipynb)**"
   ]
  },
  {
   "cell_type": "markdown",
   "id": "7038f5c7-ef7e-400b-87f9-6f90c303b2f6",
   "metadata": {},
   "source": [
    "# Using the library in a notebook"
   ]
  },
  {
   "cell_type": "code",
   "execution_count": 1,
   "id": "52e49f0a-011a-44ed-a6f8-5d0576bcadf7",
   "metadata": {},
   "outputs": [
    {
     "data": {
      "text/plain": [
       "'libraries successfully loaded'"
      ]
     },
     "execution_count": 1,
     "metadata": {},
     "output_type": "execute_result"
    }
   ],
   "source": [
    "// this line loads in the library\n",
    "// and stores the reference to the library in the utils variable\n",
    "utils = require('jupyter-ijavascript-utils');\n",
    "\n",
    "// as the last value referenced / returned in the notebook\n",
    "// this is the value that will be printed after the cell\n",
    "'libraries successfully loaded';"
   ]
  },
  {
   "cell_type": "markdown",
   "id": "f6d533c9-a04f-4c77-88f7-7f6bf61baa7a",
   "metadata": {},
   "source": [
    "The goal of this worksheet is to give an overview of how to work with Notebooks with the [iJavaScript kernel](https://github.com/n-riesco/ijavascript) and the [Jupyter-iJavaScript-Utils library](https://jupyter-ijavascript-utils.onrender.com/) - working similar to the [Pandas Cheat Sheet](https://pandas.pydata.org/Pandas_Cheat_Sheet.pdf)"
   ]
  },
  {
   "cell_type": "markdown",
   "id": "ba4dac41-8d72-4722-a61b-4206662fd793",
   "metadata": {},
   "source": [
    "## Overview\n",
    "\n",
    "This is a short introduction to the [Jupyter-iJavaScript-Utils library](https://jupyter-ijavascript-utils.onrender.com/),\n",
    "mostly geared to new users."
   ]
  },
  {
   "cell_type": "markdown",
   "id": "677c303d-3634-4232-9048-b5a0fd394566",
   "metadata": {},
   "source": [
    "To use the library, you must include the library locally in the folder that Jupyter is run in\n",
    "(say `~/notebooks`)"
   ]
  },
  {
   "cell_type": "markdown",
   "id": "6eccb17d-9eef-48bc-b3ce-ea6b7dfd6f53",
   "metadata": {},
   "source": [
    "## Installing iJavaScript Kernel\n",
    "\n",
    "Once Jupyter Lab is installed, we install the iJavaScript Kernel, so Jupyter can run JavaScript notebooks.\n",
    "\n",
    "As we will be running NodeJS, we will require either [npm](https://docs.npmjs.com/downloading-and-installing-node-js-and-npm) or [yarn](https://classic.yarnpkg.com/lang/en/docs/install/)\n",
    "\n",
    "The steps and other details [can be found here](https://n-riesco.github.io/ijavascript/doc/install.md.html)\n",
    "\n",
    "Note that typically for mac, this can be as simple as:\n",
    "\n",
    "```\n",
    "npm install -g ijavascript\n",
    "ijsinstall\n",
    "```\n",
    "\n",
    "Note: I tend to run `ijsinstall --spec-path=full` to ensure the kernel uses the full path, and avoid relative path issues."
   ]
  },
  {
   "cell_type": "markdown",
   "id": "2221faf4-f9ed-4863-9878-72dd697c9af7",
   "metadata": {},
   "source": [
    "**First, we need to create a package file:**"
   ]
  },
  {
   "cell_type": "markdown",
   "id": "ca57b0ce-cebc-4162-9589-6dd3e2f68eea",
   "metadata": {},
   "source": [
    "```shellscript\n",
    "❯ npm init -y\n",
    "Wrote to ~/notebooks/package.json:\n",
    "\n",
    "{\n",
    "  \"name\": \"test\",\n",
    "  \"version\": \"1.0.0\",\n",
    "  \"description\": \"\",\n",
    "  \"main\": \"index.js\",\n",
    "  \"scripts\": {\n",
    "    \"test\": \"echo \\\"Error: no test specified\\\" && exit 1\"\n",
    "  },\n",
    "  \"keywords\": [],\n",
    "  \"author\": \"\",\n",
    "  \"license\": \"ISC\"\n",
    "}\n",
    "```"
   ]
  },
  {
   "cell_type": "markdown",
   "id": "c6c82c50-66ce-4f94-ad19-76c2684a6386",
   "metadata": {},
   "source": [
    "**Next, we need to download the library:**\n",
    "\n",
    "We can use either [npm](https://www.npmjs.com/package/jupyter-ijavascript-utils)\n",
    "\n",
    "```shellscript\n",
    "npm install --save jupyter-ijavascript-utils\n",
    "```\n",
    "\n",
    "or with [yarn](https://yarnpkg.com/package?q=jupyter-ijavasc&name=jupyter-ijavascript-utils)\n",
    "\n",
    "```shellscript\n",
    "yarn install --save jupyter-ijavascript-utils\n",
    "```"
   ]
  },
  {
   "cell_type": "markdown",
   "id": "b564b37b-8e10-44d7-b1fa-11ec9079962a",
   "metadata": {},
   "source": [
    "**Then, we can [start Jupyter Lab in the same folder](https://jupyterlab.readthedocs.io/en/stable/getting_started/starting.html)**"
   ]
  },
  {
   "cell_type": "markdown",
   "id": "d0ee27c5-b30a-4dd8-a217-79bcfb844e32",
   "metadata": {},
   "source": [
    "```shellscript\n",
    "\n",
    "// navigate to the notebook folder - with the package file\n",
    "//-- (if necessary)\n",
    "cd ~/notebooks\n",
    "\n",
    "jupyter lab\n",
    "```"
   ]
  },
  {
   "cell_type": "markdown",
   "id": "8a0716ea-82e3-4192-82ae-7187a01b1089",
   "metadata": {},
   "source": [
    "Jupyter will then load "
   ]
  },
  {
   "cell_type": "markdown",
   "id": "9135dd7a-18a3-43e8-bf41-4108dd546af2",
   "metadata": {},
   "source": [
    "## Using Node Modules in a notebook\n",
    "\n",
    "Through the iJavaScript Kernel, modules are searched in the directory that `Jupyter Lab` is launched from.\n",
    "\n",
    "To use this library, simply npm install the library in the same folder you launch Jupyter Lab.\n",
    "\n",
    "```\n",
    "npm install --save jupyter-ijavascript-utils\n",
    "```\n",
    "\n",
    "You should now have these files and folders in that directly you ran the command in:\n",
    "\n",
    "```\n",
    "./\n",
    "    ./package.json\n",
    "    ./node_modules\n",
    "```\n",
    "\n",
    "The [package.json](https://docs.npmjs.com/cli/v7/configuring-npm/package-json) file lists all the modules we require for this project.\n",
    "\n",
    "The [node_modules](https://docs.npmjs.com/cli/v7/configuring-npm/folders#node-modules) are where they are installed."
   ]
  },
  {
   "cell_type": "markdown",
   "id": "de2de549-a424-49cd-a9a2-67233d57eb2b",
   "metadata": {},
   "source": [
    "## At first glance, notebooks can seem like pretty documentation"
   ]
  },
  {
   "cell_type": "markdown",
   "id": "0ed65703-5a04-414a-95dc-6ffc0d7db312",
   "metadata": {},
   "source": [
    "The notebook is written as a collection of `cells` that essentially are either:\n",
    "\n",
    "* words to explain the concept\n",
    "* or bits of code that can execute and provide a result\n",
    "\n",
    "**(NOTE: Cells can be hidden or shown. They are shown here for clarity, but do not need to be)**\n",
    "\n",
    "![Screenshot of Cells in Jupyter](http://localhost:8080/img/howToUse_cellsBuilding.png)"
   ]
  },
  {
   "cell_type": "markdown",
   "id": "6cb65936-4ad6-475f-9add-01827ce5d36e",
   "metadata": {},
   "source": [
    "And because each idea can be stored in a separate block (which can be a paragraph or sections, etc), it becomes quite easy to rearrange ideas."
   ]
  },
  {
   "cell_type": "markdown",
   "id": "bbc6959f-71dc-4928-ab52-c1a96ac5cd8a",
   "metadata": {},
   "source": [
    "This can be enormously helpful in explaining a concept, or even templatizing it:\n",
    "\n",
    "* Load in Data\n",
    "* Provide a bit of context\n",
    "* Show pretty graphs\n",
    "* Give details (either text or code) as needed."
   ]
  },
  {
   "cell_type": "markdown",
   "id": "89a048d3-e543-4c3b-b512-9efc2012a148",
   "metadata": {},
   "source": [
    "# Adding in a Text Node\n",
    "\n",
    "Next lets add in a Text Node, to help us remember where our code starts:\n",
    "\n",
    "Click the `+` button in the toolbar to make a new cell.\n",
    "\n",
    "Enter the following:\n",
    "\n",
    "```\n",
    "# Gap Minder DataSet\n",
    "```\n",
    "\n",
    "This time, change the dropdown in the toolbar from `Code` to `Text`\n",
    "\n",
    "Note that the cell turns BLUE.\n",
    "\n",
    "(Executing the cell, through the `▷` icon will render the text out as a header)\n",
    "\n",
    "![Screenshot](../img/walkthrough_cellType.png)"
   ]
  },
  {
   "cell_type": "markdown",
   "id": "3901fa8f-2b61-4167-8cd2-70a20edb7d85",
   "metadata": {},
   "source": [
    "# Using the library in a notebook"
   ]
  },
  {
   "cell_type": "code",
   "execution_count": 2,
   "id": "d9441193-39fa-45d1-a584-5e6a36096386",
   "metadata": {},
   "outputs": [
    {
     "data": {
      "text/plain": [
       "'libraries successfully loaded'"
      ]
     },
     "execution_count": 2,
     "metadata": {},
     "output_type": "execute_result"
    }
   ],
   "source": [
    "// this line loads in the library\n",
    "// and stores the reference to the library in the utils variable\n",
    "utils = require('jupyter-ijavascript-utils');\n",
    "\n",
    "// as the last value referenced / returned in the notebook\n",
    "// this is the value that will be printed after the cell\n",
    "'libraries successfully loaded';"
   ]
  },
  {
   "cell_type": "markdown",
   "id": "40c8632c-1f54-4e1d-be41-74e172ee8e50",
   "metadata": {},
   "source": [
    "# What is the Jupyter-iJavaScript-Utils library?"
   ]
  },
  {
   "cell_type": "markdown",
   "id": "b6c8fb2a-5f0c-4c75-bd89-9d05b4b38631",
   "metadata": {},
   "source": [
    "Please note that the jupyter-ijavascript-utils library is meant to help those familiar with JavaScript to branch into Data Science.\n",
    "\n",
    "We greatly appreciate any suggestions or comments that others find helpful, and would like to help direct people to them by need.\n",
    "\n",
    "The sections below are divided by need."
   ]
  },
  {
   "cell_type": "markdown",
   "id": "23ccb2bf-e8e8-45d4-b061-a0ec151e82d2",
   "metadata": {},
   "source": [
    "* [DataFrames - to organize data](#DataFrames)"
   ]
  },
  {
   "cell_type": "markdown",
   "id": "35692d5a-fdc5-445d-9888-817a9754dc5e",
   "metadata": {},
   "source": [
    "link to cheatsheet: https://pandas.pydata.org/Pandas_Cheat_Sheet.pdf"
   ]
  },
  {
   "cell_type": "markdown",
   "id": "944bc6d8-31ed-4676-915c-0f504da090af",
   "metadata": {},
   "source": [
    "# DataFrames"
   ]
  },
  {
   "cell_type": "markdown",
   "id": "e4221388-7680-4bbe-b4c6-c1089fc92725",
   "metadata": {},
   "source": [
    "For those of you familiar with Pandas DataFrames, there are a number of libraries may be familiar:\n",
    "\n",
    "* Danfojs\n"
   ]
  },
  {
   "cell_type": "markdown",
   "id": "20301db3-ddfa-433d-b9b0-a1c1bd9f78e3",
   "metadata": {},
   "source": [
    "## What is a DataFrame Anyway?"
   ]
  },
  {
   "cell_type": "markdown",
   "id": "dfc945df-88d7-4ef5-ac1e-c10e5fdad094",
   "metadata": {},
   "source": [
    "DataFrames organize data into a 2-dimensional tables of rows and columns - like a spreadsheet with named columns and indexed rows.\n",
    "\n",
    "index|a |b \n",
    "--   |--|--\n",
    "0    |1 |2 \n",
    "1    |3 |4 \n",
    "\n",
    "Every DataFrame includes a schema - with the name and dataType of each column."
   ]
  },
  {
   "cell_type": "code",
   "execution_count": 3,
   "id": "2cc4d359-4cb1-4c18-8c26-cb29676e2311",
   "metadata": {},
   "outputs": [
    {
     "data": {
      "text/plain": [
       "[ 'utils' ]"
      ]
     },
     "execution_count": 3,
     "metadata": {},
     "output_type": "execute_result"
    }
   ],
   "source": [
    "utils = require('jupyter-ijavascript-utils');\n",
    "['utils'];"
   ]
  },
  {
   "cell_type": "code",
   "execution_count": 4,
   "id": "a305078c-b64d-442c-98e3-ab2029343fb3",
   "metadata": {},
   "outputs": [
    {
     "name": "stdout",
     "output_type": "stream",
     "text": [
      "index|a |b \n",
      "--   |--|--\n",
      "0    |1 |2 \n",
      "1    |3 |4 \n"
     ]
    }
   ],
   "source": [
    "utils.table([{ index: 0, a: 1, b: 2}, { index: 1, a: 3, b: 4}]).renderMarkdown();"
   ]
  },
  {
   "cell_type": "markdown",
   "id": "2c86a139-6817-4d23-8cb1-1a549ea08a6f",
   "metadata": {},
   "source": [
    "# Organizing Data with Objects"
   ]
  },
  {
   "cell_type": "markdown",
   "id": "14d3ac98-55a0-402a-a3e9-274c5f15126b",
   "metadata": {},
   "source": [
    "placeholder"
   ]
  },
  {
   "cell_type": "markdown",
   "id": "e66d4c41-ed9d-4f6e-ada6-8753f540c41b",
   "metadata": {},
   "source": [
    "# Sample Data"
   ]
  },
  {
   "cell_type": "code",
   "execution_count": 5,
   "id": "fd21fe64-b94b-4b51-b6de-8cf94176b027",
   "metadata": {},
   "outputs": [
    {
     "data": {
      "text/plain": [
       "[\n",
       "  { id: 1, city: 'Seattle', month: 'Aug', precip: 0.87 },\n",
       "  { id: 0, city: 'Seattle', month: 'Apr', precip: 2.68 },\n",
       "  { id: 2, city: 'Seattle', month: 'Dec', precip: 5.31 },\n",
       "  { id: 3, city: 'New York', month: 'Apr', precip: 3.94 },\n",
       "  { id: 4, city: 'New York', month: 'Aug', precip: 4.13 },\n",
       "  { id: 5, city: 'New York', month: 'Dec', precip: 3.58 },\n",
       "  { id: 6, city: 'Chicago', month: 'Apr', precip: 3.62 },\n",
       "  { id: 8, city: 'Chicago', month: 'Dec', precip: 2.56 },\n",
       "  { id: 7, city: 'Chicago', month: 'Aug', precip: 3.98 }\n",
       "]"
      ]
     },
     "execution_count": 5,
     "metadata": {},
     "output_type": "execute_result"
    }
   ],
   "source": [
    "weather = [\n",
    "  { id: 1, city: 'Seattle',  month: 'Aug', precip: 0.87 },\n",
    "  { id: 0, city: 'Seattle',  month: 'Apr', precip: 2.68 },\n",
    "  { id: 2, city: 'Seattle',  month: 'Dec', precip: 5.31 },\n",
    "  { id: 3, city: 'New York', month: 'Apr', precip: 3.94 },\n",
    "  { id: 4, city: 'New York', month: 'Aug', precip: 4.13 },\n",
    "  { id: 5, city: 'New York', month: 'Dec', precip: 3.58 },\n",
    "  { id: 6, city: 'Chicago',  month: 'Apr', precip: 3.62 },\n",
    "  { id: 8, city: 'Chicago',  month: 'Dec', precip: 2.56 },\n",
    "  { id: 7, city: 'Chicago',  month: 'Aug', precip: 3.98 }\n",
    "];"
   ]
  },
  {
   "cell_type": "markdown",
   "id": "faf87525-2df2-4d97-9f90-1cb23189b89e",
   "metadata": {},
   "source": [
    "## Melt\n",
    "\n",
    "Melt gathers columns into rows"
   ]
  },
  {
   "cell_type": "code",
   "execution_count": 15,
   "id": "b53721b2-26e2-4c68-b0dd-2a974635b1af",
   "metadata": {},
   "outputs": [
    {
     "data": {
      "text/plain": [
       "{ name: 'john' }"
      ]
     },
     "execution_count": 15,
     "metadata": {},
     "output_type": "execute_result"
    }
   ],
   "source": [
    "utils.object.assign({}, 'name', 'john');"
   ]
  },
  {
   "cell_type": "code",
   "execution_count": 20,
   "id": "800b0823-1b87-4729-8c9e-e3b669cc3318",
   "metadata": {},
   "outputs": [
    {
     "data": {
      "text/plain": [
       "[\n",
       "  { id: 1, key: 'city', value: 'Seattle' },\n",
       "  { id: 1, key: 'month', value: 'Aug' },\n",
       "  { id: 1, key: 'precip', value: 0.87 },\n",
       "  { id: 0, key: 'city', value: 'Seattle' },\n",
       "  { id: 0, key: 'month', value: 'Apr' },\n",
       "  { id: 0, key: 'precip', value: 2.68 },\n",
       "  { id: 2, key: 'city', value: 'Seattle' },\n",
       "  { id: 2, key: 'month', value: 'Dec' },\n",
       "  { id: 2, key: 'precip', value: 5.31 },\n",
       "  { id: 3, key: 'city', value: 'New York' },\n",
       "  { id: 3, key: 'month', value: 'Apr' },\n",
       "  { id: 3, key: 'precip', value: 3.94 },\n",
       "  { id: 4, key: 'city', value: 'New York' },\n",
       "  { id: 4, key: 'month', value: 'Aug' },\n",
       "  { id: 4, key: 'precip', value: 4.13 },\n",
       "  { id: 5, key: 'city', value: 'New York' },\n",
       "  { id: 5, key: 'month', value: 'Dec' },\n",
       "  { id: 5, key: 'precip', value: 3.58 },\n",
       "  { id: 6, key: 'city', value: 'Chicago' },\n",
       "  { id: 6, key: 'month', value: 'Apr' },\n",
       "  { id: 6, key: 'precip', value: 3.62 },\n",
       "  { id: 8, key: 'city', value: 'Chicago' },\n",
       "  { id: 8, key: 'month', value: 'Dec' },\n",
       "  { id: 8, key: 'precip', value: 2.56 },\n",
       "  { id: 7, key: 'city', value: 'Chicago' },\n",
       "  { id: 7, key: 'month', value: 'Aug' },\n",
       "  { id: 7, key: 'precip', value: 3.98 }\n",
       "]"
      ]
     },
     "execution_count": 20,
     "metadata": {},
     "output_type": "execute_result"
    }
   ],
   "source": [
    "meltResult = ((collection, indexProp) => {\n",
    "    const keys = utils.object.keys(collection);\n",
    "    const keysWithoutIndex = keys.filter(r => r != indexProp);\n",
    "    \n",
    "    const results = [];\n",
    "    collection.forEach((record) => {\n",
    "        keysWithoutIndex.forEach((key) => {\n",
    "            const newRecord = utils.object.assign(\n",
    "                {},\n",
    "                indexProp, record[indexProp],\n",
    "                'key', key, \n",
    "                'value', record[key]\n",
    "            );\n",
    "            results.push(newRecord);\n",
    "        });\n",
    "    });\n",
    "\n",
    "    return results;\n",
    "})(weather, 'id');"
   ]
  },
  {
   "cell_type": "markdown",
   "id": "1f490029-e403-4986-a95e-7f93a903cd26",
   "metadata": {},
   "source": [
    "## Pivot\n",
    "\n",
    "This is the logistical opposite of melt.\n",
    "\n",
    "This spreads rows into columns."
   ]
  },
  {
   "cell_type": "code",
   "execution_count": 29,
   "id": "33337865-0996-4acc-96be-fd2fc3b676fb",
   "metadata": {},
   "outputs": [
    {
     "data": {
      "text/plain": [
       "[\n",
       "  { id: 1, city: 'Seattle', month: 'Aug', precip: 0.87 },\n",
       "  { id: 0, city: 'Seattle', month: 'Apr', precip: 2.68 },\n",
       "  { id: 2, city: 'Seattle', month: 'Dec', precip: 5.31 },\n",
       "  { id: 3, city: 'New York', month: 'Apr', precip: 3.94 },\n",
       "  { id: 4, city: 'New York', month: 'Aug', precip: 4.13 },\n",
       "  { id: 5, city: 'New York', month: 'Dec', precip: 3.58 },\n",
       "  { id: 6, city: 'Chicago', month: 'Apr', precip: 3.62 },\n",
       "  { id: 8, city: 'Chicago', month: 'Dec', precip: 2.56 },\n",
       "  { id: 7, city: 'Chicago', month: 'Aug', precip: 3.98 }\n",
       "]"
      ]
     },
     "execution_count": 29,
     "metadata": {},
     "output_type": "execute_result"
    }
   ],
   "source": [
    "((collection, indexColumn, keyColumn, valueColumn) => {\n",
    "    const results = new Map();\n",
    "    \n",
    "    collection.forEach((record) => {\n",
    "        const recordIndex = record[indexColumn];\n",
    "        const currentRecord = results.has(recordIndex)\n",
    "            ? results.get(recordIndex)\n",
    "            : utils.object.assign({}, indexColumn, recordIndex);\n",
    "        \n",
    "        const recordKey = record[keyColumn];\n",
    "        const recordValue = record[valueColumn];\n",
    "        \n",
    "        utils.object.assign(currentRecord, recordKey, recordValue);\n",
    "        \n",
    "        results.set(recordIndex, currentRecord);\n",
    "    });\n",
    "    \n",
    "    return [...results.values()];\n",
    "})(meltResult, 'id', 'key', 'value')"
   ]
  },
  {
   "cell_type": "markdown",
   "id": "b5f39737-4c9f-4c6c-80f7-33e22612b6f8",
   "metadata": {},
   "source": [
    "# Concat\n",
    "\n",
    "uses standard ES6"
   ]
  },
  {
   "cell_type": "code",
   "execution_count": 32,
   "id": "983c0087-2913-412f-bcbe-d33578ab8558",
   "metadata": {},
   "outputs": [
    {
     "data": {
      "text/plain": [
       "[\n",
       "  { id: 1, city: 'Seattle', month: 'Aug', precip: 0.87 },\n",
       "  { id: 0, city: 'Seattle', month: 'Apr', precip: 2.68 },\n",
       "  { id: 2, city: 'Seattle', month: 'Dec', precip: 5.31 },\n",
       "  { id: 3, city: 'New York', month: 'Apr', precip: 3.94 },\n",
       "  { id: 4, city: 'New York', month: 'Aug', precip: 4.13 },\n",
       "  { id: 5, city: 'New York', month: 'Dec', precip: 3.58 },\n",
       "  { id: 6, city: 'Chicago', month: 'Apr', precip: 3.62 },\n",
       "  { id: 8, city: 'Chicago', month: 'Dec', precip: 2.56 },\n",
       "  { id: 7, city: 'Chicago', month: 'Aug', precip: 3.98 }\n",
       "]"
      ]
     },
     "execution_count": 32,
     "metadata": {},
     "output_type": "execute_result"
    }
   ],
   "source": [
    "{\n",
    "    const list1 = [\n",
    "          { id: 1, city: 'Seattle', month: 'Aug', precip: 0.87 },\n",
    "          { id: 0, city: 'Seattle', month: 'Apr', precip: 2.68 },\n",
    "          { id: 2, city: 'Seattle', month: 'Dec', precip: 5.31 },\n",
    "          { id: 3, city: 'New York', month: 'Apr', precip: 3.94 }\n",
    "    ];\n",
    "    const list2 = [\n",
    "          { id: 4, city: 'New York', month: 'Aug', precip: 4.13 },\n",
    "          { id: 5, city: 'New York', month: 'Dec', precip: 3.58 },\n",
    "          { id: 6, city: 'Chicago', month: 'Apr', precip: 3.62 },\n",
    "          { id: 8, city: 'Chicago', month: 'Dec', precip: 2.56 },\n",
    "          { id: 7, city: 'Chicago', month: 'Aug', precip: 3.98 }\n",
    "    ];\n",
    "    \n",
    "    //-- spread\n",
    "    [...list1, ...list2];\n",
    "}"
   ]
  },
  {
   "cell_type": "markdown",
   "id": "ca738148-dd19-4e70-b624-95fd474b78b5",
   "metadata": {},
   "source": [
    "# join"
   ]
  },
  {
   "cell_type": "code",
   "execution_count": 36,
   "id": "731e703e-b808-402e-8f05-c0025f0377e9",
   "metadata": {},
   "outputs": [
    {
     "data": {
      "text/plain": [
       "[\n",
       "  { id: 1, month: 'Aug', precip: 0.87 },\n",
       "  { id: 0, month: 'Apr', precip: 2.68 },\n",
       "  { id: 2, month: 'Dec', precip: 5.31 },\n",
       "  { id: 3, month: 'Apr', precip: 3.94 },\n",
       "  { id: 4, month: 'Aug', precip: 4.13 },\n",
       "  { id: 5, month: 'Dec', precip: 3.58 },\n",
       "  { id: 6, month: 'Apr', precip: 3.62 },\n",
       "  { id: 8, month: 'Dec', precip: 2.56 },\n",
       "  { id: 7, month: 'Aug', precip: 3.98 }\n",
       "]"
      ]
     },
     "execution_count": 36,
     "metadata": {},
     "output_type": "execute_result"
    }
   ],
   "source": [
    "utils.object.selectObjectProperties(weather, ['id', 'month', 'precip'])"
   ]
  },
  {
   "cell_type": "code",
   "execution_count": 37,
   "id": "86846d50-2db9-4c80-a8b9-86a5bdf0cb14",
   "metadata": {},
   "outputs": [
    {
     "ename": "Error",
     "evalue": "Send either a Function or Property Name or null for a simple array",
     "execution_count": 37,
     "output_type": "error",
     "traceback": [
      "/Users/proth/Documents/notebooks/jupyter-ijavascript-utils/src/object.js:81",
      "  throw (Error('Send either a Function or Property Name or null for a simple array'));",
      "  ^",
      "",
      "Error: Send either a Function or Property Name or null for a simple array",
      "    at Object.evaluateFunctionOrProperty (/Users/proth/Documents/notebooks/jupyter-ijavascript-utils/src/object.js:81:10)",
      "    at Object.join (/Users/proth/Documents/notebooks/jupyter-ijavascript-utils/src/object.js:1126:31)",
      "    at evalmachine.<anonymous>:24:18",
      "    at Script.runInThisContext (node:vm:129:12)",
      "    at Object.runInThisContext (node:vm:307:38)",
      "    at run ([eval]:1020:15)",
      "    at onRunRequest ([eval]:864:18)",
      "    at onMessage ([eval]:828:13)",
      "    at process.emit (node:events:513:28)",
      "    at emit (node:internal/child_process:937:14)"
     ]
    }
   ],
   "source": [
    "{\n",
    "    list1 = [\n",
    "      { id: 1, city: 'Seattle' },\n",
    "      { id: 0, city: 'Seattle' },\n",
    "      { id: 2, city: 'Seattle' },\n",
    "      { id: 3, city: 'New York' },\n",
    "      { id: 4, city: 'New York' },\n",
    "      { id: 5, city: 'New York' },\n",
    "      { id: 6, city: 'Chicago' },\n",
    "      { id: 8, city: 'Chicago' },\n",
    "      { id: 7, city: 'Chicago' }\n",
    "    ];\n",
    "    list2 = [\n",
    "      { id: 1, month: 'Aug', precip: 0.87 },\n",
    "      { id: 0, month: 'Apr', precip: 2.68 },\n",
    "      { id: 2, month: 'Dec', precip: 5.31 },\n",
    "      { id: 3, month: 'Apr', precip: 3.94 },\n",
    "      { id: 4, month: 'Aug', precip: 4.13 },\n",
    "      { id: 5, month: 'Dec', precip: 3.58 },\n",
    "      { id: 6, month: 'Apr', precip: 3.62 },\n",
    "      { id: 8, month: 'Dec', precip: 2.56 },\n",
    "      { id: 7, month: 'Aug', precip: 3.98 }\n",
    "    ];\n",
    "    utils.object.join(list1, list2, 'id');\n",
    "}"
   ]
  }
 ],
 "metadata": {
  "kernelspec": {
   "display_name": "JavaScript (Node.js)",
   "language": "javascript",
   "name": "javascript"
  },
  "language_info": {
   "file_extension": ".js",
   "mimetype": "application/javascript",
   "name": "javascript",
   "version": "18.16.0"
  }
 },
 "nbformat": 4,
 "nbformat_minor": 5
}
