{
 "cells": [
  {
   "cell_type": "markdown",
   "id": "c51a10c7-31c2-4333-a1f4-110dbe4d0f4b",
   "metadata": {},
   "source": [
    "## BEFORE SUBMITTING\n",
    "\n",
    "change images from:\n",
    "\n",
    "```\n",
    "http://localhost:8080/img/...\n",
    "```\n",
    "\n",
    "to \n",
    "\n",
    "```\n",
    "../img/gapMinderLifeFertilityChart1.png\n",
    "```\n",
    "\n",
    "----"
   ]
  },
  {
   "cell_type": "markdown",
   "id": "60edafb6-ad96-405c-91bf-1885eccc73a7",
   "metadata": {},
   "source": [
    "**[This walkthrough is also available as a Jupyter ipynb Notebook - you can run yourself](notebooks/ex_Grouping.ipynb)**"
   ]
  },
  {
   "cell_type": "markdown",
   "id": "f6d533c9-a04f-4c77-88f7-7f6bf61baa7a",
   "metadata": {},
   "source": [
    "The goal of this worksheet is to give an overview of how to work with Notebooks with the [iJavaScript kernel](https://github.com/n-riesco/ijavascript) and the [Jupyter-iJavaScript-Utils library](https://jupyter-ijavascript-utils.onrender.com/) - working similar to the [Pandas Cheat Sheet](https://pandas.pydata.org/Pandas_Cheat_Sheet.pdf)"
   ]
  },
  {
   "cell_type": "markdown",
   "id": "ba4dac41-8d72-4722-a61b-4206662fd793",
   "metadata": {},
   "source": [
    "## Overview\n",
    "\n",
    "This is a short introduction to the [Jupyter-iJavaScript-Utils library](https://jupyter-ijavascript-utils.onrender.com/),\n",
    "mostly geared to new users."
   ]
  },
  {
   "cell_type": "markdown",
   "id": "677c303d-3634-4232-9048-b5a0fd394566",
   "metadata": {},
   "source": [
    "To use the library, you must include the library locally in the folder that Jupyter is run in\n",
    "(say `~/notebooks`)"
   ]
  },
  {
   "cell_type": "markdown",
   "id": "6eccb17d-9eef-48bc-b3ce-ea6b7dfd6f53",
   "metadata": {},
   "source": [
    "## Installing iJavaScript Kernel\n",
    "\n",
    "Once Jupyter Lab is installed, we install the iJavaScript Kernel, so Jupyter can run JavaScript notebooks.\n",
    "\n",
    "As we will be running NodeJS, we will require either [npm](https://docs.npmjs.com/downloading-and-installing-node-js-and-npm) or [yarn](https://classic.yarnpkg.com/lang/en/docs/install/)\n",
    "\n",
    "The steps and other details [can be found here](https://n-riesco.github.io/ijavascript/doc/install.md.html)\n",
    "\n",
    "Note that typically for mac, this can be as simple as:\n",
    "\n",
    "```\n",
    "npm install -g ijavascript\n",
    "ijsinstall\n",
    "```\n",
    "\n",
    "Note: I tend to run `ijsinstall --spec-path=full` to ensure the kernel uses the full path, and avoid relative path issues."
   ]
  },
  {
   "cell_type": "markdown",
   "id": "2221faf4-f9ed-4863-9878-72dd697c9af7",
   "metadata": {},
   "source": [
    "**First, we need to create a package file:**"
   ]
  },
  {
   "cell_type": "markdown",
   "id": "ca57b0ce-cebc-4162-9589-6dd3e2f68eea",
   "metadata": {},
   "source": [
    "```shellscript\n",
    "❯ npm init -y\n",
    "Wrote to ~/notebooks/package.json:\n",
    "\n",
    "{\n",
    "  \"name\": \"test\",\n",
    "  \"version\": \"1.0.0\",\n",
    "  \"description\": \"\",\n",
    "  \"main\": \"index.js\",\n",
    "  \"scripts\": {\n",
    "    \"test\": \"echo \\\"Error: no test specified\\\" && exit 1\"\n",
    "  },\n",
    "  \"keywords\": [],\n",
    "  \"author\": \"\",\n",
    "  \"license\": \"ISC\"\n",
    "}\n",
    "```"
   ]
  },
  {
   "cell_type": "markdown",
   "id": "c6c82c50-66ce-4f94-ad19-76c2684a6386",
   "metadata": {},
   "source": [
    "**Next, we need to download the library:**\n",
    "\n",
    "We can use either [npm](https://www.npmjs.com/package/jupyter-ijavascript-utils)\n",
    "\n",
    "```shellscript\n",
    "npm install --save jupyter-ijavascript-utils\n",
    "```\n",
    "\n",
    "or with [yarn](https://yarnpkg.com/package?q=jupyter-ijavasc&name=jupyter-ijavascript-utils)\n",
    "\n",
    "```shellscript\n",
    "yarn install --save jupyter-ijavascript-utils\n",
    "```"
   ]
  },
  {
   "cell_type": "markdown",
   "id": "b564b37b-8e10-44d7-b1fa-11ec9079962a",
   "metadata": {},
   "source": [
    "**Then, we can [start Jupyter Lab in the same folder](https://jupyterlab.readthedocs.io/en/stable/getting_started/starting.html)**"
   ]
  },
  {
   "cell_type": "markdown",
   "id": "d0ee27c5-b30a-4dd8-a217-79bcfb844e32",
   "metadata": {},
   "source": [
    "```shellscript\n",
    "\n",
    "// navigate to the notebook folder - with the package file\n",
    "//-- (if necessary)\n",
    "cd ~/notebooks\n",
    "\n",
    "jupyter lab\n",
    "```"
   ]
  },
  {
   "cell_type": "markdown",
   "id": "8a0716ea-82e3-4192-82ae-7187a01b1089",
   "metadata": {},
   "source": [
    "Jupyter will then load "
   ]
  },
  {
   "cell_type": "markdown",
   "id": "9135dd7a-18a3-43e8-bf41-4108dd546af2",
   "metadata": {},
   "source": [
    "## Using Node Modules in a notebook\n",
    "\n",
    "Through the iJavaScript Kernel, modules are searched in the directory that `Jupyter Lab` is launched from.\n",
    "\n",
    "To use this library, simply npm install the library in the same folder you launch Jupyter Lab.\n",
    "\n",
    "```\n",
    "npm install --save jupyter-ijavascript-utils\n",
    "```\n",
    "\n",
    "You should now have these files and folders in that directly you ran the command in:\n",
    "\n",
    "```\n",
    "./\n",
    "    ./package.json\n",
    "    ./node_modules\n",
    "```\n",
    "\n",
    "The [package.json](https://docs.npmjs.com/cli/v7/configuring-npm/package-json) file lists all the modules we require for this project.\n",
    "\n",
    "The [node_modules](https://docs.npmjs.com/cli/v7/configuring-npm/folders#node-modules) are where they are installed."
   ]
  },
  {
   "cell_type": "markdown",
   "id": "de2de549-a424-49cd-a9a2-67233d57eb2b",
   "metadata": {},
   "source": [
    "## At first glance, notebooks can seem like pretty documentation"
   ]
  },
  {
   "cell_type": "markdown",
   "id": "0ed65703-5a04-414a-95dc-6ffc0d7db312",
   "metadata": {},
   "source": [
    "The notebook is written as a collection of `cells` that essentially are either:\n",
    "\n",
    "* words to explain the concept\n",
    "* or bits of code that can execute and provide a result\n",
    "\n",
    "**(NOTE: Cells can be hidden or shown. They are shown here for clarity, but do not need to be)**\n",
    "\n",
    "![Screenshot of Cells in Jupyter](http://localhost:8080/img/howToUse_cellsBuilding.png)"
   ]
  },
  {
   "cell_type": "markdown",
   "id": "6cb65936-4ad6-475f-9add-01827ce5d36e",
   "metadata": {},
   "source": [
    "And because each idea can be stored in a separate block (which can be a paragraph or sections, etc), it becomes quite easy to rearrange ideas."
   ]
  },
  {
   "cell_type": "markdown",
   "id": "bbc6959f-71dc-4928-ab52-c1a96ac5cd8a",
   "metadata": {},
   "source": [
    "This can be enormously helpful in explaining a concept, or even templatizing it:\n",
    "\n",
    "* Load in Data\n",
    "* Provide a bit of context\n",
    "* Show pretty graphs\n",
    "* Give details (either text or code) as needed."
   ]
  },
  {
   "cell_type": "markdown",
   "id": "89a048d3-e543-4c3b-b512-9efc2012a148",
   "metadata": {},
   "source": [
    "# Adding in a Text Node\n",
    "\n",
    "Next lets add in a Text Node, to help us remember where our code starts:\n",
    "\n",
    "Click the `+` button in the toolbar to make a new cell.\n",
    "\n",
    "Enter the following:\n",
    "\n",
    "```\n",
    "# Gap Minder DataSet\n",
    "```\n",
    "\n",
    "This time, change the dropdown in the toolbar from `Code` to `Text`\n",
    "\n",
    "Note that the cell turns BLUE.\n",
    "\n",
    "(Executing the cell, through the `▷` icon will render the text out as a header)\n",
    "\n",
    "![Screenshot](../img/walkthrough_cellType.png)"
   ]
  }
 ],
 "metadata": {
  "kernelspec": {
   "display_name": "JavaScript (Node.js)",
   "language": "javascript",
   "name": "javascript"
  },
  "language_info": {
   "file_extension": ".js",
   "mimetype": "application/javascript",
   "name": "javascript",
   "version": "18.16.0"
  }
 },
 "nbformat": 4,
 "nbformat_minor": 5
}
