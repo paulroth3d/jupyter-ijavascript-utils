{
 "cells": [
  {
   "cell_type": "markdown",
   "id": "f997951f-5157-4296-aad4-916ea6ce4dd6",
   "metadata": {},
   "source": [
    "# Modern JavaScript\n",
    "\n",
    "Here we will talk about Modern JavaScript (ECMA262 ES6+) to help you:\n",
    "\n",
    "* utilize notebooks more efficiently\n",
    "* understand the examples\n",
    "\n",
    "More can be found in [Exploring ES6](https://exploringjs.com/es6/ch_core-features.html#sec_named-params-core-feature)\n",
    "and [Modern JavaScript Development Trailhead](https://trailhead.salesforce.com/content/learn/modules/modern-javascript-development)\n",
    "\n",
    "Here are the concepts that we would recommend that you look into.\n",
    "\n",
    "Fold these into the examples on how to run them in the walkthrough.",
    "\n",
    "How many record types on objects\n",
    "How many objects have triggers\n",
    "\n"
    "Objects related to one another - through PlantUML\n",
    "\n",
    "Pull data in query from Bulk API with queryMore\n",
    "\n"
    "write it out to csv\n",
    "\n"
    "Group -> Filter -> Aggregate\n",
    "\n",
    "GraphQL?"
   ]
  },
  {
   "cell_type": "markdown",
   "id": "54233788-1412-4bab-ab6c-e5b3a4724e99",
   "metadata": {},
   "source": [
    "# iJavaScript Global Variables\n",
    "\n",
    "The iJavaScript kernel also a global variable `$$` that allows you to output specific mime types.\n",
    "\n",
    "## $$.html()\n",
    "renders html"
   ]
  },
  {
   "cell_type": "code",
   "execution_count": 6,
   "id": "e20e4677-264c-41cb-9456-6214d127813d",
   "metadata": {},
   "outputs": [
    {
     "data": {
      "text/html": [
       "<b>This information is bold</b>"
      ]
     },
     "execution_count": 6,
     "metadata": {},
     "output_type": "execute_result"
    }
   ],
   "source": [
    "$$.html('<b>This information is bold</b>')"
   ]
  },
  {
   "cell_type": "markdown",
   "id": "5ac27b7b-2ca7-4737-8f88-cddecf9cb7c9",
   "metadata": {},
   "source": [
    "## $$.svg()\n",
    "Renders svg content"
   ]
  },
  {
   "cell_type": "code",
   "execution_count": 8,
   "id": "fd0f689f-b2ef-4ea0-80a4-087b9cb96318",
   "metadata": {},
   "outputs": [
    {
     "data": {
      "image/svg+xml": [
       "<svg width=\"100\" height=\"100\">\n",
       "    <circle cx=\"50\" cy=\"50\" r=\"40\" stroke=\"green\" stroke-width=\"4\" fill=\"yellow\" />\n",
       "</svg>"
      ]
     },
     "execution_count": 8,
     "metadata": {},
     "output_type": "execute_result"
    }
   ],
   "source": [
    "$$.svg(`<svg width=\"100\" height=\"100\">\n",
    "    <circle cx=\"50\" cy=\"50\" r=\"40\" stroke=\"green\" stroke-width=\"4\" fill=\"yellow\" />\n",
    "</svg>`)"
   ]
  },
  {
   "cell_type": "markdown",
   "id": "a2fbb18a-0a6e-4a4f-b905-ddb7e891d511",
   "metadata": {},
   "source": [
    "## $$.png(base64String)\n",
    "Renders PNG using a base64 format\n",
    "\n",
    "```\n",
    "$$.png(require(\"fs\").readFileSync(\"image.png\").toString(\"base64\"));\n",
    "```"
   ]
  },
  {
   "cell_type": "markdown",
   "id": "474e8fbc-c124-4cc3-9664-a45b73d3f165",
   "metadata": {},
   "source": [
    "## $$.jpeg(base64String)\n",
    "Renders JPEG files using a base64 format\n",
    "\n",
    "```\n",
    "$$.jpeg(require(\"fs\").readFileSync(\"image.jpeg\").toString(\"base64\"));\n",
    "```"
   ]
  },
  {
   "cell_type": "markdown",
   "id": "09a653f7-b2aa-468c-a61c-903e48356b76",
   "metadata": {},
   "source": [
    "## $$.mime({ mimeType: string })\n",
    "Renders content as a given mime type."
   ]
  },
  {
   "cell_type": "code",
   "execution_count": 13,
   "id": "a3acae8a-ea7a-4df5-8174-0ec91edf8278",
   "metadata": {},
   "outputs": [
    {
     "data": {
      "text/html": [
       "<div style=\"background-color:olive;width:50px;height:50px\">&nbsp;</div>"
      ]
     },
     "execution_count": 13,
     "metadata": {},
     "output_type": "execute_result"
    }
   ],
   "source": [
    "$$.mime({\n",
    "    'text/html': `<div style=\"background-color:olive;width:50px;height:50px\">&nbsp;</div>`\n",
    "})"
   ]
  },
  {
   "cell_type": "markdown",
   "id": "fcf981f0-48fb-4e2d-8165-707dc69ea8f5",
   "metadata": {},
   "source": [
    "# Defining variables\n",
    "\n",
    "Cells within Notebooks are often expected to be run more than once.\n",
    "\n",
    "Use Scopes within Jupyter Notebooks, especially if you think you'll need to run it again.\n",
    "\n",
    "For example, don't do this:\n",
    "\n",
    "```\n",
    "const color = 'blue';\n",
    "```\n",
    "\n",
    "It will execute the first time you run the cell...\n",
    "\n",
    "But the second time you run the notebook - it will fail, because `color` was already defined.\n",
    "\n",
    "Instead:\n",
    "\n",
    "```\n",
    "{\n",
    "    //-- even though it is in a scope block, it will be available the rest of the notebook\n",
    "    //-- due to 'hoisting'\n",
    "    const color = 'blue';\n",
    "}\n",
    "```\n",
    "\n",
    "or simply:\n",
    "\n",
    "```\n",
    "color = 'blue';\n",
    "```"
   ]
  },
  {
   "cell_type": "markdown",
   "id": "4db7617e-7a36-4f5b-ab5c-1a3e923a19c9",
   "metadata": {},
   "source": [
    "## ES6 Const / Let\n",
    "\n",
    "Before ES6, the only way you could declare that a variable should now exist is through the `var` keyword.\n",
    "\n",
    "This meant thought that variables can behave slightly unexpectedly, as `var` does not support `block-scopes`\n",
    "\n",
    "```\n",
    "var counter = 1;\n",
    "if (true) {\n",
    "    var counter = 2;\n",
    "    console.log(counter); // 2\n",
    "}\n",
    "console.log(counter);     // 2\n",
    "```\n",
    "\n",
    "but it does support `function blocks`\n",
    "\n",
    "```\n",
    "var counter = 1;\n",
    "function testFunction() {\n",
    "    var counter = 2;\n",
    "    console.log(counter); // 2\n",
    "}\n",
    "testFunction\n",
    "console.log(counter);     // 1\n",
    "```\n",
    "\n",
    "With the introduction of [hoisting](https://developer.mozilla.org/en-US/docs/Glossary/Hoisting#var_hoisting), or allowing variables to be referenced before the line they are initialized on, this can get confusing fast.\n",
    "\n",
    "```\n",
    "console.log(num); // Returns 'undefined' from hoisted var declaration (not 6)\n",
    "var num = 6; // Initialization and declaration.\n",
    "console.log(num); // Returns 6 after the line with initialization is executed.\n",
    "```\n",
    "\n",
    "\n",
    "\n",
    "\n"
   ]
  },
  {
   "cell_type": "markdown",
   "id": "828e5aab-38bc-4fac-bb36-d781f14e0a76",
   "metadata": {},
   "source": [
    "# Array.map()"
   ]
  },
  {
   "cell_type": "markdown",
   "id": "49b936b6-cba8-4534-bc16-f7e7b22d1d33",
   "metadata": {},
   "source": [
    "# For to ForEach to for...of"
   ]
  },
  {
   "cell_type": "markdown",
   "id": "2f8cff58-0b66-4ee9-9991-ddee342735a8",
   "metadata": {},
   "source": [
    "# Array.reduce()"
   ]
  },
  {
   "cell_type": "markdown",
   "id": "3c81ddaf-b540-434c-9725-e5bf26b471fe",
   "metadata": {},
   "source": [
    "# Ternary Operator"
   ]
  },
  {
   "cell_type": "markdown",
   "id": "4f5de68d-45d7-4cee-942f-8b8b3dc5918e",
   "metadata": {},
   "source": [
    "# Arrow Functions"
   ]
  },
  {
   "cell_type": "markdown",
   "id": "cc7b6be0-7f55-416c-a7f1-e1414add91b4",
   "metadata": {},
   "source": [
    "# Rest Operators"
   ]
  },
  {
   "cell_type": "markdown",
   "id": "fdf193f9-69af-46ee-b020-259923656ce5",
   "metadata": {},
   "source": [
    "# Destructuring\n",
    "\n",
    "## Array Destructuring\n",
    "\n",
    "## Object Destructuring\n",
    "\n",
    "## Parameter Destructuring (Named Parameters)"
   ]
  },
  {
   "cell_type": "markdown",
   "id": "af3e5078-1884-41ba-aed6-576385e17aca",
   "metadata": {},
   "source": [
    "# Default Parameters"
   ]
  },
  {
   "cell_type": "markdown",
   "id": "a14bbbd4-59ea-49f3-9437-ae369e404952",
   "metadata": {},
   "source": [
    "# Spread Operator\n",
    "\n",
    "## Array Spread\n",
    "\n",
    "## Object Spread\n",
    "\n",
    "## Spread instead of Fn.apply"
   ]
  },
  {
   "cell_type": "markdown",
   "id": "041435cb-add9-4ff7-9c95-3c2431f6c567",
   "metadata": {},
   "source": [
    "# Promises / Async / Await"
   ]
  },
  {
   "cell_type": "markdown",
   "id": "cbf0e2f0-d1e0-4c11-b124-c38a1757db3f",
   "metadata": {},
   "source": [
    "# Collections"
   ]
  },
  {
   "cell_type": "markdown",
   "id": "7770fc31-5b63-48fd-8d2c-0da73d4ea9a5",
   "metadata": {},
   "source": [
    "## Maps"
   ]
  },
  {
   "cell_type": "markdown",
   "id": "2bbbb7b5-27b8-4d67-a0d6-99492e8b68b2",
   "metadata": {},
   "source": [
    "## Sets"
   ]
  },
  {
   "cell_type": "markdown",
   "id": "2bf16634-1998-4045-b42a-726cf334cb7a",
   "metadata": {},
   "source": [
    "---"
   ]
  },
  {
   "cell_type": "markdown",
   "id": "c9e7fa84-6e47-47c0-8ddd-5f21594893bc",
   "metadata": {},
   "source": [
    "# String Templates"
   ]
  },
  {
   "cell_type": "markdown",
   "id": "110fadb9-f3be-4a54-9841-fa5bf3f4e643",
   "metadata": {},
   "source": [
    "# Object.keys"
   ]
  },
  {
   "cell_type": "markdown",
   "id": "e9853d6e-153d-4938-b0f7-63a0a4dd18cc",
   "metadata": {},
   "source": [
    "# Generators / Generator Functions"
   ]
  },
  {
   "cell_type": "markdown",
   "id": "9118208b-048a-4019-a11c-54aadc89c856",
   "metadata": {},
   "source": [
    "# Regular Expressions"
   ]
  },
  {
   "cell_type": "markdown",
   "id": "d8b9b2b6-cb4c-4496-9371-f2074f082d6b",
   "metadata": {},
   "source": [
    "# CommonJS and ES Modules"
   ]
  },
  {
   "cell_type": "markdown",
   "id": "36e099a5-cd27-44b8-8bdd-dfd176aef79c",
   "metadata": {},
   "source": [
    "# Coalesce / Elvis Operator"
   ]
  },
  {
   "cell_type": "markdown",
   "id": "40e03c21-41e5-4597-a965-7e7bdb6dc249",
   "metadata": {},
   "source": [
    "# Walrus Operator\n",
    "\n",
    "The point of the Walrus Operator is to assign a value and perform a check in a single call.\n",
    "\n",
    "This doesn't work in strict mode and most linters.\n",
    "\n",
    "Instead wrap with a parantheses in the assignment first.\n",
    "\n",
    "For example:\n",
    "\n",
    "```\n",
    "age = 23;\n",
    "if ((myAge = age) < 100) {\n",
    "    return 'Youngster';\n",
    "}\n",
    "```"
   ]
  },
  {
   "cell_type": "code",
   "execution_count": null,
   "id": "cfec9022-0b1e-4c32-a68a-a795ff68cb8b",
   "metadata": {},
   "outputs": [],
   "source": []
  }
 ],
 "metadata": {
  "kernelspec": {
   "display_name": "Javascript (Node.js)",
   "language": "javascript",
   "name": "javascript"
  },
  "language_info": {
   "file_extension": ".js",
   "mimetype": "application/javascript",
   "name": "javascript",
   "version": "14.17.6"
  }
 },
 "nbformat": 4,
 "nbformat_minor": 5
}
