{
 "cells": [
  {
   "cell_type": "markdown",
   "id": "82c36557-5f12-4804-8452-fbea19c901e4",
   "metadata": {},
   "source": [
    "**[This walkthrough is also available as a Jupyter ipynb Notebook - you can run yourself](notebooks/ex_GettingData.ipynb)**"
   ]
  },
  {
   "cell_type": "markdown",
   "id": "2c83ee1d-056c-4b25-b4ea-e47a766a9780",
   "metadata": {},
   "source": [
    "A frequent question asked is: 'How do I get data?'\n",
    "\n",
    "Importantly, **we are just working with NodeJS**<br />\n",
    "albeit within the context within a Jupyter Lab Notebook.\n",
    "\n",
    "So essentially, any data that you can programmatically access with an [NPM module](https://www.npmjs.com/search?q=keywords:file) is available within a Jupyter Lab notebook."
   ]
  },
  {
   "cell_type": "markdown",
   "id": "fbc10ede-7808-43f0-b7bf-574fb07b475d",
   "metadata": {},
   "source": [
    "Example Data Sources:\n",
    "* Local Files\n",
    "* APIs and Cloud Services\n",
    "* Scraping\n",
    "* Generating\n",
    "* etc."
   ]
  },
  {
   "cell_type": "markdown",
   "id": "f71cde55-d770-4b49-bbd5-52253a7e0243",
   "metadata": {},
   "source": [
    "## Note on Asynchronous Calls\n",
    "\n",
    "We would recommend [using promises](https://developer.mozilla.org/en-US/docs/Web/JavaScript/Guide/Using_promises)\n",
    "and using [await / asynchronous functions](https://developer.mozilla.org/en-US/docs/Web/JavaScript/Reference/Statements/async_function)\n",
    "\n",
    "We provide the [utils.ijs.await function](https://jupyter-ijavascript-utils.onrender.com/module-ijs.html#.await)\n",
    "to provide await functionality within the iJavaScript kernel,\n",
    "so the next cell will only be executed once the asynchronous calls are done.\n",
    "\n",
    "This allows for very simple chaining of asynchronous and synchronous calls.\n",
    "\n",
    "Please [give it a look](https://jupyter-ijavascript-utils.onrender.com/module-ijs.html#.await)\n",
    "\n",
    "For example:\n",
    "\n",
    "```\n",
    "//-- get the data\n",
    "//-- fetch the data\n",
    "//-- and do not execute the next cell until received.\n",
    "utils.ijs.await(async ($$, console) => {\n",
    " barley = await utils.datasets.fetch('barley.json');\n",
    "})\n",
    "```\n",
    "\n",
    "```\n",
    "//-- use the data as though it was synchronously received\n",
    "\n",
    "//-- get the min max of the types of barley\n",
    "barleyByVarietySite = d3.group(barley, d => d.variety, d => d.site)\n",
    "//-- now group by variety and year\n",
    "barleyByVarietyYear = d3.group(barley, d => d.variety, d => d.year)\n",
    "```"
   ]
  },
  {
   "cell_type": "markdown",
   "id": "09af20d2-67a5-4fff-8849-76b9f27240ce",
   "metadata": {},
   "source": [
    "## Library Setup"
   ]
  },
  {
   "cell_type": "code",
   "execution_count": 1,
   "id": "8b0da38d-aedd-4824-a2b9-b1a8e5949c3d",
   "metadata": {},
   "outputs": [
    {
     "data": {
      "text/plain": [
       "[ 'utils', 'cheerio', 'd3', 'dotenv' ]"
      ]
     },
     "execution_count": 1,
     "metadata": {},
     "output_type": "execute_result"
    }
   ],
   "source": [
    "//-- support esm modules\n",
    "require('esm-hook');\n",
    "//-- this library\n",
    "utils = require('jupyter-ijavascript-utils');\n",
    "//-- library for parsing and manipulating html (like from fetch)\n",
    "// cheerio = require('cheerio');\n",
    "//-- data-driven-documents (d3) library - allows for TSV/CSV/etc. files\n",
    "d3 = require('d3');\n",
    "//-- library for working with secrets locally\n",
    "dotenv = require('dotenv');\n",
    "['utils', 'cheerio', 'd3', 'dotenv'];"
   ]
  },
  {
   "cell_type": "markdown",
   "id": "c80f99b3-3dc4-417a-b3dd-1321a55a480e",
   "metadata": {},
   "source": [
    "# Local Files"
   ]
  },
  {
   "cell_type": "markdown",
   "id": "3e1eb5c2-84d2-4b42-b26f-b91f20699b93",
   "metadata": {},
   "source": [
    "While there are many NPM modules available for loading data, we have tried to simplify two main types of files:\n",
    "* [utils.file.readFile(path)](https://jupyter-ijavascript-utils.onrender.com/module-file.html#.readFile) - to read in Text\n",
    "* [utils.file.readJSON(path)](https://jupyter-ijavascript-utils.onrender.com/module-file.html#.readJSON) - to read in a file and parse as JSON\n",
    "\n",
    "Including functions to write files as-well.\n",
    "\n",
    "* [utils.file.writeFile(path, stringContents)](https://jupyter-ijavascript-utils.onrender.com/module-file.html#.readFile) - to read in Text\n",
    "* [utils.file.readJSON(path, stringContents)](https://jupyter-ijavascript-utils.onrender.com/module-file.html#.readJSON) - to read in a file and parse as JSON"
   ]
  },
  {
   "cell_type": "markdown",
   "id": "40e70290-060d-476c-9bf1-806f7114938d",
   "metadata": {},
   "source": [
    "There are many NPM Modules available for loading different kinds of files.\n",
    "\n",
    "The jupyter-ijavascript-utils library includes a few simple functions - for requent situations.\n",
    "\n",
    "* [utils.file.pwd](https://jupyter-ijavascript-utils.onrender.com/module-file.html#.pwd) - prints the current directory Jupyter Lab is looking at\n",
    "\n",
    "```\n",
    "utils.file.pwd()\n",
    "// /path/to/notebooks\n",
    "```"
   ]
  },
  {
   "cell_type": "markdown",
   "id": "f691e3bd-890e-4de6-8fa0-d77ec5358e47",
   "metadata": {},
   "source": [
    "* [utils.file.listFiles](https://jupyter-ijavascript-utils.onrender.com/module-file.html#.listFiles) - to list the files in a directory\n",
    "\n",
    "```\n",
    "utils.file.listFiles('.');\n",
    "\n",
    "/*\n",
    "[\n",
    "  'ex_GettingData.ipynb',\n",
    "  'node_modules',\n",
    "  'package-lock.json',\n",
    "  'package.json',\n",
    "  ...\n",
    "]\n",
    "*/\n",
    "```"
   ]
  },
  {
   "cell_type": "markdown",
   "id": "db2524e7-1867-4327-8b30-20e020b81c22",
   "metadata": {},
   "source": [
    "* [utils.file.checkFile](https://jupyter-ijavascript-utils.onrender.com/module-file.html#.checkFile) - to return true if a file already exists.\n",
    "\n",
    "**FOR EXAMPLE: checking if your [dotenv credentials]() can be found**"
   ]
  },
  {
   "cell_type": "markdown",
   "id": "72ad2f53-6653-49f1-9697-61e65fa47b84",
   "metadata": {},
   "source": [
    "```\n",
    "credentialsPath = `${utils.file.pwd()}/credentials.env`;\n",
    "\n",
    "if (utils.file.checkFile('./credentials.env')) {\n",
    "    //-- credentials could not be found\n",
    "    //-- let the user know what is expected\n",
    "    \n",
    "    console.error(`Could not find ${credentialsPath}\n",
    "\n",
    "We use dotenv to securely store credentials\n",
    "and require it to access provider XYZ.\n",
    "\n",
    "* username {string}\n",
    "* password {string}\n",
    "\n",
    "for example:\n",
    "\n",
    "\"\"\"\n",
    "username=\"jdoe@example.com\"\n",
    "password=\"\"\n",
    "\"\"\"\n",
    "\n",
    "Please create this file and run again.\n",
    "`);\n",
    "    throw Error(`credentials file not found:${credentialsPath}\\nPlease read the message above and try again`);\n",
    "    \n",
    "    \n",
    "} else {\n",
    "    //-- the credentials file was found, so load it\n",
    "    credentials = dotenv.config({ path: credentialsPath }).parsed;\n",
    "}\n",
    "\n",
    "//-- check we have all the information needed to move forward\n",
    "\n",
    "if (!credentials.username || !credentials.password) {\n",
    "    throw Error(`Credentials not provided\n",
    "${credentialsPath}`);\n",
    "}\n",
    "\n",
    "//-- indicate success\n",
    "//-- BUT always be careful NOT TO leak credentials\n",
    "console.log(`credentials loaded`);\n",
    "```"
   ]
  },
  {
   "cell_type": "markdown",
   "id": "dfd6fb1c-04aa-42bf-9a6a-d24557bf349d",
   "metadata": {},
   "source": [
    "# APIs and Cloud Services\n",
    "\n",
    "[TODO]\n",
    "\n",
    "Remember, we are still using NodeJS - so you can leverage NPM packages to load data.\n",
    "\n",
    "For example:\n",
    "\n",
    "[JSForce](https://jsforce.github.io/) is a brilliant library for working with Salesforce."
   ]
  },
  {
   "cell_type": "markdown",
   "id": "6d87027f-a635-46b4-b633-d97ddf2c3181",
   "metadata": {},
   "source": [
    "## Working with Secrets\n",
    "\n",
    "[TODO]\n",
    "\n",
    "Working with Secrets in a jupyter notebook is similar to working with any NodeJS project.\n",
    "\n",
    "[Dotenv](https://www.npmjs.com/package/dotenv) is a staple for working with credentials and highly recommended.\n",
    "\n",
    "Remember though:\n",
    "* DO NOT include credentials within any notebook\n",
    "* If using dotenv, ensure the files are properly secured (as they are outside of the notebook)\n",
    "    * For example, that they are gitignored, have appropriate read access, etc.\n",
    "* As a notebook can provide summaries of data accessed through secure means, always protect the notebook as-well.\n",
    "    * To avoid any security leaks"
   ]
  },
  {
   "cell_type": "markdown",
   "id": "0484b372-13b9-4ff0-94e8-7725884fc77e",
   "metadata": {},
   "source": [
    "## Database Access\n",
    "\n",
    "[TODO]\n",
    "\n",
    "As we are working within NodeJS, there are many NPM libraries that can help with accessing databases.\n",
    "\n",
    "For example: [sequelize](https://www.npmjs.com/package/sequelize) is an Sequelize is a promise-based Node.js ORM tool for Postgres, MySQL, MariaDB, SQLite, DB2 and Microsoft SQL Server. It features solid transaction support, relations, eager and lazy loading, read replication and more.\n",
    "\n",
    "And of course the native database libraries can be used:\n",
    "* [utils.datasets.fetchJSON](http://localhost:8080/module-datasets.html#.fetchJSON)\n",
    "* [utils.datasets.fetchText](http://localhost:8080/module-datasets.html#.fetchText)\n",
    "* etc.\n",
    "\n",
    "Of course, the native libraries can always be used:\n",
    "* [mssql](https://www.npmjs.com/package/mssql) - for working with sql server\n",
    "* [mysql](https://www.npmjs.com/package/mysql) for working with mysql"
   ]
  },
  {
   "cell_type": "markdown",
   "id": "f0b239dc-2ba3-4e50-84af-ee27303bfb0b",
   "metadata": {},
   "source": [
    "# Scraping\n",
    "\n",
    "[TODO]\n",
    "\n",
    "Scraping (retrieving through [fetch](), parsing and collating) can be done within a Jupyter Notebook.\n",
    "\n",
    "We would recommend to keeping this to simple fetches and parsing in general however.\n",
    "\n",
    "This jupyter-ijavascript-utils library includes two convenience functions for working with [fetch](https://www.npmjs.com/package/node-fetch),\n",
    "a simple shim for traditional [JavaScript fetch calls](https://developer.mozilla.org/en-US/docs/Web/API/Fetch_API) from within node.\n",
    "                                                       \n",
    "\n",
    "\n",
    "Additional libraries can also be used to parse the data and generate datasets\n",
    "                             \n",
    "(For example: [cheerio](https://www.npmjs.com/package/cheerio-select))"
   ]
  },
  {
   "cell_type": "markdown",
   "id": "c484fd91-4b34-419f-8666-3b04b551111e",
   "metadata": {},
   "source": [
    "## Working with Text Files\n",
    "\n",
    "[TODO]\n",
    "\n",
    "You can also work with Text files and use it based on the current path:\n",
    "\n",
    "There are also many many different ways to do this."
   ]
  },
  {
   "cell_type": "code",
   "execution_count": 2,
   "id": "786eefbd-bbfc-48aa-bda4-365eec99fb85",
   "metadata": {},
   "outputs": [
    {
     "data": {
      "text/plain": [
       "[\n",
       "  'I am the very model of a modern Major-General',\n",
       "  \"I've information vegetable, animal, and mineral\",\n",
       "  'I know the kings of England, and I quote the fights Historical',\n",
       "  'From Marathon to Waterloo, in order categorical',\n",
       "  \"I'm very well acquainted, too, with matters Mathematical\",\n",
       "  'I understand equations, both the simple and quadratical',\n",
       "  \"About binomial theorem I'm teeming with a lot o' news\",\n",
       "  'With many cheerful facts about the square of the Hypotenuse',\n",
       "  'With many cheerful facts about the square of the Hypotenuse',\n",
       "  'With many cheerful facts about the square of the Hypotenuse',\n",
       "  'With many cheerful facts about the square of the Hypotepotenuse'\n",
       "]"
      ]
     },
     "execution_count": 2,
     "metadata": {},
     "output_type": "execute_result"
    }
   ],
   "source": [
    "// sillySong = utils.file.load('../data/pirates.txt');\n",
    "\n",
    "sillySong = `I am the very model of a modern Major-General\n",
    "I've information vegetable, animal, and mineral\n",
    "I know the kings of England, and I quote the fights Historical\n",
    "From Marathon to Waterloo, in order categorical\n",
    "I'm very well acquainted, too, with matters Mathematical\n",
    "I understand equations, both the simple and quadratical\n",
    "About binomial theorem I'm teeming with a lot o' news\n",
    "With many cheerful facts about the square of the Hypotenuse\n",
    "With many cheerful facts about the square of the Hypotenuse\n",
    "With many cheerful facts about the square of the Hypotenuse\n",
    "With many cheerful facts about the square of the Hypotepotenuse`\n",
    "\n",
    "sillyLines = sillySong.split(/\\n\\s*/)        // split on multiple line breaks\n",
    "    .map(line => line.trim());   // trim each line"
   ]
  },
  {
   "cell_type": "code",
   "execution_count": 3,
   "id": "c5fc855b-dd39-41eb-b4b5-54d571218e39",
   "metadata": {},
   "outputs": [
    {
     "data": {
      "text/plain": [
       "'I am the very model of a modern Major-General'"
      ]
     },
     "execution_count": 3,
     "metadata": {},
     "output_type": "execute_result"
    }
   ],
   "source": [
    "sillyLines[0]; // I am the very model of a modern Major-General,"
   ]
  },
  {
   "cell_type": "markdown",
   "id": "7fb4d180-3b43-447c-b884-51205087d7bd",
   "metadata": {},
   "source": [
    "## More Complicated Example"
   ]
  },
  {
   "cell_type": "markdown",
   "id": "6f5af748-0a8e-43df-ba35-164f3a9da617",
   "metadata": {},
   "source": [
    "To show both randomly creating text and then parsing it back:"
   ]
  },
  {
   "cell_type": "code",
   "execution_count": 4,
   "id": "b124484f-957a-4661-a014-e5342e403509",
   "metadata": {},
   "outputs": [
    {
     "data": {
      "text/plain": [
       "[Function: generateError]"
      ]
     },
     "execution_count": 4,
     "metadata": {},
     "output_type": "execute_result"
    }
   ],
   "source": [
    "errorHeader = ['INFO', 'WARNING', 'ERROR'];\n",
    "errorType = ['Syntax Error', 'Uncaught Exception', 'Exception Thrown'];\n",
    "errorIn = ['File_A.js', 'File_B.js', 'File_C.js'];\n",
    "\n",
    "generateErrorLine = () => utils.random.randomInteger(0, 200);\n",
    "generateErrorHeader = () => utils.random.pickRandom(errorHeader);\n",
    "generateType = () => utils.random.pickRandom(errorType);\n",
    "generateFile = () => utils.random.pickRandom(errorIn);\n",
    "\n",
    "generateError = () => `[${\n",
    "    generateErrorHeader()\n",
    "}]: ${\n",
    "    generateType()\n",
    "} occurred in ${\n",
    "    generateFile()\n",
    "}: ${\n",
    "    generateErrorLine()\n",
    "}`;"
   ]
  },
  {
   "cell_type": "markdown",
   "id": "9db387f3-0838-4c72-9a93-965286974946",
   "metadata": {},
   "source": [
    "### Example Error Line"
   ]
  },
  {
   "cell_type": "code",
   "execution_count": 5,
   "id": "18a7ea7d-5bdc-484c-a76c-d73ea28ca197",
   "metadata": {},
   "outputs": [
    {
     "data": {
      "text/plain": [
       "'[ERROR]: Uncaught Exception occurred in File_B.js: 196'"
      ]
     },
     "execution_count": 5,
     "metadata": {},
     "output_type": "execute_result"
    }
   ],
   "source": [
    "generateError()"
   ]
  },
  {
   "cell_type": "markdown",
   "id": "71149d7b-91a5-497a-b695-ecb486b271db",
   "metadata": {},
   "source": [
    "### Generate Example Error file.\n",
    "\n",
    "Each line in the format of:\n",
    "\n",
    "`[ErrorType]: [ExceptionType] occurred in [File]:[Line Number]`"
   ]
  },
  {
   "cell_type": "code",
   "execution_count": 6,
   "id": "4f564df3-cf8d-4395-a680-0295b726c4ce",
   "metadata": {},
   "outputs": [
    {
     "name": "stdout",
     "output_type": "stream",
     "text": [
      "[INFO]: Uncaught Exception occurred in File_A.js: 128\n",
      "[WARNING]: Syntax Error occurred in File_B.js: 51\n",
      "[WARNING]: Exception Thrown occurred in File_B.js: 71\n",
      "[INFO]: Syntax Error occurred in File_A.js: 97\n",
      "[INFO]: Syntax Error occurred in File_C.js: 6\n",
      "[ERROR]: Uncaught Exception occurred in File_A.js: 84\n",
      "[INFO]: Syntax Error occurred in File_B.js: 115\n",
      "[INFO]: Syntax Error occurred in File_A.js: 2\n",
      "[ERROR]: Uncaught Exception occurred in File_B.js: 183\n",
      "[INFO]: Uncaught Exception occurred in File_A.js: 133\n"
     ]
    }
   ],
   "source": [
    "errorFile = utils.array.size(10, generateError).join('\\n');\n",
    "console.log(errorFile);"
   ]
  },
  {
   "cell_type": "markdown",
   "id": "9a79a9b9-2e05-4248-af15-d8d6f80218c4",
   "metadata": {},
   "source": [
    "## Now we can parse it\n",
    "\n",
    "We can use the same format as the one above:\n",
    "\n",
    "`[ErrorType]: [ExceptionType] occurred in [File]:[Line Number]`"
   ]
  },
  {
   "cell_type": "code",
   "execution_count": 7,
   "id": "4171858a-8f13-4aef-95ea-5252a97fd52b",
   "metadata": {},
   "outputs": [
    {
     "data": {
      "text/plain": [
       "[\n",
       "  [ 'INFO', 'Uncaught Exception', 'File_A.js', '128' ],\n",
       "  [ 'WARNING', 'Syntax Error', 'File_B.js', '51' ],\n",
       "  [ 'WARNING', 'Exception Thrown', 'File_B.js', '71' ],\n",
       "  [ 'INFO', 'Syntax Error', 'File_A.js', '97' ],\n",
       "  [ 'INFO', 'Syntax Error', 'File_C.js', '6' ],\n",
       "  [ 'ERROR', 'Uncaught Exception', 'File_A.js', '84' ],\n",
       "  [ 'INFO', 'Syntax Error', 'File_B.js', '115' ],\n",
       "  [ 'INFO', 'Syntax Error', 'File_A.js', '2' ],\n",
       "  [ 'ERROR', 'Uncaught Exception', 'File_B.js', '183' ],\n",
       "  [ 'INFO', 'Uncaught Exception', 'File_A.js', '133' ]\n",
       "]"
      ]
     },
     "execution_count": 7,
     "metadata": {},
     "output_type": "execute_result"
    }
   ],
   "source": [
    "errorLineRegex = /\\[(.+)\\]: (.+) occurred in (.+): (.+)/i;\n",
    "// The `/` character at the start and the end, indicates it is a regex.\n",
    "// `/i` at the end means the end of the regex, and case insensitive\n",
    "\n",
    "// here we capture things to remember through `(.+)`\n",
    "\n",
    "// `\\[(.+)\\]` means look for a `[]` characters (escaped) - and remember what is inside `(.+)`\n",
    "// followed by `: ` before the next group to remember until `occurred in`\n",
    "// followed by `occurred in ` before the next group until `:`\n",
    "// and then remember anything after the `:`\n",
    "\n",
    "parsedErrorFile = errorFile\n",
    "    .split(/\\n/)\n",
    "    .map((line) => Array.from(line.match(errorLineRegex)).slice(1));"
   ]
  },
  {
   "cell_type": "markdown",
   "id": "8bdd2799-286b-45f6-8ba8-26a719e8b4a9",
   "metadata": {},
   "source": [
    "### Converting Arrays to Objects\n",
    "\n",
    "We can use [Array Destructuring](https://developer.mozilla.org/en-US/docs/Web/JavaScript/Reference/Operators/Destructuring_assignment)\n",
    "and then construct the objects.\n",
    "\n",
    "`[ErrorType]: [ExceptionType] occurred in [File]:[Line Number]`"
   ]
  },
  {
   "cell_type": "code",
   "execution_count": 8,
   "id": "c6e74d52-7b15-4ffe-8e19-2305c8fbb6da",
   "metadata": {},
   "outputs": [
    {
     "data": {
      "text/html": [
       "<span class=\"sticky-table-marker\" ></span>\n",
       "<style type='text/css'>\n",
       ".sticky-table table { text-align: left; position: relative; border-collapse: collapse; }\n",
       ".sticky-table td { border: 1px solid #cccccc; }\n",
       ".sticky-table th { background: #676c87; color: white; position: sticky; top: 0; box-shadow: 0 2px 2px -1px rgba(0, 0, 0, 0.4); }\n",
       "</style>\n",
       "<div class=\"sticky-table\" style=\"max-height: 50vh\">\n",
       "<table cellspacing=\"0px\" >\n",
       "<tr >\n",
       "\t<th>errorType</th>\n",
       "\t<th>exceptionType</th>\n",
       "\t<th>file</th>\n",
       "\t<th>lineNumber</th>\n",
       "</tr>\n",
       "<tr >\n",
       "\t<td >INFO</td>\n",
       "\t<td >Uncaught Exception</td>\n",
       "\t<td >File_A.js</td>\n",
       "\t<td >128</td>\n",
       "</tr>\n",
       "<tr >\n",
       "\t<td >WARNING</td>\n",
       "\t<td >Syntax Error</td>\n",
       "\t<td >File_B.js</td>\n",
       "\t<td >51</td>\n",
       "</tr>\n",
       "<tr >\n",
       "\t<td >WARNING</td>\n",
       "\t<td >Exception Thrown</td>\n",
       "\t<td >File_B.js</td>\n",
       "\t<td >71</td>\n",
       "</tr>\n",
       "<tr >\n",
       "\t<td >INFO</td>\n",
       "\t<td >Syntax Error</td>\n",
       "\t<td >File_A.js</td>\n",
       "\t<td >97</td>\n",
       "</tr>\n",
       "<tr >\n",
       "\t<td >INFO</td>\n",
       "\t<td >Syntax Error</td>\n",
       "\t<td >File_C.js</td>\n",
       "\t<td >6</td>\n",
       "</tr>\n",
       "<tr >\n",
       "\t<td >ERROR</td>\n",
       "\t<td >Uncaught Exception</td>\n",
       "\t<td >File_A.js</td>\n",
       "\t<td >84</td>\n",
       "</tr>\n",
       "<tr >\n",
       "\t<td >INFO</td>\n",
       "\t<td >Syntax Error</td>\n",
       "\t<td >File_B.js</td>\n",
       "\t<td >115</td>\n",
       "</tr>\n",
       "<tr >\n",
       "\t<td >INFO</td>\n",
       "\t<td >Syntax Error</td>\n",
       "\t<td >File_A.js</td>\n",
       "\t<td >2</td>\n",
       "</tr>\n",
       "<tr >\n",
       "\t<td >ERROR</td>\n",
       "\t<td >Uncaught Exception</td>\n",
       "\t<td >File_B.js</td>\n",
       "\t<td >183</td>\n",
       "</tr>\n",
       "<tr >\n",
       "\t<td >INFO</td>\n",
       "\t<td >Uncaught Exception</td>\n",
       "\t<td >File_A.js</td>\n",
       "\t<td >133</td>\n",
       "</tr>\n",
       "</table>\n",
       "</div>"
      ]
     },
     "execution_count": 8,
     "metadata": {},
     "output_type": "execute_result"
    }
   ],
   "source": [
    "errorData = parsedErrorFile.map(([errorType, exceptionType, file, lineNumber]) =>\n",
    "    ({ errorType, exceptionType, file, lineNumber }));\n",
    "\n",
    "utils.table(errorData).render()"
   ]
  },
  {
   "cell_type": "markdown",
   "id": "6c065be9-d665-4697-8690-2290e2e6a4af",
   "metadata": {},
   "source": [
    "# Generating\n",
    "\n",
    "[TODO]\n",
    "\n",
    "Generating Data can also be a simple option if desired.\n",
    "\n",
    "We have two sets of methods on the [random module](https://jupyter-ijavascript-utils.onrender.com/module-random.html)\n",
    "\n",
    "-   Generating Random Numbers\n",
    "    -   [randomInteger(min, max)](https://jupyter-ijavascript-utils.onrender.com/module-random.html#.randomInteger) - inclusive integer between min and max values\n",
    "    -   [randomInteger(min, max)](https://jupyter-ijavascript-utils.onrender.com/module-random.html#.random) - inclusive float between min and max values\n",
    "-   Working with Arrays\n",
    "    -   [pickRandom(array)](https://jupyter-ijavascript-utils.onrender.com/module-random.html#.pickRandom) - picks a value at random from the list\n",
    "    -   [randomArray(size, fn)](https://jupyter-ijavascript-utils.onrender.com/module-random.html#.randomArray) - creates an array of size length, with each value generated from fn\n",
    "-   Simplex Noise\n",
    "    -   simplexGenerator(seed) - Number generator between -1 and 1 given an x/y/z coordinate"
   ]
  },
  {
   "cell_type": "markdown",
   "id": "e277bdfc-242f-49a6-95fb-5efd224ed64f",
   "metadata": {},
   "source": [
    "Additionally, there are so many different ways of generating visualizations\n",
    "based on simplex noise.\n",
    "\n",
    "From straight (red - negative / green - positive)\n",
    "\n",
    "![Screenshot of animation](../img/simplexNoiseAnim.gif)\n",
    "\n",
    "To indicators with length, and rotation (negative ccw / positive cw)\n",
    "\n",
    "![Screenshot of animation](../img/noiseFinal.gif)"
   ]
  }
 ],
 "metadata": {
  "kernelspec": {
   "display_name": "JavaScript (Node.js)",
   "language": "javascript",
   "name": "javascript"
  },
  "language_info": {
   "file_extension": ".js",
   "mimetype": "application/javascript",
   "name": "javascript",
   "version": "18.16.0"
  }
 },
 "nbformat": 4,
 "nbformat_minor": 5
}
