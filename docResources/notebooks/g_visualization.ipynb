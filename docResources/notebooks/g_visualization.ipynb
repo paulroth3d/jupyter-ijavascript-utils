{
 "cells": [
  {
   "cell_type": "markdown",
   "id": "03b924b3-9155-4f0f-ac4d-d70b7796d920",
   "metadata": {},
   "source": [
    "**[This walkthrough is also available as a Jupyter ipynb Notebook - you can run yourself](notebooks/g_visualization.ipynb)**"
   ]
  }
 ],
 "metadata": {
  "kernelspec": {
   "display_name": "JavaScript (Node.js)",
   "language": "javascript",
   "name": "javascript"
  },
  "language_info": {
   "file_extension": ".js",
   "mimetype": "application/javascript",
   "name": "javascript",
   "version": "16.14.2"
  }
 },
 "nbformat": 4,
 "nbformat_minor": 5
}
