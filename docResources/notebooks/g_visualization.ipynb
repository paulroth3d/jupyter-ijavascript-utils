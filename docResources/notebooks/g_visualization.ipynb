{
 "cells": [
  {
   "cell_type": "markdown",
   "id": "03b924b3-9155-4f0f-ac4d-d70b7796d920",
   "metadata": {},
   "source": [
    "**[This walkthrough is also available as a Jupyter ipynb Notebook - you can run yourself](notebooks/g_visualization.ipynb)**"
   ]
  },
  {
   "cell_type": "markdown",
   "id": "1570fc15-6b4b-40a3-a15e-9edc1d4038a1",
   "metadata": {},
   "source": [
    "Half of the fun with Jupyter Notebooks is organizing the data how you want.\n",
    "\n",
    "But the most important part is how you can tell a story with that data.\n",
    "\n",
    "The `jupyter-ijavascript-utils` library tries to give you a few different options:"
   ]
  },
  {
   "cell_type": "markdown",
   "id": "e1eeb8a0-9252-4d62-87f1-25f05d782b10",
   "metadata": {},
   "source": [
    "# Showing your data through a Table"
   ]
  },
  {
   "cell_type": "code",
   "execution_count": 1,
   "id": "b7af9516-46d1-4303-80b0-23ef890b2b0e",
   "metadata": {},
   "outputs": [
    {
     "data": {
      "text/plain": [
       "[ 'utils' ]"
      ]
     },
     "execution_count": 1,
     "metadata": {},
     "output_type": "execute_result"
    }
   ],
   "source": [
    "utils = require('jupyter-ijavascript-utils');\n",
    "['utils'];"
   ]
  },
  {
   "cell_type": "code",
   "execution_count": 2,
   "id": "73d60ef9-a71c-4e62-9ce7-5594d05c928c",
   "metadata": {},
   "outputs": [
    {
     "data": {
      "text/plain": [
       "'[\"annual-precip.json\",\"anscombe.json\",\"barley.json\",\"budget.json\",\"budgets.json\",\"burtin.json\",\"cars.json\",\"countries.json\",\"crimea.json\",\"driving.json\"]'"
      ]
     },
     "execution_count": 2,
     "metadata": {},
     "output_type": "execute_result"
    }
   ],
   "source": [
    "JSON.stringify(\n",
    "    utils.datasets.list().slice(0, 10)\n",
    ");"
   ]
  },
  {
   "cell_type": "code",
   "execution_count": 3,
   "id": "71d221e1-aba0-430c-870a-364403249908",
   "metadata": {},
   "outputs": [
    {
     "name": "stdout",
     "output_type": "stream",
     "text": [
      "You have loaded 406 number of cars\n"
     ]
    }
   ],
   "source": [
    "utils.ijs.await(async($$, console) => {\n",
    "    cars = await utils.datasets.fetch('cars.json');\n",
    "    console.log(`You have loaded ${cars.length} number of cars`);\n",
    "});"
   ]
  },
  {
   "cell_type": "markdown",
   "id": "6c8af79a-91d1-4cef-841b-c15a8d45e416",
   "metadata": {},
   "source": [
    "**For more on tables, see the [Exporting and Tables tutorial](https://jupyter-ijavascript-utils.onrender.com/tutorial-h_exporting.html)**"
   ]
  },
  {
   "cell_type": "code",
   "execution_count": 4,
   "id": "233138af-3837-4908-8b7d-293edc470b2f",
   "metadata": {},
   "outputs": [
    {
     "data": {
      "text/html": [
       "<table cellspacing=\"0px\" >\n",
       "<tr >\n",
       "\t<th>Name</th>\n",
       "\t<th>Miles_per_Gallon</th>\n",
       "\t<th>Cylinders</th>\n",
       "\t<th>Displacement</th>\n",
       "\t<th>Horsepower</th>\n",
       "\t<th>Weight_in_lbs</th>\n",
       "\t<th>Acceleration</th>\n",
       "\t<th>Year</th>\n",
       "\t<th>Origin</th>\n",
       "</tr>\n",
       "<tr style=\"background-color:lightcyan;\">\n",
       "\t<td >chevrolet woody</td>\n",
       "\t<td >24.5</td>\n",
       "\t<td >4</td>\n",
       "\t<td >98</td>\n",
       "\t<td >60</td>\n",
       "\t<td >2,164</td>\n",
       "\t<td >22.1</td>\n",
       "\t<td >1976-01-01</td>\n",
       "\t<td >USA</td>\n",
       "</tr>\n",
       "<tr style=\"background-color:lightcyan;\">\n",
       "\t<td >chevrolet vega 2300</td>\n",
       "\t<td >28</td>\n",
       "\t<td >4</td>\n",
       "\t<td >140</td>\n",
       "\t<td >90</td>\n",
       "\t<td >2,264</td>\n",
       "\t<td >15.5</td>\n",
       "\t<td >1971-01-01</td>\n",
       "\t<td >USA</td>\n",
       "</tr>\n",
       "<tr style=\"background-color:lightcyan;\">\n",
       "\t<td >chevrolet vega (sw)</td>\n",
       "\t<td >22</td>\n",
       "\t<td >4</td>\n",
       "\t<td >140</td>\n",
       "\t<td >72</td>\n",
       "\t<td >2,408</td>\n",
       "\t<td >19</td>\n",
       "\t<td >1971-01-01</td>\n",
       "\t<td >USA</td>\n",
       "</tr>\n",
       "<tr style=\"background-color:lightcyan;\">\n",
       "\t<td >chevrolet vega</td>\n",
       "\t<td >20</td>\n",
       "\t<td >4</td>\n",
       "\t<td >140</td>\n",
       "\t<td >90</td>\n",
       "\t<td >2,408</td>\n",
       "\t<td >19.5</td>\n",
       "\t<td >1972-01-01</td>\n",
       "\t<td >USA</td>\n",
       "</tr>\n",
       "<tr style=\"background-color:lightcyan;\">\n",
       "\t<td >chevrolet vega</td>\n",
       "\t<td >21</td>\n",
       "\t<td >4</td>\n",
       "\t<td >140</td>\n",
       "\t<td >72</td>\n",
       "\t<td >2,401</td>\n",
       "\t<td >19.5</td>\n",
       "\t<td >1973-01-01</td>\n",
       "\t<td >USA</td>\n",
       "</tr>\n",
       "<tr style=\"background-color:lightcyan;\">\n",
       "\t<td >chevrolet vega</td>\n",
       "\t<td >25</td>\n",
       "\t<td >4</td>\n",
       "\t<td >140</td>\n",
       "\t<td >75</td>\n",
       "\t<td >2,542</td>\n",
       "\t<td >17</td>\n",
       "\t<td >1974-01-01</td>\n",
       "\t<td >USA</td>\n",
       "</tr>\n",
       "<tr style=\"background-color:lightcyan;\">\n",
       "\t<td >chevrolet nova custom</td>\n",
       "\t<td >16</td>\n",
       "\t<td >6</td>\n",
       "\t<td >250</td>\n",
       "\t<td >100</td>\n",
       "\t<td >3,278</td>\n",
       "\t<td >18</td>\n",
       "\t<td >1973-01-01</td>\n",
       "\t<td >USA</td>\n",
       "</tr>\n",
       "<tr >\n",
       "\t<td >chevrolet nova</td>\n",
       "\t<td >15</td>\n",
       "\t<td >6</td>\n",
       "\t<td >250</td>\n",
       "\t<td >100</td>\n",
       "\t<td >3,336</td>\n",
       "\t<td >17</td>\n",
       "\t<td >1974-01-01</td>\n",
       "\t<td >USA</td>\n",
       "</tr>\n",
       "<tr >\n",
       "\t<td >chevrolet nova</td>\n",
       "\t<td >18</td>\n",
       "\t<td >6</td>\n",
       "\t<td >250</td>\n",
       "\t<td >105</td>\n",
       "\t<td >3,459</td>\n",
       "\t<td >16</td>\n",
       "\t<td >1975-01-01</td>\n",
       "\t<td >USA</td>\n",
       "</tr>\n",
       "<tr style=\"background-color:lightcyan;\">\n",
       "\t<td >chevrolet nova</td>\n",
       "\t<td >22</td>\n",
       "\t<td >6</td>\n",
       "\t<td >250</td>\n",
       "\t<td >105</td>\n",
       "\t<td >3,353</td>\n",
       "\t<td >14.5</td>\n",
       "\t<td >1976-01-01</td>\n",
       "\t<td >USA</td>\n",
       "</tr>\n",
       "</table>"
      ]
     },
     "execution_count": 4,
     "metadata": {},
     "output_type": "execute_result"
    }
   ],
   "source": [
    "utils.table(cars)\n",
    "    .limit(10)\n",
    "    .filter((car) => car.Name.startsWith('chevrolet'))\n",
    "    .sort('-Name')\n",
    "    .styleRow(({record}) => record.Miles_per_Gallon > 20\n",
    "             ? 'background-color:lightcyan' : '')\n",
    "    .render(10);"
   ]
  },
  {
   "cell_type": "markdown",
   "id": "0070d97f-952f-42e0-b57d-e0f78d911014",
   "metadata": {},
   "source": [
    "# Showing Through Vega Charts\n",
    "\n",
    "For more, see the [Vega Charting Tutorial](http://localhost:8080/tutorial-vegaLite1.html)"
   ]
  },
  {
   "cell_type": "markdown",
   "id": "525eceed-4eef-40d6-9f8e-26f49a23a61c",
   "metadata": {},
   "source": [
    "## Vega-Lite\n",
    "\n",
    "[Vega-Lite](https://vega.github.io/vega-lite) is a charting library that provides a great deal of flexibility and interaction\n",
    "while also allowing for very simple use cases <br />\n",
    "(and further simplified with [Vega-Lite-Api](https://vega.github.io/vega-lite-api/))\n",
    " \n",
    "![Screenshot of vega lite examples from vega-lite home](../img/vegaLiteExamples.png)\n",
    "\n",
    "More examples and detail can be found on the [Vega module](https://jupyter-ijavascript-utils.onrender.com/module-vega.html)"
   ]
  },
  {
   "cell_type": "markdown",
   "id": "5aef2514-e583-4955-86c0-2d2aeeef6e9b",
   "metadata": {},
   "source": [
    "## Vega\n",
    "\n",
    "It is built on [Vega](https://vega.github.io/vega/) that uses [d3 as a visualization kernel](https://vega.github.io/vega/about/vega-and-d3/).\n",
    "\n",
    "True [Vega](https://vega.github.io/vega/) is also supported, providing support for additional capabilities\n",
    "(that to my knowledge cannot be done with vega-lite)\n",
    " *  such as [Radar Charts](https://vega.github.io/vega/examples/radar-chart/),\n",
    " * [Contour Plots](https://vega.github.io/vega/examples/contour-plot/),\n",
    " * [Tree Layouts](https://vega.github.io/vega/examples/tree-layout/),\n",
    " * [Force Plots](https://vega.github.io/vega/examples/force-directed-layout/),\n",
    " * and others.\n",
    "\n",
    "![Screenshot of Vega Charts](../img/vegaChartExamples.jpg)"
   ]
  },
  {
   "cell_type": "code",
   "execution_count": 5,
   "id": "ec2e175f-2896-4ed3-a42e-8d1041c5b643",
   "metadata": {},
   "outputs": [
    {
     "data": {
      "image/svg+xml": [
       "<svg xmlns=\"http://www.w3.org/2000/svg\" xmlns:xlink=\"http://www.w3.org/1999/xlink\" version=\"1.1\" class=\"marks\" width=\"662\" height=\"564\" viewBox=\"0 0 662 564\"><rect width=\"662\" height=\"564\" fill=\"white\"/><g fill=\"none\" stroke-miterlimit=\"10\" transform=\"translate(51,27)\"><g class=\"mark-group role-frame root\" role=\"graphics-object\" aria-roledescription=\"group mark container\"><g transform=\"translate(0,0)\"><path class=\"background\" aria-hidden=\"true\" d=\"M0.5,0.5h500v500h-500Z\" stroke=\"#ddd\"/><g><g class=\"mark-group role-axis\" aria-hidden=\"true\"><g transform=\"translate(0.5,500.5)\"><path class=\"background\" aria-hidden=\"true\" d=\"M0,0h0v0h0Z\" pointer-events=\"none\"/><g><g class=\"mark-rule role-axis-grid\" pointer-events=\"none\"><line transform=\"translate(0,-500)\" x2=\"0\" y2=\"500\" stroke=\"#ddd\" stroke-width=\"1\" opacity=\"1\"/><line transform=\"translate(50,-500)\" x2=\"0\" y2=\"500\" stroke=\"#ddd\" stroke-width=\"1\" opacity=\"1\"/><line transform=\"translate(100,-500)\" x2=\"0\" y2=\"500\" stroke=\"#ddd\" stroke-width=\"1\" opacity=\"1\"/><line transform=\"translate(150,-500)\" x2=\"0\" y2=\"500\" stroke=\"#ddd\" stroke-width=\"1\" opacity=\"1\"/><line transform=\"translate(200,-500)\" x2=\"0\" y2=\"500\" stroke=\"#ddd\" stroke-width=\"1\" opacity=\"1\"/><line transform=\"translate(250,-500)\" x2=\"0\" y2=\"500\" stroke=\"#ddd\" stroke-width=\"1\" opacity=\"1\"/><line transform=\"translate(300,-500)\" x2=\"0\" y2=\"500\" stroke=\"#ddd\" stroke-width=\"1\" opacity=\"1\"/><line transform=\"translate(350,-500)\" x2=\"0\" y2=\"500\" stroke=\"#ddd\" stroke-width=\"1\" opacity=\"1\"/><line transform=\"translate(400,-500)\" x2=\"0\" y2=\"500\" stroke=\"#ddd\" stroke-width=\"1\" opacity=\"1\"/><line transform=\"translate(450,-500)\" x2=\"0\" y2=\"500\" stroke=\"#ddd\" stroke-width=\"1\" opacity=\"1\"/><line transform=\"translate(500,-500)\" x2=\"0\" y2=\"500\" stroke=\"#ddd\" stroke-width=\"1\" opacity=\"1\"/></g></g><path class=\"foreground\" aria-hidden=\"true\" d=\"\" pointer-events=\"none\" display=\"none\"/></g></g><g class=\"mark-group role-axis\" aria-hidden=\"true\"><g transform=\"translate(0.5,0.5)\"><path class=\"background\" aria-hidden=\"true\" d=\"M0,0h0v0h0Z\" pointer-events=\"none\"/><g><g class=\"mark-rule role-axis-grid\" pointer-events=\"none\"><line transform=\"translate(0,500)\" x2=\"500\" y2=\"0\" stroke=\"#ddd\" stroke-width=\"1\" opacity=\"1\"/><line transform=\"translate(0,458)\" x2=\"500\" y2=\"0\" stroke=\"#ddd\" stroke-width=\"1\" opacity=\"1\"/><line transform=\"translate(0,417)\" x2=\"500\" y2=\"0\" stroke=\"#ddd\" stroke-width=\"1\" opacity=\"1\"/><line transform=\"translate(0,375)\" x2=\"500\" y2=\"0\" stroke=\"#ddd\" stroke-width=\"1\" opacity=\"1\"/><line transform=\"translate(0,333)\" x2=\"500\" y2=\"0\" stroke=\"#ddd\" stroke-width=\"1\" opacity=\"1\"/><line transform=\"translate(0,292)\" x2=\"500\" y2=\"0\" stroke=\"#ddd\" stroke-width=\"1\" opacity=\"1\"/><line transform=\"translate(0,250)\" x2=\"500\" y2=\"0\" stroke=\"#ddd\" stroke-width=\"1\" opacity=\"1\"/><line transform=\"translate(0,208)\" x2=\"500\" y2=\"0\" stroke=\"#ddd\" stroke-width=\"1\" opacity=\"1\"/><line transform=\"translate(0,167)\" x2=\"500\" y2=\"0\" stroke=\"#ddd\" stroke-width=\"1\" opacity=\"1\"/><line transform=\"translate(0,125)\" x2=\"500\" y2=\"0\" stroke=\"#ddd\" stroke-width=\"1\" opacity=\"1\"/><line transform=\"translate(0,83)\" x2=\"500\" y2=\"0\" stroke=\"#ddd\" stroke-width=\"1\" opacity=\"1\"/><line transform=\"translate(0,42)\" x2=\"500\" y2=\"0\" stroke=\"#ddd\" stroke-width=\"1\" opacity=\"1\"/><line transform=\"translate(0,0)\" x2=\"500\" y2=\"0\" stroke=\"#ddd\" stroke-width=\"1\" opacity=\"1\"/></g></g><path class=\"foreground\" aria-hidden=\"true\" d=\"\" pointer-events=\"none\" display=\"none\"/></g></g><g class=\"mark-group role-axis\" role=\"graphics-symbol\" aria-roledescription=\"axis\" aria-label=\"X-axis titled 'Displacement' for a linear scale with values from 0 to 500\"><g transform=\"translate(0.5,500.5)\"><path class=\"background\" aria-hidden=\"true\" d=\"M0,0h0v0h0Z\" pointer-events=\"none\"/><g><g class=\"mark-rule role-axis-tick\" pointer-events=\"none\"><line transform=\"translate(0,0)\" x2=\"0\" y2=\"5\" stroke=\"#888\" stroke-width=\"1\" opacity=\"1\"/><line transform=\"translate(50,0)\" x2=\"0\" y2=\"5\" stroke=\"#888\" stroke-width=\"1\" opacity=\"1\"/><line transform=\"translate(100,0)\" x2=\"0\" y2=\"5\" stroke=\"#888\" stroke-width=\"1\" opacity=\"1\"/><line transform=\"translate(150,0)\" x2=\"0\" y2=\"5\" stroke=\"#888\" stroke-width=\"1\" opacity=\"1\"/><line transform=\"translate(200,0)\" x2=\"0\" y2=\"5\" stroke=\"#888\" stroke-width=\"1\" opacity=\"1\"/><line transform=\"translate(250,0)\" x2=\"0\" y2=\"5\" stroke=\"#888\" stroke-width=\"1\" opacity=\"1\"/><line transform=\"translate(300,0)\" x2=\"0\" y2=\"5\" stroke=\"#888\" stroke-width=\"1\" opacity=\"1\"/><line transform=\"translate(350,0)\" x2=\"0\" y2=\"5\" stroke=\"#888\" stroke-width=\"1\" opacity=\"1\"/><line transform=\"translate(400,0)\" x2=\"0\" y2=\"5\" stroke=\"#888\" stroke-width=\"1\" opacity=\"1\"/><line transform=\"translate(450,0)\" x2=\"0\" y2=\"5\" stroke=\"#888\" stroke-width=\"1\" opacity=\"1\"/><line transform=\"translate(500,0)\" x2=\"0\" y2=\"5\" stroke=\"#888\" stroke-width=\"1\" opacity=\"1\"/></g><g class=\"mark-text role-axis-label\" pointer-events=\"none\"><text text-anchor=\"start\" transform=\"translate(0,15)\" font-family=\"sans-serif\" font-size=\"10px\" fill=\"#000\" opacity=\"1\">0</text><text text-anchor=\"middle\" transform=\"translate(50,15)\" font-family=\"sans-serif\" font-size=\"10px\" fill=\"#000\" opacity=\"1\">50</text><text text-anchor=\"middle\" transform=\"translate(100,15)\" font-family=\"sans-serif\" font-size=\"10px\" fill=\"#000\" opacity=\"1\">100</text><text text-anchor=\"middle\" transform=\"translate(150,15)\" font-family=\"sans-serif\" font-size=\"10px\" fill=\"#000\" opacity=\"1\">150</text><text text-anchor=\"middle\" transform=\"translate(200,15)\" font-family=\"sans-serif\" font-size=\"10px\" fill=\"#000\" opacity=\"1\">200</text><text text-anchor=\"middle\" transform=\"translate(250,15)\" font-family=\"sans-serif\" font-size=\"10px\" fill=\"#000\" opacity=\"1\">250</text><text text-anchor=\"middle\" transform=\"translate(300,15)\" font-family=\"sans-serif\" font-size=\"10px\" fill=\"#000\" opacity=\"1\">300</text><text text-anchor=\"middle\" transform=\"translate(350,15)\" font-family=\"sans-serif\" font-size=\"10px\" fill=\"#000\" opacity=\"1\">350</text><text text-anchor=\"middle\" transform=\"translate(400,15)\" font-family=\"sans-serif\" font-size=\"10px\" fill=\"#000\" opacity=\"1\">400</text><text text-anchor=\"middle\" transform=\"translate(450,15)\" font-family=\"sans-serif\" font-size=\"10px\" fill=\"#000\" opacity=\"1\">450</text><text text-anchor=\"end\" transform=\"translate(500,15)\" font-family=\"sans-serif\" font-size=\"10px\" fill=\"#000\" opacity=\"1\">500</text></g><g class=\"mark-rule role-axis-domain\" pointer-events=\"none\"><line transform=\"translate(0,0)\" x2=\"500\" y2=\"0\" stroke=\"#888\" stroke-width=\"1\" opacity=\"1\"/></g><g class=\"mark-text role-axis-title\" pointer-events=\"none\"><text text-anchor=\"middle\" transform=\"translate(250,30)\" font-family=\"sans-serif\" font-size=\"11px\" font-weight=\"bold\" fill=\"#000\" opacity=\"1\">Displacement</text></g></g><path class=\"foreground\" aria-hidden=\"true\" d=\"\" pointer-events=\"none\" display=\"none\"/></g></g><g class=\"mark-group role-axis\" role=\"graphics-symbol\" aria-roledescription=\"axis\" aria-label=\"Y-axis titled 'Horsepower' for a linear scale with values from 0 to 240\"><g transform=\"translate(0.5,0.5)\"><path class=\"background\" aria-hidden=\"true\" d=\"M0,0h0v0h0Z\" pointer-events=\"none\"/><g><g class=\"mark-rule role-axis-tick\" pointer-events=\"none\"><line transform=\"translate(0,500)\" x2=\"-5\" y2=\"0\" stroke=\"#888\" stroke-width=\"1\" opacity=\"1\"/><line transform=\"translate(0,458)\" x2=\"-5\" y2=\"0\" stroke=\"#888\" stroke-width=\"1\" opacity=\"1\"/><line transform=\"translate(0,417)\" x2=\"-5\" y2=\"0\" stroke=\"#888\" stroke-width=\"1\" opacity=\"1\"/><line transform=\"translate(0,375)\" x2=\"-5\" y2=\"0\" stroke=\"#888\" stroke-width=\"1\" opacity=\"1\"/><line transform=\"translate(0,333)\" x2=\"-5\" y2=\"0\" stroke=\"#888\" stroke-width=\"1\" opacity=\"1\"/><line transform=\"translate(0,292)\" x2=\"-5\" y2=\"0\" stroke=\"#888\" stroke-width=\"1\" opacity=\"1\"/><line transform=\"translate(0,250)\" x2=\"-5\" y2=\"0\" stroke=\"#888\" stroke-width=\"1\" opacity=\"1\"/><line transform=\"translate(0,208)\" x2=\"-5\" y2=\"0\" stroke=\"#888\" stroke-width=\"1\" opacity=\"1\"/><line transform=\"translate(0,167)\" x2=\"-5\" y2=\"0\" stroke=\"#888\" stroke-width=\"1\" opacity=\"1\"/><line transform=\"translate(0,125)\" x2=\"-5\" y2=\"0\" stroke=\"#888\" stroke-width=\"1\" opacity=\"1\"/><line transform=\"translate(0,83)\" x2=\"-5\" y2=\"0\" stroke=\"#888\" stroke-width=\"1\" opacity=\"1\"/><line transform=\"translate(0,42)\" x2=\"-5\" y2=\"0\" stroke=\"#888\" stroke-width=\"1\" opacity=\"1\"/><line transform=\"translate(0,0)\" x2=\"-5\" y2=\"0\" stroke=\"#888\" stroke-width=\"1\" opacity=\"1\"/></g><g class=\"mark-text role-axis-label\" pointer-events=\"none\"><text text-anchor=\"end\" transform=\"translate(-7,503)\" font-family=\"sans-serif\" font-size=\"10px\" fill=\"#000\" opacity=\"1\">0</text><text text-anchor=\"end\" transform=\"translate(-7,461.3333333333333)\" font-family=\"sans-serif\" font-size=\"10px\" fill=\"#000\" opacity=\"1\">20</text><text text-anchor=\"end\" transform=\"translate(-7,419.6666666666667)\" font-family=\"sans-serif\" font-size=\"10px\" fill=\"#000\" opacity=\"1\">40</text><text text-anchor=\"end\" transform=\"translate(-7,378)\" font-family=\"sans-serif\" font-size=\"10px\" fill=\"#000\" opacity=\"1\">60</text><text text-anchor=\"end\" transform=\"translate(-7,336.33333333333337)\" font-family=\"sans-serif\" font-size=\"10px\" fill=\"#000\" opacity=\"1\">80</text><text text-anchor=\"end\" transform=\"translate(-7,294.66666666666663)\" font-family=\"sans-serif\" font-size=\"10px\" fill=\"#000\" opacity=\"1\">100</text><text text-anchor=\"end\" transform=\"translate(-7,253)\" font-family=\"sans-serif\" font-size=\"10px\" fill=\"#000\" opacity=\"1\">120</text><text text-anchor=\"end\" transform=\"translate(-7,211.33333333333331)\" font-family=\"sans-serif\" font-size=\"10px\" fill=\"#000\" opacity=\"1\">140</text><text text-anchor=\"end\" transform=\"translate(-7,169.66666666666669)\" font-family=\"sans-serif\" font-size=\"10px\" fill=\"#000\" opacity=\"1\">160</text><text text-anchor=\"end\" transform=\"translate(-7,128)\" font-family=\"sans-serif\" font-size=\"10px\" fill=\"#000\" opacity=\"1\">180</text><text text-anchor=\"end\" transform=\"translate(-7,86.33333333333331)\" font-family=\"sans-serif\" font-size=\"10px\" fill=\"#000\" opacity=\"1\">200</text><text text-anchor=\"end\" transform=\"translate(-7,44.666666666666686)\" font-family=\"sans-serif\" font-size=\"10px\" fill=\"#000\" opacity=\"1\">220</text><text text-anchor=\"end\" transform=\"translate(-7,3)\" font-family=\"sans-serif\" font-size=\"10px\" fill=\"#000\" opacity=\"1\">240</text></g><g class=\"mark-rule role-axis-domain\" pointer-events=\"none\"><line transform=\"translate(0,500)\" x2=\"0\" y2=\"-500\" stroke=\"#888\" stroke-width=\"1\" opacity=\"1\"/></g><g class=\"mark-text role-axis-title\" pointer-events=\"none\"><text text-anchor=\"middle\" transform=\"translate(-35,250) rotate(-90) translate(0,-2)\" font-family=\"sans-serif\" font-size=\"11px\" font-weight=\"bold\" fill=\"#000\" opacity=\"1\">Horsepower</text></g></g><path class=\"foreground\" aria-hidden=\"true\" d=\"\" pointer-events=\"none\" display=\"none\"/></g></g><g class=\"mark-symbol role-mark marks\" role=\"graphics-object\" aria-roledescription=\"symbol mark container\"><path aria-label=\"Displacement: 145; Horsepower: 76; Car Origin: Europe\" role=\"graphics-symbol\" aria-roledescription=\"point\" transform=\"translate(145,341.6666666666667)\" d=\"M2.7386127875258306,0A2.7386127875258306,2.7386127875258306,0,1,1,-2.7386127875258306,0A2.7386127875258306,2.7386127875258306,0,1,1,2.7386127875258306,0\" stroke=\"green\" stroke-width=\"2\" opacity=\"0.7\"/><path aria-label=\"Displacement: 163; Horsepower: 125; Car Origin: Europe\" role=\"graphics-symbol\" aria-roledescription=\"point\" transform=\"translate(163,239.58333333333331)\" d=\"M2.7386127875258306,0A2.7386127875258306,2.7386127875258306,0,1,1,-2.7386127875258306,0A2.7386127875258306,2.7386127875258306,0,1,1,2.7386127875258306,0\" stroke=\"green\" stroke-width=\"2\" opacity=\"0.7\"/><path aria-label=\"Displacement: 156; Horsepower: 122; Car Origin: Japan\" role=\"graphics-symbol\" aria-roledescription=\"point\" transform=\"translate(156,245.83333333333334)\" d=\"M2.7386127875258306,0A2.7386127875258306,2.7386127875258306,0,1,1,-2.7386127875258306,0A2.7386127875258306,2.7386127875258306,0,1,1,2.7386127875258306,0\" stroke=\"red\" stroke-width=\"2\" opacity=\"0.7\"/><path aria-label=\"Displacement: 156; Horsepower: 108; Car Origin: Japan\" role=\"graphics-symbol\" aria-roledescription=\"point\" transform=\"translate(156,275)\" d=\"M2.7386127875258306,0A2.7386127875258306,2.7386127875258306,0,1,1,-2.7386127875258306,0A2.7386127875258306,2.7386127875258306,0,1,1,2.7386127875258306,0\" stroke=\"red\" stroke-width=\"2\" opacity=\"0.7\"/><path aria-label=\"Displacement: 168; Horsepower: 116; Car Origin: Japan\" role=\"graphics-symbol\" aria-roledescription=\"point\" transform=\"translate(168,258.3333333333333)\" d=\"M2.7386127875258306,0A2.7386127875258306,2.7386127875258306,0,1,1,-2.7386127875258306,0A2.7386127875258306,2.7386127875258306,0,1,1,2.7386127875258306,0\" stroke=\"red\" stroke-width=\"2\" opacity=\"0.7\"/><path aria-label=\"Displacement: 250; Horsepower: 110; Car Origin: USA\" role=\"graphics-symbol\" aria-roledescription=\"point\" transform=\"translate(250,270.83333333333337)\" d=\"M2.7386127875258306,0A2.7386127875258306,2.7386127875258306,0,1,1,-2.7386127875258306,0A2.7386127875258306,2.7386127875258306,0,1,1,2.7386127875258306,0\" stroke=\"blue\" stroke-width=\"2\" opacity=\"0.7\"/><path aria-label=\"Displacement: 400; Horsepower: 175; Car Origin: USA\" role=\"graphics-symbol\" aria-roledescription=\"point\" transform=\"translate(400,135.41666666666669)\" d=\"M2.7386127875258306,0A2.7386127875258306,2.7386127875258306,0,1,1,-2.7386127875258306,0A2.7386127875258306,2.7386127875258306,0,1,1,2.7386127875258306,0\" stroke=\"blue\" stroke-width=\"2\" opacity=\"0.7\"/><path aria-label=\"Displacement: 231; Horsepower: 105; Car Origin: USA\" role=\"graphics-symbol\" aria-roledescription=\"point\" transform=\"translate(231,281.25)\" d=\"M2.7386127875258306,0A2.7386127875258306,2.7386127875258306,0,1,1,-2.7386127875258306,0A2.7386127875258306,2.7386127875258306,0,1,1,2.7386127875258306,0\" stroke=\"blue\" stroke-width=\"2\" opacity=\"0.7\"/><path aria-label=\"Displacement: 231; Horsepower: 115; Car Origin: USA\" role=\"graphics-symbol\" aria-roledescription=\"point\" transform=\"translate(231,260.41666666666663)\" d=\"M2.7386127875258306,0A2.7386127875258306,2.7386127875258306,0,1,1,-2.7386127875258306,0A2.7386127875258306,2.7386127875258306,0,1,1,2.7386127875258306,0\" stroke=\"blue\" stroke-width=\"2\" opacity=\"0.7\"/><path aria-label=\"Displacement: 400; Horsepower: 180; Car Origin: USA\" role=\"graphics-symbol\" aria-roledescription=\"point\" transform=\"translate(400,125)\" d=\"M2.7386127875258306,0A2.7386127875258306,2.7386127875258306,0,1,1,-2.7386127875258306,0A2.7386127875258306,2.7386127875258306,0,1,1,2.7386127875258306,0\" stroke=\"blue\" stroke-width=\"2\" opacity=\"0.7\"/><path aria-label=\"Displacement: 400; Horsepower: 230; Car Origin: USA\" role=\"graphics-symbol\" aria-roledescription=\"point\" transform=\"translate(400,20.833333333333314)\" d=\"M2.7386127875258306,0A2.7386127875258306,2.7386127875258306,0,1,1,-2.7386127875258306,0A2.7386127875258306,2.7386127875258306,0,1,1,2.7386127875258306,0\" stroke=\"blue\" stroke-width=\"2\" opacity=\"0.7\"/><path aria-label=\"Displacement: 250; Horsepower: 100; Car Origin: USA\" role=\"graphics-symbol\" aria-roledescription=\"point\" transform=\"translate(250,291.66666666666663)\" d=\"M2.7386127875258306,0A2.7386127875258306,2.7386127875258306,0,1,1,-2.7386127875258306,0A2.7386127875258306,2.7386127875258306,0,1,1,2.7386127875258306,0\" stroke=\"blue\" stroke-width=\"2\" opacity=\"0.7\"/><path aria-label=\"Displacement: 400; Horsepower: 175; Car Origin: USA\" role=\"graphics-symbol\" aria-roledescription=\"point\" transform=\"translate(400,135.41666666666669)\" d=\"M2.7386127875258306,0A2.7386127875258306,2.7386127875258306,0,1,1,-2.7386127875258306,0A2.7386127875258306,2.7386127875258306,0,1,1,2.7386127875258306,0\" stroke=\"blue\" stroke-width=\"2\" opacity=\"0.7\"/><path aria-label=\"Displacement: 455; Horsepower: 225; Car Origin: USA\" role=\"graphics-symbol\" aria-roledescription=\"point\" transform=\"translate(455,31.25)\" d=\"M2.7386127875258306,0A2.7386127875258306,2.7386127875258306,0,1,1,-2.7386127875258306,0A2.7386127875258306,2.7386127875258306,0,1,1,2.7386127875258306,0\" stroke=\"blue\" stroke-width=\"2\" opacity=\"0.7\"/><path aria-label=\"Displacement: 400; Horsepower: 175; Car Origin: USA\" role=\"graphics-symbol\" aria-roledescription=\"point\" transform=\"translate(400,135.41666666666669)\" d=\"M2.7386127875258306,0A2.7386127875258306,2.7386127875258306,0,1,1,-2.7386127875258306,0A2.7386127875258306,2.7386127875258306,0,1,1,2.7386127875258306,0\" stroke=\"blue\" stroke-width=\"2\" opacity=\"0.7\"/><path aria-label=\"Displacement: 400; Horsepower: 170; Car Origin: USA\" role=\"graphics-symbol\" aria-roledescription=\"point\" transform=\"translate(400,145.83333333333331)\" d=\"M2.7386127875258306,0A2.7386127875258306,2.7386127875258306,0,1,1,-2.7386127875258306,0A2.7386127875258306,2.7386127875258306,0,1,1,2.7386127875258306,0\" stroke=\"blue\" stroke-width=\"2\" opacity=\"0.7\"/><path aria-label=\"Displacement: 318; Horsepower: 150; Car Origin: USA\" role=\"graphics-symbol\" aria-roledescription=\"point\" transform=\"translate(318,187.5)\" d=\"M2.7386127875258306,0A2.7386127875258306,2.7386127875258306,0,1,1,-2.7386127875258306,0A2.7386127875258306,2.7386127875258306,0,1,1,2.7386127875258306,0\" stroke=\"blue\" stroke-width=\"2\" opacity=\"0.7\"/><path aria-label=\"Displacement: 225; Horsepower: 100; Car Origin: USA\" role=\"graphics-symbol\" aria-roledescription=\"point\" transform=\"translate(225,291.66666666666663)\" d=\"M2.7386127875258306,0A2.7386127875258306,2.7386127875258306,0,1,1,-2.7386127875258306,0A2.7386127875258306,2.7386127875258306,0,1,1,2.7386127875258306,0\" stroke=\"blue\" stroke-width=\"2\" opacity=\"0.7\"/><path aria-label=\"Displacement: 225; Horsepower: 100; Car Origin: USA\" role=\"graphics-symbol\" aria-roledescription=\"point\" transform=\"translate(225,291.66666666666663)\" d=\"M2.7386127875258306,0A2.7386127875258306,2.7386127875258306,0,1,1,-2.7386127875258306,0A2.7386127875258306,2.7386127875258306,0,1,1,2.7386127875258306,0\" stroke=\"blue\" stroke-width=\"2\" opacity=\"0.7\"/><path aria-label=\"Displacement: 225; Horsepower: 95; Car Origin: USA\" role=\"graphics-symbol\" aria-roledescription=\"point\" transform=\"translate(225,302.08333333333337)\" d=\"M2.7386127875258306,0A2.7386127875258306,2.7386127875258306,0,1,1,-2.7386127875258306,0A2.7386127875258306,2.7386127875258306,0,1,1,2.7386127875258306,0\" stroke=\"blue\" stroke-width=\"2\" opacity=\"0.7\"/><path aria-label=\"Displacement: 225; Horsepower: 105; Car Origin: USA\" role=\"graphics-symbol\" aria-roledescription=\"point\" transform=\"translate(225,281.25)\" d=\"M2.7386127875258306,0A2.7386127875258306,2.7386127875258306,0,1,1,-2.7386127875258306,0A2.7386127875258306,2.7386127875258306,0,1,1,2.7386127875258306,0\" stroke=\"blue\" stroke-width=\"2\" opacity=\"0.7\"/><path aria-label=\"Displacement: 225; Horsepower: 100; Car Origin: USA\" role=\"graphics-symbol\" aria-roledescription=\"point\" transform=\"translate(225,291.66666666666663)\" d=\"M2.7386127875258306,0A2.7386127875258306,2.7386127875258306,0,1,1,-2.7386127875258306,0A2.7386127875258306,2.7386127875258306,0,1,1,2.7386127875258306,0\" stroke=\"blue\" stroke-width=\"2\" opacity=\"0.7\"/><path aria-label=\"Displacement: 225; Horsepower: 105; Car Origin: USA\" role=\"graphics-symbol\" aria-roledescription=\"point\" transform=\"translate(225,281.25)\" d=\"M2.7386127875258306,0A2.7386127875258306,2.7386127875258306,0,1,1,-2.7386127875258306,0A2.7386127875258306,2.7386127875258306,0,1,1,2.7386127875258306,0\" stroke=\"blue\" stroke-width=\"2\" opacity=\"0.7\"/><path aria-label=\"Displacement: 318; Horsepower: 150; Car Origin: USA\" role=\"graphics-symbol\" aria-roledescription=\"point\" transform=\"translate(318,187.5)\" d=\"M2.7386127875258306,0A2.7386127875258306,2.7386127875258306,0,1,1,-2.7386127875258306,0A2.7386127875258306,2.7386127875258306,0,1,1,2.7386127875258306,0\" stroke=\"blue\" stroke-width=\"2\" opacity=\"0.7\"/><path aria-label=\"Displacement: 225; Horsepower: 105; Car Origin: USA\" role=\"graphics-symbol\" aria-roledescription=\"point\" transform=\"translate(225,281.25)\" d=\"M2.7386127875258306,0A2.7386127875258306,2.7386127875258306,0,1,1,-2.7386127875258306,0A2.7386127875258306,2.7386127875258306,0,1,1,2.7386127875258306,0\" stroke=\"blue\" stroke-width=\"2\" opacity=\"0.7\"/><path aria-label=\"Displacement: 383; Horsepower: 175; Car Origin: USA\" role=\"graphics-symbol\" aria-roledescription=\"point\" transform=\"translate(383,135.41666666666669)\" d=\"M2.7386127875258306,0A2.7386127875258306,2.7386127875258306,0,1,1,-2.7386127875258306,0A2.7386127875258306,2.7386127875258306,0,1,1,2.7386127875258306,0\" stroke=\"blue\" stroke-width=\"2\" opacity=\"0.7\"/><path aria-label=\"Displacement: 318; Horsepower: 150; Car Origin: USA\" role=\"graphics-symbol\" aria-roledescription=\"point\" transform=\"translate(318,187.5)\" d=\"M2.7386127875258306,0A2.7386127875258306,2.7386127875258306,0,1,1,-2.7386127875258306,0A2.7386127875258306,2.7386127875258306,0,1,1,2.7386127875258306,0\" stroke=\"blue\" stroke-width=\"2\" opacity=\"0.7\"/><path aria-label=\"Displacement: 318; Horsepower: 150; Car Origin: USA\" role=\"graphics-symbol\" aria-roledescription=\"point\" transform=\"translate(318,187.5)\" d=\"M2.7386127875258306,0A2.7386127875258306,2.7386127875258306,0,1,1,-2.7386127875258306,0A2.7386127875258306,2.7386127875258306,0,1,1,2.7386127875258306,0\" stroke=\"blue\" stroke-width=\"2\" opacity=\"0.7\"/><path aria-label=\"Displacement: 440; Horsepower: 215; Car Origin: USA\" role=\"graphics-symbol\" aria-roledescription=\"point\" transform=\"translate(440,52.083333333333314)\" d=\"M2.7386127875258306,0A2.7386127875258306,2.7386127875258306,0,1,1,-2.7386127875258306,0A2.7386127875258306,2.7386127875258306,0,1,1,2.7386127875258306,0\" stroke=\"blue\" stroke-width=\"2\" opacity=\"0.7\"/><path aria-label=\"Displacement: 318; Horsepower: 150; Car Origin: USA\" role=\"graphics-symbol\" aria-roledescription=\"point\" transform=\"translate(318,187.5)\" d=\"M2.7386127875258306,0A2.7386127875258306,2.7386127875258306,0,1,1,-2.7386127875258306,0A2.7386127875258306,2.7386127875258306,0,1,1,2.7386127875258306,0\" stroke=\"blue\" stroke-width=\"2\" opacity=\"0.7\"/><path aria-label=\"Displacement: 318; Horsepower: 150; Car Origin: USA\" role=\"graphics-symbol\" aria-roledescription=\"point\" transform=\"translate(318,187.5)\" d=\"M2.7386127875258306,0A2.7386127875258306,2.7386127875258306,0,1,1,-2.7386127875258306,0A2.7386127875258306,2.7386127875258306,0,1,1,2.7386127875258306,0\" stroke=\"blue\" stroke-width=\"2\" opacity=\"0.7\"/><path aria-label=\"Displacement: 318; Horsepower: 150; Car Origin: USA\" role=\"graphics-symbol\" aria-roledescription=\"point\" transform=\"translate(318,187.5)\" d=\"M2.7386127875258306,0A2.7386127875258306,2.7386127875258306,0,1,1,-2.7386127875258306,0A2.7386127875258306,2.7386127875258306,0,1,1,2.7386127875258306,0\" stroke=\"blue\" stroke-width=\"2\" opacity=\"0.7\"/><path aria-label=\"Displacement: 225; Horsepower: 95; Car Origin: USA\" role=\"graphics-symbol\" aria-roledescription=\"point\" transform=\"translate(225,302.08333333333337)\" d=\"M2.7386127875258306,0A2.7386127875258306,2.7386127875258306,0,1,1,-2.7386127875258306,0A2.7386127875258306,2.7386127875258306,0,1,1,2.7386127875258306,0\" stroke=\"blue\" stroke-width=\"2\" opacity=\"0.7\"/><path aria-label=\"Displacement: 198; Horsepower: 95; Car Origin: USA\" role=\"graphics-symbol\" aria-roledescription=\"point\" transform=\"translate(198,302.08333333333337)\" d=\"M2.7386127875258306,0A2.7386127875258306,2.7386127875258306,0,1,1,-2.7386127875258306,0A2.7386127875258306,2.7386127875258306,0,1,1,2.7386127875258306,0\" stroke=\"blue\" stroke-width=\"2\" opacity=\"0.7\"/><path aria-label=\"Displacement: 198; Horsepower: 95; Car Origin: USA\" role=\"graphics-symbol\" aria-roledescription=\"point\" transform=\"translate(198,302.08333333333337)\" d=\"M2.7386127875258306,0A2.7386127875258306,2.7386127875258306,0,1,1,-2.7386127875258306,0A2.7386127875258306,2.7386127875258306,0,1,1,2.7386127875258306,0\" stroke=\"blue\" stroke-width=\"2\" opacity=\"0.7\"/><path aria-label=\"Displacement: 198; Horsepower: 95; Car Origin: USA\" role=\"graphics-symbol\" aria-roledescription=\"point\" transform=\"translate(198,302.08333333333337)\" d=\"M2.7386127875258306,0A2.7386127875258306,2.7386127875258306,0,1,1,-2.7386127875258306,0A2.7386127875258306,2.7386127875258306,0,1,1,2.7386127875258306,0\" stroke=\"blue\" stroke-width=\"2\" opacity=\"0.7\"/><path aria-label=\"Displacement: 360; Horsepower: 170; Car Origin: USA\" role=\"graphics-symbol\" aria-roledescription=\"point\" transform=\"translate(360,145.83333333333331)\" d=\"M2.7386127875258306,0A2.7386127875258306,2.7386127875258306,0,1,1,-2.7386127875258306,0A2.7386127875258306,2.7386127875258306,0,1,1,2.7386127875258306,0\" stroke=\"blue\" stroke-width=\"2\" opacity=\"0.7\"/><path aria-label=\"Displacement: 340; Horsepower: 160; Car Origin: USA\" role=\"graphics-symbol\" aria-roledescription=\"point\" transform=\"translate(340,166.66666666666669)\" d=\"M2.7386127875258306,0A2.7386127875258306,2.7386127875258306,0,1,1,-2.7386127875258306,0A2.7386127875258306,2.7386127875258306,0,1,1,2.7386127875258306,0\" stroke=\"blue\" stroke-width=\"2\" opacity=\"0.7\"/><path aria-label=\"Displacement: 163; Horsepower: 133; Car Origin: Europe\" role=\"graphics-symbol\" aria-roledescription=\"point\" transform=\"translate(163,222.91666666666666)\" d=\"M2.7386127875258306,0A2.7386127875258306,2.7386127875258306,0,1,1,-2.7386127875258306,0A2.7386127875258306,2.7386127875258306,0,1,1,2.7386127875258306,0\" stroke=\"green\" stroke-width=\"2\" opacity=\"0.7\"/><path aria-label=\"Displacement: 350; Horsepower: 180; Car Origin: USA\" role=\"graphics-symbol\" aria-roledescription=\"point\" transform=\"translate(350,125)\" d=\"M2.7386127875258306,0A2.7386127875258306,2.7386127875258306,0,1,1,-2.7386127875258306,0A2.7386127875258306,2.7386127875258306,0,1,1,2.7386127875258306,0\" stroke=\"blue\" stroke-width=\"2\" opacity=\"0.7\"/><path aria-label=\"Displacement: 173; Horsepower: 115; Car Origin: USA\" role=\"graphics-symbol\" aria-roledescription=\"point\" transform=\"translate(173,260.41666666666663)\" d=\"M2.7386127875258306,0A2.7386127875258306,2.7386127875258306,0,1,1,-2.7386127875258306,0A2.7386127875258306,2.7386127875258306,0,1,1,2.7386127875258306,0\" stroke=\"blue\" stroke-width=\"2\" opacity=\"0.7\"/><path aria-label=\"Displacement: 350; Horsepower: 180; Car Origin: USA\" role=\"graphics-symbol\" aria-roledescription=\"point\" transform=\"translate(350,125)\" d=\"M2.7386127875258306,0A2.7386127875258306,2.7386127875258306,0,1,1,-2.7386127875258306,0A2.7386127875258306,2.7386127875258306,0,1,1,2.7386127875258306,0\" stroke=\"blue\" stroke-width=\"2\" opacity=\"0.7\"/><path aria-label=\"Displacement: 350; Horsepower: 160; Car Origin: USA\" role=\"graphics-symbol\" aria-roledescription=\"point\" transform=\"translate(350,166.66666666666669)\" d=\"M2.7386127875258306,0A2.7386127875258306,2.7386127875258306,0,1,1,-2.7386127875258306,0A2.7386127875258306,2.7386127875258306,0,1,1,2.7386127875258306,0\" stroke=\"blue\" stroke-width=\"2\" opacity=\"0.7\"/><path aria-label=\"Displacement: 260; Horsepower: 110; Car Origin: USA\" role=\"graphics-symbol\" aria-roledescription=\"point\" transform=\"translate(260,270.83333333333337)\" d=\"M2.7386127875258306,0A2.7386127875258306,2.7386127875258306,0,1,1,-2.7386127875258306,0A2.7386127875258306,2.7386127875258306,0,1,1,2.7386127875258306,0\" stroke=\"blue\" stroke-width=\"2\" opacity=\"0.7\"/><path aria-label=\"Displacement: 260; Horsepower: 110; Car Origin: USA\" role=\"graphics-symbol\" aria-roledescription=\"point\" transform=\"translate(260,270.83333333333337)\" d=\"M2.7386127875258306,0A2.7386127875258306,2.7386127875258306,0,1,1,-2.7386127875258306,0A2.7386127875258306,2.7386127875258306,0,1,1,2.7386127875258306,0\" stroke=\"blue\" stroke-width=\"2\" opacity=\"0.7\"/><path aria-label=\"Displacement: 260; Horsepower: 90; Car Origin: USA\" role=\"graphics-symbol\" aria-roledescription=\"point\" transform=\"translate(260,312.5)\" d=\"M2.7386127875258306,0A2.7386127875258306,2.7386127875258306,0,1,1,-2.7386127875258306,0A2.7386127875258306,2.7386127875258306,0,1,1,2.7386127875258306,0\" stroke=\"blue\" stroke-width=\"2\" opacity=\"0.7\"/><path aria-label=\"Displacement: 350; Horsepower: 105; Car Origin: USA\" role=\"graphics-symbol\" aria-roledescription=\"point\" transform=\"translate(350,281.25)\" d=\"M2.7386127875258306,0A2.7386127875258306,2.7386127875258306,0,1,1,-2.7386127875258306,0A2.7386127875258306,2.7386127875258306,0,1,1,2.7386127875258306,0\" stroke=\"blue\" stroke-width=\"2\" opacity=\"0.7\"/><path aria-label=\"Displacement: 262; Horsepower: 85; Car Origin: USA\" role=\"graphics-symbol\" aria-roledescription=\"point\" transform=\"translate(262,322.91666666666663)\" d=\"M2.7386127875258306,0A2.7386127875258306,2.7386127875258306,0,1,1,-2.7386127875258306,0A2.7386127875258306,2.7386127875258306,0,1,1,2.7386127875258306,0\" stroke=\"blue\" stroke-width=\"2\" opacity=\"0.7\"/><path aria-label=\"Displacement: 200; Horsepower: 85; Car Origin: USA\" role=\"graphics-symbol\" aria-roledescription=\"point\" transform=\"translate(200,322.91666666666663)\" d=\"M2.7386127875258306,0A2.7386127875258306,2.7386127875258306,0,1,1,-2.7386127875258306,0A2.7386127875258306,2.7386127875258306,0,1,1,2.7386127875258306,0\" stroke=\"blue\" stroke-width=\"2\" opacity=\"0.7\"/><path aria-label=\"Displacement: 200; Horsepower: 85; Car Origin: USA\" role=\"graphics-symbol\" aria-roledescription=\"point\" transform=\"translate(200,322.91666666666663)\" d=\"M2.7386127875258306,0A2.7386127875258306,2.7386127875258306,0,1,1,-2.7386127875258306,0A2.7386127875258306,2.7386127875258306,0,1,1,2.7386127875258306,0\" stroke=\"blue\" stroke-width=\"2\" opacity=\"0.7\"/><path aria-label=\"Displacement: 302; Horsepower: 139; Car Origin: USA\" role=\"graphics-symbol\" aria-roledescription=\"point\" transform=\"translate(302,210.41666666666663)\" d=\"M2.7386127875258306,0A2.7386127875258306,2.7386127875258306,0,1,1,-2.7386127875258306,0A2.7386127875258306,2.7386127875258306,0,1,1,2.7386127875258306,0\" stroke=\"blue\" stroke-width=\"2\" opacity=\"0.7\"/><path aria-label=\"Displacement: 250; Horsepower: 72; Car Origin: USA\" role=\"graphics-symbol\" aria-roledescription=\"point\" transform=\"translate(250,350)\" d=\"M2.7386127875258306,0A2.7386127875258306,2.7386127875258306,0,1,1,-2.7386127875258306,0A2.7386127875258306,2.7386127875258306,0,1,1,2.7386127875258306,0\" stroke=\"blue\" stroke-width=\"2\" opacity=\"0.7\"/><path aria-label=\"Displacement: 429; Horsepower: 198; Car Origin: USA\" role=\"graphics-symbol\" aria-roledescription=\"point\" transform=\"translate(429,87.50000000000003)\" d=\"M2.7386127875258306,0A2.7386127875258306,2.7386127875258306,0,1,1,-2.7386127875258306,0A2.7386127875258306,2.7386127875258306,0,1,1,2.7386127875258306,0\" stroke=\"blue\" stroke-width=\"2\" opacity=\"0.7\"/><path aria-label=\"Displacement: 429; Horsepower: 208; Car Origin: USA\" role=\"graphics-symbol\" aria-roledescription=\"point\" transform=\"translate(429,66.66666666666666)\" d=\"M2.7386127875258306,0A2.7386127875258306,2.7386127875258306,0,1,1,-2.7386127875258306,0A2.7386127875258306,2.7386127875258306,0,1,1,2.7386127875258306,0\" stroke=\"blue\" stroke-width=\"2\" opacity=\"0.7\"/><path aria-label=\"Displacement: 351; Horsepower: 138; Car Origin: USA\" role=\"graphics-symbol\" aria-roledescription=\"point\" transform=\"translate(351,212.50000000000003)\" d=\"M2.7386127875258306,0A2.7386127875258306,2.7386127875258306,0,1,1,-2.7386127875258306,0A2.7386127875258306,2.7386127875258306,0,1,1,2.7386127875258306,0\" stroke=\"blue\" stroke-width=\"2\" opacity=\"0.7\"/><path aria-label=\"Displacement: 302; Horsepower: 130; Car Origin: USA\" role=\"graphics-symbol\" aria-roledescription=\"point\" transform=\"translate(302,229.16666666666669)\" d=\"M2.7386127875258306,0A2.7386127875258306,2.7386127875258306,0,1,1,-2.7386127875258306,0A2.7386127875258306,2.7386127875258306,0,1,1,2.7386127875258306,0\" stroke=\"blue\" stroke-width=\"2\" opacity=\"0.7\"/><path aria-label=\"Displacement: 155; Horsepower: 107; Car Origin: USA\" role=\"graphics-symbol\" aria-roledescription=\"point\" transform=\"translate(155,277.08333333333337)\" d=\"M2.7386127875258306,0A2.7386127875258306,2.7386127875258306,0,1,1,-2.7386127875258306,0A2.7386127875258306,2.7386127875258306,0,1,1,2.7386127875258306,0\" stroke=\"blue\" stroke-width=\"2\" opacity=\"0.7\"/><path aria-label=\"Displacement: 168; Horsepower: 120; Car Origin: Europe\" role=\"graphics-symbol\" aria-roledescription=\"point\" transform=\"translate(168,250)\" d=\"M2.7386127875258306,0A2.7386127875258306,2.7386127875258306,0,1,1,-2.7386127875258306,0A2.7386127875258306,2.7386127875258306,0,1,1,2.7386127875258306,0\" stroke=\"green\" stroke-width=\"2\" opacity=\"0.7\"/><path aria-label=\"Displacement: 183; Horsepower: 77; Car Origin: Europe\" role=\"graphics-symbol\" aria-roledescription=\"point\" transform=\"translate(183,339.58333333333337)\" d=\"M2.7386127875258306,0A2.7386127875258306,2.7386127875258306,0,1,1,-2.7386127875258306,0A2.7386127875258306,2.7386127875258306,0,1,1,2.7386127875258306,0\" stroke=\"green\" stroke-width=\"2\" opacity=\"0.7\"/><path aria-label=\"Displacement: 304; Horsepower: 193; Car Origin: USA\" role=\"graphics-symbol\" aria-roledescription=\"point\" transform=\"translate(304,97.91666666666666)\" d=\"M2.7386127875258306,0A2.7386127875258306,2.7386127875258306,0,1,1,-2.7386127875258306,0A2.7386127875258306,2.7386127875258306,0,1,1,2.7386127875258306,0\" stroke=\"blue\" stroke-width=\"2\" opacity=\"0.7\"/><path aria-label=\"Displacement: 250; Horsepower: 88; Car Origin: USA\" role=\"graphics-symbol\" aria-roledescription=\"point\" transform=\"translate(250,316.66666666666663)\" d=\"M2.7386127875258306,0A2.7386127875258306,2.7386127875258306,0,1,1,-2.7386127875258306,0A2.7386127875258306,2.7386127875258306,0,1,1,2.7386127875258306,0\" stroke=\"blue\" stroke-width=\"2\" opacity=\"0.7\"/><path aria-label=\"Displacement: 351; Horsepower: 153; Car Origin: USA\" role=\"graphics-symbol\" aria-roledescription=\"point\" transform=\"translate(351,181.25000000000003)\" d=\"M2.7386127875258306,0A2.7386127875258306,2.7386127875258306,0,1,1,-2.7386127875258306,0A2.7386127875258306,2.7386127875258306,0,1,1,2.7386127875258306,0\" stroke=\"blue\" stroke-width=\"2\" opacity=\"0.7\"/><path aria-label=\"Displacement: 302; Horsepower: 140; Car Origin: USA\" role=\"graphics-symbol\" aria-roledescription=\"point\" transform=\"translate(302,208.33333333333331)\" d=\"M2.7386127875258306,0A2.7386127875258306,2.7386127875258306,0,1,1,-2.7386127875258306,0A2.7386127875258306,2.7386127875258306,0,1,1,2.7386127875258306,0\" stroke=\"blue\" stroke-width=\"2\" opacity=\"0.7\"/><path aria-label=\"Displacement: 351; Horsepower: 149; Car Origin: USA\" role=\"graphics-symbol\" aria-roledescription=\"point\" transform=\"translate(351,189.58333333333331)\" d=\"M2.7386127875258306,0A2.7386127875258306,2.7386127875258306,0,1,1,-2.7386127875258306,0A2.7386127875258306,2.7386127875258306,0,1,1,2.7386127875258306,0\" stroke=\"blue\" stroke-width=\"2\" opacity=\"0.7\"/><path aria-label=\"Displacement: 171; Horsepower: 97; Car Origin: USA\" role=\"graphics-symbol\" aria-roledescription=\"point\" transform=\"translate(171,297.9166666666667)\" d=\"M2.7386127875258306,0A2.7386127875258306,2.7386127875258306,0,1,1,-2.7386127875258306,0A2.7386127875258306,2.7386127875258306,0,1,1,2.7386127875258306,0\" stroke=\"blue\" stroke-width=\"2\" opacity=\"0.7\"/><path aria-label=\"Displacement: 302; Horsepower: 129; Car Origin: USA\" role=\"graphics-symbol\" aria-roledescription=\"point\" transform=\"translate(302,231.25)\" d=\"M2.7386127875258306,0A2.7386127875258306,2.7386127875258306,0,1,1,-2.7386127875258306,0A2.7386127875258306,2.7386127875258306,0,1,1,2.7386127875258306,0\" stroke=\"blue\" stroke-width=\"2\" opacity=\"0.7\"/><path aria-label=\"Displacement: 302; Horsepower: 140; Car Origin: USA\" role=\"graphics-symbol\" aria-roledescription=\"point\" transform=\"translate(302,208.33333333333331)\" d=\"M2.7386127875258306,0A2.7386127875258306,2.7386127875258306,0,1,1,-2.7386127875258306,0A2.7386127875258306,2.7386127875258306,0,1,1,2.7386127875258306,0\" stroke=\"blue\" stroke-width=\"2\" opacity=\"0.7\"/><path aria-label=\"Displacement: 250; Horsepower: 88; Car Origin: USA\" role=\"graphics-symbol\" aria-roledescription=\"point\" transform=\"translate(250,316.66666666666663)\" d=\"M2.7386127875258306,0A2.7386127875258306,2.7386127875258306,0,1,1,-2.7386127875258306,0A2.7386127875258306,2.7386127875258306,0,1,1,2.7386127875258306,0\" stroke=\"blue\" stroke-width=\"2\" opacity=\"0.7\"/><path aria-label=\"Displacement: 200; Horsepower: 85; Car Origin: USA\" role=\"graphics-symbol\" aria-roledescription=\"point\" transform=\"translate(200,322.91666666666663)\" d=\"M2.7386127875258306,0A2.7386127875258306,2.7386127875258306,0,1,1,-2.7386127875258306,0A2.7386127875258306,2.7386127875258306,0,1,1,2.7386127875258306,0\" stroke=\"blue\" stroke-width=\"2\" opacity=\"0.7\"/><path aria-label=\"Displacement: 250; Horsepower: 88; Car Origin: USA\" role=\"graphics-symbol\" aria-roledescription=\"point\" transform=\"translate(250,316.66666666666663)\" d=\"M2.7386127875258306,0A2.7386127875258306,2.7386127875258306,0,1,1,-2.7386127875258306,0A2.7386127875258306,2.7386127875258306,0,1,1,2.7386127875258306,0\" stroke=\"blue\" stroke-width=\"2\" opacity=\"0.7\"/><path aria-label=\"Displacement: 250; Horsepower: 72; Car Origin: USA\" role=\"graphics-symbol\" aria-roledescription=\"point\" transform=\"translate(250,350)\" d=\"M2.7386127875258306,0A2.7386127875258306,2.7386127875258306,0,1,1,-2.7386127875258306,0A2.7386127875258306,2.7386127875258306,0,1,1,2.7386127875258306,0\" stroke=\"blue\" stroke-width=\"2\" opacity=\"0.7\"/><path aria-label=\"Displacement: 200; Horsepower: 81; Car Origin: USA\" role=\"graphics-symbol\" aria-roledescription=\"point\" transform=\"translate(200,331.25)\" d=\"M2.7386127875258306,0A2.7386127875258306,2.7386127875258306,0,1,1,-2.7386127875258306,0A2.7386127875258306,2.7386127875258306,0,1,1,2.7386127875258306,0\" stroke=\"blue\" stroke-width=\"2\" opacity=\"0.7\"/><path aria-label=\"Displacement: 302; Horsepower: 129; Car Origin: USA\" role=\"graphics-symbol\" aria-roledescription=\"point\" transform=\"translate(302,231.25)\" d=\"M2.7386127875258306,0A2.7386127875258306,2.7386127875258306,0,1,1,-2.7386127875258306,0A2.7386127875258306,2.7386127875258306,0,1,1,2.7386127875258306,0\" stroke=\"blue\" stroke-width=\"2\" opacity=\"0.7\"/><path aria-label=\"Displacement: 351; Horsepower: 158; Car Origin: USA\" role=\"graphics-symbol\" aria-roledescription=\"point\" transform=\"translate(351,170.83333333333334)\" d=\"M2.7386127875258306,0A2.7386127875258306,2.7386127875258306,0,1,1,-2.7386127875258306,0A2.7386127875258306,2.7386127875258306,0,1,1,2.7386127875258306,0\" stroke=\"blue\" stroke-width=\"2\" opacity=\"0.7\"/><path aria-label=\"Displacement: 351; Horsepower: 148; Car Origin: USA\" role=\"graphics-symbol\" aria-roledescription=\"point\" transform=\"translate(351,191.66666666666666)\" d=\"M2.7386127875258306,0A2.7386127875258306,2.7386127875258306,0,1,1,-2.7386127875258306,0A2.7386127875258306,2.7386127875258306,0,1,1,2.7386127875258306,0\" stroke=\"blue\" stroke-width=\"2\" opacity=\"0.7\"/><path aria-label=\"Displacement: 232; Horsepower: 112; Car Origin: USA\" role=\"graphics-symbol\" aria-roledescription=\"point\" transform=\"translate(232,266.6666666666667)\" d=\"M2.7386127875258306,0A2.7386127875258306,2.7386127875258306,0,1,1,-2.7386127875258306,0A2.7386127875258306,2.7386127875258306,0,1,1,2.7386127875258306,0\" stroke=\"blue\" stroke-width=\"2\" opacity=\"0.7\"/><path aria-label=\"Displacement: 200; Horsepower: 88; Car Origin: USA\" role=\"graphics-symbol\" aria-roledescription=\"point\" transform=\"translate(200,316.66666666666663)\" d=\"M2.7386127875258306,0A2.7386127875258306,2.7386127875258306,0,1,1,-2.7386127875258306,0A2.7386127875258306,2.7386127875258306,0,1,1,2.7386127875258306,0\" stroke=\"blue\" stroke-width=\"2\" opacity=\"0.7\"/><path aria-label=\"Displacement: 250; Horsepower: 78; Car Origin: USA\" role=\"graphics-symbol\" aria-roledescription=\"point\" transform=\"translate(250,337.5)\" d=\"M2.7386127875258306,0A2.7386127875258306,2.7386127875258306,0,1,1,-2.7386127875258306,0A2.7386127875258306,2.7386127875258306,0,1,1,2.7386127875258306,0\" stroke=\"blue\" stroke-width=\"2\" opacity=\"0.7\"/><path aria-label=\"Displacement: 250; Horsepower: 98; Car Origin: USA\" role=\"graphics-symbol\" aria-roledescription=\"point\" transform=\"translate(250,295.8333333333333)\" d=\"M2.7386127875258306,0A2.7386127875258306,2.7386127875258306,0,1,1,-2.7386127875258306,0A2.7386127875258306,2.7386127875258306,0,1,1,2.7386127875258306,0\" stroke=\"blue\" stroke-width=\"2\" opacity=\"0.7\"/><path aria-label=\"Displacement: 302; Horsepower: 140; Car Origin: USA\" role=\"graphics-symbol\" aria-roledescription=\"point\" transform=\"translate(302,208.33333333333331)\" d=\"M2.7386127875258306,0A2.7386127875258306,2.7386127875258306,0,1,1,-2.7386127875258306,0A2.7386127875258306,2.7386127875258306,0,1,1,2.7386127875258306,0\" stroke=\"blue\" stroke-width=\"2\" opacity=\"0.7\"/><path aria-label=\"Displacement: 302; Horsepower: 140; Car Origin: USA\" role=\"graphics-symbol\" aria-roledescription=\"point\" transform=\"translate(302,208.33333333333331)\" d=\"M2.7386127875258306,0A2.7386127875258306,2.7386127875258306,0,1,1,-2.7386127875258306,0A2.7386127875258306,2.7386127875258306,0,1,1,2.7386127875258306,0\" stroke=\"blue\" stroke-width=\"2\" opacity=\"0.7\"/><path aria-label=\"Displacement: 302; Horsepower: 137; Car Origin: USA\" role=\"graphics-symbol\" aria-roledescription=\"point\" transform=\"translate(302,214.58333333333334)\" d=\"M2.7386127875258306,0A2.7386127875258306,2.7386127875258306,0,1,1,-2.7386127875258306,0A2.7386127875258306,2.7386127875258306,0,1,1,2.7386127875258306,0\" stroke=\"blue\" stroke-width=\"2\" opacity=\"0.7\"/><path aria-label=\"Displacement: 302; Horsepower: 140; Car Origin: USA\" role=\"graphics-symbol\" aria-roledescription=\"point\" transform=\"translate(302,208.33333333333331)\" d=\"M2.7386127875258306,0A2.7386127875258306,2.7386127875258306,0,1,1,-2.7386127875258306,0A2.7386127875258306,2.7386127875258306,0,1,1,2.7386127875258306,0\" stroke=\"blue\" stroke-width=\"2\" opacity=\"0.7\"/><path aria-label=\"Displacement: 351; Horsepower: 152; Car Origin: USA\" role=\"graphics-symbol\" aria-roledescription=\"point\" transform=\"translate(351,183.33333333333334)\" d=\"M2.7386127875258306,0A2.7386127875258306,2.7386127875258306,0,1,1,-2.7386127875258306,0A2.7386127875258306,2.7386127875258306,0,1,1,2.7386127875258306,0\" stroke=\"blue\" stroke-width=\"2\" opacity=\"0.7\"/><path aria-label=\"Displacement: 429; Horsepower: 198; Car Origin: USA\" role=\"graphics-symbol\" aria-roledescription=\"point\" transform=\"translate(429,87.50000000000003)\" d=\"M2.7386127875258306,0A2.7386127875258306,2.7386127875258306,0,1,1,-2.7386127875258306,0A2.7386127875258306,2.7386127875258306,0,1,1,2.7386127875258306,0\" stroke=\"blue\" stroke-width=\"2\" opacity=\"0.7\"/><path aria-label=\"Displacement: 351; Horsepower: 153; Car Origin: USA\" role=\"graphics-symbol\" aria-roledescription=\"point\" transform=\"translate(351,181.25000000000003)\" d=\"M2.7386127875258306,0A2.7386127875258306,2.7386127875258306,0,1,1,-2.7386127875258306,0A2.7386127875258306,2.7386127875258306,0,1,1,2.7386127875258306,0\" stroke=\"blue\" stroke-width=\"2\" opacity=\"0.7\"/><path aria-label=\"Displacement: 351; Horsepower: 153; Car Origin: USA\" role=\"graphics-symbol\" aria-roledescription=\"point\" transform=\"translate(351,181.25000000000003)\" d=\"M2.7386127875258306,0A2.7386127875258306,2.7386127875258306,0,1,1,-2.7386127875258306,0A2.7386127875258306,2.7386127875258306,0,1,1,2.7386127875258306,0\" stroke=\"blue\" stroke-width=\"2\" opacity=\"0.7\"/><path aria-label=\"Displacement: 302; Horsepower: 139; Car Origin: USA\" role=\"graphics-symbol\" aria-roledescription=\"point\" transform=\"translate(302,210.41666666666663)\" d=\"M2.7386127875258306,0A2.7386127875258306,2.7386127875258306,0,1,1,-2.7386127875258306,0A2.7386127875258306,2.7386127875258306,0,1,1,2.7386127875258306,0\" stroke=\"blue\" stroke-width=\"2\" opacity=\"0.7\"/><path aria-label=\"Displacement: 200; Horsepower: 85; Car Origin: USA\" role=\"graphics-symbol\" aria-roledescription=\"point\" transform=\"translate(200,322.91666666666663)\" d=\"M2.7386127875258306,0A2.7386127875258306,2.7386127875258306,0,1,1,-2.7386127875258306,0A2.7386127875258306,2.7386127875258306,0,1,1,2.7386127875258306,0\" stroke=\"blue\" stroke-width=\"2\" opacity=\"0.7\"/><path aria-label=\"Displacement: 360; Horsepower: 215; Car Origin: USA\" role=\"graphics-symbol\" aria-roledescription=\"point\" transform=\"translate(360,52.083333333333314)\" d=\"M2.7386127875258306,0A2.7386127875258306,2.7386127875258306,0,1,1,-2.7386127875258306,0A2.7386127875258306,2.7386127875258306,0,1,1,2.7386127875258306,0\" stroke=\"blue\" stroke-width=\"2\" opacity=\"0.7\"/><path aria-label=\"Displacement: 302; Horsepower: 130; Car Origin: USA\" role=\"graphics-symbol\" aria-roledescription=\"point\" transform=\"translate(302,229.16666666666669)\" d=\"M2.7386127875258306,0A2.7386127875258306,2.7386127875258306,0,1,1,-2.7386127875258306,0A2.7386127875258306,2.7386127875258306,0,1,1,2.7386127875258306,0\" stroke=\"blue\" stroke-width=\"2\" opacity=\"0.7\"/><path aria-label=\"Displacement: 400; Horsepower: 170; Car Origin: USA\" role=\"graphics-symbol\" aria-roledescription=\"point\" transform=\"translate(400,145.83333333333331)\" d=\"M2.7386127875258306,0A2.7386127875258306,2.7386127875258306,0,1,1,-2.7386127875258306,0A2.7386127875258306,2.7386127875258306,0,1,1,2.7386127875258306,0\" stroke=\"blue\" stroke-width=\"2\" opacity=\"0.7\"/><path aria-label=\"Displacement: 351; Horsepower: 142; Car Origin: USA\" role=\"graphics-symbol\" aria-roledescription=\"point\" transform=\"translate(351,204.16666666666666)\" d=\"M2.7386127875258306,0A2.7386127875258306,2.7386127875258306,0,1,1,-2.7386127875258306,0A2.7386127875258306,2.7386127875258306,0,1,1,2.7386127875258306,0\" stroke=\"blue\" stroke-width=\"2\" opacity=\"0.7\"/><path aria-label=\"Displacement: 400; Horsepower: 167; Car Origin: USA\" role=\"graphics-symbol\" aria-roledescription=\"point\" transform=\"translate(400,152.08333333333334)\" d=\"M2.7386127875258306,0A2.7386127875258306,2.7386127875258306,0,1,1,-2.7386127875258306,0A2.7386127875258306,2.7386127875258306,0,1,1,2.7386127875258306,0\" stroke=\"blue\" stroke-width=\"2\" opacity=\"0.7\"/><path aria-label=\"Displacement: 318; Horsepower: 135; Car Origin: USA\" role=\"graphics-symbol\" aria-roledescription=\"point\" transform=\"translate(318,218.75)\" d=\"M2.7386127875258306,0A2.7386127875258306,2.7386127875258306,0,1,1,-2.7386127875258306,0A2.7386127875258306,2.7386127875258306,0,1,1,2.7386127875258306,0\" stroke=\"blue\" stroke-width=\"2\" opacity=\"0.7\"/><path aria-label=\"Displacement: 318; Horsepower: 145; Car Origin: USA\" role=\"graphics-symbol\" aria-roledescription=\"point\" transform=\"translate(318,197.91666666666669)\" d=\"M2.7386127875258306,0A2.7386127875258306,2.7386127875258306,0,1,1,-2.7386127875258306,0A2.7386127875258306,2.7386127875258306,0,1,1,2.7386127875258306,0\" stroke=\"blue\" stroke-width=\"2\" opacity=\"0.7\"/><path aria-label=\"Displacement: 383; Horsepower: 180; Car Origin: USA\" role=\"graphics-symbol\" aria-roledescription=\"point\" transform=\"translate(383,125)\" d=\"M2.7386127875258306,0A2.7386127875258306,2.7386127875258306,0,1,1,-2.7386127875258306,0A2.7386127875258306,2.7386127875258306,0,1,1,2.7386127875258306,0\" stroke=\"blue\" stroke-width=\"2\" opacity=\"0.7\"/><path aria-label=\"Displacement: 318; Horsepower: 140; Car Origin: USA\" role=\"graphics-symbol\" aria-roledescription=\"point\" transform=\"translate(318,208.33333333333331)\" d=\"M2.7386127875258306,0A2.7386127875258306,2.7386127875258306,0,1,1,-2.7386127875258306,0A2.7386127875258306,2.7386127875258306,0,1,1,2.7386127875258306,0\" stroke=\"blue\" stroke-width=\"2\" opacity=\"0.7\"/><path aria-label=\"Displacement: 318; Horsepower: 140; Car Origin: USA\" role=\"graphics-symbol\" aria-roledescription=\"point\" transform=\"translate(318,208.33333333333331)\" d=\"M2.7386127875258306,0A2.7386127875258306,2.7386127875258306,0,1,1,-2.7386127875258306,0A2.7386127875258306,2.7386127875258306,0,1,1,2.7386127875258306,0\" stroke=\"blue\" stroke-width=\"2\" opacity=\"0.7\"/><path aria-label=\"Displacement: 318; Horsepower: 150; Car Origin: USA\" role=\"graphics-symbol\" aria-roledescription=\"point\" transform=\"translate(318,187.5)\" d=\"M2.7386127875258306,0A2.7386127875258306,2.7386127875258306,0,1,1,-2.7386127875258306,0A2.7386127875258306,2.7386127875258306,0,1,1,2.7386127875258306,0\" stroke=\"blue\" stroke-width=\"2\" opacity=\"0.7\"/><path aria-label=\"Displacement: 318; Horsepower: 210; Car Origin: USA\" role=\"graphics-symbol\" aria-roledescription=\"point\" transform=\"translate(318,62.5)\" d=\"M2.7386127875258306,0A2.7386127875258306,2.7386127875258306,0,1,1,-2.7386127875258306,0A2.7386127875258306,2.7386127875258306,0,1,1,2.7386127875258306,0\" stroke=\"blue\" stroke-width=\"2\" opacity=\"0.7\"/><path aria-label=\"Displacement: 318; Horsepower: 150; Car Origin: USA\" role=\"graphics-symbol\" aria-roledescription=\"point\" transform=\"translate(318,187.5)\" d=\"M2.7386127875258306,0A2.7386127875258306,2.7386127875258306,0,1,1,-2.7386127875258306,0A2.7386127875258306,2.7386127875258306,0,1,1,2.7386127875258306,0\" stroke=\"blue\" stroke-width=\"2\" opacity=\"0.7\"/><path aria-label=\"Displacement: 318; Horsepower: 150; Car Origin: USA\" role=\"graphics-symbol\" aria-roledescription=\"point\" transform=\"translate(318,187.5)\" d=\"M2.7386127875258306,0A2.7386127875258306,2.7386127875258306,0,1,1,-2.7386127875258306,0A2.7386127875258306,2.7386127875258306,0,1,1,2.7386127875258306,0\" stroke=\"blue\" stroke-width=\"2\" opacity=\"0.7\"/><path aria-label=\"Displacement: 318; Horsepower: 150; Car Origin: USA\" role=\"graphics-symbol\" aria-roledescription=\"point\" transform=\"translate(318,187.5)\" d=\"M2.7386127875258306,0A2.7386127875258306,2.7386127875258306,0,1,1,-2.7386127875258306,0A2.7386127875258306,2.7386127875258306,0,1,1,2.7386127875258306,0\" stroke=\"blue\" stroke-width=\"2\" opacity=\"0.7\"/><path aria-label=\"Displacement: 318; Horsepower: 150; Car Origin: USA\" role=\"graphics-symbol\" aria-roledescription=\"point\" transform=\"translate(318,187.5)\" d=\"M2.7386127875258306,0A2.7386127875258306,2.7386127875258306,0,1,1,-2.7386127875258306,0A2.7386127875258306,2.7386127875258306,0,1,1,2.7386127875258306,0\" stroke=\"blue\" stroke-width=\"2\" opacity=\"0.7\"/><path aria-label=\"Displacement: 383; Horsepower: 170; Car Origin: USA\" role=\"graphics-symbol\" aria-roledescription=\"point\" transform=\"translate(383,145.83333333333331)\" d=\"M2.7386127875258306,0A2.7386127875258306,2.7386127875258306,0,1,1,-2.7386127875258306,0A2.7386127875258306,2.7386127875258306,0,1,1,2.7386127875258306,0\" stroke=\"blue\" stroke-width=\"2\" opacity=\"0.7\"/><path aria-label=\"Displacement: 225; Horsepower: 100; Car Origin: USA\" role=\"graphics-symbol\" aria-roledescription=\"point\" transform=\"translate(225,291.66666666666663)\" d=\"M2.7386127875258306,0A2.7386127875258306,2.7386127875258306,0,1,1,-2.7386127875258306,0A2.7386127875258306,2.7386127875258306,0,1,1,2.7386127875258306,0\" stroke=\"blue\" stroke-width=\"2\" opacity=\"0.7\"/><path aria-label=\"Displacement: 225; Horsepower: 110; Car Origin: USA\" role=\"graphics-symbol\" aria-roledescription=\"point\" transform=\"translate(225,270.83333333333337)\" d=\"M2.7386127875258306,0A2.7386127875258306,2.7386127875258306,0,1,1,-2.7386127875258306,0A2.7386127875258306,2.7386127875258306,0,1,1,2.7386127875258306,0\" stroke=\"blue\" stroke-width=\"2\" opacity=\"0.7\"/><path aria-label=\"Displacement: 225; Horsepower: 110; Car Origin: USA\" role=\"graphics-symbol\" aria-roledescription=\"point\" transform=\"translate(225,270.83333333333337)\" d=\"M2.7386127875258306,0A2.7386127875258306,2.7386127875258306,0,1,1,-2.7386127875258306,0A2.7386127875258306,2.7386127875258306,0,1,1,2.7386127875258306,0\" stroke=\"blue\" stroke-width=\"2\" opacity=\"0.7\"/><path aria-label=\"Displacement: 225; Horsepower: 90; Car Origin: USA\" role=\"graphics-symbol\" aria-roledescription=\"point\" transform=\"translate(225,312.5)\" d=\"M2.7386127875258306,0A2.7386127875258306,2.7386127875258306,0,1,1,-2.7386127875258306,0A2.7386127875258306,2.7386127875258306,0,1,1,2.7386127875258306,0\" stroke=\"blue\" stroke-width=\"2\" opacity=\"0.7\"/><path aria-label=\"Displacement: 146; Horsepower: 120; Car Origin: Japan\" role=\"graphics-symbol\" aria-roledescription=\"point\" transform=\"translate(146,250)\" d=\"M2.7386127875258306,0A2.7386127875258306,2.7386127875258306,0,1,1,-2.7386127875258306,0A2.7386127875258306,2.7386127875258306,0,1,1,2.7386127875258306,0\" stroke=\"red\" stroke-width=\"2\" opacity=\"0.7\"/><path aria-label=\"Displacement: 146; Horsepower: 97; Car Origin: Japan\" role=\"graphics-symbol\" aria-roledescription=\"point\" transform=\"translate(146,297.9166666666667)\" d=\"M2.7386127875258306,0A2.7386127875258306,2.7386127875258306,0,1,1,-2.7386127875258306,0A2.7386127875258306,2.7386127875258306,0,1,1,2.7386127875258306,0\" stroke=\"red\" stroke-width=\"2\" opacity=\"0.7\"/><path aria-label=\"Displacement: 168; Horsepower: 132; Car Origin: Japan\" role=\"graphics-symbol\" aria-roledescription=\"point\" transform=\"translate(168,224.99999999999997)\" d=\"M2.7386127875258306,0A2.7386127875258306,2.7386127875258306,0,1,1,-2.7386127875258306,0A2.7386127875258306,2.7386127875258306,0,1,1,2.7386127875258306,0\" stroke=\"red\" stroke-width=\"2\" opacity=\"0.7\"/><path aria-label=\"Displacement: 400; Horsepower: 190; Car Origin: USA\" role=\"graphics-symbol\" aria-roledescription=\"point\" transform=\"translate(400,104.16666666666669)\" d=\"M2.7386127875258306,0A2.7386127875258306,2.7386127875258306,0,1,1,-2.7386127875258306,0A2.7386127875258306,2.7386127875258306,0,1,1,2.7386127875258306,0\" stroke=\"blue\" stroke-width=\"2\" opacity=\"0.7\"/><path aria-label=\"Displacement: 440; Horsepower: 215; Car Origin: USA\" role=\"graphics-symbol\" aria-roledescription=\"point\" transform=\"translate(440,52.083333333333314)\" d=\"M2.7386127875258306,0A2.7386127875258306,2.7386127875258306,0,1,1,-2.7386127875258306,0A2.7386127875258306,2.7386127875258306,0,1,1,2.7386127875258306,0\" stroke=\"blue\" stroke-width=\"2\" opacity=\"0.7\"/><path aria-label=\"Displacement: 360; Horsepower: 150; Car Origin: USA\" role=\"graphics-symbol\" aria-roledescription=\"point\" transform=\"translate(360,187.5)\" d=\"M2.7386127875258306,0A2.7386127875258306,2.7386127875258306,0,1,1,-2.7386127875258306,0A2.7386127875258306,2.7386127875258306,0,1,1,2.7386127875258306,0\" stroke=\"blue\" stroke-width=\"2\" opacity=\"0.7\"/><path aria-label=\"Displacement: 225; Horsepower: 85; Car Origin: USA\" role=\"graphics-symbol\" aria-roledescription=\"point\" transform=\"translate(225,322.91666666666663)\" d=\"M2.7386127875258306,0A2.7386127875258306,2.7386127875258306,0,1,1,-2.7386127875258306,0A2.7386127875258306,2.7386127875258306,0,1,1,2.7386127875258306,0\" stroke=\"blue\" stroke-width=\"2\" opacity=\"0.7\"/><path aria-label=\"Displacement: 400; Horsepower: 190; Car Origin: USA\" role=\"graphics-symbol\" aria-roledescription=\"point\" transform=\"translate(400,104.16666666666669)\" d=\"M2.7386127875258306,0A2.7386127875258306,2.7386127875258306,0,1,1,-2.7386127875258306,0A2.7386127875258306,2.7386127875258306,0,1,1,2.7386127875258306,0\" stroke=\"blue\" stroke-width=\"2\" opacity=\"0.7\"/><path aria-label=\"Displacement: 307; Horsepower: 200; Car Origin: USA\" role=\"graphics-symbol\" aria-roledescription=\"point\" transform=\"translate(307,83.33333333333331)\" d=\"M2.7386127875258306,0A2.7386127875258306,2.7386127875258306,0,1,1,-2.7386127875258306,0A2.7386127875258306,2.7386127875258306,0,1,1,2.7386127875258306,0\" stroke=\"blue\" stroke-width=\"2\" opacity=\"0.7\"/><path aria-label=\"Displacement: 350; Horsepower: 145; Car Origin: USA\" role=\"graphics-symbol\" aria-roledescription=\"point\" transform=\"translate(350,197.91666666666669)\" d=\"M2.7386127875258306,0A2.7386127875258306,2.7386127875258306,0,1,1,-2.7386127875258306,0A2.7386127875258306,2.7386127875258306,0,1,1,2.7386127875258306,0\" stroke=\"blue\" stroke-width=\"2\" opacity=\"0.7\"/><path aria-label=\"Displacement: 250; Horsepower: 100; Car Origin: USA\" role=\"graphics-symbol\" aria-roledescription=\"point\" transform=\"translate(250,291.66666666666663)\" d=\"M2.7386127875258306,0A2.7386127875258306,2.7386127875258306,0,1,1,-2.7386127875258306,0A2.7386127875258306,2.7386127875258306,0,1,1,2.7386127875258306,0\" stroke=\"blue\" stroke-width=\"2\" opacity=\"0.7\"/><path aria-label=\"Displacement: 250; Horsepower: 100; Car Origin: USA\" role=\"graphics-symbol\" aria-roledescription=\"point\" transform=\"translate(250,291.66666666666663)\" d=\"M2.7386127875258306,0A2.7386127875258306,2.7386127875258306,0,1,1,-2.7386127875258306,0A2.7386127875258306,2.7386127875258306,0,1,1,2.7386127875258306,0\" stroke=\"blue\" stroke-width=\"2\" opacity=\"0.7\"/><path aria-label=\"Displacement: 250; Horsepower: 105; Car Origin: USA\" role=\"graphics-symbol\" aria-roledescription=\"point\" transform=\"translate(250,281.25)\" d=\"M2.7386127875258306,0A2.7386127875258306,2.7386127875258306,0,1,1,-2.7386127875258306,0A2.7386127875258306,2.7386127875258306,0,1,1,2.7386127875258306,0\" stroke=\"blue\" stroke-width=\"2\" opacity=\"0.7\"/><path aria-label=\"Displacement: 250; Horsepower: 105; Car Origin: USA\" role=\"graphics-symbol\" aria-roledescription=\"point\" transform=\"translate(250,281.25)\" d=\"M2.7386127875258306,0A2.7386127875258306,2.7386127875258306,0,1,1,-2.7386127875258306,0A2.7386127875258306,2.7386127875258306,0,1,1,2.7386127875258306,0\" stroke=\"blue\" stroke-width=\"2\" opacity=\"0.7\"/><path aria-label=\"Displacement: 262; Horsepower: 110; Car Origin: USA\" role=\"graphics-symbol\" aria-roledescription=\"point\" transform=\"translate(262,270.83333333333337)\" d=\"M2.7386127875258306,0A2.7386127875258306,2.7386127875258306,0,1,1,-2.7386127875258306,0A2.7386127875258306,2.7386127875258306,0,1,1,2.7386127875258306,0\" stroke=\"blue\" stroke-width=\"2\" opacity=\"0.7\"/><path aria-label=\"Displacement: 350; Horsepower: 145; Car Origin: USA\" role=\"graphics-symbol\" aria-roledescription=\"point\" transform=\"translate(350,197.91666666666669)\" d=\"M2.7386127875258306,0A2.7386127875258306,2.7386127875258306,0,1,1,-2.7386127875258306,0A2.7386127875258306,2.7386127875258306,0,1,1,2.7386127875258306,0\" stroke=\"blue\" stroke-width=\"2\" opacity=\"0.7\"/><path aria-label=\"Displacement: 350; Horsepower: 170; Car Origin: USA\" role=\"graphics-symbol\" aria-roledescription=\"point\" transform=\"translate(350,145.83333333333331)\" d=\"M2.7386127875258306,0A2.7386127875258306,2.7386127875258306,0,1,1,-2.7386127875258306,0A2.7386127875258306,2.7386127875258306,0,1,1,2.7386127875258306,0\" stroke=\"blue\" stroke-width=\"2\" opacity=\"0.7\"/><path aria-label=\"Displacement: 305; Horsepower: 145; Car Origin: USA\" role=\"graphics-symbol\" aria-roledescription=\"point\" transform=\"translate(305,197.91666666666669)\" d=\"M2.7386127875258306,0A2.7386127875258306,2.7386127875258306,0,1,1,-2.7386127875258306,0A2.7386127875258306,2.7386127875258306,0,1,1,2.7386127875258306,0\" stroke=\"blue\" stroke-width=\"2\" opacity=\"0.7\"/><path aria-label=\"Displacement: 400; Horsepower: 150; Car Origin: USA\" role=\"graphics-symbol\" aria-roledescription=\"point\" transform=\"translate(400,187.5)\" d=\"M2.7386127875258306,0A2.7386127875258306,2.7386127875258306,0,1,1,-2.7386127875258306,0A2.7386127875258306,2.7386127875258306,0,1,1,2.7386127875258306,0\" stroke=\"blue\" stroke-width=\"2\" opacity=\"0.7\"/><path aria-label=\"Displacement: 267; Horsepower: 125; Car Origin: USA\" role=\"graphics-symbol\" aria-roledescription=\"point\" transform=\"translate(267,239.58333333333331)\" d=\"M2.7386127875258306,0A2.7386127875258306,2.7386127875258306,0,1,1,-2.7386127875258306,0A2.7386127875258306,2.7386127875258306,0,1,1,2.7386127875258306,0\" stroke=\"blue\" stroke-width=\"2\" opacity=\"0.7\"/><path aria-label=\"Displacement: 350; Horsepower: 145; Car Origin: USA\" role=\"graphics-symbol\" aria-roledescription=\"point\" transform=\"translate(350,197.91666666666669)\" d=\"M2.7386127875258306,0A2.7386127875258306,2.7386127875258306,0,1,1,-2.7386127875258306,0A2.7386127875258306,2.7386127875258306,0,1,1,2.7386127875258306,0\" stroke=\"blue\" stroke-width=\"2\" opacity=\"0.7\"/><path aria-label=\"Displacement: 200; Horsepower: 95; Car Origin: USA\" role=\"graphics-symbol\" aria-roledescription=\"point\" transform=\"translate(200,302.08333333333337)\" d=\"M2.7386127875258306,0A2.7386127875258306,2.7386127875258306,0,1,1,-2.7386127875258306,0A2.7386127875258306,2.7386127875258306,0,1,1,2.7386127875258306,0\" stroke=\"blue\" stroke-width=\"2\" opacity=\"0.7\"/><path aria-label=\"Displacement: 454; Horsepower: 220; Car Origin: USA\" role=\"graphics-symbol\" aria-roledescription=\"point\" transform=\"translate(454,41.666666666666686)\" d=\"M2.7386127875258306,0A2.7386127875258306,2.7386127875258306,0,1,1,-2.7386127875258306,0A2.7386127875258306,2.7386127875258306,0,1,1,2.7386127875258306,0\" stroke=\"blue\" stroke-width=\"2\" opacity=\"0.7\"/><path aria-label=\"Displacement: 350; Horsepower: 165; Car Origin: USA\" role=\"graphics-symbol\" aria-roledescription=\"point\" transform=\"translate(350,156.25)\" d=\"M2.7386127875258306,0A2.7386127875258306,2.7386127875258306,0,1,1,-2.7386127875258306,0A2.7386127875258306,2.7386127875258306,0,1,1,2.7386127875258306,0\" stroke=\"blue\" stroke-width=\"2\" opacity=\"0.7\"/><path aria-label=\"Displacement: 350; Horsepower: 165; Car Origin: USA\" role=\"graphics-symbol\" aria-roledescription=\"point\" transform=\"translate(350,156.25)\" d=\"M2.7386127875258306,0A2.7386127875258306,2.7386127875258306,0,1,1,-2.7386127875258306,0A2.7386127875258306,2.7386127875258306,0,1,1,2.7386127875258306,0\" stroke=\"blue\" stroke-width=\"2\" opacity=\"0.7\"/><path aria-label=\"Displacement: 400; Horsepower: 150; Car Origin: USA\" role=\"graphics-symbol\" aria-roledescription=\"point\" transform=\"translate(400,187.5)\" d=\"M2.7386127875258306,0A2.7386127875258306,2.7386127875258306,0,1,1,-2.7386127875258306,0A2.7386127875258306,2.7386127875258306,0,1,1,2.7386127875258306,0\" stroke=\"blue\" stroke-width=\"2\" opacity=\"0.7\"/><path aria-label=\"Displacement: 250; Horsepower: 110; Car Origin: USA\" role=\"graphics-symbol\" aria-roledescription=\"point\" transform=\"translate(250,270.83333333333337)\" d=\"M2.7386127875258306,0A2.7386127875258306,2.7386127875258306,0,1,1,-2.7386127875258306,0A2.7386127875258306,2.7386127875258306,0,1,1,2.7386127875258306,0\" stroke=\"blue\" stroke-width=\"2\" opacity=\"0.7\"/><path aria-label=\"Displacement: 173; Horsepower: 115; Car Origin: USA\" role=\"graphics-symbol\" aria-roledescription=\"point\" transform=\"translate(173,260.41666666666663)\" d=\"M2.7386127875258306,0A2.7386127875258306,2.7386127875258306,0,1,1,-2.7386127875258306,0A2.7386127875258306,2.7386127875258306,0,1,1,2.7386127875258306,0\" stroke=\"blue\" stroke-width=\"2\" opacity=\"0.7\"/><path aria-label=\"Displacement: 173; Horsepower: 110; Car Origin: USA\" role=\"graphics-symbol\" aria-roledescription=\"point\" transform=\"translate(173,270.83333333333337)\" d=\"M2.7386127875258306,0A2.7386127875258306,2.7386127875258306,0,1,1,-2.7386127875258306,0A2.7386127875258306,2.7386127875258306,0,1,1,2.7386127875258306,0\" stroke=\"blue\" stroke-width=\"2\" opacity=\"0.7\"/><path aria-label=\"Displacement: 250; Horsepower: 100; Car Origin: USA\" role=\"graphics-symbol\" aria-roledescription=\"point\" transform=\"translate(250,291.66666666666663)\" d=\"M2.7386127875258306,0A2.7386127875258306,2.7386127875258306,0,1,1,-2.7386127875258306,0A2.7386127875258306,2.7386127875258306,0,1,1,2.7386127875258306,0\" stroke=\"blue\" stroke-width=\"2\" opacity=\"0.7\"/><path aria-label=\"Displacement: 305; Horsepower: 140; Car Origin: USA\" role=\"graphics-symbol\" aria-roledescription=\"point\" transform=\"translate(305,208.33333333333331)\" d=\"M2.7386127875258306,0A2.7386127875258306,2.7386127875258306,0,1,1,-2.7386127875258306,0A2.7386127875258306,2.7386127875258306,0,1,1,2.7386127875258306,0\" stroke=\"blue\" stroke-width=\"2\" opacity=\"0.7\"/><path aria-label=\"Displacement: 307; Horsepower: 130; Car Origin: USA\" role=\"graphics-symbol\" aria-roledescription=\"point\" transform=\"translate(307,229.16666666666669)\" d=\"M2.7386127875258306,0A2.7386127875258306,2.7386127875258306,0,1,1,-2.7386127875258306,0A2.7386127875258306,2.7386127875258306,0,1,1,2.7386127875258306,0\" stroke=\"blue\" stroke-width=\"2\" opacity=\"0.7\"/><path aria-label=\"Displacement: 250; Horsepower: 100; Car Origin: USA\" role=\"graphics-symbol\" aria-roledescription=\"point\" transform=\"translate(250,291.66666666666663)\" d=\"M2.7386127875258306,0A2.7386127875258306,2.7386127875258306,0,1,1,-2.7386127875258306,0A2.7386127875258306,2.7386127875258306,0,1,1,2.7386127875258306,0\" stroke=\"blue\" stroke-width=\"2\" opacity=\"0.7\"/><path aria-label=\"Displacement: 350; Horsepower: 165; Car Origin: USA\" role=\"graphics-symbol\" aria-roledescription=\"point\" transform=\"translate(350,156.25)\" d=\"M2.7386127875258306,0A2.7386127875258306,2.7386127875258306,0,1,1,-2.7386127875258306,0A2.7386127875258306,2.7386127875258306,0,1,1,2.7386127875258306,0\" stroke=\"blue\" stroke-width=\"2\" opacity=\"0.7\"/><path aria-label=\"Displacement: 307; Horsepower: 130; Car Origin: USA\" role=\"graphics-symbol\" aria-roledescription=\"point\" transform=\"translate(307,229.16666666666669)\" d=\"M2.7386127875258306,0A2.7386127875258306,2.7386127875258306,0,1,1,-2.7386127875258306,0A2.7386127875258306,2.7386127875258306,0,1,1,2.7386127875258306,0\" stroke=\"blue\" stroke-width=\"2\" opacity=\"0.7\"/><path aria-label=\"Displacement: 400; Horsepower: 150; Car Origin: USA\" role=\"graphics-symbol\" aria-roledescription=\"point\" transform=\"translate(400,187.5)\" d=\"M2.7386127875258306,0A2.7386127875258306,2.7386127875258306,0,1,1,-2.7386127875258306,0A2.7386127875258306,2.7386127875258306,0,1,1,2.7386127875258306,0\" stroke=\"blue\" stroke-width=\"2\" opacity=\"0.7\"/><path aria-label=\"Displacement: 305; Horsepower: 145; Car Origin: USA\" role=\"graphics-symbol\" aria-roledescription=\"point\" transform=\"translate(305,197.91666666666669)\" d=\"M2.7386127875258306,0A2.7386127875258306,2.7386127875258306,0,1,1,-2.7386127875258306,0A2.7386127875258306,2.7386127875258306,0,1,1,2.7386127875258306,0\" stroke=\"blue\" stroke-width=\"2\" opacity=\"0.7\"/><path aria-label=\"Displacement: 305; Horsepower: 130; Car Origin: USA\" role=\"graphics-symbol\" aria-roledescription=\"point\" transform=\"translate(305,229.16666666666669)\" d=\"M2.7386127875258306,0A2.7386127875258306,2.7386127875258306,0,1,1,-2.7386127875258306,0A2.7386127875258306,2.7386127875258306,0,1,1,2.7386127875258306,0\" stroke=\"blue\" stroke-width=\"2\" opacity=\"0.7\"/><path aria-label=\"Displacement: 350; Horsepower: 145; Car Origin: USA\" role=\"graphics-symbol\" aria-roledescription=\"point\" transform=\"translate(350,197.91666666666669)\" d=\"M2.7386127875258306,0A2.7386127875258306,2.7386127875258306,0,1,1,-2.7386127875258306,0A2.7386127875258306,2.7386127875258306,0,1,1,2.7386127875258306,0\" stroke=\"blue\" stroke-width=\"2\" opacity=\"0.7\"/><path aria-label=\"Displacement: 250; Horsepower: 105; Car Origin: USA\" role=\"graphics-symbol\" aria-roledescription=\"point\" transform=\"translate(250,281.25)\" d=\"M2.7386127875258306,0A2.7386127875258306,2.7386127875258306,0,1,1,-2.7386127875258306,0A2.7386127875258306,2.7386127875258306,0,1,1,2.7386127875258306,0\" stroke=\"blue\" stroke-width=\"2\" opacity=\"0.7\"/><path aria-label=\"Displacement: 350; Horsepower: 180; Car Origin: USA\" role=\"graphics-symbol\" aria-roledescription=\"point\" transform=\"translate(350,125)\" d=\"M2.7386127875258306,0A2.7386127875258306,2.7386127875258306,0,1,1,-2.7386127875258306,0A2.7386127875258306,2.7386127875258306,0,1,1,2.7386127875258306,0\" stroke=\"blue\" stroke-width=\"2\" opacity=\"0.7\"/><path aria-label=\"Displacement: 350; Horsepower: 125; Car Origin: USA\" role=\"graphics-symbol\" aria-roledescription=\"point\" transform=\"translate(350,239.58333333333331)\" d=\"M2.7386127875258306,0A2.7386127875258306,2.7386127875258306,0,1,1,-2.7386127875258306,0A2.7386127875258306,2.7386127875258306,0,1,1,2.7386127875258306,0\" stroke=\"blue\" stroke-width=\"2\" opacity=\"0.7\"/><path aria-label=\"Displacement: 350; Horsepower: 165; Car Origin: USA\" role=\"graphics-symbol\" aria-roledescription=\"point\" transform=\"translate(350,156.25)\" d=\"M2.7386127875258306,0A2.7386127875258306,2.7386127875258306,0,1,1,-2.7386127875258306,0A2.7386127875258306,2.7386127875258306,0,1,1,2.7386127875258306,0\" stroke=\"blue\" stroke-width=\"2\" opacity=\"0.7\"/><path aria-label=\"Displacement: 231; Horsepower: 105; Car Origin: USA\" role=\"graphics-symbol\" aria-roledescription=\"point\" transform=\"translate(231,281.25)\" d=\"M2.7386127875258306,0A2.7386127875258306,2.7386127875258306,0,1,1,-2.7386127875258306,0A2.7386127875258306,2.7386127875258306,0,1,1,2.7386127875258306,0\" stroke=\"blue\" stroke-width=\"2\" opacity=\"0.7\"/><path aria-label=\"Displacement: 231; Horsepower: 110; Car Origin: USA\" role=\"graphics-symbol\" aria-roledescription=\"point\" transform=\"translate(231,270.83333333333337)\" d=\"M2.7386127875258306,0A2.7386127875258306,2.7386127875258306,0,1,1,-2.7386127875258306,0A2.7386127875258306,2.7386127875258306,0,1,1,2.7386127875258306,0\" stroke=\"blue\" stroke-width=\"2\" opacity=\"0.7\"/><path aria-label=\"Displacement: 231; Horsepower: 165; Car Origin: USA\" role=\"graphics-symbol\" aria-roledescription=\"point\" transform=\"translate(231,156.25)\" d=\"M2.7386127875258306,0A2.7386127875258306,2.7386127875258306,0,1,1,-2.7386127875258306,0A2.7386127875258306,2.7386127875258306,0,1,1,2.7386127875258306,0\" stroke=\"blue\" stroke-width=\"2\" opacity=\"0.7\"/><path aria-label=\"Displacement: 350; Horsepower: 155; Car Origin: USA\" role=\"graphics-symbol\" aria-roledescription=\"point\" transform=\"translate(350,177.08333333333331)\" d=\"M2.7386127875258306,0A2.7386127875258306,2.7386127875258306,0,1,1,-2.7386127875258306,0A2.7386127875258306,2.7386127875258306,0,1,1,2.7386127875258306,0\" stroke=\"blue\" stroke-width=\"2\" opacity=\"0.7\"/><path aria-label=\"Displacement: 455; Horsepower: 225; Car Origin: USA\" role=\"graphics-symbol\" aria-roledescription=\"point\" transform=\"translate(455,31.25)\" d=\"M2.7386127875258306,0A2.7386127875258306,2.7386127875258306,0,1,1,-2.7386127875258306,0A2.7386127875258306,2.7386127875258306,0,1,1,2.7386127875258306,0\" stroke=\"blue\" stroke-width=\"2\" opacity=\"0.7\"/><path aria-label=\"Displacement: 350; Horsepower: 155; Car Origin: USA\" role=\"graphics-symbol\" aria-roledescription=\"point\" transform=\"translate(350,177.08333333333331)\" d=\"M2.7386127875258306,0A2.7386127875258306,2.7386127875258306,0,1,1,-2.7386127875258306,0A2.7386127875258306,2.7386127875258306,0,1,1,2.7386127875258306,0\" stroke=\"blue\" stroke-width=\"2\" opacity=\"0.7\"/><path aria-label=\"Displacement: 455; Horsepower: 225; Car Origin: USA\" role=\"graphics-symbol\" aria-roledescription=\"point\" transform=\"translate(455,31.25)\" d=\"M2.7386127875258306,0A2.7386127875258306,2.7386127875258306,0,1,1,-2.7386127875258306,0A2.7386127875258306,2.7386127875258306,0,1,1,2.7386127875258306,0\" stroke=\"blue\" stroke-width=\"2\" opacity=\"0.7\"/><path aria-label=\"Displacement: 231; Horsepower: 105; Car Origin: USA\" role=\"graphics-symbol\" aria-roledescription=\"point\" transform=\"translate(231,281.25)\" d=\"M2.7386127875258306,0A2.7386127875258306,2.7386127875258306,0,1,1,-2.7386127875258306,0A2.7386127875258306,2.7386127875258306,0,1,1,2.7386127875258306,0\" stroke=\"blue\" stroke-width=\"2\" opacity=\"0.7\"/><path aria-label=\"Displacement: 350; Horsepower: 150; Car Origin: USA\" role=\"graphics-symbol\" aria-roledescription=\"point\" transform=\"translate(350,187.5)\" d=\"M2.7386127875258306,0A2.7386127875258306,2.7386127875258306,0,1,1,-2.7386127875258306,0A2.7386127875258306,2.7386127875258306,0,1,1,2.7386127875258306,0\" stroke=\"blue\" stroke-width=\"2\" opacity=\"0.7\"/><path aria-label=\"Displacement: 181; Horsepower: 110; Car Origin: USA\" role=\"graphics-symbol\" aria-roledescription=\"point\" transform=\"translate(181,270.83333333333337)\" d=\"M2.7386127875258306,0A2.7386127875258306,2.7386127875258306,0,1,1,-2.7386127875258306,0A2.7386127875258306,2.7386127875258306,0,1,1,2.7386127875258306,0\" stroke=\"blue\" stroke-width=\"2\" opacity=\"0.7\"/><path aria-label=\"Displacement: 350; Horsepower: 175; Car Origin: USA\" role=\"graphics-symbol\" aria-roledescription=\"point\" transform=\"translate(350,135.41666666666669)\" d=\"M2.7386127875258306,0A2.7386127875258306,2.7386127875258306,0,1,1,-2.7386127875258306,0A2.7386127875258306,2.7386127875258306,0,1,1,2.7386127875258306,0\" stroke=\"blue\" stroke-width=\"2\" opacity=\"0.7\"/><path aria-label=\"Displacement: 231; Horsepower: 110; Car Origin: USA\" role=\"graphics-symbol\" aria-roledescription=\"point\" transform=\"translate(231,270.83333333333337)\" d=\"M2.7386127875258306,0A2.7386127875258306,2.7386127875258306,0,1,1,-2.7386127875258306,0A2.7386127875258306,2.7386127875258306,0,1,1,2.7386127875258306,0\" stroke=\"blue\" stroke-width=\"2\" opacity=\"0.7\"/><path aria-label=\"Displacement: 231; Horsepower: 110; Car Origin: USA\" role=\"graphics-symbol\" aria-roledescription=\"point\" transform=\"translate(231,270.83333333333337)\" d=\"M2.7386127875258306,0A2.7386127875258306,2.7386127875258306,0,1,1,-2.7386127875258306,0A2.7386127875258306,2.7386127875258306,0,1,1,2.7386127875258306,0\" stroke=\"blue\" stroke-width=\"2\" opacity=\"0.7\"/><path aria-label=\"Displacement: 121; Horsepower: 67; Car Origin: Europe\" role=\"graphics-symbol\" aria-roledescription=\"point\" transform=\"translate(121,360.4166666666667)\" d=\"M2.7386127875258306,0A2.7386127875258306,2.7386127875258306,0,1,1,-2.7386127875258306,0A2.7386127875258306,2.7386127875258306,0,1,1,2.7386127875258306,0\" stroke=\"green\" stroke-width=\"2\" opacity=\"0.7\"/><path aria-label=\"Displacement: 131; Horsepower: 103; Car Origin: Europe\" role=\"graphics-symbol\" aria-roledescription=\"point\" transform=\"translate(131,285.41666666666663)\" d=\"M2.7386127875258306,0A2.7386127875258306,2.7386127875258306,0,1,1,-2.7386127875258306,0A2.7386127875258306,2.7386127875258306,0,1,1,2.7386127875258306,0\" stroke=\"green\" stroke-width=\"2\" opacity=\"0.7\"/><path aria-label=\"Displacement: 360; Horsepower: 175; Car Origin: USA\" role=\"graphics-symbol\" aria-roledescription=\"point\" transform=\"translate(360,135.41666666666669)\" d=\"M2.7386127875258306,0A2.7386127875258306,2.7386127875258306,0,1,1,-2.7386127875258306,0A2.7386127875258306,2.7386127875258306,0,1,1,2.7386127875258306,0\" stroke=\"blue\" stroke-width=\"2\" opacity=\"0.7\"/><path aria-label=\"Displacement: 304; Horsepower: 150; Car Origin: USA\" role=\"graphics-symbol\" aria-roledescription=\"point\" transform=\"translate(304,187.5)\" d=\"M2.7386127875258306,0A2.7386127875258306,2.7386127875258306,0,1,1,-2.7386127875258306,0A2.7386127875258306,2.7386127875258306,0,1,1,2.7386127875258306,0\" stroke=\"blue\" stroke-width=\"2\" opacity=\"0.7\"/><path aria-label=\"Displacement: 258; Horsepower: 95; Car Origin: USA\" role=\"graphics-symbol\" aria-roledescription=\"point\" transform=\"translate(258,302.08333333333337)\" d=\"M2.7386127875258306,0A2.7386127875258306,2.7386127875258306,0,1,1,-2.7386127875258306,0A2.7386127875258306,2.7386127875258306,0,1,1,2.7386127875258306,0\" stroke=\"blue\" stroke-width=\"2\" opacity=\"0.7\"/><path aria-label=\"Displacement: 232; Horsepower: 90; Car Origin: USA\" role=\"graphics-symbol\" aria-roledescription=\"point\" transform=\"translate(232,312.5)\" d=\"M2.7386127875258306,0A2.7386127875258306,2.7386127875258306,0,1,1,-2.7386127875258306,0A2.7386127875258306,2.7386127875258306,0,1,1,2.7386127875258306,0\" stroke=\"blue\" stroke-width=\"2\" opacity=\"0.7\"/><path aria-label=\"Displacement: 304; Horsepower: 150; Car Origin: USA\" role=\"graphics-symbol\" aria-roledescription=\"point\" transform=\"translate(304,187.5)\" d=\"M2.7386127875258306,0A2.7386127875258306,2.7386127875258306,0,1,1,-2.7386127875258306,0A2.7386127875258306,2.7386127875258306,0,1,1,2.7386127875258306,0\" stroke=\"blue\" stroke-width=\"2\" opacity=\"0.7\"/><path aria-label=\"Displacement: 304; Horsepower: 150; Car Origin: USA\" role=\"graphics-symbol\" aria-roledescription=\"point\" transform=\"translate(304,187.5)\" d=\"M2.7386127875258306,0A2.7386127875258306,2.7386127875258306,0,1,1,-2.7386127875258306,0A2.7386127875258306,2.7386127875258306,0,1,1,2.7386127875258306,0\" stroke=\"blue\" stroke-width=\"2\" opacity=\"0.7\"/><path aria-label=\"Displacement: 232; Horsepower: 100; Car Origin: USA\" role=\"graphics-symbol\" aria-roledescription=\"point\" transform=\"translate(232,291.66666666666663)\" d=\"M2.7386127875258306,0A2.7386127875258306,2.7386127875258306,0,1,1,-2.7386127875258306,0A2.7386127875258306,2.7386127875258306,0,1,1,2.7386127875258306,0\" stroke=\"blue\" stroke-width=\"2\" opacity=\"0.7\"/><path aria-label=\"Displacement: 304; Horsepower: 150; Car Origin: USA\" role=\"graphics-symbol\" aria-roledescription=\"point\" transform=\"translate(304,187.5)\" d=\"M2.7386127875258306,0A2.7386127875258306,2.7386127875258306,0,1,1,-2.7386127875258306,0A2.7386127875258306,2.7386127875258306,0,1,1,2.7386127875258306,0\" stroke=\"blue\" stroke-width=\"2\" opacity=\"0.7\"/><path aria-label=\"Displacement: 258; Horsepower: 110; Car Origin: USA\" role=\"graphics-symbol\" aria-roledescription=\"point\" transform=\"translate(258,270.83333333333337)\" d=\"M2.7386127875258306,0A2.7386127875258306,2.7386127875258306,0,1,1,-2.7386127875258306,0A2.7386127875258306,2.7386127875258306,0,1,1,2.7386127875258306,0\" stroke=\"blue\" stroke-width=\"2\" opacity=\"0.7\"/><path aria-label=\"Displacement: 258; Horsepower: 110; Car Origin: USA\" role=\"graphics-symbol\" aria-roledescription=\"point\" transform=\"translate(258,270.83333333333337)\" d=\"M2.7386127875258306,0A2.7386127875258306,2.7386127875258306,0,1,1,-2.7386127875258306,0A2.7386127875258306,2.7386127875258306,0,1,1,2.7386127875258306,0\" stroke=\"blue\" stroke-width=\"2\" opacity=\"0.7\"/><path aria-label=\"Displacement: 304; Horsepower: 120; Car Origin: USA\" role=\"graphics-symbol\" aria-roledescription=\"point\" transform=\"translate(304,250)\" d=\"M2.7386127875258306,0A2.7386127875258306,2.7386127875258306,0,1,1,-2.7386127875258306,0A2.7386127875258306,2.7386127875258306,0,1,1,2.7386127875258306,0\" stroke=\"blue\" stroke-width=\"2\" opacity=\"0.7\"/><path aria-label=\"Displacement: 258; Horsepower: 110; Car Origin: USA\" role=\"graphics-symbol\" aria-roledescription=\"point\" transform=\"translate(258,270.83333333333337)\" d=\"M2.7386127875258306,0A2.7386127875258306,2.7386127875258306,0,1,1,-2.7386127875258306,0A2.7386127875258306,2.7386127875258306,0,1,1,2.7386127875258306,0\" stroke=\"blue\" stroke-width=\"2\" opacity=\"0.7\"/><path aria-label=\"Displacement: 199; Horsepower: 97; Car Origin: USA\" role=\"graphics-symbol\" aria-roledescription=\"point\" transform=\"translate(199,297.9166666666667)\" d=\"M2.7386127875258306,0A2.7386127875258306,2.7386127875258306,0,1,1,-2.7386127875258306,0A2.7386127875258306,2.7386127875258306,0,1,1,2.7386127875258306,0\" stroke=\"blue\" stroke-width=\"2\" opacity=\"0.7\"/><path aria-label=\"Displacement: 232; Horsepower: 100; Car Origin: USA\" role=\"graphics-symbol\" aria-roledescription=\"point\" transform=\"translate(232,291.66666666666663)\" d=\"M2.7386127875258306,0A2.7386127875258306,2.7386127875258306,0,1,1,-2.7386127875258306,0A2.7386127875258306,2.7386127875258306,0,1,1,2.7386127875258306,0\" stroke=\"blue\" stroke-width=\"2\" opacity=\"0.7\"/><path aria-label=\"Displacement: 232; Horsepower: 100; Car Origin: USA\" role=\"graphics-symbol\" aria-roledescription=\"point\" transform=\"translate(232,291.66666666666663)\" d=\"M2.7386127875258306,0A2.7386127875258306,2.7386127875258306,0,1,1,-2.7386127875258306,0A2.7386127875258306,2.7386127875258306,0,1,1,2.7386127875258306,0\" stroke=\"blue\" stroke-width=\"2\" opacity=\"0.7\"/><path aria-label=\"Displacement: 232; Horsepower: 90; Car Origin: USA\" role=\"graphics-symbol\" aria-roledescription=\"point\" transform=\"translate(232,312.5)\" d=\"M2.7386127875258306,0A2.7386127875258306,2.7386127875258306,0,1,1,-2.7386127875258306,0A2.7386127875258306,2.7386127875258306,0,1,1,2.7386127875258306,0\" stroke=\"blue\" stroke-width=\"2\" opacity=\"0.7\"/><path aria-label=\"Displacement: 199; Horsepower: 90; Car Origin: USA\" role=\"graphics-symbol\" aria-roledescription=\"point\" transform=\"translate(199,312.5)\" d=\"M2.7386127875258306,0A2.7386127875258306,2.7386127875258306,0,1,1,-2.7386127875258306,0A2.7386127875258306,2.7386127875258306,0,1,1,2.7386127875258306,0\" stroke=\"blue\" stroke-width=\"2\" opacity=\"0.7\"/><path aria-label=\"Displacement: 232; Horsepower: 100; Car Origin: USA\" role=\"graphics-symbol\" aria-roledescription=\"point\" transform=\"translate(232,291.66666666666663)\" d=\"M2.7386127875258306,0A2.7386127875258306,2.7386127875258306,0,1,1,-2.7386127875258306,0A2.7386127875258306,2.7386127875258306,0,1,1,2.7386127875258306,0\" stroke=\"blue\" stroke-width=\"2\" opacity=\"0.7\"/><path aria-label=\"Displacement: 232; Horsepower: 100; Car Origin: USA\" role=\"graphics-symbol\" aria-roledescription=\"point\" transform=\"translate(232,291.66666666666663)\" d=\"M2.7386127875258306,0A2.7386127875258306,2.7386127875258306,0,1,1,-2.7386127875258306,0A2.7386127875258306,2.7386127875258306,0,1,1,2.7386127875258306,0\" stroke=\"blue\" stroke-width=\"2\" opacity=\"0.7\"/><path aria-label=\"Displacement: 232; Horsepower: 100; Car Origin: USA\" role=\"graphics-symbol\" aria-roledescription=\"point\" transform=\"translate(232,291.66666666666663)\" d=\"M2.7386127875258306,0A2.7386127875258306,2.7386127875258306,0,1,1,-2.7386127875258306,0A2.7386127875258306,2.7386127875258306,0,1,1,2.7386127875258306,0\" stroke=\"blue\" stroke-width=\"2\" opacity=\"0.7\"/><path aria-label=\"Displacement: 232; Horsepower: 90; Car Origin: USA\" role=\"graphics-symbol\" aria-roledescription=\"point\" transform=\"translate(232,312.5)\" d=\"M2.7386127875258306,0A2.7386127875258306,2.7386127875258306,0,1,1,-2.7386127875258306,0A2.7386127875258306,2.7386127875258306,0,1,1,2.7386127875258306,0\" stroke=\"blue\" stroke-width=\"2\" opacity=\"0.7\"/><path aria-label=\"Displacement: 258; Horsepower: 120; Car Origin: USA\" role=\"graphics-symbol\" aria-roledescription=\"point\" transform=\"translate(258,250)\" d=\"M2.7386127875258306,0A2.7386127875258306,2.7386127875258306,0,1,1,-2.7386127875258306,0A2.7386127875258306,2.7386127875258306,0,1,1,2.7386127875258306,0\" stroke=\"blue\" stroke-width=\"2\" opacity=\"0.7\"/><path aria-label=\"Displacement: 232; Horsepower: 90; Car Origin: USA\" role=\"graphics-symbol\" aria-roledescription=\"point\" transform=\"translate(232,312.5)\" d=\"M2.7386127875258306,0A2.7386127875258306,2.7386127875258306,0,1,1,-2.7386127875258306,0A2.7386127875258306,2.7386127875258306,0,1,1,2.7386127875258306,0\" stroke=\"blue\" stroke-width=\"2\" opacity=\"0.7\"/><path aria-label=\"Displacement: 304; Horsepower: 150; Car Origin: USA\" role=\"graphics-symbol\" aria-roledescription=\"point\" transform=\"translate(304,187.5)\" d=\"M2.7386127875258306,0A2.7386127875258306,2.7386127875258306,0,1,1,-2.7386127875258306,0A2.7386127875258306,2.7386127875258306,0,1,1,2.7386127875258306,0\" stroke=\"blue\" stroke-width=\"2\" opacity=\"0.7\"/><path aria-label=\"Displacement: 390; Horsepower: 190; Car Origin: USA\" role=\"graphics-symbol\" aria-roledescription=\"point\" transform=\"translate(390,104.16666666666669)\" d=\"M2.7386127875258306,0A2.7386127875258306,2.7386127875258306,0,1,1,-2.7386127875258306,0A2.7386127875258306,2.7386127875258306,0,1,1,2.7386127875258306,0\" stroke=\"blue\" stroke-width=\"2\" opacity=\"0.7\"/><path aria-label=\"Displacement: 360; Horsepower: 175; Car Origin: USA\" role=\"graphics-symbol\" aria-roledescription=\"point\" transform=\"translate(360,135.41666666666669)\" d=\"M2.7386127875258306,0A2.7386127875258306,2.7386127875258306,0,1,1,-2.7386127875258306,0A2.7386127875258306,2.7386127875258306,0,1,1,2.7386127875258306,0\" stroke=\"blue\" stroke-width=\"2\" opacity=\"0.7\"/></g><g class=\"mark-group role-legend\" role=\"graphics-symbol\" aria-roledescription=\"legend\" aria-label=\"Symbol legend titled 'Car Origin' for stroke color with 3 values: Europe, Japan, USA\"><g transform=\"translate(518,0)\"><path class=\"background\" aria-hidden=\"true\" d=\"M0,0h88v61h-88Z\" pointer-events=\"none\"/><g><g class=\"mark-group role-legend-entry\"><g transform=\"translate(0,16)\"><path class=\"background\" aria-hidden=\"true\" d=\"M0,0h0v0h0Z\" pointer-events=\"none\"/><g><g class=\"mark-group role-scope\" role=\"graphics-object\" aria-roledescription=\"group mark container\"><g transform=\"translate(0,0)\"><path class=\"background\" aria-hidden=\"true\" d=\"M0,0h64v12.5h-64Z\" pointer-events=\"none\" opacity=\"1\"/><g><g class=\"mark-symbol role-legend-symbol\" pointer-events=\"none\"><path transform=\"translate(6,6)\" d=\"M5,0A5,5,0,1,1,-5,0A5,5,0,1,1,5,0\" stroke=\"green\" stroke-width=\"1.5\" opacity=\"0.7\"/></g><g class=\"mark-text role-legend-label\" pointer-events=\"none\"><text text-anchor=\"start\" transform=\"translate(16,9)\" font-family=\"sans-serif\" font-size=\"10px\" fill=\"#000\" opacity=\"1\">Europe</text></g></g><path class=\"foreground\" aria-hidden=\"true\" d=\"\" pointer-events=\"none\" display=\"none\"/></g><g transform=\"translate(0,16)\"><path class=\"background\" aria-hidden=\"true\" d=\"M0,0h64v12.5h-64Z\" pointer-events=\"none\" opacity=\"1\"/><g><g class=\"mark-symbol role-legend-symbol\" pointer-events=\"none\"><path transform=\"translate(6,6)\" d=\"M5,0A5,5,0,1,1,-5,0A5,5,0,1,1,5,0\" stroke=\"red\" stroke-width=\"1.5\" opacity=\"0.7\"/></g><g class=\"mark-text role-legend-label\" pointer-events=\"none\"><text text-anchor=\"start\" transform=\"translate(16,9)\" font-family=\"sans-serif\" font-size=\"10px\" fill=\"#000\" opacity=\"1\">Japan</text></g></g><path class=\"foreground\" aria-hidden=\"true\" d=\"\" pointer-events=\"none\" display=\"none\"/></g><g transform=\"translate(0,32)\"><path class=\"background\" aria-hidden=\"true\" d=\"M0,0h64v12.5h-64Z\" pointer-events=\"none\" opacity=\"1\"/><g><g class=\"mark-symbol role-legend-symbol\" pointer-events=\"none\"><path transform=\"translate(6,6)\" d=\"M5,0A5,5,0,1,1,-5,0A5,5,0,1,1,5,0\" stroke=\"blue\" stroke-width=\"1.5\" opacity=\"0.7\"/></g><g class=\"mark-text role-legend-label\" pointer-events=\"none\"><text text-anchor=\"start\" transform=\"translate(16,9)\" font-family=\"sans-serif\" font-size=\"10px\" fill=\"#000\" opacity=\"1\">USA</text></g></g><path class=\"foreground\" aria-hidden=\"true\" d=\"\" pointer-events=\"none\" display=\"none\"/></g></g></g><path class=\"foreground\" aria-hidden=\"true\" d=\"\" pointer-events=\"none\" display=\"none\"/></g></g><g class=\"mark-text role-legend-title\" pointer-events=\"none\"><text text-anchor=\"start\" transform=\"translate(0,9)\" font-family=\"sans-serif\" font-size=\"11px\" font-weight=\"bold\" fill=\"#000\" opacity=\"1\">Car Origin</text></g></g><path class=\"foreground\" aria-hidden=\"true\" d=\"\" pointer-events=\"none\" display=\"none\"/></g></g><g class=\"mark-group role-title\"><g transform=\"translate(250,-22)\"><path class=\"background\" aria-hidden=\"true\" d=\"M0,0h0v0h0Z\" pointer-events=\"none\"/><g><g class=\"mark-text role-title-text\" role=\"graphics-symbol\" aria-roledescription=\"title\" aria-label=\"Title text 'Displacement vs Horsepower'\" pointer-events=\"none\"><text text-anchor=\"middle\" transform=\"translate(0,10)\" font-family=\"sans-serif\" font-size=\"13px\" font-weight=\"bold\" fill=\"#000\" opacity=\"1\">Displacement vs Horsepower</text></g></g><path class=\"foreground\" aria-hidden=\"true\" d=\"\" pointer-events=\"none\" display=\"none\"/></g></g></g><path class=\"foreground\" aria-hidden=\"true\" d=\"\" display=\"none\"/></g></g></g></svg>"
      ]
     },
     "execution_count": 5,
     "metadata": {},
     "output_type": "execute_result"
    }
   ],
   "source": [
    "utils.vega.svg((vl) => vl.markPoint()\n",
    "  .data(cars)\n",
    "  .title('Displacement vs Horsepower')\n",
    "  .width(500)\n",
    "  .height(500)\n",
    "  .transform(\n",
    "    vl.filter('datum.Cylinders > 4')\n",
    "  )\n",
    "  .encode(\n",
    "    //-- Qualitiative field - a number\n",
    "    //-- that can have the position determined relative to another and charted\n",
    "    vl.x().fieldQ('Displacement'),\n",
    "    vl.y().fieldQ('Horsepower'),\n",
    "    vl.color().fieldN('Origin').title('Car Origin').scale({ range: ['green', 'red', 'blue'] })\n",
    "  )\n",
    ")"
   ]
  },
  {
   "cell_type": "markdown",
   "id": "aed16167-f27b-4edb-9789-20130083a8f2",
   "metadata": {},
   "source": [
    "![Screenshot of chart](../img/CarsDisplacementByHorsepower.png)"
   ]
  },
  {
   "cell_type": "markdown",
   "id": "eb84b7b1-a2ac-4b2e-a5dc-7288245a7fed",
   "metadata": {},
   "source": [
    "## Data Driven Maps\n",
    "\n",
    "![Map example](../img/choropleth_workingFull.svg)"
   ]
  },
  {
   "cell_type": "markdown",
   "id": "37fb3cd9-b8f6-45c4-9dab-a92d3c57a64d",
   "metadata": {},
   "source": [
    "## Interactive Charts"
   ]
  },
  {
   "cell_type": "markdown",
   "id": "3f5ef11f-8b38-439d-8c29-59a8a32d6aa8",
   "metadata": {},
   "source": [
    "![Screenshot of Vega-Lite with Sliders](../img/vegaLiteSliders.png)"
   ]
  },
  {
   "cell_type": "markdown",
   "id": "36a0a1dd-7a1f-4db1-9248-e3f76029ec4e",
   "metadata": {},
   "source": [
    "## Rendering Maps\n",
    "\n",
    "You can use the [Leaflet]() module to render maps, or markers.\n",
    "\n",
    "This leverages [Leaflet](https://leafletjs.com/) and [Leaflet-Provider](https://leaflet-extras.github.io/leaflet-providers/preview/)  to help you show locations, geometries, etc.\n",
    "\n",
    "Please see the [leaflet module for more](https://jupyter-ijavascript-utils.onrender.com/module-leaflet.html)"
   ]
  },
  {
   "cell_type": "code",
   "execution_count": 6,
   "id": "aec3d23b-ba95-4265-baab-444cdf68126d",
   "metadata": {},
   "outputs": [
    {
     "data": {
      "text/html": [
       "<html><body>\n",
       "  <div uuid=\"95582d1a-4b37-4c82-b9b3-599fc4811b1e\" style=\"width:100%; height: 400px\"></div>\n",
       "  <div scriptUUID=\"95582d1a-4b37-4c82-b9b3-599fc4811b1e\" ></div>\n",
       "  <script>\n",
       "    if (typeof globalThis.uuidCountdown === 'undefined') {\n",
       "      globalThis.uuidCountdown = new Map();\n",
       "    }\n",
       "\n",
       "    globalThis.uuidCountdown.set('95582d1a-4b37-4c82-b9b3-599fc4811b1e', {\n",
       "      scriptIndex: -1,\n",
       "      scriptsToLoad: [\"https://unpkg.com/leaflet@1.6.0/dist/leaflet.js\",\"https://unpkg.com/leaflet-providers@1.13.0/leaflet-providers.js\"],\n",
       "      onReady: (rootUUID) => {\n",
       "        console.log('IJSUtils.htmlScript:' + rootUUID + ' starting render');\n",
       "\n",
       "        const rootEl = document.querySelector('div[uuid=\"95582d1a-4b37-4c82-b9b3-599fc4811b1e\"]');\n",
       "\n",
       "        const options = {\n",
       "          uuid: '95582d1a-4b37-4c82-b9b3-599fc4811b1e',\n",
       "          width: '100%',\n",
       "          height: '400px',\n",
       "          scripts: [\"https://unpkg.com/leaflet@1.6.0/dist/leaflet.js\",\"https://unpkg.com/leaflet-providers@1.13.0/leaflet-providers.js\"],\n",
       "          css: [\"https://unpkg.com/leaflet@1.6.0/dist/leaflet.js\",\"https://unpkg.com/leaflet-providers@1.13.0/leaflet-providers.js\"],\n",
       "        };\n",
       "\n",
       "        const animate = function (requestAnimationFrameTarget) {\n",
       "          requestAnimationFrame((...passThroughArgs) => {\n",
       "            if (!document.contains(rootEl)) {\n",
       "              console.log('old animation stopping. rootEl has been removed from DOM');\n",
       "              return;\n",
       "            }\n",
       "            requestAnimationFrameTarget.apply(globalThis, passThroughArgs);\n",
       "          })\n",
       "        }\n",
       "\n",
       "        //-- ijsUtils.htmlScipt options.data\n",
       "        const data = [[52.230020586193795,21.01083755493164,\"point 1\"],[52.22924516170657,21.011320352554325,\"point 2\"],[52.229511304688444,21.01270973682404,\"point 3\"],[52.23040500771883,21.012146472930908,\"point 4\"]];\n",
       "\n",
       "        //-- ijsUtils.htmlScript options.utilityFunctions start\n",
       "        const utilityFunctions = {};\n",
       "\n",
       "        //-- ijsUtils.htmlScript options.utiiltyFunctions end\n",
       "\n",
       "        //-- ijsUtils.htmlScript options.onRender start\n",
       "        if (!L.tileLayer.provider) console.error('Leaflet.tileLayer.provider is null');\n",
       "        map = L.map(rootEl, {});\n",
       "\n",
       "        L.tileLayer.provider('Stamen.Watercolor').addTo(map);\n",
       "\n",
       "        (function leafletMarkersOnReady({ map, leaflet, data }) {\n",
       "  const markerData = data;\n",
       "\n",
       "  // eslint-disable-next-line new-cap\n",
       "  const mapMarkers = markerData.map(([lat, lon, title], index) => new leaflet.marker([lat, lon])\n",
       "    .bindPopup(title || String(index))\n",
       "    .addTo(map));\n",
       "\n",
       "  const markerGroup = leaflet.featureGroup(mapMarkers);\n",
       "\n",
       "  map.fitBounds(markerGroup.getBounds().pad(0.2));\n",
       "})({rootEl, data, map, leaflet:L, options});\n",
       "        //-- ijsUtils.htmlScript options.onRender end\n",
       "\n",
       "        console.log('IJSUtils.htmlScript:' + rootUUID + ' ending render');\n",
       "      }\n",
       "    });\n",
       "\n",
       "    //-- script tags created dynamically have race conditions, load sequentially\n",
       "    function externalScriptLoaded(rootUUID) {\n",
       "      const result = globalThis.uuidCountdown.get(rootUUID);\n",
       "      result.scriptIndex += 1;\n",
       "      if (result.scriptIndex >= result.scriptsToLoad.length) {\n",
       "        result.onReady(rootUUID);\n",
       "        globalThis.uuidCountdown.delete(rootUUID);\n",
       "      } else {\n",
       "        const newScript = document.createElement('script');\n",
       "        newScript.src = result.scriptsToLoad[result.scriptIndex];\n",
       "        newScript.crossorigin='';\n",
       "        newScript.uuid=rootUUID;\n",
       "        newScript.onload = () => externalScriptLoaded(rootUUID);\n",
       "\n",
       "        const scriptRoot = document.querySelector('div[scriptUUID=\"' + rootUUID + '\"]');\n",
       "        scriptRoot.append(newScript);\n",
       "      }\n",
       "    }\n",
       "\n",
       "    externalScriptLoaded('95582d1a-4b37-4c82-b9b3-599fc4811b1e');\n",
       "  </script>\n",
       "\n",
       "<link\n",
       "  rel=\"stylesheet\"\n",
       "  href=\"https://unpkg.com/leaflet@1.6.0/dist/leaflet.css\"\n",
       "  crossorigin=\"\"\n",
       "  uuid=\"95582d1a-4b37-4c82-b9b3-599fc4811b1e\"\n",
       "/>\n",
       "</body></html>\n"
      ]
     },
     "execution_count": 6,
     "metadata": {},
     "output_type": "execute_result"
    }
   ],
   "source": [
    "utils.leaflet.renderMarkers([\n",
    "  [52.230020586193795, 21.01083755493164, \"point 1\"],\n",
    "  [52.22924516170657, 21.011320352554325, \"point 2\"],\n",
    "  [52.229511304688444, 21.01270973682404, \"point 3\"],\n",
    "  [52.23040500771883, 21.012146472930908, \"point 4\"]\n",
    "], {height: 400, provider: 'Stamen.Watercolor'});"
   ]
  },
  {
   "cell_type": "markdown",
   "id": "ac8d5270-316c-47e1-b1b4-f3f478345bec",
   "metadata": {},
   "source": [
    "![Screenshot of map](../img/leafletRenderMarkers.png)"
   ]
  },
  {
   "cell_type": "markdown",
   "id": "eade9bd9-f963-42e7-8057-5c49b9aad8d8",
   "metadata": {},
   "source": [
    "# Render Equations using Latex\n",
    "\n",
    "Both [LaTeX](https://www.latex-project.org/) and [KaTeX](https://katex.org/) are supported.\n",
    "\n",
    "[LaTeX](https://www.latex-project.org/) is a typesetting engine often used for writing mathematical formulas\n",
    "along with technical and scientific documentation.\n",
    " \n",
    "[KaTeX](https://katex.org/) is a very fast typesetting library specifically to write math notation.\n",
    "It implements a subset of the LaTeX specification. \n",
    "\n",
    "Please see the [latex module for more](https://jupyter-ijavascript-utils.onrender.com/module-latex.html)"
   ]
  },
  {
   "cell_type": "code",
   "execution_count": 7,
   "id": "bd7451af-9f18-4d6f-9e70-af3b4aa3e83d",
   "metadata": {},
   "outputs": [
    {
     "data": {
      "text/latex": [
       "Given : $\\pi = 3.14$ , $\\alpha = \\frac{3\\pi}{4}\\, rad$\n",
       "$$\n",
       "\\omega = 2\\pi f \\\\\n",
       "f = \\frac{c}{\\lambda}\\\\\n",
       "\\lambda_0=\\theta^2+\\delta\\\\\n",
       "\\Delta\\lambda = \\frac{1}{\\lambda^2}\n",
       "$$"
      ]
     },
     "execution_count": 7,
     "metadata": {},
     "output_type": "execute_result"
    }
   ],
   "source": [
    "utils.latex.render(String.raw`Given : $\\pi = 3.14$ , $\\alpha = \\frac{3\\pi}{4}\\, rad$\n",
    "$$\n",
    "\\omega = 2\\pi f \\\\\n",
    "f = \\frac{c}{\\lambda}\\\\\n",
    "\\lambda_0=\\theta^2+\\delta\\\\\n",
    "\\Delta\\lambda = \\frac{1}{\\lambda^2}\n",
    "$$`);"
   ]
  },
  {
   "cell_type": "markdown",
   "id": "51f4caf5-cc59-4784-b2fd-8953a532fc69",
   "metadata": {},
   "source": [
    "![Screenshot of Latex](../img/latexExample.png)"
   ]
  },
  {
   "cell_type": "markdown",
   "id": "5d6f842b-5b20-403d-95bc-6d8eb965b939",
   "metadata": {},
   "source": [
    "# Render Diagrams through PlantUML\n",
    "\n",
    "PlantUML Render diagrams in Jupyter Lab Renderer for PlantUML - a rendering engine that converts text to diagrams.\n",
    "\n",
    "![Screenshot with PlantUML](../img/plantumlSequence.png)\n",
    "\n",
    "  All PlantUML diagrams are supported - as they are managed by the server.\n",
    "  \n",
    "  Such as:\n",
    "*  <a href=\"https://plantuml.com/sequence-diagram\">Sequence diagrams</a>,\n",
    "*  <a href=\"https://plantuml.com/use-case-diagram\">Usecase diagrams</a>,\n",
    "*  <a href=\"https://plantuml.com/class-diagram\">Class diagrams</a>,\n",
    "*  <a href=\"https://plantuml.com/object-diagram\">Object diagrams</a>,\n",
    "*  <a href=\"https://plantuml.com/activity-diagram-beta\">Activity diagrams</a>,\n",
    "*  <a href=\"https://plantuml.com/component-diagram\">Component diagrams</a>,\n",
    "*  <a href=\"https://plantuml.com/deployment-diagram\">Deployment diagrams</a>,\n",
    "*  <a href=\"https://plantuml.com/state-diagram\">State diagrams</a>,\n",
    "*  <a href=\"https://plantuml.com/timing-diagram\">Timing diagrams</a>,\n",
    "*  and many others...\n",
    "\n",
    "  ![Screenshot of types of PlantUML Diagrams](../img/plantUmlDiagrams.jpg)\n",
    "  \n",
    "Please see the [PlantUML module for more](https://jupyter-ijavascript-utils.onrender.com/module-plantuml.html)"
   ]
  },
  {
   "cell_type": "markdown",
   "id": "8dcd7b54-461d-41a6-8c1b-692185a8cc00",
   "metadata": {},
   "source": [
    "# Dynamically Generate SVGs for Diagrams\n",
    "\n",
    "The utility here is a wrapper for [SVG.js](https://svgjs.dev/),\n",
    " so SVGs can be rendered either Server-Side (within the Notebook)\n",
    " or Client Side (within the browser rendering the notebook - but lost on export)\n"
   ]
  },
  {
   "cell_type": "code",
   "execution_count": 8,
   "id": "a6c36590-7167-4ef2-8a6e-36a4d8d39eaf",
   "metadata": {},
   "outputs": [
    {
     "data": {
      "image/svg+xml": [
       "<svg xmlns=\"http://www.w3.org/2000/svg\" version=\"1.1\" xmlns:xlink=\"http://www.w3.org/1999/xlink\" xmlns:svgjs=\"http://svgjs.dev/svgjs\" width=\"400\" height=\"200\"><rect width=\"100\" height=\"100\" fill=\"#ff0000\" transform=\"matrix(0.7071067811865476,0.7071067811865475,-0.7071067811865475,0.7071067811865476,100,0)\"></rect><rect width=\"100\" height=\"100\" fill=\"#cc3300\" transform=\"matrix(0.7071067811865476,0.7071067811865475,-0.7071067811865475,0.7071067811865476,114.14213562373095,14.14213562373095)\"></rect><rect width=\"100\" height=\"100\" fill=\"#996600\" transform=\"matrix(0.7071067811865476,0.7071067811865475,-0.7071067811865475,0.7071067811865476,128.2842712474619,28.2842712474619)\"></rect><rect width=\"100\" height=\"100\" fill=\"#669900\" transform=\"matrix(0.7071067811865476,0.7071067811865475,-0.7071067811865475,0.7071067811865476,142.42640687119285,42.426406871192846)\"></rect><rect width=\"100\" height=\"100\" fill=\"#33cc00\" transform=\"matrix(0.7071067811865476,0.7071067811865475,-0.7071067811865475,0.7071067811865476,156.5685424949238,56.5685424949238)\"></rect><rect width=\"100\" height=\"100\" fill=\"#00ff00\" transform=\"matrix(0.7071067811865476,0.7071067811865475,-0.7071067811865475,0.7071067811865476,170.71067811865476,70.71067811865474)\"></rect></svg>"
      ]
     },
     "execution_count": 8,
     "metadata": {},
     "output_type": "execute_result"
    }
   ],
   "source": [
    "  utils.svg.render({ width: 400, height: 200,\n",
    "      onReady: ({el, width, height, SVG }) => {\n",
    "          const yellowTransition = new SVG.Color('#FF0000').to('#00FF00');\n",
    "          for (let i = 0; i <=5; i++){\n",
    "              el.rect(100, 100)\n",
    "                  .fill(yellowTransition.at(i * 0.2).toHex())\n",
    "                  .transform(\n",
    "                      new SVG.Matrix()\n",
    "                          .translate(i * 20, 0)\n",
    "                          .rotate(45)\n",
    "                          .translate(100, 0)\n",
    "                  );\n",
    "          }\n",
    "      }\n",
    "  })\n"
   ]
  },
  {
   "cell_type": "markdown",
   "id": "c0f3c56d-50d3-4fa1-bf44-f9f1f6261bdf",
   "metadata": {},
   "source": [
    "![Screenshot](../img/svgRender_3.svg)"
   ]
  },
  {
   "cell_type": "markdown",
   "id": "49e038cd-1f55-415e-bdb8-7d97ec91d409",
   "metadata": {},
   "source": [
    "This also can be rendered on the client side to create your own animations."
   ]
  },
  {
   "cell_type": "code",
   "execution_count": 9,
   "id": "dc502e5e-e82b-4e2d-b36f-6a6f4e50e1bf",
   "metadata": {},
   "outputs": [
    {
     "data": {
      "text/html": [
       "<html><body>\n",
       "  <div uuid=\"c5a68a2c-5b03-426c-8fe3-3af59fce78c0\" style=\"width:400px; height: 200px\"></div>\n",
       "  <div scriptUUID=\"c5a68a2c-5b03-426c-8fe3-3af59fce78c0\" ></div>\n",
       "  <script>\n",
       "    if (typeof globalThis.uuidCountdown === 'undefined') {\n",
       "      globalThis.uuidCountdown = new Map();\n",
       "    }\n",
       "\n",
       "    globalThis.uuidCountdown.set('c5a68a2c-5b03-426c-8fe3-3af59fce78c0', {\n",
       "      scriptIndex: -1,\n",
       "      scriptsToLoad: [\"https://cdn.jsdelivr.net/npm/@svgdotjs/svg.js@3.0/dist/svg.min.js\"],\n",
       "      onReady: (rootUUID) => {\n",
       "        console.log('IJSUtils.htmlScript:' + rootUUID + ' starting render');\n",
       "\n",
       "        const rootEl = document.querySelector('div[uuid=\"c5a68a2c-5b03-426c-8fe3-3af59fce78c0\"]');\n",
       "\n",
       "        const options = {\n",
       "          uuid: 'c5a68a2c-5b03-426c-8fe3-3af59fce78c0',\n",
       "          width: '400px',\n",
       "          height: '200px',\n",
       "          scripts: [\"https://cdn.jsdelivr.net/npm/@svgdotjs/svg.js@3.0/dist/svg.min.js\"],\n",
       "          css: [\"https://cdn.jsdelivr.net/npm/@svgdotjs/svg.js@3.0/dist/svg.min.js\"],\n",
       "        };\n",
       "\n",
       "        const animate = function (requestAnimationFrameTarget) {\n",
       "          requestAnimationFrame((...passThroughArgs) => {\n",
       "            if (!document.contains(rootEl)) {\n",
       "              console.log('old animation stopping. rootEl has been removed from DOM');\n",
       "              return;\n",
       "            }\n",
       "            requestAnimationFrameTarget.apply(globalThis, passThroughArgs);\n",
       "          })\n",
       "        }\n",
       "\n",
       "        //-- ijsUtils.htmlScipt options.data\n",
       "        const data = undefined;\n",
       "\n",
       "        //-- ijsUtils.htmlScript options.utilityFunctions start\n",
       "        const utilityFunctions = {};\n",
       "\n",
       "        //-- ijsUtils.htmlScript options.utiiltyFunctions end\n",
       "\n",
       "        //-- ijsUtils.htmlScript options.onRender start\n",
       "        const el = SVG().addTo(rootEl);\n",
       "const width = 400;\n",
       "const height = 200;\n",
       "el.size(width, height);\n",
       "\n",
       "(({ el, SVG, width, height }) => {\n",
       "    var rect1 = el.rect(100, 100)\n",
       "        .move(width/2, 0);\n",
       "\n",
       "    rect1.animate(1000, 0, 'absolute')\n",
       "        .move(width/2, 100)\n",
       "        .loop(true, true);\n",
       "})({ rootEl, el, SVG, data, width, height, utilityFunctions, options, animate });\n",
       "        //-- ijsUtils.htmlScript options.onRender end\n",
       "\n",
       "        console.log('IJSUtils.htmlScript:' + rootUUID + ' ending render');\n",
       "      }\n",
       "    });\n",
       "\n",
       "    //-- script tags created dynamically have race conditions, load sequentially\n",
       "    function externalScriptLoaded(rootUUID) {\n",
       "      const result = globalThis.uuidCountdown.get(rootUUID);\n",
       "      result.scriptIndex += 1;\n",
       "      if (result.scriptIndex >= result.scriptsToLoad.length) {\n",
       "        result.onReady(rootUUID);\n",
       "        globalThis.uuidCountdown.delete(rootUUID);\n",
       "      } else {\n",
       "        const newScript = document.createElement('script');\n",
       "        newScript.src = result.scriptsToLoad[result.scriptIndex];\n",
       "        newScript.crossorigin='';\n",
       "        newScript.uuid=rootUUID;\n",
       "        newScript.onload = () => externalScriptLoaded(rootUUID);\n",
       "\n",
       "        const scriptRoot = document.querySelector('div[scriptUUID=\"' + rootUUID + '\"]');\n",
       "        scriptRoot.append(newScript);\n",
       "      }\n",
       "    }\n",
       "\n",
       "    externalScriptLoaded('c5a68a2c-5b03-426c-8fe3-3af59fce78c0');\n",
       "  </script>\n",
       "\n",
       "</body></html>\n"
      ]
     },
     "execution_count": 9,
     "metadata": {},
     "output_type": "execute_result"
    }
   ],
   "source": [
    "utils.svg.embed(({ el, SVG, width, height }) => {\n",
    "    var rect1 = el.rect(100, 100)\n",
    "        .move(width/2, 0);\n",
    "\n",
    "    rect1.animate(1000, 0, 'absolute')\n",
    "        .move(width/2, 100)\n",
    "        .loop(true, true);\n",
    "})"
   ]
  },
  {
   "cell_type": "markdown",
   "id": "ae656e9b-309c-4274-9240-e7237d326567",
   "metadata": {},
   "source": [
    "![Screenshot of animation](../img/svgAnimation1.gif)"
   ]
  },
  {
   "cell_type": "markdown",
   "id": "50bbb0dd-e990-47b9-96dc-b6ca016c99f9",
   "metadata": {},
   "source": [
    "Leveraging [Noise](https://jupyter-ijavascript-utils.onrender.com/tutorial-noiseVisualization.html) you can make some very interesting images even without data."
   ]
  },
  {
   "cell_type": "markdown",
   "id": "f2a224a7-69e6-4894-a667-75b55a293229",
   "metadata": {},
   "source": [
    "![Screenshot of animation](../img/noiseFinal.gif)"
   ]
  },
  {
   "cell_type": "markdown",
   "id": "f0c8e17b-8065-46f6-a408-a57a89c2900f",
   "metadata": {},
   "source": [
    "# Extending with HTML Script\n",
    "\n",
    "By balancing computing between the client and the browser side (through [HTMLScript]()) you can leverage additional libraries that can use the DOM.\n",
    "\n",
    "![Screenshot](../img/htmlScript_qrCode.png)\n",
    "              \n",
    "        \n",
    "For more, please see the [Architecture section](https://jupyter-ijavascript-utils.onrender.com/tutorial-architecture.html)\n",
    "and the [HTMLScript tutorial](https://jupyter-ijavascript-utils.onrender.com/tutorial-d_htmlScriptAnimating.html)"
   ]
  }
 ],
 "metadata": {
  "kernelspec": {
   "display_name": "JavaScript (Node.js)",
   "language": "javascript",
   "name": "javascript"
  },
  "language_info": {
   "file_extension": ".js",
   "mimetype": "application/javascript",
   "name": "javascript",
   "version": "16.14.2"
  }
 },
 "nbformat": 4,
 "nbformat_minor": 5
}
