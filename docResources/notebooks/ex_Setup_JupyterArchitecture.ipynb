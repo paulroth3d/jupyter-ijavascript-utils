{
 "cells": [
  {
   "cell_type": "markdown",
   "id": "8b0be81e-a3c6-4107-98cb-39e8499e79cf",
   "metadata": {},
   "source": [
    "Jupyter Notebooks have a fairly elegant architecture, with a number of related projects working together to provide an executable notebook.\n",
    "\n",
    "Here we'll focus on how the [iJavaScript Kernel](https://github.com/n-riesco/ijavascript) interacts with Jupyter.  However, there are resources provided throughout for learning more."
   ]
  },
  {
   "cell_type": "markdown",
   "id": "56b9ae5e-7649-4df6-86fe-a3eba12ed724",
   "metadata": {},
   "source": [
    "---\n",
    "\n",
    "# Available as Notebook\n",
    "\n",
    "Please note that this is also [available as a Jupyter Notebook](notebooks/ex_Setup_JupyterArchitect.ipynb), which is how many of the diagrams created where generated (using [PlantUML](https://plantuml.com/) through the [jupyter-ijavascript-utils library](https://jupyter-ijavascript-utils.onrender.com/module-plantuml.html))\n",
    "\n",
    "For example [using homebrew](https://formulae.brew.sh/formula/plantuml) or [simply running from the jar file](https://plantuml.com/starting)\n",
    "\n",
    "## PlantUML PicoWeb\n",
    "\n",
    "If you wish to run this yourself, please note you'll need to run or specify a PlantUML Server - but this is quite easy through [PlantUML PicoWeb](https://plantuml.com/picoweb))\n",
    "                                                                 \n",
    "This can be as easy as running the following in another tab:\n",
    "\n",
    "```\n",
    "# ex - like through homebrew\n",
    "plantuml -picoweb\n",
    "\n",
    "# ex - like through the jar\n",
    "java -jar plantuml.jar -picoweb\n",
    "```\n",
    "\n",
    "Some diagrams (such as Class and Object) may depend on [graphviz](https://plantuml.com/graphviz-dot), but bypassed if using the `layout smetana`)\n",
    "\n",
    "Please [see this document on PlantUML and GraphViz for more, including how to install](https://plantuml.com/graphviz-dot)"
   ]
  },
  {
   "cell_type": "code",
   "execution_count": 3,
   "id": "29df03a7-3f41-46ee-a306-10e57eed7251",
   "metadata": {
    "collapsed": true,
    "jupyter": {
     "outputs_hidden": true
    },
    "tags": []
   },
   "outputs": [
    {
     "data": {
      "text/plain": [
       "[ 'utils' ]"
      ]
     },
     "execution_count": 3,
     "metadata": {},
     "output_type": "execute_result"
    }
   ],
   "source": [
    "utils = require('jupyter-ijavascript-utils');\n",
    "['utils']"
   ]
  },
  {
   "cell_type": "markdown",
   "id": "41afb286-3560-4f14-9f0d-4a82278e5489",
   "metadata": {},
   "source": [
    "# Jupyter History"
   ]
  },
  {
   "cell_type": "markdown",
   "id": "3a2f32c6-ee3d-4ec4-89e1-0db43d20a45f",
   "metadata": {},
   "source": [
    "[Project Jupyter](https://jupyter.org/) is a community with the goal to 'develop open-source software, open-standards, and services for interactive computing across dozens of programming languages'\n",
    "\n",
    "Originally, it was a spin-off project from [IPython](https://en.wikipedia.org/wiki/IPython) and a reference to:\n",
    "\n",
    "* the three core languages supported: Julia, Python and R\n",
    "* but also a homage to Galileo's notebooks in discovering the moons of jupyter."
   ]
  },
  {
   "cell_type": "markdown",
   "id": "206f3b2c-6ab1-4796-bc97-c00967d71f8b",
   "metadata": {},
   "source": [
    "# Kernel Architecture\n",
    "\n",
    "The [Jupyter Kernels](https://docs.jupyter.org/en/latest/projects/kernels.html#kernels-langs) are a language specific process that run independently from Jupyter and interact through messaging to the Jupyter Applications and interfaces.\n",
    "\n",
    "There are two types of Kernels:\n",
    "\n",
    "* Native Kernels\n",
    "   * Manage Language Execution, and provide a response\n",
    "   * Manage Notebook JSON\n",
    "   * Process ØMQ Messaging\n",
    "* Wrapper Kernels\n",
    "   * Manage Language Execution, and provide a response\n",
    "   * Rely on IPython's API to\n",
    "      * Manage IPython JSON\n",
    "      * Manage ØMQ Messaging to cells"
   ]
  },
  {
   "cell_type": "code",
   "execution_count": 38,
   "id": "851292ca-c678-4cde-981f-2e941a5c5391",
   "metadata": {
    "tags": []
   },
   "outputs": [
    {
     "data": {
      "image/svg+xml": [
       "<?xml version=\"1.0\" encoding=\"UTF-8\" standalone=\"no\"?><svg xmlns=\"http://www.w3.org/2000/svg\" xmlns:xlink=\"http://www.w3.org/1999/xlink\" contentStyleType=\"text/css\" height=\"165px\" preserveAspectRatio=\"none\" style=\"width:734px;height:165px;background:#FFFFFF;\" version=\"1.1\" viewBox=\"0 0 734 165\" width=\"734px\" zoomAndPan=\"magnify\"><defs/><g><!--MD5=[fee662a292a0353a69bd162820bae93b]\n",
       "entity User--><g id=\"elem_User\"><ellipse cx=\"32.5\" cy=\"15.059\" fill=\"#F1F1F1\" rx=\"9.059\" ry=\"9.059\" style=\"stroke:#181818;stroke-width:0.5;\"/><rect fill=\"#F1F1F1\" height=\"36.4883\" rx=\"9.059\" ry=\"9.059\" style=\"stroke:#181818;stroke-width:0.5;\" width=\"51\" x=\"7\" y=\"24.118\"/><text fill=\"#000000\" font-family=\"sans-serif\" font-size=\"14\" lengthAdjust=\"spacing\" textLength=\"31\" x=\"17\" y=\"47.6532\">User</text></g><!--MD5=[e9dede37b31fdda9664526f66258b036]\n",
       "entity Browser--><g id=\"elem_Browser\"><rect fill=\"#DFD1F2\" height=\"36.4883\" rx=\"2.5\" ry=\"2.5\" style=\"stroke:#000000;stroke-width:1.0;\" width=\"75\" x=\"93\" y=\"15.5\"/><text fill=\"#000000\" font-family=\"sans-serif\" font-size=\"14\" lengthAdjust=\"spacing\" textLength=\"55\" x=\"103\" y=\"39.0352\">Browser</text></g><!--MD5=[b1435b213846e3ddcd1e6c1cd6b83b9a]\n",
       "entity Server--><g id=\"elem_Server\"><path d=\"M331.3912,18.6137 C335.6722,12.55 340.2216,13.0622 344.024,19.1128 C348.0011,13.1634 353.3331,11.9269 358.0845,18.2238 C360.8816,12.5868 367.1041,11.9091 370.936,16.9821 C375.4321,11.1868 380.024,11.1903 383.6027,17.9106 C386.1878,11.1846 390.678,12.0073 394.9237,16.1866 C399.7756,8.7752 405.3432,9.0584 409.4714,16.8777 C412.4741,11.3157 418.2309,10.903 421.0555,17.0537 C425.2596,11.7122 430.8982,11.9983 434.324,17.9668 C439.0432,12.6239 443.4362,13.1693 446.1317,19.9395 C449.7692,14.7069 454.8745,13.8178 458.8209,19.5832 C467.6026,21.8789 470.6078,28.8329 463.5402,35.7541 C468.5678,42.4872 466.6868,46.9263 459.4452,50.1757 C455.3169,56.2212 451.1716,56.8048 446.5603,50.6874 C443.7399,55.942 437.5918,56.4482 434.0482,51.5816 C430.856,57.9111 425.8093,59.0776 420.7407,53.7179 C418.3001,59.2856 414.2606,61.4399 409.4684,56.162 C405.5842,61.9367 399.4901,61.7443 395.7378,56.0047 C392.0652,63.6016 385.7197,61.8191 381.9022,56.1559 C377.499,60.8119 373.9943,61.0826 370.9835,54.7699 C365.3453,60.783 360.7295,61.7338 356.5674,53.2973 C351.4093,59.8109 346.3459,58.9468 343.5013,51.1804 C338.8309,56.7693 335.5148,54.6977 332.3327,49.6218 C323.1548,48.8075 320.6781,42.0087 326.3554,35.0859 C320.2983,28.4864 322.6152,20.6785 331.3912,18.6137 \" fill=\"#DFF2D1\" style=\"stroke:#181818;stroke-width:1.0;\"/><text fill=\"#000000\" font-family=\"sans-serif\" font-size=\"14\" lengthAdjust=\"spacing\" textLength=\"114\" x=\"337.5\" y=\"39.0352\">Notebook Server</text></g><!--MD5=[cb798c5dd5bb639090b009f755d03b00]\n",
       "entity Kernel--><g id=\"elem_Kernel\"><rect fill=\"#DFF2D1\" height=\"46.4883\" rx=\"2.5\" ry=\"2.5\" style=\"stroke:#181818;stroke-width:1.0;\" width=\"84\" x=\"534.5\" y=\"10.5\"/><rect fill=\"#DFF2D1\" height=\"10\" style=\"stroke:#181818;stroke-width:1.0;\" width=\"15\" x=\"598.5\" y=\"15.5\"/><rect fill=\"#DFF2D1\" height=\"2\" style=\"stroke:#181818;stroke-width:1.0;\" width=\"4\" x=\"596.5\" y=\"17.5\"/><rect fill=\"#DFF2D1\" height=\"2\" style=\"stroke:#181818;stroke-width:1.0;\" width=\"4\" x=\"596.5\" y=\"21.5\"/><text fill=\"#000000\" font-family=\"sans-serif\" font-size=\"14\" lengthAdjust=\"spacing\" textLength=\"44\" x=\"549.5\" y=\"44.0352\">Kernel</text></g><!--MD5=[c5a94b7685b36a5b310047256c565c76]\n",
       "entity Notebook--><g id=\"elem_Notebook\"><path d=\"M316,124.5 L316,155.9883 A2.5,2.5 0 0 0 318.5,158.4883 L470.5,158.4883 A2.5,2.5 0 0 0 473,155.9883 L473,132 L463,122 L318.5,122 A2.5,2.5 0 0 0 316,124.5 \" fill=\"#D9D9D9\" style=\"stroke:#181818;stroke-width:1.0;\"/><path d=\"M463,122 L463,129.5 A2.5,2.5 0 0 0 465.5,132 L473,132 \" fill=\"#D9D9D9\" style=\"stroke:#181818;stroke-width:1.0;\"/><text fill=\"#000000\" font-family=\"sans-serif\" font-size=\"14\" lengthAdjust=\"spacing\" textLength=\"137\" x=\"326\" y=\"145.5352\">Notebook.ipynb File</text></g><!--MD5=[ec4c93e45963a154c97e3947d19a9663]\n",
       "link User to Browser--><g id=\"link_User_Browser\"><path d=\"M58.15,49.44 C70.02,54.2 81.89,55.33 93.76,52.83 \" fill=\"none\" id=\"User-to-Browser\" style=\"stroke:#181818;stroke-width:1.0;\"/><polygon fill=\"#181818\" points=\"98.85,51.54,89.1427,49.8759,94.0035,52.7695,91.1099,57.6303,98.85,51.54\" style=\"stroke:#181818;stroke-width:1.0;\"/></g><!--MD5=[0233b85d49a159daa7eef88a906a0340]\n",
       "reverse link User to Browser--><g id=\"link_User_Browser\"><path d=\"M62.92,15.84 C74.89,12.02 86.87,11.89 98.85,15.46 \" fill=\"none\" id=\"User-backto-Browser\" style=\"stroke:#181818;stroke-width:1.0;\"/><polygon fill=\"#181818\" points=\"58.15,17.56,67.9739,18.2603,62.8519,15.8593,65.2528,10.7373,58.15,17.56\" style=\"stroke:#181818;stroke-width:1.0;\"/></g><!--MD5=[82276629f7f99def49fe0731f1ca4b74]\n",
       "link Browser to Server--><g id=\"link_Browser_Server\"><path d=\"M173.34,33.5 C212.21,33.5 270.45,33.5 317.41,33.5 \" fill=\"none\" id=\"Browser-Server\" style=\"stroke:#181818;stroke-width:1.0;\"/><polygon fill=\"#181818\" points=\"322.5,33.5,313.5,29.5,317.5,33.5,313.5,37.5,322.5,33.5\" style=\"stroke:#181818;stroke-width:1.0;\"/><polygon fill=\"#181818\" points=\"168.04,33.5,177.04,37.5,173.04,33.5,177.04,29.5,168.04,33.5\" style=\"stroke:#181818;stroke-width:1.0;\"/><text fill=\"#000000\" font-family=\"sans-serif\" font-size=\"13\" lengthAdjust=\"spacing\" textLength=\"118\" x=\"186.25\" y=\"27.0684\">HTTP &amp; Websocket</text></g><!--MD5=[db1393b37c1f9d80da9a2e15560cfc15]\n",
       "link Server to Kernel--><g id=\"link_Server_Kernel\"><path d=\"M471.82,33.5 C491.24,33.5 511.5,33.5 528.97,33.5 \" fill=\"none\" id=\"Server-Kernel\" style=\"stroke:#181818;stroke-width:1.0;\"/><polygon fill=\"#181818\" points=\"534.3,33.5,525.3,29.5,529.3,33.5,525.3,37.5,534.3,33.5\" style=\"stroke:#181818;stroke-width:1.0;\"/><polygon fill=\"#181818\" points=\"466.69,33.5,475.69,37.5,471.69,33.5,475.69,29.5,466.69,33.5\" style=\"stroke:#181818;stroke-width:1.0;\"/><text fill=\"#000000\" font-family=\"sans-serif\" font-size=\"13\" lengthAdjust=\"spacing\" textLength=\"31\" x=\"485\" y=\"27.0684\">ØMQ</text></g><!--MD5=[982d153c678f1942e1e681a10eb5da92]\n",
       "link Kernel to Kernel--><g id=\"link_Kernel_Kernel\"><path d=\"M618.87,22.77 C637.48,21.83 653.5,25.4 653.5,33.5 C653.5,40.84 640.35,44.46 624.02,44.37 \" fill=\"none\" id=\"Kernel-to-Kernel\" style=\"stroke:#181818;stroke-width:1.0;\"/><polygon fill=\"#181818\" points=\"618.87,44.23,627.7521,48.4854,623.868,44.3728,627.9806,40.4887,618.87,44.23\" style=\"stroke:#181818;stroke-width:1.0;\"/><text fill=\"#000000\" font-family=\"sans-serif\" font-size=\"13\" lengthAdjust=\"spacing\" textLength=\"30\" x=\"675.5\" y=\"31.0684\">code</text><text fill=\"#000000\" font-family=\"sans-serif\" font-size=\"13\" lengthAdjust=\"spacing\" textLength=\"62\" x=\"659.5\" y=\"46.3789\">execution</text></g><!--MD5=[20aa3825ffb26ee7df541fc331dffae3]\n",
       "reverse link Server to Notebook--><g id=\"link_Server_Notebook\"><path d=\"M383.14,61.84 C380.86,80.78 381.39,105.42 384.73,121.7 \" fill=\"none\" id=\"Server-backto-Notebook\" style=\"stroke:#181818;stroke-width:1.0;\"/><polygon fill=\"#181818\" points=\"383.85,56.66,378.6545,65.027,383.1649,61.6128,386.5791,66.1232,383.85,56.66\" style=\"stroke:#181818;stroke-width:1.0;\"/></g><!--MD5=[379147ba8b462d1121133cdff4ca3712]\n",
       "link Server to Notebook--><g id=\"link_Server_Notebook\"><path d=\"M405.77,56.66 C408.72,74.25 408.74,98.75 405.84,116.44 \" fill=\"none\" id=\"Server-to-Notebook\" style=\"stroke:#181818;stroke-width:1.0;\"/><polygon fill=\"#181818\" points=\"404.84,121.7,410.4415,113.5992,405.7683,116.7869,402.5806,112.1138,404.84,121.7\" style=\"stroke:#181818;stroke-width:1.0;\"/></g><!--MD5=[f2802abe1b86f3e1eb95c14ff3945792]\n",
       "@startuml\r\n",
       "<style>\r\n",
       "rectangle {\r\n",
       "  BackGroundColor #dfd1f2\r\n",
       "  LineThickness 1\r\n",
       "  LineColor black\r\n",
       "}\r\n",
       "cloud {\r\n",
       "    BackGroundColor #dff2d1\r\n",
       "    LineThickness 1\r\n",
       "}\r\n",
       "component {\r\n",
       "    BackGroundColor #dff2d1\r\n",
       "    LineThickness 1\r\n",
       "}\r\n",
       "file {\r\n",
       "    BackGroundColor #d9d9d9\r\n",
       "    LineThickness 1\r\n",
       "}\r\n",
       "</style>\r\n",
       "\r\n",
       "Person User\r\n",
       "rectangle Browser\r\n",
       "cloud \"Notebook Server\" as Server\r\n",
       "component Kernel\r\n",
       "file \"Notebook.ipynb File\" as Notebook\r\n",
       "\r\n",
       "User -ri-> Browser\r\n",
       "Browser -le-> User\r\n",
       "\r\n",
       "Browser <-ri-> Server : HTTP & Websocket\r\n",
       "\r\n",
       "Server <-ri-> Kernel: \"ØMQ\"\r\n",
       "\r\n",
       "Kernel -> Kernel : \"code\\nexecution\"\r\n",
       "\r\n",
       "Notebook -up-> Server\r\n",
       "Server -do-> Notebook\r\n",
       "@enduml\r\n",
       "\n",
       "PlantUML version 1.2022.5(Sat Apr 30 05:55:52 CDT 2022)\n",
       "(GPL source distribution)\n",
       "Java Runtime: OpenJDK Runtime Environment\n",
       "JVM: OpenJDK 64-Bit Server VM\n",
       "Default Encoding: UTF-8\n",
       "Language: en\n",
       "Country: US\n",
       "--></g></svg>"
      ]
     },
     "execution_count": 38,
     "metadata": {},
     "output_type": "execute_result"
    }
   ],
   "source": [
    "utils.plantuml.render(`\n",
    "@startuml\n",
    "\n",
    "<style>\n",
    "rectangle {\n",
    "  BackGroundColor #dfd1f2\n",
    "  LineThickness 1\n",
    "  LineColor black\n",
    "}\n",
    "cloud {\n",
    "    BackGroundColor #dff2d1\n",
    "    LineThickness 1\n",
    "}\n",
    "component {\n",
    "    BackGroundColor #dff2d1\n",
    "    LineThickness 1\n",
    "}\n",
    "file {\n",
    "    BackGroundColor #d9d9d9\n",
    "    LineThickness 1\n",
    "}\n",
    "</style>\n",
    "\n",
    "Person User\n",
    "rectangle Browser\n",
    "cloud \"Notebook Server\" as Server\n",
    "component Kernel\n",
    "file \"Notebook.ipynb File\" as Notebook\n",
    "\n",
    "User -ri-> Browser\n",
    "Browser -le-> User\n",
    "\n",
    "Browser <-ri-> Server : HTTP & Websocket\n",
    "\n",
    "Server <-ri-> Kernel: \"ØMQ\"\n",
    "\n",
    "Kernel -> Kernel : \"code\\\\nexecution\"\n",
    "\n",
    "Notebook -up-> Server\n",
    "Server -do-> Notebook\n",
    "\n",
    "\n",
    "@enduml\n",
    "`)"
   ]
  },
  {
   "cell_type": "markdown",
   "id": "b6e3765e-1c6e-4c04-b1e9-556713542992",
   "metadata": {},
   "source": [
    "Wrapper Kernels are much easier to write, as they implement only the core Language Execution\n",
    "\n",
    "Each Kernel provides a running instance of node (and variables), that can then be accessed by subsequent cells."
   ]
  },
  {
   "cell_type": "code",
   "execution_count": 85,
   "id": "1ac40c4f-cdcd-4b61-afe6-4f111fc8738f",
   "metadata": {
    "tags": []
   },
   "outputs": [
    {
     "data": {
      "image/svg+xml": [
       "<?xml version=\"1.0\" encoding=\"UTF-8\" standalone=\"no\"?><svg xmlns=\"http://www.w3.org/2000/svg\" xmlns:xlink=\"http://www.w3.org/1999/xlink\" contentStyleType=\"text/css\" height=\"719px\" preserveAspectRatio=\"none\" style=\"width:508px;height:719px;background:#FFFFFF;\" version=\"1.1\" viewBox=\"0 0 508 719\" width=\"508px\" zoomAndPan=\"magnify\"><defs/><g><rect height=\"580.5898\" style=\"stroke:#000000;stroke-width:1.5;fill:none;\" width=\"491.5\" x=\"10\" y=\"69.9766\"/><line style=\"stroke:#181818;stroke-width:0.5;fill:none;stroke-dasharray:5.0,5.0;\" x1=\"54\" x2=\"54\" y1=\"52.9766\" y2=\"667.5664\"/><line style=\"stroke:#181818;stroke-width:0.5;fill:none;stroke-dasharray:5.0,5.0;\" x1=\"286\" x2=\"286\" y1=\"52.9766\" y2=\"667.5664\"/><line style=\"stroke:#181818;stroke-width:0.5;fill:none;stroke-dasharray:5.0,5.0;\" x1=\"451\" x2=\"451\" y1=\"155.5859\" y2=\"667.5664\"/><rect fill=\"#E2E2F0\" height=\"30.4883\" rx=\"2.5\" ry=\"2.5\" style=\"stroke:#181818;stroke-width:0.5;\" width=\"69\" x=\"20\" y=\"21.4883\"/><text fill=\"#000000\" font-family=\"sans-serif\" font-size=\"14\" lengthAdjust=\"spacing\" textLength=\"55\" x=\"27\" y=\"42.0234\">Browser</text><rect fill=\"#E2E2F0\" height=\"30.4883\" rx=\"2.5\" ry=\"2.5\" style=\"stroke:#181818;stroke-width:0.5;\" width=\"69\" x=\"20\" y=\"666.5664\"/><text fill=\"#000000\" font-family=\"sans-serif\" font-size=\"14\" lengthAdjust=\"spacing\" textLength=\"55\" x=\"27\" y=\"687.1016\">Browser</text><rect fill=\"#E2E2F0\" height=\"46.9766\" rx=\"2.5\" ry=\"2.5\" style=\"stroke:#181818;stroke-width:0.5;\" width=\"81\" x=\"246\" y=\"5\"/><text fill=\"#000000\" font-family=\"sans-serif\" font-size=\"14\" lengthAdjust=\"spacing\" textLength=\"67\" x=\"253\" y=\"25.5352\">Notebook</text><text fill=\"#000000\" font-family=\"sans-serif\" font-size=\"14\" lengthAdjust=\"spacing\" textLength=\"43\" x=\"265\" y=\"42.0234\">Server</text><rect fill=\"#E2E2F0\" height=\"46.9766\" rx=\"2.5\" ry=\"2.5\" style=\"stroke:#181818;stroke-width:0.5;\" width=\"81\" x=\"246\" y=\"666.5664\"/><text fill=\"#000000\" font-family=\"sans-serif\" font-size=\"14\" lengthAdjust=\"spacing\" textLength=\"67\" x=\"253\" y=\"687.1016\">Notebook</text><text fill=\"#000000\" font-family=\"sans-serif\" font-size=\"14\" lengthAdjust=\"spacing\" textLength=\"43\" x=\"265\" y=\"703.5898\">Server</text><rect fill=\"#E2E2F0\" height=\"46.9766\" rx=\"2.5\" ry=\"2.5\" style=\"stroke:#181818;stroke-width:0.5;\" width=\"71\" x=\"416\" y=\"666.5664\"/><text fill=\"#000000\" font-family=\"sans-serif\" font-size=\"14\" lengthAdjust=\"spacing\" textLength=\"44\" x=\"429.5\" y=\"687.1016\">Kernel</text><text fill=\"#000000\" font-family=\"sans-serif\" font-size=\"14\" lengthAdjust=\"spacing\" textLength=\"57\" x=\"423\" y=\"703.5898\">Instance</text><path d=\"M10,69.9766 L72,69.9766 L72,77.2871 L62,87.2871 L10,87.2871 L10,69.9766 \" fill=\"#EEEEEE\" style=\"stroke:#000000;stroke-width:1.5;\"/><rect fill=\"none\" height=\"580.5898\" style=\"stroke:#000000;stroke-width:1.5;\" width=\"491.5\" x=\"10\" y=\"69.9766\"/><text fill=\"#000000\" font-family=\"sans-serif\" font-size=\"13\" font-weight=\"bold\" lengthAdjust=\"spacing\" textLength=\"17\" x=\"25\" y=\"83.5449\">alt</text><text fill=\"#000000\" font-family=\"sans-serif\" font-size=\"11\" font-weight=\"bold\" lengthAdjust=\"spacing\" textLength=\"92\" x=\"87\" y=\"82.6113\">[first execution:]</text><polygon fill=\"#181818\" points=\"274.5,104.5977,284.5,108.5977,274.5,112.5977,278.5,108.5977\" style=\"stroke:#181818;stroke-width:1.0;\"/><line style=\"stroke:#181818;stroke-width:1.0;\" x1=\"54.5\" x2=\"280.5\" y1=\"108.5977\" y2=\"108.5977\"/><text fill=\"#000000\" font-family=\"sans-serif\" font-size=\"13\" lengthAdjust=\"spacing\" textLength=\"115\" x=\"61.5\" y=\"103.8555\">Execute Notebook</text><polygon fill=\"#181818\" points=\"404,118.5977,414,122.5977,404,126.5977,408,122.5977\" style=\"stroke:#181818;stroke-width:1.0;\"/><line style=\"stroke:#181818;stroke-width:1.0;\" x1=\"286.5\" x2=\"410\" y1=\"122.5977\" y2=\"122.5977\"/><rect fill=\"#E2E2F0\" height=\"46.9766\" rx=\"2.5\" ry=\"2.5\" style=\"stroke:#181818;stroke-width:0.5;\" width=\"71\" x=\"416\" y=\"116.5977\"/><text fill=\"#000000\" font-family=\"sans-serif\" font-size=\"14\" lengthAdjust=\"spacing\" textLength=\"44\" x=\"429.5\" y=\"137.1328\">Kernel</text><text fill=\"#000000\" font-family=\"sans-serif\" font-size=\"14\" lengthAdjust=\"spacing\" textLength=\"57\" x=\"423\" y=\"153.6211\">Instance</text><line style=\"stroke:#181818;stroke-width:1.0;\" x1=\"286.5\" x2=\"328.5\" y1=\"195.8848\" y2=\"195.8848\"/><line style=\"stroke:#181818;stroke-width:1.0;\" x1=\"328.5\" x2=\"328.5\" y1=\"195.8848\" y2=\"208.8848\"/><line style=\"stroke:#181818;stroke-width:1.0;\" x1=\"287.5\" x2=\"328.5\" y1=\"208.8848\" y2=\"208.8848\"/><polygon fill=\"#181818\" points=\"297.5,204.8848,287.5,208.8848,297.5,212.8848,293.5,208.8848\" style=\"stroke:#181818;stroke-width:1.0;\"/><text fill=\"#000000\" font-family=\"sans-serif\" font-size=\"13\" lengthAdjust=\"spacing\" textLength=\"61\" x=\"293.5\" y=\"191.1426\">get cells()</text><polygon fill=\"#181818\" points=\"65.5,249.5059,55.5,253.5059,65.5,257.5059,61.5,253.5059\" style=\"stroke:#181818;stroke-width:1.0;\"/><line style=\"stroke:#181818;stroke-width:1.0;\" x1=\"59.5\" x2=\"285.5\" y1=\"253.5059\" y2=\"253.5059\"/><text fill=\"#000000\" font-family=\"sans-serif\" font-size=\"13\" lengthAdjust=\"spacing\" textLength=\"208\" x=\"71.5\" y=\"233.4531\">dynamic html - render mimetype</text><text fill=\"#000000\" font-family=\"sans-serif\" font-size=\"13\" lengthAdjust=\"spacing\" textLength=\"98\" x=\"71.5\" y=\"248.7637\">text/markdown</text><polygon fill=\"#181818\" points=\"439.5,278.8164,449.5,282.8164,439.5,286.8164,443.5,282.8164\" style=\"stroke:#181818;stroke-width:1.0;\"/><line style=\"stroke:#181818;stroke-width:1.0;\" x1=\"286.5\" x2=\"445.5\" y1=\"282.8164\" y2=\"282.8164\"/><text fill=\"#000000\" font-family=\"sans-serif\" font-size=\"13\" lengthAdjust=\"spacing\" textLength=\"125\" x=\"293.5\" y=\"278.0742\">const name = 'John'</text><line style=\"stroke:#181818;stroke-width:1.0;\" x1=\"451.5\" x2=\"493.5\" y1=\"296.8164\" y2=\"296.8164\"/><line style=\"stroke:#181818;stroke-width:1.0;\" x1=\"493.5\" x2=\"493.5\" y1=\"296.8164\" y2=\"309.8164\"/><line style=\"stroke:#181818;stroke-width:1.0;\" x1=\"452.5\" x2=\"493.5\" y1=\"309.8164\" y2=\"309.8164\"/><polygon fill=\"#181818\" points=\"462.5,305.8164,452.5,309.8164,462.5,313.8164,458.5,309.8164\" style=\"stroke:#181818;stroke-width:1.0;\"/><polygon fill=\"#181818\" points=\"297.5,335.127,287.5,339.127,297.5,343.127,293.5,339.127\" style=\"stroke:#181818;stroke-width:1.0;\"/><line style=\"stroke:#181818;stroke-width:1.0;stroke-dasharray:2.0,2.0;\" x1=\"291.5\" x2=\"450.5\" y1=\"339.127\" y2=\"339.127\"/><text fill=\"#000000\" font-family=\"sans-serif\" font-size=\"13\" lengthAdjust=\"spacing\" textLength=\"34\" x=\"303.5\" y=\"334.3848\">'John'</text><polygon fill=\"#181818\" points=\"65.5,364.4375,55.5,368.4375,65.5,372.4375,61.5,368.4375\" style=\"stroke:#181818;stroke-width:1.0;\"/><line style=\"stroke:#181818;stroke-width:1.0;\" x1=\"59.5\" x2=\"285.5\" y1=\"368.4375\" y2=\"368.4375\"/><text fill=\"#000000\" font-family=\"sans-serif\" font-size=\"13\" lengthAdjust=\"spacing\" textLength=\"171\" x=\"71.5\" y=\"363.6953\">dynamic html - render text</text><polygon fill=\"#181818\" points=\"439.5,393.748,449.5,397.748,439.5,401.748,443.5,397.748\" style=\"stroke:#181818;stroke-width:1.0;\"/><line style=\"stroke:#181818;stroke-width:1.0;\" x1=\"286.5\" x2=\"445.5\" y1=\"397.748\" y2=\"397.748\"/><text fill=\"#000000\" font-family=\"sans-serif\" font-size=\"13\" lengthAdjust=\"spacing\" textLength=\"141\" x=\"293.5\" y=\"393.0059\">`My name is ${name}`</text><line style=\"stroke:#181818;stroke-width:1.0;\" x1=\"451.5\" x2=\"493.5\" y1=\"411.748\" y2=\"411.748\"/><line style=\"stroke:#181818;stroke-width:1.0;\" x1=\"493.5\" x2=\"493.5\" y1=\"411.748\" y2=\"424.748\"/><line style=\"stroke:#181818;stroke-width:1.0;\" x1=\"452.5\" x2=\"493.5\" y1=\"424.748\" y2=\"424.748\"/><polygon fill=\"#181818\" points=\"462.5,420.748,452.5,424.748,462.5,428.748,458.5,424.748\" style=\"stroke:#181818;stroke-width:1.0;\"/><polygon fill=\"#181818\" points=\"297.5,450.0586,287.5,454.0586,297.5,458.0586,293.5,454.0586\" style=\"stroke:#181818;stroke-width:1.0;\"/><line style=\"stroke:#181818;stroke-width:1.0;stroke-dasharray:2.0,2.0;\" x1=\"291.5\" x2=\"450.5\" y1=\"454.0586\" y2=\"454.0586\"/><text fill=\"#000000\" font-family=\"sans-serif\" font-size=\"13\" lengthAdjust=\"spacing\" textLength=\"109\" x=\"303.5\" y=\"449.3164\">'My name is John'</text><polygon fill=\"#181818\" points=\"65.5,479.3691,55.5,483.3691,65.5,487.3691,61.5,483.3691\" style=\"stroke:#181818;stroke-width:1.0;\"/><line style=\"stroke:#181818;stroke-width:1.0;\" x1=\"59.5\" x2=\"285.5\" y1=\"483.3691\" y2=\"483.3691\"/><text fill=\"#000000\" font-family=\"sans-serif\" font-size=\"13\" lengthAdjust=\"spacing\" textLength=\"171\" x=\"71.5\" y=\"478.627\">dynamic html - render text</text><line style=\"stroke:#000000;stroke-width:1.0;stroke-dasharray:2.0,2.0;\" x1=\"10\" x2=\"501.5\" y1=\"492.3691\" y2=\"492.3691\"/><text fill=\"#000000\" font-family=\"sans-serif\" font-size=\"11\" font-weight=\"bold\" lengthAdjust=\"spacing\" textLength=\"121\" x=\"15\" y=\"503.0039\">[Kernel Still Running]</text><polygon fill=\"#181818\" points=\"274.5,523.6348,284.5,527.6348,274.5,531.6348,278.5,527.6348\" style=\"stroke:#181818;stroke-width:1.0;\"/><line style=\"stroke:#181818;stroke-width:1.0;\" x1=\"54.5\" x2=\"280.5\" y1=\"527.6348\" y2=\"527.6348\"/><text fill=\"#000000\" font-family=\"sans-serif\" font-size=\"13\" lengthAdjust=\"spacing\" textLength=\"75\" x=\"61.5\" y=\"522.8926\">Execute cell</text><polygon fill=\"#181818\" points=\"439.5,552.9453,449.5,556.9453,439.5,560.9453,443.5,556.9453\" style=\"stroke:#181818;stroke-width:1.0;\"/><line style=\"stroke:#181818;stroke-width:1.0;\" x1=\"286.5\" x2=\"445.5\" y1=\"556.9453\" y2=\"556.9453\"/><text fill=\"#000000\" font-family=\"sans-serif\" font-size=\"13\" lengthAdjust=\"spacing\" textLength=\"141\" x=\"293.5\" y=\"552.2031\">`My name is ${name}`</text><line style=\"stroke:#181818;stroke-width:1.0;\" x1=\"451.5\" x2=\"493.5\" y1=\"570.9453\" y2=\"570.9453\"/><line style=\"stroke:#181818;stroke-width:1.0;\" x1=\"493.5\" x2=\"493.5\" y1=\"570.9453\" y2=\"583.9453\"/><line style=\"stroke:#181818;stroke-width:1.0;\" x1=\"452.5\" x2=\"493.5\" y1=\"583.9453\" y2=\"583.9453\"/><polygon fill=\"#181818\" points=\"462.5,579.9453,452.5,583.9453,462.5,587.9453,458.5,583.9453\" style=\"stroke:#181818;stroke-width:1.0;\"/><polygon fill=\"#181818\" points=\"297.5,609.2559,287.5,613.2559,297.5,617.2559,293.5,613.2559\" style=\"stroke:#181818;stroke-width:1.0;\"/><line style=\"stroke:#181818;stroke-width:1.0;stroke-dasharray:2.0,2.0;\" x1=\"291.5\" x2=\"450.5\" y1=\"613.2559\" y2=\"613.2559\"/><text fill=\"#000000\" font-family=\"sans-serif\" font-size=\"13\" lengthAdjust=\"spacing\" textLength=\"109\" x=\"303.5\" y=\"608.5137\">'My name is John'</text><polygon fill=\"#181818\" points=\"65.5,638.5664,55.5,642.5664,65.5,646.5664,61.5,642.5664\" style=\"stroke:#181818;stroke-width:1.0;\"/><line style=\"stroke:#181818;stroke-width:1.0;\" x1=\"59.5\" x2=\"285.5\" y1=\"642.5664\" y2=\"642.5664\"/><text fill=\"#000000\" font-family=\"sans-serif\" font-size=\"13\" lengthAdjust=\"spacing\" textLength=\"171\" x=\"71.5\" y=\"637.8242\">dynamic html - render text</text><!--MD5=[7768761810f176655a5c1d59cd234880]\n",
       "@startuml\r\n",
       "participant Browser as browser\r\n",
       "participant \"Notebook\\nServer\" as server\r\n",
       "participant \"Kernel\\nInstance\" as kernel\r\n",
       "\r\n",
       "\r\n",
       "alt first execution:\r\n",
       "    browser -> server: Execute Notebook\r\n",
       "\r\n",
       "    server -> kernel **\r\n",
       "\r\n",
       "    server -> server: get cells()\r\n",
       "\r\n",
       "    server -> browser: dynamic html - render mimetype\\ntext/markdown\r\n",
       "\r\n",
       "    server -> kernel : const name = 'John'\r\n",
       "    kernel -> kernel :\r\n",
       "    kernel - -> server: 'John'\r\n",
       "    server -> browser: dynamic html - render text\r\n",
       "\r\n",
       "    server -> kernel : `My name is ${name}`\r\n",
       "    kernel -> kernel :\r\n",
       "    kernel - -> server: 'My name is John'\r\n",
       "    server -> browser: dynamic html - render text\r\n",
       "\r\n",
       "else Kernel Still Running\r\n",
       "    browser -> server: Execute cell\r\n",
       "\r\n",
       "    server -> kernel : `My name is ${name}`\r\n",
       "    kernel -> kernel :\r\n",
       "    kernel - -> server: 'My name is John'\r\n",
       "    server -> browser: dynamic html - render text\r\n",
       "\r\n",
       "end alt\r\n",
       "@enduml\r\n",
       "\n",
       "PlantUML version 1.2022.5(Sat Apr 30 05:55:52 CDT 2022)\n",
       "(GPL source distribution)\n",
       "Java Runtime: OpenJDK Runtime Environment\n",
       "JVM: OpenJDK 64-Bit Server VM\n",
       "Default Encoding: UTF-8\n",
       "Language: en\n",
       "Country: US\n",
       "--></g></svg>"
      ]
     },
     "execution_count": 85,
     "metadata": {},
     "output_type": "execute_result"
    }
   ],
   "source": [
    "utils.plantuml.render(`\n",
    "participant Browser as browser\n",
    "participant \"Notebook\\\\nServer\" as server\n",
    "participant \"Kernel\\\\nInstance\" as kernel\n",
    "\n",
    "\n",
    "alt first execution:\n",
    "    browser -> server: Execute Notebook\n",
    "\n",
    "    server -> kernel **\n",
    "\n",
    "    server -> server: get cells()\n",
    "\n",
    "    server -> browser: dynamic html - render mimetype\\\\ntext/markdown\n",
    "\n",
    "    server -> kernel : const name = 'John'\n",
    "    kernel -> kernel :\n",
    "    kernel --> server: 'John'\n",
    "    server -> browser: dynamic html - render text\n",
    "\n",
    "    server -> kernel : \\`My name is \\${name}\\`\n",
    "    kernel -> kernel :\n",
    "    kernel --> server: 'My name is John'\n",
    "    server -> browser: dynamic html - render text\n",
    "\n",
    "else Kernel Still Running\n",
    "    browser -> server: Execute cell\n",
    "\n",
    "    server -> kernel : \\`My name is \\${name}\\`\n",
    "    kernel -> kernel :\n",
    "    kernel --> server: 'My name is John'\n",
    "    server -> browser: dynamic html - render text\n",
    "\n",
    "end alt\n",
    "\n",
    "`)"
   ]
  },
  {
   "cell_type": "markdown",
   "id": "d09c8e65-8455-4263-9b27-e84491175936",
   "metadata": {},
   "source": [
    "## Kernel Management\n",
    "\n",
    "Within Jupyter, we have a list of Kernels that are currently 'running' (active) - each providing a running instance that the code is executing within."
   ]
  },
  {
   "cell_type": "markdown",
   "id": "7322a73d-ed6c-40f6-a6cd-21e75874ac80",
   "metadata": {},
   "source": [
    "![screenshot of jupyter lab kernel management](../img/architecture_kernelManagement.png)"
   ]
  },
  {
   "cell_type": "markdown",
   "id": "d7d6bd4d-e379-48ae-a32a-afb3ec4495d3",
   "metadata": {},
   "source": [
    "When a document is initially run (and there is no running instance for that document), then one is instantiated.\n",
    "\n",
    "Jupyter Lab is managing those instances, and they can be killed at will.\n",
    "\n",
    "Although there are some advanced topics for exceptions, generally each document has their own kernel instance"
   ]
  },
  {
   "cell_type": "code",
   "execution_count": 83,
   "id": "f6370fcb-94b8-4b3f-a4b3-06123964009b",
   "metadata": {
    "tags": []
   },
   "outputs": [
    {
     "data": {
      "image/svg+xml": [
       "<?xml version=\"1.0\" encoding=\"UTF-8\" standalone=\"no\"?><svg xmlns=\"http://www.w3.org/2000/svg\" xmlns:xlink=\"http://www.w3.org/1999/xlink\" contentStyleType=\"text/css\" height=\"228px\" preserveAspectRatio=\"none\" style=\"width:747px;height:228px;background:#FFFFFF;\" version=\"1.1\" viewBox=\"0 0 747 228\" width=\"747px\" zoomAndPan=\"magnify\"><defs/><g><!--MD5=[b1435b213846e3ddcd1e6c1cd6b83b9a]\n",
       "entity Server--><g id=\"elem_Server\"><path d=\"M17.093,78.4537 C21.3739,72.39 25.9234,72.9022 29.7257,78.9528 C33.7028,73.0034 39.0348,71.7669 43.7862,78.0638 C46.5833,72.4268 52.8058,71.7491 56.6377,76.8221 C61.1339,71.0268 65.7258,71.0303 69.3045,77.7506 C71.8895,71.0246 76.3797,71.8473 80.6255,76.0266 C85.4773,68.6152 91.0449,68.8984 95.1732,76.7177 C98.1758,71.1557 103.9326,70.743 106.7572,76.8937 C110.9613,71.5522 116.5999,71.8383 120.0257,77.8068 C124.7449,72.4639 129.138,73.0093 131.8334,79.7795 C135.471,74.5469 140.5763,73.6578 144.5226,79.4232 C153.3043,81.7189 156.3095,88.6729 149.2419,95.5941 C154.2696,102.3272 152.3886,106.7663 145.1469,110.0157 C141.0186,116.0612 136.8734,116.6448 132.262,110.5274 C129.4416,115.782 123.2936,116.2882 119.7499,111.4216 C116.5578,117.7511 111.5111,118.9176 106.4425,113.5579 C104.0018,119.1256 99.9624,121.2799 95.1701,116.002 C91.286,121.7767 85.1918,121.5843 81.4395,115.8447 C77.7669,123.4416 71.4214,121.6591 67.6039,115.9959 C63.2007,120.6519 59.696,120.9226 56.6852,114.6099 C51.047,120.623 46.4313,121.5738 42.2691,113.1373 C37.111,119.6509 32.0476,118.7868 29.203,111.0204 C24.5326,116.6093 21.2166,114.5377 18.0344,109.4618 C8.8565,108.6475 6.3799,101.8487 12.0572,94.9259 C6,88.3264 8.3169,80.5185 17.093,78.4537 \" fill=\"#DFF2D1\" style=\"stroke:#181818;stroke-width:1.0;\"/><text fill=\"#000000\" font-family=\"sans-serif\" font-size=\"14\" lengthAdjust=\"spacing\" textLength=\"114\" x=\"23.2017\" y=\"98.8752\">Notebook Server</text></g><!--MD5=[cb798c5dd5bb639090b009f755d03b00]\n",
       "entity Kernel--><g id=\"elem_Kernel\"><rect fill=\"#DFF2D1\" height=\"46.4883\" rx=\"2.5\" ry=\"2.5\" style=\"stroke:#181818;stroke-width:1.0;\" width=\"84\" x=\"657.2017\" y=\"70.34\"/><rect fill=\"#DFF2D1\" height=\"10\" style=\"stroke:#181818;stroke-width:1.0;\" width=\"15\" x=\"721.2017\" y=\"75.34\"/><rect fill=\"#DFF2D1\" height=\"2\" style=\"stroke:#181818;stroke-width:1.0;\" width=\"4\" x=\"719.2017\" y=\"77.34\"/><rect fill=\"#DFF2D1\" height=\"2\" style=\"stroke:#181818;stroke-width:1.0;\" width=\"4\" x=\"719.2017\" y=\"81.34\"/><text fill=\"#000000\" font-family=\"sans-serif\" font-size=\"14\" lengthAdjust=\"spacing\" textLength=\"44\" x=\"672.2017\" y=\"103.8752\">Kernel</text></g><!--MD5=[980db8b78ba88f0baa9d1274404985fb]\n",
       "entity Notebook1Kernel--><g id=\"elem_Notebook1Kernel\"><rect fill=\"#DFF2D1\" height=\"62.9766\" rx=\"2.5\" ry=\"2.5\" style=\"stroke:#181818;stroke-width:1.0;\" width=\"159\" x=\"438.2017\" y=\"61.84\"/><rect fill=\"#DFF2D1\" height=\"10\" style=\"stroke:#181818;stroke-width:1.0;\" width=\"15\" x=\"577.2017\" y=\"66.84\"/><rect fill=\"#DFF2D1\" height=\"2\" style=\"stroke:#181818;stroke-width:1.0;\" width=\"4\" x=\"575.2017\" y=\"68.84\"/><rect fill=\"#DFF2D1\" height=\"2\" style=\"stroke:#181818;stroke-width:1.0;\" width=\"4\" x=\"575.2017\" y=\"72.84\"/><text fill=\"#000000\" font-family=\"sans-serif\" font-size=\"14\" lengthAdjust=\"spacing\" textLength=\"119\" x=\"453.2017\" y=\"95.3752\">«Kernel Instance»</text><text fill=\"#000000\" font-family=\"sans-serif\" font-size=\"14\" lengthAdjust=\"spacing\" textLength=\"76\" x=\"453.2017\" y=\"111.8634\">Notebook1</text></g><!--MD5=[27f0c296801bd43a1f85bde6e77e49ad]\n",
       "entity Notebook2Kernel--><g id=\"elem_Notebook2Kernel\"><rect fill=\"#DFF2D1\" height=\"62.9766\" rx=\"2.5\" ry=\"2.5\" style=\"stroke:#181818;stroke-width:1.0;\" width=\"159\" x=\"438.2017\" y=\"159.84\"/><rect fill=\"#DFF2D1\" height=\"10\" style=\"stroke:#181818;stroke-width:1.0;\" width=\"15\" x=\"577.2017\" y=\"164.84\"/><rect fill=\"#DFF2D1\" height=\"2\" style=\"stroke:#181818;stroke-width:1.0;\" width=\"4\" x=\"575.2017\" y=\"166.84\"/><rect fill=\"#DFF2D1\" height=\"2\" style=\"stroke:#181818;stroke-width:1.0;\" width=\"4\" x=\"575.2017\" y=\"170.84\"/><text fill=\"#000000\" font-family=\"sans-serif\" font-size=\"14\" lengthAdjust=\"spacing\" textLength=\"119\" x=\"453.2017\" y=\"193.3752\">«Kernel Instance»</text><text fill=\"#000000\" font-family=\"sans-serif\" font-size=\"14\" lengthAdjust=\"spacing\" textLength=\"81\" x=\"453.2017\" y=\"209.8634\">\"Notebook2</text></g><!--MD5=[8d8fb78db1f7f4513498002f81e9743e]\n",
       "entity Notebook1--><g id=\"elem_Notebook1\"><path d=\"M212.2017,77.84 L212.2017,109.3283 A2.5,2.5 0 0 0 214.7017,111.8283 L375.7017,111.8283 A2.5,2.5 0 0 0 378.2017,109.3283 L378.2017,85.34 L368.2017,75.34 L214.7017,75.34 A2.5,2.5 0 0 0 212.2017,77.84 \" fill=\"#D9D9D9\" style=\"stroke:#181818;stroke-width:1.0;\"/><path d=\"M368.2017,75.34 L368.2017,82.84 A2.5,2.5 0 0 0 370.7017,85.34 L378.2017,85.34 \" fill=\"#D9D9D9\" style=\"stroke:#181818;stroke-width:1.0;\"/><text fill=\"#000000\" font-family=\"sans-serif\" font-size=\"14\" lengthAdjust=\"spacing\" textLength=\"146\" x=\"222.2017\" y=\"98.8752\">Notebook1.ipynb File</text></g><!--MD5=[f77e7b6d69fbb52bb649a59d05901776]\n",
       "entity Notebook2--><g id=\"elem_Notebook2\"><path d=\"M212.2017,161.84 L212.2017,193.3283 A2.5,2.5 0 0 0 214.7017,195.8283 L375.7017,195.8283 A2.5,2.5 0 0 0 378.2017,193.3283 L378.2017,169.34 L368.2017,159.34 L214.7017,159.34 A2.5,2.5 0 0 0 212.2017,161.84 \" fill=\"#D9D9D9\" style=\"stroke:#181818;stroke-width:1.0;\"/><path d=\"M368.2017,159.34 L368.2017,166.84 A2.5,2.5 0 0 0 370.7017,169.34 L378.2017,169.34 \" fill=\"#D9D9D9\" style=\"stroke:#181818;stroke-width:1.0;\"/><text fill=\"#000000\" font-family=\"sans-serif\" font-size=\"14\" lengthAdjust=\"spacing\" textLength=\"146\" x=\"222.2017\" y=\"182.8752\">Notebook2.ipynb File</text></g><!--MD5=[06edb24f9914f6522ab5e12c0eba6238]\n",
       "link Server to Notebook1--><g id=\"link_Server_Notebook1\"><path d=\"M152.4217,93.34 C169.8917,93.34 188.7817,93.34 206.9117,93.34 \" fill=\"none\" id=\"Server-to-Notebook1\" style=\"stroke:#181818;stroke-width:1.0;\"/><polygon fill=\"#181818\" points=\"212.0017,93.34,203.0017,89.34,207.0017,93.34,203.0017,97.34,212.0017,93.34\" style=\"stroke:#181818;stroke-width:1.0;\"/></g><!--MD5=[c7ef5ccc2679c3836444ca268242c1a4]\n",
       "link Server to Notebook2--><g id=\"link_Server_Notebook2\"><path d=\"M139.6817,116.4 C172.1817,129.22 212.2317,145.01 243.4117,157.31 \" fill=\"none\" id=\"Server-to-Notebook2\" style=\"stroke:#181818;stroke-width:1.0;\"/><polygon fill=\"#181818\" points=\"248.3317,159.25,241.4236,152.2302,243.6795,157.4178,238.492,159.6737,248.3317,159.25\" style=\"stroke:#181818;stroke-width:1.0;\"/></g><!--MD5=[db1393b37c1f9d80da9a2e15560cfc15]\n",
       "link Server to Kernel--><g id=\"link_Server_Kernel\"><path d=\"M152.3317,70.87 C171.5817,65.59 192.5317,60.57 212.2017,57.34 C381.1417,29.59 430.3417,6 597.2017,44.34 C617.5117,49.01 638.4817,58.33 656.0117,67.6 \" fill=\"none\" id=\"Server-to-Kernel\" style=\"stroke:#181818;stroke-width:1.0;\"/><polygon fill=\"#181818\" points=\"660.8617,70.21,654.8369,62.4189,656.4603,67.8378,651.0414,69.4612,660.8617,70.21\" style=\"stroke:#181818;stroke-width:1.0;\"/></g><!--MD5=[c65f8e0764c2442dcd8a494ada38c61a]\n",
       "link Notebook1 to Notebook1Kernel--><g id=\"link_Notebook1_Notebook1Kernel\"><path d=\"M378.3117,93.34 C396.2117,93.34 415.1817,93.34 433.1517,93.34 \" fill=\"none\" id=\"Notebook1-to-Notebook1Kernel\" style=\"stroke:#181818;stroke-width:1.0;\"/><polygon fill=\"#181818\" points=\"438.1817,93.34,429.1817,89.34,433.1817,93.34,429.1817,97.34,438.1817,93.34\" style=\"stroke:#181818;stroke-width:1.0;\"/></g><!--MD5=[aae24b436de0c0ac3d82c9ebe464c133]\n",
       "link Notebook2 to Notebook2Kernel--><g id=\"link_Notebook2_Notebook2Kernel\"><path d=\"M378.3117,182.55 C396.2117,183.69 415.1817,184.89 433.1517,186.03 \" fill=\"none\" id=\"Notebook2-to-Notebook2Kernel\" style=\"stroke:#181818;stroke-width:1.0;\"/><polygon fill=\"#181818\" points=\"438.1817,186.35,429.4512,181.7917,433.1916,186.0354,428.9479,189.7759,438.1817,186.35\" style=\"stroke:#181818;stroke-width:1.0;\"/></g><!--MD5=[cc5db17b7015e45e7f23b04b16c616b4]\n",
       "link Notebook1Kernel to Kernel--><g id=\"link_Notebook1Kernel_Kernel\"><path d=\"M597.4317,93.34 C617.9717,93.34 639.2817,93.34 656.9917,93.34 \" fill=\"none\" id=\"Notebook1Kernel-Kernel\" style=\"stroke:#181818;stroke-width:1.0;stroke-dasharray:7.0,7.0;\"/></g><!--MD5=[ad4c9f0e7a0b18fd98dc1ea3e0bce110]\n",
       "link Notebook2Kernel to Kernel--><g id=\"link_Notebook2Kernel_Kernel\"><path d=\"M576.4817,159.79 C602.7217,145.47 633.1517,128.86 657.0217,115.82 \" fill=\"none\" id=\"Notebook2Kernel-Kernel\" style=\"stroke:#181818;stroke-width:1.0;stroke-dasharray:7.0,7.0;\"/></g><!--MD5=[26b57047c50eed4d934c2164aa80c4da]\n",
       "@startuml\r\n",
       "left to right direction\r\n",
       "\r\n",
       "<style>\r\n",
       "rectangle {\r\n",
       "  BackGroundColor #dfd1f2\r\n",
       "  LineThickness 1\r\n",
       "  LineColor black\r\n",
       "}\r\n",
       "cloud {\r\n",
       "    BackGroundColor #dff2d1\r\n",
       "    LineThickness 1\r\n",
       "}\r\n",
       "component {\r\n",
       "    BackGroundColor #dff2d1\r\n",
       "    LineThickness 1\r\n",
       "}\r\n",
       "file {\r\n",
       "    BackGroundColor #d9d9d9\r\n",
       "    LineThickness 1\r\n",
       "}\r\n",
       "</style>\r\n",
       "\r\n",
       "cloud \"Notebook Server\" as Server\r\n",
       "component Kernel\r\n",
       "component \"<<Kernel Instance>>\\nNotebook1\" as Notebook1Kernel\r\n",
       "component \"<<Kernel Instance>>\\n\"Notebook2\" as Notebook2Kernel\r\n",
       "file \"Notebook1.ipynb File\" as Notebook1\r\n",
       "file \"Notebook2.ipynb File\" as Notebook2\r\n",
       "\r\n",
       "Server -do-> Notebook1\r\n",
       "Server -do-> Notebook2\r\n",
       "Server -do-> Kernel\r\n",
       "\r\n",
       "Notebook1 -do-> Notebook1Kernel\r\n",
       "Notebook2 -do-> Notebook2Kernel\r\n",
       "\r\n",
       "Notebook1Kernel .. Kernel\r\n",
       "Notebook2Kernel .. Kernel\r\n",
       "@enduml\r\n",
       "\n",
       "PlantUML version 1.2022.5(Sat Apr 30 05:55:52 CDT 2022)\n",
       "(GPL source distribution)\n",
       "Java Runtime: OpenJDK Runtime Environment\n",
       "JVM: OpenJDK 64-Bit Server VM\n",
       "Default Encoding: UTF-8\n",
       "Language: en\n",
       "Country: US\n",
       "--></g></svg>"
      ]
     },
     "execution_count": 83,
     "metadata": {},
     "output_type": "execute_result"
    }
   ],
   "source": [
    "utils.plantuml.render(`\n",
    "@startuml\n",
    "left to right direction\n",
    "\n",
    "<style>\n",
    "rectangle {\n",
    "  BackGroundColor #dfd1f2\n",
    "  LineThickness 1\n",
    "  LineColor black\n",
    "}\n",
    "cloud {\n",
    "    BackGroundColor #dff2d1\n",
    "    LineThickness 1\n",
    "}\n",
    "component {\n",
    "    BackGroundColor #dff2d1\n",
    "    LineThickness 1\n",
    "}\n",
    "file {\n",
    "    BackGroundColor #d9d9d9\n",
    "    LineThickness 1\n",
    "}\n",
    "</style>\n",
    "\n",
    "cloud \"Notebook Server\" as Server\n",
    "component Kernel\n",
    "component \"<<Kernel Instance>>\\\\nNotebook1\" as Notebook1Kernel\n",
    "component \"<<Kernel Instance>>\\\\n\"Notebook2\" as Notebook2Kernel\n",
    "file \"Notebook1.ipynb File\" as Notebook1\n",
    "file \"Notebook2.ipynb File\" as Notebook2\n",
    "\n",
    "Server -do-> Notebook1\n",
    "Server -do-> Notebook2\n",
    "Server -do-> Kernel\n",
    "\n",
    "Notebook1 -do-> Notebook1Kernel\n",
    "Notebook2 -do-> Notebook2Kernel\n",
    "\n",
    "Notebook1Kernel .. Kernel\n",
    "Notebook2Kernel .. Kernel\n",
    "\n",
    "@enduml\n",
    "`)"
   ]
  },
  {
   "cell_type": "markdown",
   "id": "9337fbf4-a33c-4a9e-bb92-47e5058a89fe",
   "metadata": {},
   "source": [
    "# Mime Types\n",
    "\n",
    "The [iJavaScript Kernel](http://n-riesco.github.io/ijavascript/doc/custom.ipynb.html) - and Jupyter Lab in general, supports rendering results in multiple types of formats:\n",
    "\n",
    "* \\$\\$.text - renders out results as Plain Text\n",
    "* \\$\\$.html - renders out results as HTML\n",
    "* \\$\\$.svg -  renders out results as SVG\n",
    "* \\$\\$.png -  renders out results as PNG\n",
    "* \\$\\$.jpeg - renders out results as JPEG\n",
    "* \\$\\$.mime - lets you specify the mime type the results should be shown\n",
    "\n",
    "See the [docs](http://n-riesco.github.io/ijavascript/doc/custom.ipynb.html) for more.\n",
    "\n",
    "This can be quite helpful, as NPM Modules can generate the SVG Code, and then render them using one of those mime types.\n",
    "\n",
    "![Screenshot generating SVG from Vega-Lite](../img/vegaObjectSchema.png)"
   ]
  },
  {
   "cell_type": "markdown",
   "id": "8b0b7e0f-ceea-4644-94aa-bb1ddd17716b",
   "metadata": {},
   "source": [
    "## Dynamic HTML\n",
    "\n",
    "Note that this is not like a typical webpage, where the entire document must be executed.\n",
    "\n",
    "Note that with the page as multiple cells, we have control over the order that the cells are executed.\n",
    "\n",
    "We can pick and choose one specific cell, all cells after a specific point, etc.\n",
    "\n",
    "The results are then injected into the DOM through dynamic html / javascript directly underneath the 'cell contents' - as 'cell results'"
   ]
  },
  {
   "cell_type": "markdown",
   "id": "b0bc111d-2121-4dd6-a0aa-be5b838e916b",
   "metadata": {},
   "source": [
    "![screenshot of jupyter running](../img/architecture_exampleExecution.png)"
   ]
  },
  {
   "cell_type": "markdown",
   "id": "f809917d-e9e6-48b5-9465-d636cf62e402",
   "metadata": {},
   "source": [
    "----\n",
    "\n",
    "# HTML Script\n",
    "\n",
    "This brings us to the [HTML Script](https://jupyter-ijavascript-utils.onrender.com/module-ijs.html#.htmlScript) concept of Browser - Server division of labor.\n",
    "\n",
    "(Yes I know the name is irritating :) - we are welcome to suggestions)\n",
    "\n",
    "Normally, Jupyter Lab manages replacing the 'cell results' with the response from the Kernel.\n",
    "\n",
    "**Although it was not always the case, it appears that the response from the server can only be returned once per execution.**\n",
    "\n",
    "*(Slight Note: `console.log()` requests can be called multiple times, and appended in real time)*\n",
    "\n",
    "This means that Animations are typically impossible, because the server can only dynamically update the html results once."
   ]
  },
  {
   "cell_type": "markdown",
   "id": "7bf5a3d4-cef9-4228-a367-9b76a27db77d",
   "metadata": {},
   "source": [
    "**We CAN do animations though with HTML Script calls**"
   ]
  },
  {
   "cell_type": "markdown",
   "id": "8ee1ec73-bd8b-4d6c-92f3-2b3b93838eb3",
   "metadata": {},
   "source": [
    "In this case, we are returning back html, that also has JavaScript executed on the client side upon render.\n",
    "\n",
    "We can also leverage a number of other techniques to serialize NodeJS functions, code and data - and pass them to the browser (client side).\n",
    "\n",
    "The [utils.ijs.htmlScript()](https://jupyter-ijavascript-utils.onrender.com/module-ijs.html#.htmlScript) method generates html that is then executed on the client once the dynamic html is rendered.  (Such as loading scripts from a CDN, and the NodeJS script that will be converted and passed to the client to run when all dependencies have been loaded)\n",
    "\n",
    "![Screenshot](../img/htmlScript_qrCode.png)"
   ]
  },
  {
   "cell_type": "code",
   "execution_count": 98,
   "id": "9e842f01-35e0-482e-b6a6-03bac37fb01c",
   "metadata": {
    "tags": []
   },
   "outputs": [
    {
     "data": {
      "image/svg+xml": [
       "<?xml version=\"1.0\" encoding=\"UTF-8\" standalone=\"no\"?><svg xmlns=\"http://www.w3.org/2000/svg\" xmlns:xlink=\"http://www.w3.org/1999/xlink\" contentStyleType=\"text/css\" height=\"447px\" preserveAspectRatio=\"none\" style=\"width:812px;height:447px;background:#FFFFFF;\" version=\"1.1\" viewBox=\"0 0 812 447\" width=\"812px\" zoomAndPan=\"magnify\"><defs/><g><rect height=\"133.5527\" style=\"stroke:#000000;stroke-width:1.5;fill:none;\" width=\"403\" x=\"10\" y=\"202.5293\"/><line style=\"stroke:#181818;stroke-width:0.5;fill:none;stroke-dasharray:5.0,5.0;\" x1=\"42\" x2=\"42\" y1=\"52.9766\" y2=\"395.3926\"/><line style=\"stroke:#181818;stroke-width:0.5;fill:none;stroke-dasharray:5.0,5.0;\" x1=\"240.5\" x2=\"240.5\" y1=\"52.9766\" y2=\"395.3926\"/><line style=\"stroke:#181818;stroke-width:0.5;fill:none;stroke-dasharray:5.0,5.0;\" x1=\"457.5\" x2=\"457.5\" y1=\"52.9766\" y2=\"395.3926\"/><line style=\"stroke:#181818;stroke-width:0.5;fill:none;stroke-dasharray:5.0,5.0;\" x1=\"770.5\" x2=\"770.5\" y1=\"52.9766\" y2=\"395.3926\"/><rect fill=\"#E2E2F0\" height=\"30.4883\" rx=\"2.5\" ry=\"2.5\" style=\"stroke:#181818;stroke-width:0.5;\" width=\"44\" x=\"20\" y=\"21.4883\"/><text fill=\"#000000\" font-family=\"sans-serif\" font-size=\"14\" lengthAdjust=\"spacing\" textLength=\"30\" x=\"27\" y=\"42.0234\">CDN</text><rect fill=\"#E2E2F0\" height=\"30.4883\" rx=\"2.5\" ry=\"2.5\" style=\"stroke:#181818;stroke-width:0.5;\" width=\"44\" x=\"20\" y=\"394.3926\"/><text fill=\"#000000\" font-family=\"sans-serif\" font-size=\"14\" lengthAdjust=\"spacing\" textLength=\"30\" x=\"27\" y=\"414.9277\">CDN</text><rect fill=\"#E2E2F0\" height=\"30.4883\" rx=\"2.5\" ry=\"2.5\" style=\"stroke:#181818;stroke-width:0.5;\" width=\"69\" x=\"206.5\" y=\"21.4883\"/><text fill=\"#000000\" font-family=\"sans-serif\" font-size=\"14\" lengthAdjust=\"spacing\" textLength=\"55\" x=\"213.5\" y=\"42.0234\">Browser</text><rect fill=\"#E2E2F0\" height=\"30.4883\" rx=\"2.5\" ry=\"2.5\" style=\"stroke:#181818;stroke-width:0.5;\" width=\"69\" x=\"206.5\" y=\"394.3926\"/><text fill=\"#000000\" font-family=\"sans-serif\" font-size=\"14\" lengthAdjust=\"spacing\" textLength=\"55\" x=\"213.5\" y=\"414.9277\">Browser</text><rect fill=\"#E2E2F0\" height=\"46.9766\" rx=\"2.5\" ry=\"2.5\" style=\"stroke:#181818;stroke-width:0.5;\" width=\"81\" x=\"417.5\" y=\"5\"/><text fill=\"#000000\" font-family=\"sans-serif\" font-size=\"14\" lengthAdjust=\"spacing\" textLength=\"67\" x=\"424.5\" y=\"25.5352\">Notebook</text><text fill=\"#000000\" font-family=\"sans-serif\" font-size=\"14\" lengthAdjust=\"spacing\" textLength=\"43\" x=\"436.5\" y=\"42.0234\">Server</text><rect fill=\"#E2E2F0\" height=\"46.9766\" rx=\"2.5\" ry=\"2.5\" style=\"stroke:#181818;stroke-width:0.5;\" width=\"81\" x=\"417.5\" y=\"394.3926\"/><text fill=\"#000000\" font-family=\"sans-serif\" font-size=\"14\" lengthAdjust=\"spacing\" textLength=\"67\" x=\"424.5\" y=\"414.9277\">Notebook</text><text fill=\"#000000\" font-family=\"sans-serif\" font-size=\"14\" lengthAdjust=\"spacing\" textLength=\"43\" x=\"436.5\" y=\"431.416\">Server</text><rect fill=\"#E2E2F0\" height=\"46.9766\" rx=\"2.5\" ry=\"2.5\" style=\"stroke:#181818;stroke-width:0.5;\" width=\"71\" x=\"735.5\" y=\"5\"/><text fill=\"#000000\" font-family=\"sans-serif\" font-size=\"14\" lengthAdjust=\"spacing\" textLength=\"44\" x=\"749\" y=\"25.5352\">Kernel</text><text fill=\"#000000\" font-family=\"sans-serif\" font-size=\"14\" lengthAdjust=\"spacing\" textLength=\"57\" x=\"742.5\" y=\"42.0234\">Instance</text><rect fill=\"#E2E2F0\" height=\"46.9766\" rx=\"2.5\" ry=\"2.5\" style=\"stroke:#181818;stroke-width:0.5;\" width=\"71\" x=\"735.5\" y=\"394.3926\"/><text fill=\"#000000\" font-family=\"sans-serif\" font-size=\"14\" lengthAdjust=\"spacing\" textLength=\"44\" x=\"749\" y=\"414.9277\">Kernel</text><text fill=\"#000000\" font-family=\"sans-serif\" font-size=\"14\" lengthAdjust=\"spacing\" textLength=\"57\" x=\"742.5\" y=\"431.416\">Instance</text><polygon fill=\"#181818\" points=\"446,80.2871,456,84.2871,446,88.2871,450,84.2871\" style=\"stroke:#181818;stroke-width:1.0;\"/><line style=\"stroke:#181818;stroke-width:1.0;\" x1=\"241\" x2=\"452\" y1=\"84.2871\" y2=\"84.2871\"/><text fill=\"#000000\" font-family=\"sans-serif\" font-size=\"13\" lengthAdjust=\"spacing\" textLength=\"75\" x=\"248\" y=\"79.5449\">Execute cell</text><polygon fill=\"#181818\" points=\"759,94.2871,769,98.2871,759,102.2871,763,98.2871\" style=\"stroke:#181818;stroke-width:1.0;\"/><line style=\"stroke:#181818;stroke-width:1.0;\" x1=\"458\" x2=\"765\" y1=\"98.2871\" y2=\"98.2871\"/><polygon fill=\"#181818\" points=\"469,154.2188,459,158.2188,469,162.2188,465,158.2188\" style=\"stroke:#181818;stroke-width:1.0;\"/><line style=\"stroke:#181818;stroke-width:1.0;stroke-dasharray:2.0,2.0;\" x1=\"463\" x2=\"770\" y1=\"158.2188\" y2=\"158.2188\"/><text fill=\"#000000\" font-family=\"sans-serif\" font-size=\"13\" lengthAdjust=\"spacing\" textLength=\"154\" x=\"475\" y=\"122.8555\">(data formatted as JSON,</text><text fill=\"#000000\" font-family=\"sans-serif\" font-size=\"13\" lengthAdjust=\"spacing\" textLength=\"289\" x=\"475\" y=\"138.166\">onReady node passed as .toString() JavaScript,</text><text fill=\"#000000\" font-family=\"sans-serif\" font-size=\"13\" lengthAdjust=\"spacing\" textLength=\"27\" x=\"479\" y=\"153.4766\">etc.)</text><polygon fill=\"#181818\" points=\"252,183.5293,242,187.5293,252,191.5293,248,187.5293\" style=\"stroke:#181818;stroke-width:1.0;\"/><line style=\"stroke:#181818;stroke-width:1.0;\" x1=\"246\" x2=\"457\" y1=\"187.5293\" y2=\"187.5293\"/><text fill=\"#000000\" font-family=\"sans-serif\" font-size=\"13\" lengthAdjust=\"spacing\" textLength=\"164\" x=\"258\" y=\"182.7871\">HTML + JavaScript + JSON</text><path d=\"M10,202.5293 L84,202.5293 L84,209.8398 L74,219.8398 L10,219.8398 L10,202.5293 \" fill=\"#EEEEEE\" style=\"stroke:#000000;stroke-width:1.5;\"/><rect fill=\"none\" height=\"133.5527\" style=\"stroke:#000000;stroke-width:1.5;\" width=\"403\" x=\"10\" y=\"202.5293\"/><text fill=\"#000000\" font-family=\"sans-serif\" font-size=\"13\" font-weight=\"bold\" lengthAdjust=\"spacing\" textLength=\"29\" x=\"25\" y=\"216.0977\">loop</text><text fill=\"#000000\" font-family=\"sans-serif\" font-size=\"11\" font-weight=\"bold\" lengthAdjust=\"spacing\" textLength=\"208\" x=\"99\" y=\"215.1641\">[load dependencies in order of array]</text><polygon fill=\"#181818\" points=\"53,252.4609,43,256.4609,53,260.4609,49,256.4609\" style=\"stroke:#181818;stroke-width:1.0;\"/><line style=\"stroke:#181818;stroke-width:1.0;\" x1=\"47\" x2=\"240\" y1=\"256.4609\" y2=\"256.4609\"/><text fill=\"#000000\" font-family=\"sans-serif\" font-size=\"13\" lengthAdjust=\"spacing\" textLength=\"118\" x=\"59\" y=\"236.4082\">generate script tag</text><text fill=\"#000000\" font-family=\"sans-serif\" font-size=\"13\" lengthAdjust=\"spacing\" textLength=\"175\" x=\"59\" y=\"251.7188\">load dependency from array</text><polygon fill=\"#181818\" points=\"229,266.4609,239,270.4609,229,274.4609,233,270.4609\" style=\"stroke:#181818;stroke-width:1.0;\"/><line style=\"stroke:#181818;stroke-width:1.0;stroke-dasharray:2.0,2.0;\" x1=\"42\" x2=\"235\" y1=\"270.4609\" y2=\"270.4609\"/><line style=\"stroke:#181818;stroke-width:1.0;\" x1=\"241\" x2=\"283\" y1=\"315.082\" y2=\"315.082\"/><line style=\"stroke:#181818;stroke-width:1.0;\" x1=\"283\" x2=\"283\" y1=\"315.082\" y2=\"328.082\"/><line style=\"stroke:#181818;stroke-width:1.0;\" x1=\"242\" x2=\"283\" y1=\"328.082\" y2=\"328.082\"/><polygon fill=\"#181818\" points=\"252,324.082,242,328.082,252,332.082,248,328.082\" style=\"stroke:#181818;stroke-width:1.0;\"/><text fill=\"#000000\" font-family=\"sans-serif\" font-size=\"13\" lengthAdjust=\"spacing\" textLength=\"119\" x=\"248\" y=\"295.0293\">script.onload(uuid)</text><text fill=\"#000000\" font-family=\"sans-serif\" font-size=\"13\" lengthAdjust=\"spacing\" textLength=\"153\" x=\"248\" y=\"310.3398\">to check if done loading</text><line style=\"stroke:#181818;stroke-width:1.0;\" x1=\"241\" x2=\"283\" y1=\"364.3926\" y2=\"364.3926\"/><line style=\"stroke:#181818;stroke-width:1.0;\" x1=\"283\" x2=\"283\" y1=\"364.3926\" y2=\"377.3926\"/><line style=\"stroke:#181818;stroke-width:1.0;\" x1=\"242\" x2=\"283\" y1=\"377.3926\" y2=\"377.3926\"/><polygon fill=\"#181818\" points=\"252,373.3926,242,377.3926,252,381.3926,248,377.3926\" style=\"stroke:#181818;stroke-width:1.0;\"/><text fill=\"#000000\" font-family=\"sans-serif\" font-size=\"13\" lengthAdjust=\"spacing\" textLength=\"203\" x=\"248\" y=\"359.6504\">onReady() executed in JavaScript</text><!--MD5=[84fa6c6e7574c6fbd53b6932b6c1418d]\n",
       "@startuml\r\n",
       "participant \"CDN\" as cdn\r\n",
       "participant Browser as browser\r\n",
       "participant \"Notebook\\nServer\" as server\r\n",
       "participant \"Kernel\\nInstance\" as kernel\r\n",
       "\r\n",
       "browser -> server: Execute cell\r\n",
       "\r\n",
       "server -> kernel:\r\n",
       "kernel - -> server: (data formatted as JSON,\\nonReady node passed as .toString() JavaScript,\\n etc.)\r\n",
       "\r\n",
       "server -> browser: HTML + JavaScript + JSON\r\n",
       "\r\n",
       "loop load dependencies in order of array\r\n",
       "    browser -> cdn: generate script tag\\nload dependency from array\r\n",
       "    cdn - -> browser:\r\n",
       "    browser -> browser: script.onload(uuid)\\nto check if done loading\r\n",
       "end loop\r\n",
       "\r\n",
       "browser -> browser: onReady() executed in JavaScript\r\n",
       "@enduml\r\n",
       "\n",
       "PlantUML version 1.2022.5(Sat Apr 30 05:55:52 CDT 2022)\n",
       "(GPL source distribution)\n",
       "Java Runtime: OpenJDK Runtime Environment\n",
       "JVM: OpenJDK 64-Bit Server VM\n",
       "Default Encoding: UTF-8\n",
       "Language: en\n",
       "Country: US\n",
       "--></g></svg>"
      ]
     },
     "execution_count": 98,
     "metadata": {},
     "output_type": "execute_result"
    }
   ],
   "source": [
    "utils.plantuml.render(`\n",
    "\n",
    "participant \"CDN\" as cdn\n",
    "participant Browser as browser\n",
    "participant \"Notebook\\\\nServer\" as server\n",
    "participant \"Kernel\\\\nInstance\" as kernel\n",
    "\n",
    "browser -> server: Execute cell\n",
    "\n",
    "server -> kernel:\n",
    "kernel --> server: (data formatted as JSON,\\\\nonReady node passed as .toString() JavaScript,\\\\n etc.)\n",
    "\n",
    "server -> browser: HTML + JavaScript + JSON\n",
    "\n",
    "loop load dependencies in order of array\n",
    "    browser -> cdn: generate script tag\\\\nload dependency from array\n",
    "    cdn --> browser:\n",
    "    browser -> browser: script.onload(uuid)\\\\nto check if done loading\n",
    "end loop\n",
    "\n",
    "browser -> browser: onReady() executed in JavaScript\n",
    "`)"
   ]
  },
  {
   "cell_type": "markdown",
   "id": "67126452-e36c-4782-9499-6b8cb86511e0",
   "metadata": {},
   "source": [
    "HTMLScript takes care of writing the HTML code to be run on the client and simply rendered with the HTML mime type.\n",
    "\n",
    "At this point it is very similar to developing an html page, but one that can be leveraged again and again in its own isolated environment.\n",
    "\n",
    "(Note: we are still working on leveraging ShadowRoots for the results - see [Issue #2](https://github.com/paulroth3d/jupyter-ijavascript-utils/issues/2))"
   ]
  },
  {
   "cell_type": "markdown",
   "id": "9a4499cc-b444-44fd-a8ef-59f131cd3247",
   "metadata": {},
   "source": [
    "![Screenshot of leaflet using htmlScript](../img/htmlScript_leaflet.png)"
   ]
  },
  {
   "cell_type": "markdown",
   "id": "31a967a9-2551-47f6-8b6d-b8c25a81e318",
   "metadata": {},
   "source": [
    "(See [the jupyter-ijavascript-utils leaflet module for more](https://jupyter-ijavascript-utils.onrender.com/module-leaflet.html))"
   ]
  },
  {
   "cell_type": "markdown",
   "id": "5797cbba-bc3e-4698-b8c7-afa1d31b5787",
   "metadata": {},
   "source": [
    "---\n",
    "\n",
    "# Asynchronous Requests"
   ]
  },
  {
   "cell_type": "markdown",
   "id": "38640964-f1d9-45c7-bf86-fe68bfd1af9d",
   "metadata": {},
   "source": [
    "Please note that the use of Asynchronous Requests is very common.\n",
    "\n",
    "The [utils.ijs.await](https://jupyter-ijavascript-utils.onrender.com/module-ijs.html#.await) was intended to simplify the use of await until it has full support in the kernel.\n",
    "\n",
    "Await allows for synchronous coding when working with asynchronous promises.\n",
    "                      \n",
    "[To leverage await in Javascript](https://developer.mozilla.org/en-US/docs/Web/JavaScript/Reference/Statements/async_function), it requires:\n",
    "\n",
    "* an `async function` that then contains the `await` commands\n",
    "* a promise that we would then await on\n",
    "* a top level call to that async function\n",
    "\n",
    "For example:\n",
    "\n",
    "```\n",
    "//-- provides a promise\n",
    "function resolveAfter2Seconds(x) {\n",
    "  return new Promise(resolve => {\n",
    "    setTimeout(() => {\n",
    "      resolve(x);\n",
    "    }, 2000);\n",
    "  });\n",
    "}\n",
    "\n",
    "//-- async method\n",
    "async function f1() {\n",
    "  //-- capture the promise\n",
    "  const promiseToResolve = resolveAfter2Seconds(10);\n",
    "  \n",
    "  //-- await on the promise\n",
    "  var x = await promiseToResolve;\n",
    "  \n",
    "  //-- synchronous call that will ONLY be executed 2 seconds after the previous line\n",
    "  console.log(x); // 10\n",
    "}\n",
    "\n",
    "f1();\n",
    "```\n"
   ]
  },
  {
   "cell_type": "markdown",
   "id": "7201b787-35d1-4ae4-9abe-c7d18404db8a",
   "metadata": {},
   "source": [
    "## iJavaScript await\n",
    "\n",
    "The iJavaScript kernel currently only behaves asynchronously if told that it should wait until `$$.sendResult()` is called.\n",
    "\n",
    "For example:\n",
    "\n",
    "```\n",
    "\n",
    "//-- tell this cell that it should not continue until sendResult is called\n",
    "$$.async()\n",
    "\n",
    "//-- provides a promise\n",
    "function resolveAfter2Seconds(x) {\n",
    "  return new Promise(resolve => {\n",
    "    setTimeout(() => {\n",
    "      resolve(x);\n",
    "    }, 2000);\n",
    "  });\n",
    "}\n",
    "\n",
    "//-- async method\n",
    "async function f1() {\n",
    "  //-- capture the promise\n",
    "  const promiseToResolve = resolveAfter2Seconds(10);\n",
    "  \n",
    "  //-- await on the promise\n",
    "  var x = await promiseToResolve;\n",
    "  \n",
    "  //-- synchronous call that will ONLY be executed 2 seconds after the previous line\n",
    "  console.log(x); // 10\n",
    "\n",
    "  //-- tell the jupyter it is safe to run the next cell.\n",
    "  $$.sendResult(x);\n",
    "}\n",
    "\n",
    "f1();\n",
    "```"
   ]
  },
  {
   "cell_type": "markdown",
   "id": "83892ad2-2347-4ce3-9c09-b8e0fbea297e",
   "metadata": {},
   "source": [
    "Instead we can replace all this code with [utils.ijs.await](https://jupyter-ijavascript-utils.onrender.com/module-ijs.html#.await)\n",
    "\n",
    "```\n",
    "utils.ijs.await(async($$, console) => {\n",
    "    console.log('before 2 seconds');\n",
    "    await utils.ijs.asyncWait(2);\n",
    "    console.log('after 2 seconds');\n",
    "});\n",
    "```"
   ]
  },
  {
   "cell_type": "markdown",
   "id": "e5d2dacb-ee23-4c85-9dcd-85c8a0c01bde",
   "metadata": {},
   "source": [
    "This can be very helpful for when loading in data from external sources.\n",
    "\n",
    "```\n",
    "utils.ijs.await(async($$, console) => {\n",
    "    const connection = new jsforce.connection(...);\n",
    "    \n",
    "    accounts = await connection.query('select id from accounts limit 100');\n",
    "    \n",
    "    contacts = await connection.query('select id from contacts limit 100');\n",
    "    \n",
    "    console.log('we have ${accounts.length} accounts and ${contacts.length} contacts');\n",
    "});\n",
    "```\n",
    "\n",
    "and then leverage those values asynchrnously retrieved on the following cells, even though they are synchronously written.\n",
    "\n",
    "```\n",
    "//-- still works\n",
    "console.log('we have ${accounts.length} accounts and ${contacts.length} contacts');\n",
    "```\n"
   ]
  },
  {
   "cell_type": "markdown",
   "id": "f3f61d66-18b2-4e01-b72c-25858cec6bf5",
   "metadata": {},
   "source": [
    "For more information, please see the [utils.ijs.await function](https://jupyter-ijavascript-utils.onrender.com/module-ijs.html#.await)"
   ]
  }
 ],
 "metadata": {
  "kernelspec": {
   "display_name": "JavaScript (Node.js)",
   "language": "javascript",
   "name": "javascript"
  },
  "language_info": {
   "file_extension": ".js",
   "mimetype": "application/javascript",
   "name": "javascript",
   "version": "16.14.2"
  }
 },
 "nbformat": 4,
 "nbformat_minor": 5
}
