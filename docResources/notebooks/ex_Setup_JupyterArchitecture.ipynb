{
 "cells": [
  {
   "cell_type": "markdown",
   "id": "8b0be81e-a3c6-4107-98cb-39e8499e79cf",
   "metadata": {},
   "source": [
    "Jupyter Notebooks have a fairly elegant architecture, with a number of related projects working together to provide an executable notebook.\n",
    "\n",
    "Here we'll focus on how the [iJavaScript Kernel](https://github.com/n-riesco/ijavascript) interacts with Jupyter.  However, there are resources provided throughout for learning more."
   ]
  },
  {
   "cell_type": "markdown",
   "id": "56b9ae5e-7649-4df6-86fe-a3eba12ed724",
   "metadata": {},
   "source": [
    "---\n",
    "\n",
    "# Available as Notebook\n",
    "\n",
    "Please note that this is also [available as a Jupyter Notebook](notebooks/ex_Setup_JupyterArchitect.ipynb), which is how many of the diagrams created where generated (using [PlantUML](https://plantuml.com/) through the [jupyter-ijavascript-utils library](https://jupyter-ijavascript-utils.onrender.com/module-plantuml.html))\n",
    "\n",
    "For example [using homebrew](https://formulae.brew.sh/formula/plantuml) or [simply running from the jar file](https://plantuml.com/starting)\n",
    "\n",
    "## PlantUML PicoWeb\n",
    "\n",
    "If you wish to run this yourself, please note you'll need to run or specify a PlantUML Server - but this is quite easy through [PlantUML PicoWeb](https://plantuml.com/picoweb))\n",
    "                                                                 \n",
    "This can be as easy as running the following in another tab:\n",
    "\n",
    "```\n",
    "# ex - like through homebrew\n",
    "plantuml -picoweb\n",
    "\n",
    "# ex - like through the jar\n",
    "java -jar plantuml.jar -picoweb\n",
    "```\n",
    "\n",
    "Some diagrams (such as Class and Object) may depend on [graphviz](https://plantuml.com/graphviz-dot), but bypassed if using the `layout smetana`)\n",
    "\n",
    "Please [see this document on PlantUML and GraphViz for more, including how to install](https://plantuml.com/graphviz-dot)"
   ]
  },
  {
   "cell_type": "code",
   "execution_count": 1,
   "id": "29df03a7-3f41-46ee-a306-10e57eed7251",
   "metadata": {
    "tags": []
   },
   "outputs": [
    {
     "data": {
      "text/plain": [
       "[ 'utils' ]"
      ]
     },
     "execution_count": 1,
     "metadata": {},
     "output_type": "execute_result"
    }
   ],
   "source": [
    "utils = require('jupyter-ijavascript-utils');\n",
    "['utils']"
   ]
  },
  {
   "cell_type": "markdown",
   "id": "41afb286-3560-4f14-9f0d-4a82278e5489",
   "metadata": {},
   "source": [
    "# Jupyter History"
   ]
  },
  {
   "cell_type": "markdown",
   "id": "3a2f32c6-ee3d-4ec4-89e1-0db43d20a45f",
   "metadata": {},
   "source": [
    "[Project Jupyter](https://jupyter.org/) is a community with the goal to 'develop open-source software, open-standards, and services for interactive computing across dozens of programming languages'\n",
    "\n",
    "Originally, it was a spin-off project from [IPython](https://en.wikipedia.org/wiki/IPython) and a reference to:\n",
    "\n",
    "* the three core languages supported: Julia, Python and R\n",
    "* but also a homage to Galileo's notebooks in discovering the moons of jupyter."
   ]
  },
  {
   "cell_type": "markdown",
   "id": "206f3b2c-6ab1-4796-bc97-c00967d71f8b",
   "metadata": {},
   "source": [
    "# Kernel Architecture\n",
    "\n",
    "The [Jupyter Kernels](https://docs.jupyter.org/en/latest/projects/kernels.html#kernels-langs) are a language specific process that run independently from Jupyter and interact through messaging to the Jupyter Applications and interfaces.\n",
    "\n",
    "There are two types of Kernels:\n",
    "\n",
    "* Native Kernels\n",
    "   * Manage Language Execution, and provide a response\n",
    "   * Manage Notebook JSON\n",
    "   * Process ØMQ Messaging\n",
    "* Wrapper Kernels\n",
    "   * Manage Language Execution, and provide a response\n",
    "   * Rely on IPython's API to\n",
    "      * Manage IPython JSON\n",
    "      * Manage ØMQ Messaging to cells"
   ]
  },
  {
   "cell_type": "code",
   "execution_count": 2,
   "id": "851292ca-c678-4cde-981f-2e941a5c5391",
   "metadata": {
    "tags": []
   },
   "outputs": [
    {
     "data": {
      "image/svg+xml": [
       "<?xml version=\"1.0\" encoding=\"us-ascii\" standalone=\"no\"?><svg xmlns=\"http://www.w3.org/2000/svg\" xmlns:xlink=\"http://www.w3.org/1999/xlink\" contentStyleType=\"text/css\" height=\"165px\" preserveAspectRatio=\"none\" style=\"width:734px;height:165px;background:#FFFFFF;\" version=\"1.1\" viewBox=\"0 0 734 165\" width=\"734px\" zoomAndPan=\"magnify\"><defs/><g><!--entity User--><g id=\"elem_User\"><ellipse cx=\"32.5\" cy=\"15.059\" fill=\"#F1F1F1\" rx=\"9.059\" ry=\"9.059\" style=\"stroke:#181818;stroke-width:0.5;\"/><rect fill=\"#F1F1F1\" height=\"36.4883\" rx=\"9.059\" ry=\"9.059\" style=\"stroke:#181818;stroke-width:0.5;\" width=\"51\" x=\"7\" y=\"24.118\"/><text fill=\"#000000\" font-family=\"sans-serif\" font-size=\"14\" lengthAdjust=\"spacing\" textLength=\"31\" x=\"17\" y=\"47.6532\">User</text></g><!--entity Browser--><g id=\"elem_Browser\"><rect fill=\"#DFD1F2\" height=\"36.4883\" rx=\"2.5\" ry=\"2.5\" style=\"stroke:#000000;stroke-width:1.0;\" width=\"75\" x=\"93\" y=\"15.05\"/><text fill=\"#000000\" font-family=\"sans-serif\" font-size=\"14\" lengthAdjust=\"spacing\" textLength=\"55\" x=\"103\" y=\"38.5852\">Browser</text></g><!--entity Server--><g id=\"elem_Server\"><path d=\"M331.3912,18.1637 C335.6722,12.1 340.2216,12.6122 344.024,18.6628 C348.0011,12.7134 353.3331,11.4769 358.0845,17.7738 C360.8816,12.1368 367.1041,11.4591 370.936,16.5321 C375.4321,10.7368 380.024,10.7403 383.6027,17.4606 C386.1878,10.7346 390.678,11.5573 394.9237,15.7366 C399.7756,8.3252 405.3432,8.6084 409.4714,16.4277 C412.4741,10.8657 418.2309,10.453 421.0555,16.6037 C425.2596,11.2622 430.8982,11.5483 434.324,17.5168 C439.0432,12.1739 443.4362,12.7193 446.1317,19.4895 C449.7692,14.2569 454.8745,13.3678 458.8209,19.1332 C467.6026,21.4289 470.6078,28.3829 463.5402,35.3041 C468.5678,42.0372 466.6868,46.4763 459.4452,49.7257 C455.3169,55.7712 451.1716,56.3548 446.5603,50.2374 C443.7399,55.492 437.5918,55.9982 434.0482,51.1316 C430.856,57.4611 425.8093,58.6276 420.7407,53.2679 C418.3001,58.8356 414.2606,60.9899 409.4684,55.712 C405.5842,61.4867 399.4901,61.2943 395.7378,55.5547 C392.0652,63.1516 385.7197,61.3691 381.9022,55.7059 C377.499,60.3619 373.9943,60.6326 370.9835,54.3199 C365.3453,60.333 360.7295,61.2838 356.5674,52.8473 C351.4093,59.3609 346.3459,58.4968 343.5013,50.7304 C338.8309,56.3193 335.5148,54.2477 332.3327,49.1718 C323.1548,48.3575 320.6781,41.5587 326.3554,34.6359 C320.2983,28.0364 322.6152,20.2285 331.3912,18.1637 \" fill=\"#DFF2D1\" style=\"stroke:#181818;stroke-width:1.0;\"/><text fill=\"#000000\" font-family=\"sans-serif\" font-size=\"14\" lengthAdjust=\"spacing\" textLength=\"114\" x=\"337.5\" y=\"38.5852\">Notebook Server</text></g><!--entity Kernel--><g id=\"elem_Kernel\"><rect fill=\"#DFF2D1\" height=\"46.4883\" rx=\"2.5\" ry=\"2.5\" style=\"stroke:#181818;stroke-width:1.0;\" width=\"84\" x=\"534.5\" y=\"10.05\"/><rect fill=\"#DFF2D1\" height=\"10\" style=\"stroke:#181818;stroke-width:1.0;\" width=\"15\" x=\"598.5\" y=\"15.05\"/><rect fill=\"#DFF2D1\" height=\"2\" style=\"stroke:#181818;stroke-width:1.0;\" width=\"4\" x=\"596.5\" y=\"17.05\"/><rect fill=\"#DFF2D1\" height=\"2\" style=\"stroke:#181818;stroke-width:1.0;\" width=\"4\" x=\"596.5\" y=\"21.05\"/><text fill=\"#000000\" font-family=\"sans-serif\" font-size=\"14\" lengthAdjust=\"spacing\" textLength=\"44\" x=\"549.5\" y=\"43.5852\">Kernel</text></g><!--entity Notebook--><g id=\"elem_Notebook\"><path d=\"M316,124.1 L316,155.5883 A2.5,2.5 0 0 0 318.5,158.0883 L470.5,158.0883 A2.5,2.5 0 0 0 473,155.5883 L473,131.6 L463,121.6 L318.5,121.6 A2.5,2.5 0 0 0 316,124.1 \" fill=\"#D9D9D9\" style=\"stroke:#181818;stroke-width:1.0;\"/><path d=\"M463,121.6 L463,129.1 A2.5,2.5 0 0 0 465.5,131.6 L473,131.6 \" fill=\"#D9D9D9\" style=\"stroke:#181818;stroke-width:1.0;\"/><text fill=\"#000000\" font-family=\"sans-serif\" font-size=\"14\" lengthAdjust=\"spacing\" textLength=\"137\" x=\"326\" y=\"145.1352\">Notebook.ipynb File</text></g><!--link User to Browser--><g id=\"link_User_Browser\"><path d=\"M58.15,49.13 C68.9,53.41 79.65,54.73 90.4,53.1 \" fill=\"none\" id=\"User-to-Browser\" style=\"stroke:#181818;stroke-width:1.0;\"/><polygon fill=\"#181818\" points=\"95.02,51.98,85.4079,49.8335,90.1182,52.9661,86.9856,57.6764,95.02,51.98\" style=\"stroke:#181818;stroke-width:1.0;\"/></g><!--reverse link User to Browser--><g id=\"link_User_Browser\"><path d=\"M63.77,15.5 C74.52,12.25 85.27,11.96 96.02,14.62 \" fill=\"none\" id=\"User-backto-Browser\" style=\"stroke:#181818;stroke-width:1.0;\"/><polygon fill=\"#181818\" points=\"59.15,17.47,68.9672,18.259,63.8671,15.8119,66.3142,10.7117,59.15,17.47\" style=\"stroke:#181818;stroke-width:1.0;\"/></g><!--link Browser to Server--><g id=\"link_Browser_Server\"><path d=\"M174.1,33.3 C212.64,33.3 269.78,33.3 316.23,33.3 \" fill=\"none\" id=\"Browser-Server\" style=\"stroke:#181818;stroke-width:1.0;\"/><polygon fill=\"#181818\" points=\"169.32,33.3,178.32,37.3,174.32,33.3,178.32,29.3,169.32,33.3\" style=\"stroke:#181818;stroke-width:1.0;\"/><polygon fill=\"#181818\" points=\"321.12,33.3,312.12,29.3,316.12,33.3,312.12,37.3,321.12,33.3\" style=\"stroke:#181818;stroke-width:1.0;\"/><text fill=\"#000000\" font-family=\"sans-serif\" font-size=\"13\" lengthAdjust=\"spacing\" textLength=\"118\" x=\"186.25\" y=\"26.8684\">HTTP &amp; Websocket</text></g><!--link Server to Kernel--><g id=\"link_Server_Kernel\"><path d=\"M472.86,33.3 C491.78,33.3 511.44,33.3 528.49,33.3 \" fill=\"none\" id=\"Server-Kernel\" style=\"stroke:#181818;stroke-width:1.0;\"/><polygon fill=\"#181818\" points=\"467.95,33.3,476.95,37.3,472.95,33.3,476.95,29.3,467.95,33.3\" style=\"stroke:#181818;stroke-width:1.0;\"/><polygon fill=\"#181818\" points=\"533.16,33.3,524.16,29.3,528.16,33.3,524.16,37.3,533.16,33.3\" style=\"stroke:#181818;stroke-width:1.0;\"/><text fill=\"#000000\" font-family=\"sans-serif\" font-size=\"13\" lengthAdjust=\"spacing\" textLength=\"31\" x=\"485\" y=\"26.8684\">&#216;MQ</text></g><!--link Kernel to Kernel--><g id=\"link_Kernel_Kernel\"><path d=\"M618.87,22.61 C637.48,21.66 653.5,25.23 653.5,33.3 C653.5,40.49 640.79,44.1 624.87,44.14 \" fill=\"none\" id=\"Kernel-to-Kernel\" style=\"stroke:#181818;stroke-width:1.0;\"/><polygon fill=\"#181818\" points=\"619.87,43.99,628.7642,48.22,624.8683,44.1185,628.9698,40.2227,619.87,43.99\" style=\"stroke:#181818;stroke-width:1.0;\"/><text fill=\"#000000\" font-family=\"sans-serif\" font-size=\"13\" lengthAdjust=\"spacing\" textLength=\"30\" x=\"675.5\" y=\"30.8684\">code</text><text fill=\"#000000\" font-family=\"sans-serif\" font-size=\"13\" lengthAdjust=\"spacing\" textLength=\"62\" x=\"659.5\" y=\"46.1789\">execution</text></g><!--reverse link Server to Notebook--><g id=\"link_Server_Notebook\"><path d=\"M383.02,62.62 C380.88,81.37 381.44,105.37 384.7,121.38 \" fill=\"none\" id=\"Server-backto-Notebook\" style=\"stroke:#181818;stroke-width:1.0;\"/><polygon fill=\"#181818\" points=\"383.77,57.98,378.622,66.3763,383.1129,62.9366,386.5526,67.4276,383.77,57.98\" style=\"stroke:#181818;stroke-width:1.0;\"/></g><!--link Server to Notebook--><g id=\"link_Server_Notebook\"><path d=\"M405.86,56.98 C408.69,74.36 408.71,98.23 405.93,115.72 \" fill=\"none\" id=\"Server-to-Notebook\" style=\"stroke:#181818;stroke-width:1.0;\"/><polygon fill=\"#181818\" points=\"404.88,120.38,410.4587,112.2635,405.7945,115.4643,402.5937,110.8002,404.88,120.38\" style=\"stroke:#181818;stroke-width:1.0;\"/></g><!--SRC=[dL3BIiGm5DtdAouLt5Nfx1pAB4PGmGSZLjouQPDR3Osv9KdLGVmF_ySVCstICCYuaIoIdDTzbDPj5QwOGUvg_QGGFXZ0kkRTkQ51YrDIPE10jA9e5vwvaXghPyaxZTP24P6WQfItiK_65GrYojcRr2v4CN6_ixoJNdhIgDs_tAsCxUypdepd3sDv7BV0DcWiQRYtQ7PMiZRqDY9XiEo673P47ToXUKMJGMtZSsU0IpGQLUWfEOvalzKDd7bmSiquOsD5o8tCLwbQl25NwD6ffOILGHggmX8kgce3X_20ZINUeMCiKb4Okbb2zlrrVPin5lwG61-HSHBugF4T-U0aQQzAW-P3dwhDoRaWZysI7m00]--></g></svg>"
      ]
     },
     "execution_count": 2,
     "metadata": {},
     "output_type": "execute_result"
    }
   ],
   "source": [
    "utils.plantuml.render(`\n",
    "@startuml\n",
    "\n",
    "<style>\n",
    "rectangle {\n",
    "  BackGroundColor #dfd1f2\n",
    "  LineThickness 1\n",
    "  LineColor black\n",
    "}\n",
    "cloud {\n",
    "    BackGroundColor #dff2d1\n",
    "    LineThickness 1\n",
    "}\n",
    "component {\n",
    "    BackGroundColor #dff2d1\n",
    "    LineThickness 1\n",
    "}\n",
    "file {\n",
    "    BackGroundColor #d9d9d9\n",
    "    LineThickness 1\n",
    "}\n",
    "</style>\n",
    "\n",
    "Person User\n",
    "rectangle Browser\n",
    "cloud \"Notebook Server\" as Server\n",
    "component Kernel\n",
    "file \"Notebook.ipynb File\" as Notebook\n",
    "\n",
    "User -ri-> Browser\n",
    "Browser -le-> User\n",
    "\n",
    "Browser <-ri-> Server : HTTP & Websocket\n",
    "\n",
    "Server <-ri-> Kernel: \"ØMQ\"\n",
    "\n",
    "Kernel -> Kernel : \"code\\\\nexecution\"\n",
    "\n",
    "Notebook -up-> Server\n",
    "Server -do-> Notebook\n",
    "\n",
    "\n",
    "@enduml\n",
    "`)"
   ]
  },
  {
   "cell_type": "markdown",
   "id": "b6e3765e-1c6e-4c04-b1e9-556713542992",
   "metadata": {},
   "source": [
    "Wrapper Kernels are much easier to write, as they implement only the core Language Execution\n",
    "\n",
    "Each Kernel provides a running instance of node (and variables), that can then be accessed by subsequent cells."
   ]
  },
  {
   "cell_type": "code",
   "execution_count": 3,
   "id": "1ac40c4f-cdcd-4b61-afe6-4f111fc8738f",
   "metadata": {
    "tags": []
   },
   "outputs": [
    {
     "data": {
      "image/svg+xml": [
       "<?xml version=\"1.0\" encoding=\"us-ascii\" standalone=\"no\"?><svg xmlns=\"http://www.w3.org/2000/svg\" xmlns:xlink=\"http://www.w3.org/1999/xlink\" contentStyleType=\"text/css\" height=\"719px\" preserveAspectRatio=\"none\" style=\"width:508px;height:719px;background:#FFFFFF;\" version=\"1.1\" viewBox=\"0 0 508 719\" width=\"508px\" zoomAndPan=\"magnify\"><defs/><g><rect fill=\"none\" height=\"580.5898\" style=\"stroke:#000000;stroke-width:1.5;\" width=\"491.5\" x=\"10\" y=\"69.9766\"/><line style=\"stroke:#181818;stroke-width:0.5;stroke-dasharray:5.0,5.0;\" x1=\"54\" x2=\"54\" y1=\"52.9766\" y2=\"667.5664\"/><line style=\"stroke:#181818;stroke-width:0.5;stroke-dasharray:5.0,5.0;\" x1=\"286\" x2=\"286\" y1=\"52.9766\" y2=\"667.5664\"/><line style=\"stroke:#181818;stroke-width:0.5;stroke-dasharray:5.0,5.0;\" x1=\"451\" x2=\"451\" y1=\"155.5859\" y2=\"667.5664\"/><rect fill=\"#E2E2F0\" height=\"30.4883\" rx=\"2.5\" ry=\"2.5\" style=\"stroke:#181818;stroke-width:0.5;\" width=\"69\" x=\"20\" y=\"21.4883\"/><text fill=\"#000000\" font-family=\"sans-serif\" font-size=\"14\" lengthAdjust=\"spacing\" textLength=\"55\" x=\"27\" y=\"42.0234\">Browser</text><rect fill=\"#E2E2F0\" height=\"30.4883\" rx=\"2.5\" ry=\"2.5\" style=\"stroke:#181818;stroke-width:0.5;\" width=\"69\" x=\"20\" y=\"666.5664\"/><text fill=\"#000000\" font-family=\"sans-serif\" font-size=\"14\" lengthAdjust=\"spacing\" textLength=\"55\" x=\"27\" y=\"687.1016\">Browser</text><rect fill=\"#E2E2F0\" height=\"46.9766\" rx=\"2.5\" ry=\"2.5\" style=\"stroke:#181818;stroke-width:0.5;\" width=\"81\" x=\"246\" y=\"5\"/><text fill=\"#000000\" font-family=\"sans-serif\" font-size=\"14\" lengthAdjust=\"spacing\" textLength=\"67\" x=\"253\" y=\"25.5352\">Notebook</text><text fill=\"#000000\" font-family=\"sans-serif\" font-size=\"14\" lengthAdjust=\"spacing\" textLength=\"43\" x=\"265\" y=\"42.0234\">Server</text><rect fill=\"#E2E2F0\" height=\"46.9766\" rx=\"2.5\" ry=\"2.5\" style=\"stroke:#181818;stroke-width:0.5;\" width=\"81\" x=\"246\" y=\"666.5664\"/><text fill=\"#000000\" font-family=\"sans-serif\" font-size=\"14\" lengthAdjust=\"spacing\" textLength=\"67\" x=\"253\" y=\"687.1016\">Notebook</text><text fill=\"#000000\" font-family=\"sans-serif\" font-size=\"14\" lengthAdjust=\"spacing\" textLength=\"43\" x=\"265\" y=\"703.5898\">Server</text><rect fill=\"#E2E2F0\" height=\"46.9766\" rx=\"2.5\" ry=\"2.5\" style=\"stroke:#181818;stroke-width:0.5;\" width=\"71\" x=\"416\" y=\"666.5664\"/><text fill=\"#000000\" font-family=\"sans-serif\" font-size=\"14\" lengthAdjust=\"spacing\" textLength=\"44\" x=\"429.5\" y=\"687.1016\">Kernel</text><text fill=\"#000000\" font-family=\"sans-serif\" font-size=\"14\" lengthAdjust=\"spacing\" textLength=\"57\" x=\"423\" y=\"703.5898\">Instance</text><path d=\"M10,69.9766 L72,69.9766 L72,77.2871 L62,87.2871 L10,87.2871 L10,69.9766 \" fill=\"#EEEEEE\" style=\"stroke:#000000;stroke-width:1.5;\"/><rect fill=\"none\" height=\"580.5898\" style=\"stroke:#000000;stroke-width:1.5;\" width=\"491.5\" x=\"10\" y=\"69.9766\"/><text fill=\"#000000\" font-family=\"sans-serif\" font-size=\"13\" font-weight=\"bold\" lengthAdjust=\"spacing\" textLength=\"17\" x=\"25\" y=\"83.5449\">alt</text><text fill=\"#000000\" font-family=\"sans-serif\" font-size=\"11\" font-weight=\"bold\" lengthAdjust=\"spacing\" textLength=\"92\" x=\"87\" y=\"82.6113\">[first execution:]</text><polygon fill=\"#181818\" points=\"274.5,104.5977,284.5,108.5977,274.5,112.5977,278.5,108.5977\" style=\"stroke:#181818;stroke-width:1.0;\"/><line style=\"stroke:#181818;stroke-width:1.0;\" x1=\"54.5\" x2=\"280.5\" y1=\"108.5977\" y2=\"108.5977\"/><text fill=\"#000000\" font-family=\"sans-serif\" font-size=\"13\" lengthAdjust=\"spacing\" textLength=\"115\" x=\"61.5\" y=\"103.8555\">Execute Notebook</text><polygon fill=\"#181818\" points=\"404,118.5977,414,122.5977,404,126.5977,408,122.5977\" style=\"stroke:#181818;stroke-width:1.0;\"/><line style=\"stroke:#181818;stroke-width:1.0;\" x1=\"286.5\" x2=\"410\" y1=\"122.5977\" y2=\"122.5977\"/><rect fill=\"#E2E2F0\" height=\"46.9766\" rx=\"2.5\" ry=\"2.5\" style=\"stroke:#181818;stroke-width:0.5;\" width=\"71\" x=\"416\" y=\"116.5977\"/><text fill=\"#000000\" font-family=\"sans-serif\" font-size=\"14\" lengthAdjust=\"spacing\" textLength=\"44\" x=\"429.5\" y=\"137.1328\">Kernel</text><text fill=\"#000000\" font-family=\"sans-serif\" font-size=\"14\" lengthAdjust=\"spacing\" textLength=\"57\" x=\"423\" y=\"153.6211\">Instance</text><line style=\"stroke:#181818;stroke-width:1.0;\" x1=\"286.5\" x2=\"328.5\" y1=\"195.8848\" y2=\"195.8848\"/><line style=\"stroke:#181818;stroke-width:1.0;\" x1=\"328.5\" x2=\"328.5\" y1=\"195.8848\" y2=\"208.8848\"/><line style=\"stroke:#181818;stroke-width:1.0;\" x1=\"287.5\" x2=\"328.5\" y1=\"208.8848\" y2=\"208.8848\"/><polygon fill=\"#181818\" points=\"297.5,204.8848,287.5,208.8848,297.5,212.8848,293.5,208.8848\" style=\"stroke:#181818;stroke-width:1.0;\"/><text fill=\"#000000\" font-family=\"sans-serif\" font-size=\"13\" lengthAdjust=\"spacing\" textLength=\"61\" x=\"293.5\" y=\"191.1426\">get cells()</text><polygon fill=\"#181818\" points=\"65.5,249.5059,55.5,253.5059,65.5,257.5059,61.5,253.5059\" style=\"stroke:#181818;stroke-width:1.0;\"/><line style=\"stroke:#181818;stroke-width:1.0;\" x1=\"59.5\" x2=\"285.5\" y1=\"253.5059\" y2=\"253.5059\"/><text fill=\"#000000\" font-family=\"sans-serif\" font-size=\"13\" lengthAdjust=\"spacing\" textLength=\"208\" x=\"71.5\" y=\"233.4531\">dynamic html - render mimetype</text><text fill=\"#000000\" font-family=\"sans-serif\" font-size=\"13\" lengthAdjust=\"spacing\" textLength=\"98\" x=\"71.5\" y=\"248.7637\">text/markdown</text><polygon fill=\"#181818\" points=\"439.5,278.8164,449.5,282.8164,439.5,286.8164,443.5,282.8164\" style=\"stroke:#181818;stroke-width:1.0;\"/><line style=\"stroke:#181818;stroke-width:1.0;\" x1=\"286.5\" x2=\"445.5\" y1=\"282.8164\" y2=\"282.8164\"/><text fill=\"#000000\" font-family=\"sans-serif\" font-size=\"13\" lengthAdjust=\"spacing\" textLength=\"125\" x=\"293.5\" y=\"278.0742\">const name = 'John'</text><line style=\"stroke:#181818;stroke-width:1.0;\" x1=\"451.5\" x2=\"493.5\" y1=\"296.8164\" y2=\"296.8164\"/><line style=\"stroke:#181818;stroke-width:1.0;\" x1=\"493.5\" x2=\"493.5\" y1=\"296.8164\" y2=\"309.8164\"/><line style=\"stroke:#181818;stroke-width:1.0;\" x1=\"452.5\" x2=\"493.5\" y1=\"309.8164\" y2=\"309.8164\"/><polygon fill=\"#181818\" points=\"462.5,305.8164,452.5,309.8164,462.5,313.8164,458.5,309.8164\" style=\"stroke:#181818;stroke-width:1.0;\"/><polygon fill=\"#181818\" points=\"297.5,335.127,287.5,339.127,297.5,343.127,293.5,339.127\" style=\"stroke:#181818;stroke-width:1.0;\"/><line style=\"stroke:#181818;stroke-width:1.0;stroke-dasharray:2.0,2.0;\" x1=\"291.5\" x2=\"450.5\" y1=\"339.127\" y2=\"339.127\"/><text fill=\"#000000\" font-family=\"sans-serif\" font-size=\"13\" lengthAdjust=\"spacing\" textLength=\"34\" x=\"303.5\" y=\"334.3848\">'John'</text><polygon fill=\"#181818\" points=\"65.5,364.4375,55.5,368.4375,65.5,372.4375,61.5,368.4375\" style=\"stroke:#181818;stroke-width:1.0;\"/><line style=\"stroke:#181818;stroke-width:1.0;\" x1=\"59.5\" x2=\"285.5\" y1=\"368.4375\" y2=\"368.4375\"/><text fill=\"#000000\" font-family=\"sans-serif\" font-size=\"13\" lengthAdjust=\"spacing\" textLength=\"171\" x=\"71.5\" y=\"363.6953\">dynamic html - render text</text><polygon fill=\"#181818\" points=\"439.5,393.748,449.5,397.748,439.5,401.748,443.5,397.748\" style=\"stroke:#181818;stroke-width:1.0;\"/><line style=\"stroke:#181818;stroke-width:1.0;\" x1=\"286.5\" x2=\"445.5\" y1=\"397.748\" y2=\"397.748\"/><text fill=\"#000000\" font-family=\"sans-serif\" font-size=\"13\" lengthAdjust=\"spacing\" textLength=\"141\" x=\"293.5\" y=\"393.0059\">`My name is ${name}`</text><line style=\"stroke:#181818;stroke-width:1.0;\" x1=\"451.5\" x2=\"493.5\" y1=\"411.748\" y2=\"411.748\"/><line style=\"stroke:#181818;stroke-width:1.0;\" x1=\"493.5\" x2=\"493.5\" y1=\"411.748\" y2=\"424.748\"/><line style=\"stroke:#181818;stroke-width:1.0;\" x1=\"452.5\" x2=\"493.5\" y1=\"424.748\" y2=\"424.748\"/><polygon fill=\"#181818\" points=\"462.5,420.748,452.5,424.748,462.5,428.748,458.5,424.748\" style=\"stroke:#181818;stroke-width:1.0;\"/><polygon fill=\"#181818\" points=\"297.5,450.0586,287.5,454.0586,297.5,458.0586,293.5,454.0586\" style=\"stroke:#181818;stroke-width:1.0;\"/><line style=\"stroke:#181818;stroke-width:1.0;stroke-dasharray:2.0,2.0;\" x1=\"291.5\" x2=\"450.5\" y1=\"454.0586\" y2=\"454.0586\"/><text fill=\"#000000\" font-family=\"sans-serif\" font-size=\"13\" lengthAdjust=\"spacing\" textLength=\"109\" x=\"303.5\" y=\"449.3164\">'My name is John'</text><polygon fill=\"#181818\" points=\"65.5,479.3691,55.5,483.3691,65.5,487.3691,61.5,483.3691\" style=\"stroke:#181818;stroke-width:1.0;\"/><line style=\"stroke:#181818;stroke-width:1.0;\" x1=\"59.5\" x2=\"285.5\" y1=\"483.3691\" y2=\"483.3691\"/><text fill=\"#000000\" font-family=\"sans-serif\" font-size=\"13\" lengthAdjust=\"spacing\" textLength=\"171\" x=\"71.5\" y=\"478.627\">dynamic html - render text</text><line style=\"stroke:#000000;stroke-width:1.0;stroke-dasharray:2.0,2.0;\" x1=\"10\" x2=\"501.5\" y1=\"492.3691\" y2=\"492.3691\"/><text fill=\"#000000\" font-family=\"sans-serif\" font-size=\"11\" font-weight=\"bold\" lengthAdjust=\"spacing\" textLength=\"121\" x=\"15\" y=\"503.0039\">[Kernel Still Running]</text><polygon fill=\"#181818\" points=\"274.5,523.6348,284.5,527.6348,274.5,531.6348,278.5,527.6348\" style=\"stroke:#181818;stroke-width:1.0;\"/><line style=\"stroke:#181818;stroke-width:1.0;\" x1=\"54.5\" x2=\"280.5\" y1=\"527.6348\" y2=\"527.6348\"/><text fill=\"#000000\" font-family=\"sans-serif\" font-size=\"13\" lengthAdjust=\"spacing\" textLength=\"75\" x=\"61.5\" y=\"522.8926\">Execute cell</text><polygon fill=\"#181818\" points=\"439.5,552.9453,449.5,556.9453,439.5,560.9453,443.5,556.9453\" style=\"stroke:#181818;stroke-width:1.0;\"/><line style=\"stroke:#181818;stroke-width:1.0;\" x1=\"286.5\" x2=\"445.5\" y1=\"556.9453\" y2=\"556.9453\"/><text fill=\"#000000\" font-family=\"sans-serif\" font-size=\"13\" lengthAdjust=\"spacing\" textLength=\"141\" x=\"293.5\" y=\"552.2031\">`My name is ${name}`</text><line style=\"stroke:#181818;stroke-width:1.0;\" x1=\"451.5\" x2=\"493.5\" y1=\"570.9453\" y2=\"570.9453\"/><line style=\"stroke:#181818;stroke-width:1.0;\" x1=\"493.5\" x2=\"493.5\" y1=\"570.9453\" y2=\"583.9453\"/><line style=\"stroke:#181818;stroke-width:1.0;\" x1=\"452.5\" x2=\"493.5\" y1=\"583.9453\" y2=\"583.9453\"/><polygon fill=\"#181818\" points=\"462.5,579.9453,452.5,583.9453,462.5,587.9453,458.5,583.9453\" style=\"stroke:#181818;stroke-width:1.0;\"/><polygon fill=\"#181818\" points=\"297.5,609.2559,287.5,613.2559,297.5,617.2559,293.5,613.2559\" style=\"stroke:#181818;stroke-width:1.0;\"/><line style=\"stroke:#181818;stroke-width:1.0;stroke-dasharray:2.0,2.0;\" x1=\"291.5\" x2=\"450.5\" y1=\"613.2559\" y2=\"613.2559\"/><text fill=\"#000000\" font-family=\"sans-serif\" font-size=\"13\" lengthAdjust=\"spacing\" textLength=\"109\" x=\"303.5\" y=\"608.5137\">'My name is John'</text><polygon fill=\"#181818\" points=\"65.5,638.5664,55.5,642.5664,65.5,646.5664,61.5,642.5664\" style=\"stroke:#181818;stroke-width:1.0;\"/><line style=\"stroke:#181818;stroke-width:1.0;\" x1=\"59.5\" x2=\"285.5\" y1=\"642.5664\" y2=\"642.5664\"/><text fill=\"#000000\" font-family=\"sans-serif\" font-size=\"13\" lengthAdjust=\"spacing\" textLength=\"171\" x=\"71.5\" y=\"637.8242\">dynamic html - render text</text><!--SRC=[pP9FQyCm3CNl_XIFCkXMABi7jiDWXsriX_MQGrr7QqqSETZgsZ3stPSuAQI5iZ-d-IIadv-Ua6eTn1fRQnRS1R-B5A0ZLdsewb5vykA5LjwNEIyel5EOT6HCuJ7uH879vVp0KJGRIc2PaaefxGHlDaG1xSbinNhE5DetDCNyTb3DS9y8mg6rIc1VxRXU5BFPQU4Wi2Q18UVYvTKfChJBK3IiAskmaSfXZa1Sj4HbAvAcffo5zd9TwL0MViTd76GmlfqMhHBX1jD7l-5fGWTWX1wbHrv7dtxiilDsrjBokUaDsOYBZoxwNFxMqqZYp_R8HK9_55Y8TGwlMsRBw-_Mtctk_q_71TgR_W80]--></g></svg>"
      ]
     },
     "execution_count": 3,
     "metadata": {},
     "output_type": "execute_result"
    }
   ],
   "source": [
    "utils.plantuml.render(`\n",
    "participant Browser as browser\n",
    "participant \"Notebook\\\\nServer\" as server\n",
    "participant \"Kernel\\\\nInstance\" as kernel\n",
    "\n",
    "\n",
    "alt first execution:\n",
    "    browser -> server: Execute Notebook\n",
    "\n",
    "    server -> kernel **\n",
    "\n",
    "    server -> server: get cells()\n",
    "\n",
    "    server -> browser: dynamic html - render mimetype\\\\ntext/markdown\n",
    "\n",
    "    server -> kernel : const name = 'John'\n",
    "    kernel -> kernel :\n",
    "    kernel --> server: 'John'\n",
    "    server -> browser: dynamic html - render text\n",
    "\n",
    "    server -> kernel : \\`My name is \\${name}\\`\n",
    "    kernel -> kernel :\n",
    "    kernel --> server: 'My name is John'\n",
    "    server -> browser: dynamic html - render text\n",
    "\n",
    "else Kernel Still Running\n",
    "    browser -> server: Execute cell\n",
    "\n",
    "    server -> kernel : \\`My name is \\${name}\\`\n",
    "    kernel -> kernel :\n",
    "    kernel --> server: 'My name is John'\n",
    "    server -> browser: dynamic html - render text\n",
    "\n",
    "end alt\n",
    "\n",
    "`)"
   ]
  },
  {
   "cell_type": "markdown",
   "id": "d09c8e65-8455-4263-9b27-e84491175936",
   "metadata": {},
   "source": [
    "## Kernel Management\n",
    "\n",
    "Within Jupyter, we have a list of Kernels that are currently 'running' (active) - each providing a running instance that the code is executing within."
   ]
  },
  {
   "cell_type": "markdown",
   "id": "7322a73d-ed6c-40f6-a6cd-21e75874ac80",
   "metadata": {},
   "source": [
    "![screenshot of jupyter lab kernel management](../img/architecture_kernelManagement.png)"
   ]
  },
  {
   "cell_type": "markdown",
   "id": "d7d6bd4d-e379-48ae-a32a-afb3ec4495d3",
   "metadata": {},
   "source": [
    "When a document is initially run (and there is no running instance for that document), then one is instantiated.\n",
    "\n",
    "Jupyter Lab is managing those instances, and they can be killed at will.\n",
    "\n",
    "Although there are some advanced topics for exceptions, generally each document has their own kernel instance"
   ]
  },
  {
   "cell_type": "code",
   "execution_count": 4,
   "id": "f6370fcb-94b8-4b3f-a4b3-06123964009b",
   "metadata": {
    "tags": []
   },
   "outputs": [
    {
     "data": {
      "image/svg+xml": [
       "<?xml version=\"1.0\" encoding=\"us-ascii\" standalone=\"no\"?><svg xmlns=\"http://www.w3.org/2000/svg\" xmlns:xlink=\"http://www.w3.org/1999/xlink\" contentStyleType=\"text/css\" height=\"228px\" preserveAspectRatio=\"none\" style=\"width:747px;height:228px;background:#FFFFFF;\" version=\"1.1\" viewBox=\"0 0 747 228\" width=\"747px\" zoomAndPan=\"magnify\"><defs/><g><!--entity Server--><g id=\"elem_Server\"><path d=\"M17.093,78.2137 C21.3739,72.15 25.9234,72.6622 29.7257,78.7128 C33.7028,72.7634 39.0348,71.5269 43.7862,77.8238 C46.5833,72.1868 52.8058,71.5091 56.6377,76.5821 C61.1339,70.7868 65.7258,70.7903 69.3045,77.5106 C71.8895,70.7846 76.3797,71.6073 80.6255,75.7866 C85.4773,68.3752 91.0449,68.6584 95.1732,76.4777 C98.1758,70.9157 103.9326,70.503 106.7572,76.6537 C110.9613,71.3122 116.5999,71.5983 120.0257,77.5668 C124.7449,72.2239 129.138,72.7693 131.8334,79.5395 C135.471,74.3069 140.5763,73.4178 144.5226,79.1832 C153.3043,81.4789 156.3095,88.4329 149.2419,95.3541 C154.2696,102.0872 152.3886,106.5263 145.1469,109.7757 C141.0186,115.8212 136.8734,116.4048 132.262,110.2874 C129.4416,115.542 123.2936,116.0482 119.7499,111.1816 C116.5578,117.5111 111.5111,118.6776 106.4425,113.3179 C104.0018,118.8856 99.9624,121.0399 95.1701,115.762 C91.286,121.5367 85.1918,121.3443 81.4395,115.6047 C77.7669,123.2016 71.4214,121.4191 67.6039,115.7559 C63.2007,120.4119 59.696,120.6826 56.6852,114.3699 C51.047,120.383 46.4313,121.3338 42.2691,112.8973 C37.111,119.4109 32.0476,118.5468 29.203,110.7804 C24.5326,116.3693 21.2166,114.2977 18.0344,109.2218 C8.8565,108.4075 6.3799,101.6087 12.0572,94.6859 C6,88.0864 8.3169,80.2785 17.093,78.2137 \" fill=\"#DFF2D1\" style=\"stroke:#181818;stroke-width:1.0;\"/><text fill=\"#000000\" font-family=\"sans-serif\" font-size=\"14\" lengthAdjust=\"spacing\" textLength=\"114\" x=\"23.2017\" y=\"98.6352\">Notebook Server</text></g><!--entity Kernel--><g id=\"elem_Kernel\"><rect fill=\"#DFF2D1\" height=\"46.4883\" rx=\"2.5\" ry=\"2.5\" style=\"stroke:#181818;stroke-width:1.0;\" width=\"84\" x=\"657.2017\" y=\"70.1\"/><rect fill=\"#DFF2D1\" height=\"10\" style=\"stroke:#181818;stroke-width:1.0;\" width=\"15\" x=\"721.2017\" y=\"75.1\"/><rect fill=\"#DFF2D1\" height=\"2\" style=\"stroke:#181818;stroke-width:1.0;\" width=\"4\" x=\"719.2017\" y=\"77.1\"/><rect fill=\"#DFF2D1\" height=\"2\" style=\"stroke:#181818;stroke-width:1.0;\" width=\"4\" x=\"719.2017\" y=\"81.1\"/><text fill=\"#000000\" font-family=\"sans-serif\" font-size=\"14\" lengthAdjust=\"spacing\" textLength=\"44\" x=\"672.2017\" y=\"103.6352\">Kernel</text></g><!--entity Notebook1Kernel--><g id=\"elem_Notebook1Kernel\"><rect fill=\"#DFF2D1\" height=\"62.9766\" rx=\"2.5\" ry=\"2.5\" style=\"stroke:#181818;stroke-width:1.0;\" width=\"159\" x=\"438.2017\" y=\"61.85\"/><rect fill=\"#DFF2D1\" height=\"10\" style=\"stroke:#181818;stroke-width:1.0;\" width=\"15\" x=\"577.2017\" y=\"66.85\"/><rect fill=\"#DFF2D1\" height=\"2\" style=\"stroke:#181818;stroke-width:1.0;\" width=\"4\" x=\"575.2017\" y=\"68.85\"/><rect fill=\"#DFF2D1\" height=\"2\" style=\"stroke:#181818;stroke-width:1.0;\" width=\"4\" x=\"575.2017\" y=\"72.85\"/><text fill=\"#000000\" font-family=\"sans-serif\" font-size=\"14\" lengthAdjust=\"spacing\" textLength=\"119\" x=\"453.2017\" y=\"95.3852\">&#171;Kernel Instance&#187;</text><text fill=\"#000000\" font-family=\"sans-serif\" font-size=\"14\" lengthAdjust=\"spacing\" textLength=\"76\" x=\"453.2017\" y=\"111.8734\">Notebook1</text></g><!--entity Notebook2Kernel--><g id=\"elem_Notebook2Kernel\"><rect fill=\"#DFF2D1\" height=\"62.9766\" rx=\"2.5\" ry=\"2.5\" style=\"stroke:#181818;stroke-width:1.0;\" width=\"159\" x=\"438.2017\" y=\"159.85\"/><rect fill=\"#DFF2D1\" height=\"10\" style=\"stroke:#181818;stroke-width:1.0;\" width=\"15\" x=\"577.2017\" y=\"164.85\"/><rect fill=\"#DFF2D1\" height=\"2\" style=\"stroke:#181818;stroke-width:1.0;\" width=\"4\" x=\"575.2017\" y=\"166.85\"/><rect fill=\"#DFF2D1\" height=\"2\" style=\"stroke:#181818;stroke-width:1.0;\" width=\"4\" x=\"575.2017\" y=\"170.85\"/><text fill=\"#000000\" font-family=\"sans-serif\" font-size=\"14\" lengthAdjust=\"spacing\" textLength=\"119\" x=\"453.2017\" y=\"193.3852\">&#171;Kernel Instance&#187;</text><text fill=\"#000000\" font-family=\"sans-serif\" font-size=\"14\" lengthAdjust=\"spacing\" textLength=\"81\" x=\"453.2017\" y=\"209.8734\">\"Notebook2</text></g><!--entity Notebook1--><g id=\"elem_Notebook1\"><path d=\"M212.2017,77.6 L212.2017,109.0883 A2.5,2.5 0 0 0 214.7017,111.5883 L375.7017,111.5883 A2.5,2.5 0 0 0 378.2017,109.0883 L378.2017,85.1 L368.2017,75.1 L214.7017,75.1 A2.5,2.5 0 0 0 212.2017,77.6 \" fill=\"#D9D9D9\" style=\"stroke:#181818;stroke-width:1.0;\"/><path d=\"M368.2017,75.1 L368.2017,82.6 A2.5,2.5 0 0 0 370.7017,85.1 L378.2017,85.1 \" fill=\"#D9D9D9\" style=\"stroke:#181818;stroke-width:1.0;\"/><text fill=\"#000000\" font-family=\"sans-serif\" font-size=\"14\" lengthAdjust=\"spacing\" textLength=\"146\" x=\"222.2017\" y=\"98.6352\">Notebook1.ipynb File</text></g><!--entity Notebook2--><g id=\"elem_Notebook2\"><path d=\"M212.2017,161.6 L212.2017,193.0883 A2.5,2.5 0 0 0 214.7017,195.5883 L375.7017,195.5883 A2.5,2.5 0 0 0 378.2017,193.0883 L378.2017,169.1 L368.2017,159.1 L214.7017,159.1 A2.5,2.5 0 0 0 212.2017,161.6 \" fill=\"#D9D9D9\" style=\"stroke:#181818;stroke-width:1.0;\"/><path d=\"M368.2017,159.1 L368.2017,166.6 A2.5,2.5 0 0 0 370.7017,169.1 L378.2017,169.1 \" fill=\"#D9D9D9\" style=\"stroke:#181818;stroke-width:1.0;\"/><text fill=\"#000000\" font-family=\"sans-serif\" font-size=\"14\" lengthAdjust=\"spacing\" textLength=\"146\" x=\"222.2017\" y=\"182.6352\">Notebook2.ipynb File</text></g><!--link Server to Notebook1--><g id=\"link_Server_Notebook1\"><path d=\"M152.4217,93.34 C169.7417,93.34 188.4617,93.34 206.4417,93.34 \" fill=\"none\" id=\"Server-to-Notebook1\" style=\"stroke:#181818;stroke-width:1.0;\"/><polygon fill=\"#181818\" points=\"211.0017,93.34,202.0017,89.34,206.0017,93.34,202.0017,97.34,211.0017,93.34\" style=\"stroke:#181818;stroke-width:1.0;\"/></g><!--link Server to Notebook2--><g id=\"link_Server_Notebook2\"><path d=\"M141.3817,117.08 C172.8817,129.5 211.1017,144.57 241.4317,156.53 \" fill=\"none\" id=\"Server-to-Notebook2\" style=\"stroke:#181818;stroke-width:1.0;\"/><polygon fill=\"#181818\" points=\"246.0017,158.73,239.0936,151.7102,241.3495,156.8978,236.162,159.1537,246.0017,158.73\" style=\"stroke:#181818;stroke-width:1.0;\"/></g><!--link Server to Kernel--><g id=\"link_Server_Kernel\"><path d=\"M152.6717,70.78 C171.8217,65.53 192.6517,60.55 212.2017,57.34 C381.1417,29.59 430.3417,6 597.2017,44.34 C617.0017,48.89 637.4117,57.86 654.6617,66.89 \" fill=\"none\" id=\"Server-to-Kernel\" style=\"stroke:#181818;stroke-width:1.0;\"/><polygon fill=\"#181818\" points=\"658.9117,69.69,652.8568,61.9222,654.5012,67.3348,649.0886,68.9792,658.9117,69.69\" style=\"stroke:#181818;stroke-width:1.0;\"/></g><!--link Notebook1 to Notebook1Kernel--><g id=\"link_Notebook1_Notebook1Kernel\"><path d=\"M378.6217,93.34 C396.0917,93.34 414.5717,93.34 432.1217,93.34 \" fill=\"none\" id=\"Notebook1-to-Notebook1Kernel\" style=\"stroke:#181818;stroke-width:1.0;\"/><polygon fill=\"#181818\" points=\"437.0317,93.34,428.0317,89.34,432.0317,93.34,428.0317,97.34,437.0317,93.34\" style=\"stroke:#181818;stroke-width:1.0;\"/></g><!--link Notebook2 to Notebook2Kernel--><g id=\"link_Notebook2_Notebook2Kernel\"><path d=\"M378.6217,182.57 C396.0917,183.68 414.5717,184.86 432.1217,185.97 \" fill=\"none\" id=\"Notebook2-to-Notebook2Kernel\" style=\"stroke:#181818;stroke-width:1.0;\"/><polygon fill=\"#181818\" points=\"437.0317,186.35,428.3004,181.7933,432.0416,186.0363,427.7985,189.7775,437.0317,186.35\" style=\"stroke:#181818;stroke-width:1.0;\"/></g><!--link Notebook1Kernel to Kernel--><g id=\"link_Notebook1Kernel_Kernel\"><path d=\"M597.6917,93.34 C618.2017,93.34 639.4617,93.34 657.1217,93.34 \" fill=\"none\" id=\"Notebook1Kernel-Kernel\" style=\"stroke:#181818;stroke-width:1.0;stroke-dasharray:7.0,7.0;\"/></g><!--link Notebook2Kernel to Kernel--><g id=\"link_Notebook2Kernel_Kernel\"><path d=\"M576.9817,159.52 C603.0817,145.27 633.2517,128.8 656.9717,115.85 \" fill=\"none\" id=\"Notebook2Kernel-Kernel\" style=\"stroke:#181818;stroke-width:1.0;stroke-dasharray:7.0,7.0;\"/></g><!--SRC=[dP11IyGm48Nl-HL3FM-bkGcb1mKNKRpeqKlRJ7P3uyoIP8L5_EzssrZQs0MHN9etxtjz6OiwG61mPhSFe8p3DXWc8KeVJXOhSHPgsbc4Jm5mMxVTrl6Hr1rRTd2bj2gqx2TFXl1rRzgEq7ieeZAw6jjZuakqbezgo5bDqb8LmopDwab-Fp0XXN_HsiJwQ-3D-Lm0o-kuXLWzU-Q03NC7B-W-q6LG-_Wvg_Y8Zj3EXAmiHmqUoFVRRB6gtkWdgnXIfjiVwQcANE0ouiEJ9q-HcyE96hZlrUNV4gEyP9H2ZE-4ZU9DDGjObULIZgN4HAKfqJ3XQTolWBYHF8SKJIVV]--></g></svg>"
      ]
     },
     "execution_count": 4,
     "metadata": {},
     "output_type": "execute_result"
    }
   ],
   "source": [
    "utils.plantuml.render(`\n",
    "@startuml\n",
    "left to right direction\n",
    "\n",
    "<style>\n",
    "rectangle {\n",
    "  BackGroundColor #dfd1f2\n",
    "  LineThickness 1\n",
    "  LineColor black\n",
    "}\n",
    "cloud {\n",
    "    BackGroundColor #dff2d1\n",
    "    LineThickness 1\n",
    "}\n",
    "component {\n",
    "    BackGroundColor #dff2d1\n",
    "    LineThickness 1\n",
    "}\n",
    "file {\n",
    "    BackGroundColor #d9d9d9\n",
    "    LineThickness 1\n",
    "}\n",
    "</style>\n",
    "\n",
    "cloud \"Notebook Server\" as Server\n",
    "component Kernel\n",
    "component \"<<Kernel Instance>>\\\\nNotebook1\" as Notebook1Kernel\n",
    "component \"<<Kernel Instance>>\\\\n\"Notebook2\" as Notebook2Kernel\n",
    "file \"Notebook1.ipynb File\" as Notebook1\n",
    "file \"Notebook2.ipynb File\" as Notebook2\n",
    "\n",
    "Server -do-> Notebook1\n",
    "Server -do-> Notebook2\n",
    "Server -do-> Kernel\n",
    "\n",
    "Notebook1 -do-> Notebook1Kernel\n",
    "Notebook2 -do-> Notebook2Kernel\n",
    "\n",
    "Notebook1Kernel .. Kernel\n",
    "Notebook2Kernel .. Kernel\n",
    "\n",
    "@enduml\n",
    "`)"
   ]
  },
  {
   "cell_type": "markdown",
   "id": "9337fbf4-a33c-4a9e-bb92-47e5058a89fe",
   "metadata": {},
   "source": [
    "# Mime Types\n",
    "\n",
    "The [iJavaScript Kernel](http://n-riesco.github.io/ijavascript/doc/custom.ipynb.html) - and Jupyter Lab in general, supports rendering results in multiple types of formats:\n",
    "\n",
    "* \\$\\$.text - renders out results as Plain Text\n",
    "* \\$\\$.html - renders out results as HTML\n",
    "* \\$\\$.svg -  renders out results as SVG\n",
    "* \\$\\$.png -  renders out results as PNG\n",
    "* \\$\\$.jpeg - renders out results as JPEG\n",
    "* \\$\\$.mime - lets you specify the mime type the results should be shown\n",
    "\n",
    "See the [docs](http://n-riesco.github.io/ijavascript/doc/custom.ipynb.html) for more.\n",
    "\n",
    "This can be quite helpful, as NPM Modules can generate the SVG Code, and then render them using one of those mime types.\n",
    "\n",
    "![Screenshot generating SVG from Vega-Lite](../img/vegaObjectSchema.png)"
   ]
  },
  {
   "cell_type": "markdown",
   "id": "8b0b7e0f-ceea-4644-94aa-bb1ddd17716b",
   "metadata": {},
   "source": [
    "## Dynamic HTML\n",
    "\n",
    "Note that this is not like a typical webpage, where the entire document must be executed.\n",
    "\n",
    "Note that with the page as multiple cells, we have control over the order that the cells are executed.\n",
    "\n",
    "We can pick and choose one specific cell, all cells after a specific point, etc.\n",
    "\n",
    "The results are then injected into the DOM through dynamic html / javascript directly underneath the 'cell contents' - as 'cell results'"
   ]
  },
  {
   "cell_type": "markdown",
   "id": "b0bc111d-2121-4dd6-a0aa-be5b838e916b",
   "metadata": {},
   "source": [
    "![screenshot of jupyter running](../img/architecture_exampleExecution.png)"
   ]
  },
  {
   "cell_type": "markdown",
   "id": "f809917d-e9e6-48b5-9465-d636cf62e402",
   "metadata": {},
   "source": [
    "----\n",
    "\n",
    "# HTML Script\n",
    "\n",
    "This brings us to the [HTML Script](https://jupyter-ijavascript-utils.onrender.com/module-ijs.html#.htmlScript) concept of Browser - Server division of labor.\n",
    "\n",
    "(Yes I know the name is irritating :) - we are welcome to suggestions)\n",
    "\n",
    "Normally, Jupyter Lab manages replacing the 'cell results' with the response from the Kernel.\n",
    "\n",
    "**Although it was not always the case, it appears that the response from the server can only be returned once per execution.**\n",
    "\n",
    "*(Slight Note: `console.log()` requests can be called multiple times, and appended in real time)*\n",
    "\n",
    "This means that Animations are typically impossible, because the server can only dynamically update the html results once."
   ]
  },
  {
   "cell_type": "markdown",
   "id": "7bf5a3d4-cef9-4228-a367-9b76a27db77d",
   "metadata": {},
   "source": [
    "**We CAN do animations though with HTML Script calls**"
   ]
  },
  {
   "cell_type": "markdown",
   "id": "8ee1ec73-bd8b-4d6c-92f3-2b3b93838eb3",
   "metadata": {},
   "source": [
    "In this case, we are returning back html, that also has JavaScript executed on the client side upon render.\n",
    "\n",
    "We can also leverage a number of other techniques to serialize NodeJS functions, code and data - and pass them to the browser (client side).\n",
    "\n",
    "The [utils.ijs.htmlScript()](https://jupyter-ijavascript-utils.onrender.com/module-ijs.html#.htmlScript) method generates html that is then executed on the client once the dynamic html is rendered.  (Such as loading scripts from a CDN, and the NodeJS script that will be converted and passed to the client to run when all dependencies have been loaded)\n",
    "\n",
    "![Screenshot](../img/htmlScript_qrCode.png)"
   ]
  },
  {
   "cell_type": "code",
   "execution_count": 5,
   "id": "9e842f01-35e0-482e-b6a6-03bac37fb01c",
   "metadata": {
    "tags": []
   },
   "outputs": [
    {
     "data": {
      "image/svg+xml": [
       "<?xml version=\"1.0\" encoding=\"us-ascii\" standalone=\"no\"?><svg xmlns=\"http://www.w3.org/2000/svg\" xmlns:xlink=\"http://www.w3.org/1999/xlink\" contentStyleType=\"text/css\" height=\"447px\" preserveAspectRatio=\"none\" style=\"width:812px;height:447px;background:#FFFFFF;\" version=\"1.1\" viewBox=\"0 0 812 447\" width=\"812px\" zoomAndPan=\"magnify\"><defs/><g><rect fill=\"none\" height=\"133.5527\" style=\"stroke:#000000;stroke-width:1.5;\" width=\"403\" x=\"10\" y=\"202.5293\"/><line style=\"stroke:#181818;stroke-width:0.5;stroke-dasharray:5.0,5.0;\" x1=\"42\" x2=\"42\" y1=\"52.9766\" y2=\"395.3926\"/><line style=\"stroke:#181818;stroke-width:0.5;stroke-dasharray:5.0,5.0;\" x1=\"240.5\" x2=\"240.5\" y1=\"52.9766\" y2=\"395.3926\"/><line style=\"stroke:#181818;stroke-width:0.5;stroke-dasharray:5.0,5.0;\" x1=\"457.5\" x2=\"457.5\" y1=\"52.9766\" y2=\"395.3926\"/><line style=\"stroke:#181818;stroke-width:0.5;stroke-dasharray:5.0,5.0;\" x1=\"770.5\" x2=\"770.5\" y1=\"52.9766\" y2=\"395.3926\"/><rect fill=\"#E2E2F0\" height=\"30.4883\" rx=\"2.5\" ry=\"2.5\" style=\"stroke:#181818;stroke-width:0.5;\" width=\"44\" x=\"20\" y=\"21.4883\"/><text fill=\"#000000\" font-family=\"sans-serif\" font-size=\"14\" lengthAdjust=\"spacing\" textLength=\"30\" x=\"27\" y=\"42.0234\">CDN</text><rect fill=\"#E2E2F0\" height=\"30.4883\" rx=\"2.5\" ry=\"2.5\" style=\"stroke:#181818;stroke-width:0.5;\" width=\"44\" x=\"20\" y=\"394.3926\"/><text fill=\"#000000\" font-family=\"sans-serif\" font-size=\"14\" lengthAdjust=\"spacing\" textLength=\"30\" x=\"27\" y=\"414.9277\">CDN</text><rect fill=\"#E2E2F0\" height=\"30.4883\" rx=\"2.5\" ry=\"2.5\" style=\"stroke:#181818;stroke-width:0.5;\" width=\"69\" x=\"206.5\" y=\"21.4883\"/><text fill=\"#000000\" font-family=\"sans-serif\" font-size=\"14\" lengthAdjust=\"spacing\" textLength=\"55\" x=\"213.5\" y=\"42.0234\">Browser</text><rect fill=\"#E2E2F0\" height=\"30.4883\" rx=\"2.5\" ry=\"2.5\" style=\"stroke:#181818;stroke-width:0.5;\" width=\"69\" x=\"206.5\" y=\"394.3926\"/><text fill=\"#000000\" font-family=\"sans-serif\" font-size=\"14\" lengthAdjust=\"spacing\" textLength=\"55\" x=\"213.5\" y=\"414.9277\">Browser</text><rect fill=\"#E2E2F0\" height=\"46.9766\" rx=\"2.5\" ry=\"2.5\" style=\"stroke:#181818;stroke-width:0.5;\" width=\"81\" x=\"417.5\" y=\"5\"/><text fill=\"#000000\" font-family=\"sans-serif\" font-size=\"14\" lengthAdjust=\"spacing\" textLength=\"67\" x=\"424.5\" y=\"25.5352\">Notebook</text><text fill=\"#000000\" font-family=\"sans-serif\" font-size=\"14\" lengthAdjust=\"spacing\" textLength=\"43\" x=\"436.5\" y=\"42.0234\">Server</text><rect fill=\"#E2E2F0\" height=\"46.9766\" rx=\"2.5\" ry=\"2.5\" style=\"stroke:#181818;stroke-width:0.5;\" width=\"81\" x=\"417.5\" y=\"394.3926\"/><text fill=\"#000000\" font-family=\"sans-serif\" font-size=\"14\" lengthAdjust=\"spacing\" textLength=\"67\" x=\"424.5\" y=\"414.9277\">Notebook</text><text fill=\"#000000\" font-family=\"sans-serif\" font-size=\"14\" lengthAdjust=\"spacing\" textLength=\"43\" x=\"436.5\" y=\"431.416\">Server</text><rect fill=\"#E2E2F0\" height=\"46.9766\" rx=\"2.5\" ry=\"2.5\" style=\"stroke:#181818;stroke-width:0.5;\" width=\"71\" x=\"735.5\" y=\"5\"/><text fill=\"#000000\" font-family=\"sans-serif\" font-size=\"14\" lengthAdjust=\"spacing\" textLength=\"44\" x=\"749\" y=\"25.5352\">Kernel</text><text fill=\"#000000\" font-family=\"sans-serif\" font-size=\"14\" lengthAdjust=\"spacing\" textLength=\"57\" x=\"742.5\" y=\"42.0234\">Instance</text><rect fill=\"#E2E2F0\" height=\"46.9766\" rx=\"2.5\" ry=\"2.5\" style=\"stroke:#181818;stroke-width:0.5;\" width=\"71\" x=\"735.5\" y=\"394.3926\"/><text fill=\"#000000\" font-family=\"sans-serif\" font-size=\"14\" lengthAdjust=\"spacing\" textLength=\"44\" x=\"749\" y=\"414.9277\">Kernel</text><text fill=\"#000000\" font-family=\"sans-serif\" font-size=\"14\" lengthAdjust=\"spacing\" textLength=\"57\" x=\"742.5\" y=\"431.416\">Instance</text><polygon fill=\"#181818\" points=\"446,80.2871,456,84.2871,446,88.2871,450,84.2871\" style=\"stroke:#181818;stroke-width:1.0;\"/><line style=\"stroke:#181818;stroke-width:1.0;\" x1=\"241\" x2=\"452\" y1=\"84.2871\" y2=\"84.2871\"/><text fill=\"#000000\" font-family=\"sans-serif\" font-size=\"13\" lengthAdjust=\"spacing\" textLength=\"75\" x=\"248\" y=\"79.5449\">Execute cell</text><polygon fill=\"#181818\" points=\"759,94.2871,769,98.2871,759,102.2871,763,98.2871\" style=\"stroke:#181818;stroke-width:1.0;\"/><line style=\"stroke:#181818;stroke-width:1.0;\" x1=\"458\" x2=\"765\" y1=\"98.2871\" y2=\"98.2871\"/><polygon fill=\"#181818\" points=\"469,154.2188,459,158.2188,469,162.2188,465,158.2188\" style=\"stroke:#181818;stroke-width:1.0;\"/><line style=\"stroke:#181818;stroke-width:1.0;stroke-dasharray:2.0,2.0;\" x1=\"463\" x2=\"770\" y1=\"158.2188\" y2=\"158.2188\"/><text fill=\"#000000\" font-family=\"sans-serif\" font-size=\"13\" lengthAdjust=\"spacing\" textLength=\"154\" x=\"475\" y=\"122.8555\">(data formatted as JSON,</text><text fill=\"#000000\" font-family=\"sans-serif\" font-size=\"13\" lengthAdjust=\"spacing\" textLength=\"289\" x=\"475\" y=\"138.166\">onReady node passed as .toString() JavaScript,</text><text fill=\"#000000\" font-family=\"sans-serif\" font-size=\"13\" lengthAdjust=\"spacing\" textLength=\"27\" x=\"479\" y=\"153.4766\">etc.)</text><polygon fill=\"#181818\" points=\"252,183.5293,242,187.5293,252,191.5293,248,187.5293\" style=\"stroke:#181818;stroke-width:1.0;\"/><line style=\"stroke:#181818;stroke-width:1.0;\" x1=\"246\" x2=\"457\" y1=\"187.5293\" y2=\"187.5293\"/><text fill=\"#000000\" font-family=\"sans-serif\" font-size=\"13\" lengthAdjust=\"spacing\" textLength=\"164\" x=\"258\" y=\"182.7871\">HTML + JavaScript + JSON</text><path d=\"M10,202.5293 L84,202.5293 L84,209.8398 L74,219.8398 L10,219.8398 L10,202.5293 \" fill=\"#EEEEEE\" style=\"stroke:#000000;stroke-width:1.5;\"/><rect fill=\"none\" height=\"133.5527\" style=\"stroke:#000000;stroke-width:1.5;\" width=\"403\" x=\"10\" y=\"202.5293\"/><text fill=\"#000000\" font-family=\"sans-serif\" font-size=\"13\" font-weight=\"bold\" lengthAdjust=\"spacing\" textLength=\"29\" x=\"25\" y=\"216.0977\">loop</text><text fill=\"#000000\" font-family=\"sans-serif\" font-size=\"11\" font-weight=\"bold\" lengthAdjust=\"spacing\" textLength=\"208\" x=\"99\" y=\"215.1641\">[load dependencies in order of array]</text><polygon fill=\"#181818\" points=\"53,252.4609,43,256.4609,53,260.4609,49,256.4609\" style=\"stroke:#181818;stroke-width:1.0;\"/><line style=\"stroke:#181818;stroke-width:1.0;\" x1=\"47\" x2=\"240\" y1=\"256.4609\" y2=\"256.4609\"/><text fill=\"#000000\" font-family=\"sans-serif\" font-size=\"13\" lengthAdjust=\"spacing\" textLength=\"118\" x=\"59\" y=\"236.4082\">generate script tag</text><text fill=\"#000000\" font-family=\"sans-serif\" font-size=\"13\" lengthAdjust=\"spacing\" textLength=\"175\" x=\"59\" y=\"251.7188\">load dependency from array</text><polygon fill=\"#181818\" points=\"229,266.4609,239,270.4609,229,274.4609,233,270.4609\" style=\"stroke:#181818;stroke-width:1.0;\"/><line style=\"stroke:#181818;stroke-width:1.0;stroke-dasharray:2.0,2.0;\" x1=\"42\" x2=\"235\" y1=\"270.4609\" y2=\"270.4609\"/><line style=\"stroke:#181818;stroke-width:1.0;\" x1=\"241\" x2=\"283\" y1=\"315.082\" y2=\"315.082\"/><line style=\"stroke:#181818;stroke-width:1.0;\" x1=\"283\" x2=\"283\" y1=\"315.082\" y2=\"328.082\"/><line style=\"stroke:#181818;stroke-width:1.0;\" x1=\"242\" x2=\"283\" y1=\"328.082\" y2=\"328.082\"/><polygon fill=\"#181818\" points=\"252,324.082,242,328.082,252,332.082,248,328.082\" style=\"stroke:#181818;stroke-width:1.0;\"/><text fill=\"#000000\" font-family=\"sans-serif\" font-size=\"13\" lengthAdjust=\"spacing\" textLength=\"119\" x=\"248\" y=\"295.0293\">script.onload(uuid)</text><text fill=\"#000000\" font-family=\"sans-serif\" font-size=\"13\" lengthAdjust=\"spacing\" textLength=\"153\" x=\"248\" y=\"310.3398\">to check if done loading</text><line style=\"stroke:#181818;stroke-width:1.0;\" x1=\"241\" x2=\"283\" y1=\"364.3926\" y2=\"364.3926\"/><line style=\"stroke:#181818;stroke-width:1.0;\" x1=\"283\" x2=\"283\" y1=\"364.3926\" y2=\"377.3926\"/><line style=\"stroke:#181818;stroke-width:1.0;\" x1=\"242\" x2=\"283\" y1=\"377.3926\" y2=\"377.3926\"/><polygon fill=\"#181818\" points=\"252,373.3926,242,377.3926,252,381.3926,248,377.3926\" style=\"stroke:#181818;stroke-width:1.0;\"/><text fill=\"#000000\" font-family=\"sans-serif\" font-size=\"13\" lengthAdjust=\"spacing\" textLength=\"203\" x=\"248\" y=\"359.6504\">onReady() executed in JavaScript</text><!--SRC=[NL7BJiCm4BpxArOzjOBs0tBWm4E20aKY77FPsfjYDTsrRBVGlyUnGqdmnO-PdTqPE_JHQkkG8ypkxZSpm03Qi78ZuDRBLo3VGzjodC2pZKJQYkmRhicVo6UHa8zJuZDvfgxX9muHMLCcxlEZKeCqB6-6sWeUlaaV8u6cBX7AQu-NaagL7PQZahd1YD2AFs2CPFe6w_fjSzsmy3kXEGEB8N0OGa5NKUheBU_c2rZZ2MljhOk93nJrQZ5kEqnOmUF7wmjSZUZz9NLHgXDnq0aQCEI83R6s5C0oY3T9HLf0x_6i8AsHunHv1JjYyfZyXY8QSTVmLEmChPV3I2CLPl-_i_qNlinSD5UI1UV7epMBXgE0_YIz1zk24QOyUif2fMxGUvbyoqLhY38bHkM7JE_mBuuV]--></g></svg>"
      ]
     },
     "execution_count": 5,
     "metadata": {},
     "output_type": "execute_result"
    }
   ],
   "source": [
    "utils.plantuml.render(`\n",
    "\n",
    "participant \"CDN\" as cdn\n",
    "participant Browser as browser\n",
    "participant \"Notebook\\\\nServer\" as server\n",
    "participant \"Kernel\\\\nInstance\" as kernel\n",
    "\n",
    "browser -> server: Execute cell\n",
    "\n",
    "server -> kernel:\n",
    "kernel --> server: (data formatted as JSON,\\\\nonReady node passed as .toString() JavaScript,\\\\n etc.)\n",
    "\n",
    "server -> browser: HTML + JavaScript + JSON\n",
    "\n",
    "loop load dependencies in order of array\n",
    "    browser -> cdn: generate script tag\\\\nload dependency from array\n",
    "    cdn --> browser:\n",
    "    browser -> browser: script.onload(uuid)\\\\nto check if done loading\n",
    "end loop\n",
    "\n",
    "browser -> browser: onReady() executed in JavaScript\n",
    "`)"
   ]
  },
  {
   "cell_type": "markdown",
   "id": "67126452-e36c-4782-9499-6b8cb86511e0",
   "metadata": {},
   "source": [
    "HTMLScript takes care of writing the HTML code to be run on the client and simply rendered with the HTML mime type.\n",
    "\n",
    "At this point it is very similar to developing an html page, but one that can be leveraged again and again in its own isolated environment.\n",
    "\n",
    "(Note: we are still working on leveraging ShadowRoots for the results - see [Issue #2](https://github.com/paulroth3d/jupyter-ijavascript-utils/issues/2))"
   ]
  },
  {
   "cell_type": "markdown",
   "id": "9a4499cc-b444-44fd-a8ef-59f131cd3247",
   "metadata": {},
   "source": [
    "![Screenshot of leaflet using htmlScript](../img/htmlScript_leaflet.png)"
   ]
  },
  {
   "cell_type": "markdown",
   "id": "31a967a9-2551-47f6-8b6d-b8c25a81e318",
   "metadata": {},
   "source": [
    "(See [the jupyter-ijavascript-utils leaflet module for more](https://jupyter-ijavascript-utils.onrender.com/module-leaflet.html))"
   ]
  },
  {
   "cell_type": "markdown",
   "id": "5797cbba-bc3e-4698-b8c7-afa1d31b5787",
   "metadata": {},
   "source": [
    "---\n",
    "\n",
    "# Asynchronous Requests"
   ]
  },
  {
   "cell_type": "markdown",
   "id": "38640964-f1d9-45c7-bf86-fe68bfd1af9d",
   "metadata": {},
   "source": [
    "Please note that the use of Asynchronous Requests is very common.\n",
    "\n",
    "The [utils.ijs.await](https://jupyter-ijavascript-utils.onrender.com/module-ijs.html#.await) was intended to simplify the use of await until it has full support in the kernel.\n",
    "\n",
    "Await allows for synchronous coding when working with asynchronous promises.\n",
    "                      \n",
    "[To leverage await in Javascript](https://developer.mozilla.org/en-US/docs/Web/JavaScript/Reference/Statements/async_function), it requires:\n",
    "\n",
    "* an `async function` that then contains the `await` commands\n",
    "* a promise that we would then await on\n",
    "* a top level call to that async function\n",
    "\n",
    "For example:\n",
    "\n",
    "```\n",
    "//-- provides a promise\n",
    "function resolveAfter2Seconds(x) {\n",
    "  return new Promise(resolve => {\n",
    "    setTimeout(() => {\n",
    "      resolve(x);\n",
    "    }, 2000);\n",
    "  });\n",
    "}\n",
    "\n",
    "//-- async method\n",
    "async function f1() {\n",
    "  //-- capture the promise\n",
    "  const promiseToResolve = resolveAfter2Seconds(10);\n",
    "  \n",
    "  //-- await on the promise\n",
    "  var x = await promiseToResolve;\n",
    "  \n",
    "  //-- synchronous call that will ONLY be executed 2 seconds after the previous line\n",
    "  console.log(x); // 10\n",
    "}\n",
    "\n",
    "f1();\n",
    "```\n"
   ]
  },
  {
   "cell_type": "markdown",
   "id": "7201b787-35d1-4ae4-9abe-c7d18404db8a",
   "metadata": {},
   "source": [
    "## iJavaScript await\n",
    "\n",
    "The iJavaScript kernel currently only behaves asynchronously if told that it should wait until `$$.sendResult()` is called.\n",
    "\n",
    "For example:\n",
    "\n",
    "```\n",
    "\n",
    "//-- tell this cell that it should not continue until sendResult is called\n",
    "$$.async()\n",
    "\n",
    "//-- provides a promise\n",
    "function resolveAfter2Seconds(x) {\n",
    "  return new Promise(resolve => {\n",
    "    setTimeout(() => {\n",
    "      resolve(x);\n",
    "    }, 2000);\n",
    "  });\n",
    "}\n",
    "\n",
    "//-- async method\n",
    "async function f1() {\n",
    "  //-- capture the promise\n",
    "  const promiseToResolve = resolveAfter2Seconds(10);\n",
    "  \n",
    "  //-- await on the promise\n",
    "  var x = await promiseToResolve;\n",
    "  \n",
    "  //-- synchronous call that will ONLY be executed 2 seconds after the previous line\n",
    "  console.log(x); // 10\n",
    "\n",
    "  //-- tell the jupyter it is safe to run the next cell.\n",
    "  $$.sendResult(x);\n",
    "}\n",
    "\n",
    "f1();\n",
    "```"
   ]
  },
  {
   "cell_type": "markdown",
   "id": "83892ad2-2347-4ce3-9c09-b8e0fbea297e",
   "metadata": {},
   "source": [
    "Instead we can replace all this code with [utils.ijs.await](https://jupyter-ijavascript-utils.onrender.com/module-ijs.html#.await)\n",
    "\n",
    "```\n",
    "utils.ijs.await(async($$, console) => {\n",
    "    console.log('before 2 seconds');\n",
    "    await utils.ijs.asyncWait(2);\n",
    "    console.log('after 2 seconds');\n",
    "});\n",
    "```"
   ]
  },
  {
   "cell_type": "markdown",
   "id": "e5d2dacb-ee23-4c85-9dcd-85c8a0c01bde",
   "metadata": {},
   "source": [
    "This can be very helpful for when loading in data from external sources.\n",
    "\n",
    "```\n",
    "utils.ijs.await(async($$, console) => {\n",
    "    const connection = new jsforce.connection(...);\n",
    "    \n",
    "    accounts = await connection.query('select id from accounts limit 100');\n",
    "    \n",
    "    contacts = await connection.query('select id from contacts limit 100');\n",
    "    \n",
    "    console.log('we have ${accounts.length} accounts and ${contacts.length} contacts');\n",
    "});\n",
    "```\n",
    "\n",
    "and then leverage those values asynchrnously retrieved on the following cells, even though they are synchronously written.\n",
    "\n",
    "```\n",
    "//-- still works\n",
    "console.log('we have ${accounts.length} accounts and ${contacts.length} contacts');\n",
    "```\n"
   ]
  },
  {
   "cell_type": "markdown",
   "id": "f3f61d66-18b2-4e01-b72c-25858cec6bf5",
   "metadata": {},
   "source": [
    "For more information, please see the [utils.ijs.await function](https://jupyter-ijavascript-utils.onrender.com/module-ijs.html#.await)"
   ]
  }
 ],
 "metadata": {
  "kernelspec": {
   "display_name": "JavaScript (Node.js)",
   "language": "javascript",
   "name": "javascript"
  },
  "language_info": {
   "file_extension": ".js",
   "mimetype": "application/javascript",
   "name": "javascript",
   "version": "18.16.0"
  }
 },
 "nbformat": 4,
 "nbformat_minor": 5
}
