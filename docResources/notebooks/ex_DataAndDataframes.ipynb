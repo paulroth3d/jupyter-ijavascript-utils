{
 "cells": [
  {
   "cell_type": "markdown",
   "id": "d4e967c4-d3e1-43b0-b0f9-823a3f19172b",
   "metadata": {},
   "source": [
    "A frequent question is \"how do I work with data?\"\n",
    "\n",
    "Generally though, the question turns into one of the following\n",
    "\n",
    "* How do I get data?\n",
    "* What is a DataFrame?\n",
    "* How can I group data?\n",
    "* How can I aggregate data?\n",
    "\n",
    "# Which Modules can I use?\n",
    "\n",
    "Please note that even though we are working within a Jupyter Lab Notebook, we are ultimately working with NodeJS.\n",
    "\n",
    "So the modules that you would normally work with for NodeJS will still work, such as [dotenv](https://www.npmjs.com/package/dotenv) for working with secrets, [sequelize](https://github.com/sequelize/sequelize) for connecting to ORM data, [s3](https://www.npmjs.com/package/s3) for connecting to AWS S3 buckets, or [other modules you are used to](https://npms.io/)\n",
    "\n",
    "The one caveat is [that ESM Modules are not fully supported yet](https://github.com/n-riesco/ijavascript/issues/210), but are available with [esm-hook](https://www.npmjs.com/package/esm-hook)\n",
    "\n",
    "Simply require `esm-hook` prior to loading d3 to make it work."
   ]
  },
  {
   "cell_type": "code",
   "execution_count": 3,
   "id": "edc571ff-95ed-4f14-a88b-7639dd51c51e",
   "metadata": {},
   "outputs": [
    {
     "data": {
      "text/plain": [
       "[ 'utils', 'd3' ]"
      ]
     },
     "execution_count": 3,
     "metadata": {},
     "output_type": "execute_result"
    }
   ],
   "source": [
    "require('esm-hook');\n",
    "utils = require('jupyter-ijavascript-utils');\n",
    "d3 = require('d3');\n",
    "['utils', 'd3'];"
   ]
  }
 ],
 "metadata": {
  "kernelspec": {
   "display_name": "JavaScript (Node.js)",
   "language": "javascript",
   "name": "javascript"
  },
  "language_info": {
   "file_extension": ".js",
   "mimetype": "application/javascript",
   "name": "javascript",
   "version": "18.16.0"
  }
 },
 "nbformat": 4,
 "nbformat_minor": 5
}
