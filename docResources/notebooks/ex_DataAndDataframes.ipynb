{
 "cells": [
  {
   "cell_type": "markdown",
   "id": "d4e967c4-d3e1-43b0-b0f9-823a3f19172b",
   "metadata": {},
   "source": [
    "A frequent question is \"how do I work with data?\"\n",
    "\n",
    "Generally though, the question turns into one of the following\n",
    "\n",
    "* How do I get data?\n",
    "* What is a DataFrame?\n",
    "* How can I group data?\n",
    "* How can I aggregate data?\n",
    "\n",
    "# Which Modules can I use?\n",
    "\n",
    "Please note that even though we are working within a Jupyter Lab Notebook, we are ultimately working with NodeJS.\n",
    "\n",
    "So the modules that you would normally work with for NodeJS will still work, such as [dotenv](https://www.npmjs.com/package/dotenv) for working with secrets, [sequelize](https://github.com/sequelize/sequelize) for connecting to ORM data, [s3](https://www.npmjs.com/package/s3) for connecting to AWS S3 buckets, or [other modules you are used to](https://npms.io/)\n",
    "\n",
    "The one caveat is [that ESM Modules are not fully supported yet](https://github.com/n-riesco/ijavascript/issues/210).\n",
    "\n",
    "Although there are options such as flags and the [esm](https://github.com/standard-things/esm) library - sometimes the simplest option is to just use an older module version (like d3@6.7.0)"
   ]
  },
  {
   "cell_type": "code",
   "execution_count": 1,
   "id": "edc571ff-95ed-4f14-a88b-7639dd51c51e",
   "metadata": {},
   "outputs": [
    {
     "data": {
      "text/plain": [
       "[ 'utils' ]"
      ]
     },
     "execution_count": 1,
     "metadata": {},
     "output_type": "execute_result"
    }
   ],
   "source": [
    "utils = require('jupyter-ijavascript-utils');\n",
    "['utils'];"
   ]
  },
  {
   "cell_type": "code",
   "execution_count": null,
   "id": "7e650c07-c831-4ac6-b884-8954276d2319",
   "metadata": {},
   "outputs": [],
   "source": [
    "# How can I get Data?\n",
    "\n"
   ]
  }
 ],
 "metadata": {
  "kernelspec": {
   "display_name": "JavaScript (Node.js)",
   "language": "javascript",
   "name": "javascript"
  },
  "language_info": {
   "file_extension": ".js",
   "mimetype": "application/javascript",
   "name": "javascript",
   "version": "16.14.2"
  }
 },
 "nbformat": 4,
 "nbformat_minor": 5
}
