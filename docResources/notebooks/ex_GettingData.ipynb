{
 "cells": [
  {
   "cell_type": "markdown",
   "id": "82c36557-5f12-4804-8452-fbea19c901e4",
   "metadata": {},
   "source": [
    "**[This walkthrough is also available as a Jupyter ipynb Notebook - you can run yourself](notebooks/ex_GettingData.ipynb)**"
   ]
  },
  {
   "cell_type": "markdown",
   "id": "2c83ee1d-056c-4b25-b4ea-e47a766a9780",
   "metadata": {},
   "source": [
    "A frequent question asked is: 'How do I get data?'\n",
    "\n",
    "Importantly, **we are just working with NodeJS**<br />\n",
    "albeit within the context within a Jupyter Lab Notebook.\n",
    "\n",
    "So essentially, any data that you can programmatically access with an [NPM module](https://www.npmjs.com/search?q=keywords:file) is available within a Jupyter Lab notebook."
   ]
  },
  {
   "cell_type": "markdown",
   "id": "fbc10ede-7808-43f0-b7bf-574fb07b475d",
   "metadata": {},
   "source": [
    "Example Data Sources:\n",
    "* Local Files\n",
    "* APIs and Cloud Services\n",
    "* Scraping\n",
    "* Generating\n",
    "* etc."
   ]
  },
  {
   "cell_type": "markdown",
   "id": "f71cde55-d770-4b49-bbd5-52253a7e0243",
   "metadata": {},
   "source": [
    "## Note on Asynchronous Calls\n",
    "\n",
    "[TODO]\n",
    "\n",
    "We would recommend [using promises](https://developer.mozilla.org/en-US/docs/Web/JavaScript/Guide/Using_promises)\n",
    "and using [await / asynchronous functions](https://developer.mozilla.org/en-US/docs/Web/JavaScript/Reference/Statements/async_function)\n",
    "\n",
    "We provide the [utils.ijs.await function](https://jupyter-ijavascript-utils.onrender.com/module-ijs.html#.await)\n",
    "to provide await functionality within the iJavaScript kernel,\n",
    "so the next cell will only be executed once the asynchronous calls are done.\n",
    "\n",
    "This allows for very simple chaining of asynchronous and synchronous calls.\n",
    "\n",
    "Please [give it a look](https://jupyter-ijavascript-utils.onrender.com/module-ijs.html#.await)\n",
    "\n",
    "For example:\n",
    "\n",
    "```\n",
    "//-- get the data\n",
    "//-- fetch the data\n",
    "//-- and do not execute the next cell until received.\n",
    "utils.ijs.await(async ($$, console) => {\n",
    " barley = await utils.datasets.fetch('barley.json');\n",
    "})\n",
    "```\n",
    "\n",
    "```\n",
    "//-- use the data as though it was synchronously received\n",
    "\n",
    "//-- get the min max of the types of barley\n",
    "barleyByVarietySite = d3.group(barley, d => d.variety, d => d.site)\n",
    "//-- now group by variety and year\n",
    "barleyByVarietyYear = d3.group(barley, d => d.variety, d => d.year)\n",
    "```"
   ]
  },
  {
   "cell_type": "markdown",
   "id": "09af20d2-67a5-4fff-8849-76b9f27240ce",
   "metadata": {},
   "source": [
    "## Library Setup"
   ]
  },
  {
   "cell_type": "code",
   "execution_count": 1,
   "id": "8b0da38d-aedd-4824-a2b9-b1a8e5949c3d",
   "metadata": {},
   "outputs": [
    {
     "data": {
      "text/plain": [
       "[ 'utils', 'cheerio', 'd3', 'dotenv' ]"
      ]
     },
     "execution_count": 1,
     "metadata": {},
     "output_type": "execute_result"
    }
   ],
   "source": [
    "//-- this library\n",
    "utils = require('jupyter-ijavascript-utils');\n",
    "//-- library for parsing and manipulating html (like from fetch)\n",
    "cheerio = require('cheerio');\n",
    "//-- data-driven-documents (d3) library - allows for TSV/CSV/etc. files\n",
    "d3 = require('d3');\n",
    "//-- library for working with secrets locally\n",
    "dotenv = require('dotenv');\n",
    "['utils', 'cheerio', 'd3', 'dotenv'];"
   ]
  },
  {
   "cell_type": "markdown",
   "id": "c80f99b3-3dc4-417a-b3dd-1321a55a480e",
   "metadata": {},
   "source": [
    "# Local Files"
   ]
  },
  {
   "cell_type": "markdown",
   "id": "3e1eb5c2-84d2-4b42-b26f-b91f20699b93",
   "metadata": {},
   "source": [
    "While there are many NPM modules available for loading data, we have tried to simplify two main types of files:\n",
    "* [utils.file.readFile(path)](https://jupyter-ijavascript-utils.onrender.com/module-file.html#.readFile) - to read in Text\n",
    "* [utils.file.readJSON(path)](https://jupyter-ijavascript-utils.onrender.com/module-file.html#.readJSON) - to read in a file and parse as JSON\n",
    "\n",
    "Including functions to write files as-well.\n",
    "\n",
    "* [utils.file.writeFile(path, stringContents)](https://jupyter-ijavascript-utils.onrender.com/module-file.html#.readFile) - to read in Text\n",
    "* [utils.file.readJSON(path, stringContents)](https://jupyter-ijavascript-utils.onrender.com/module-file.html#.readJSON) - to read in a file and parse as JSON"
   ]
  },
  {
   "cell_type": "markdown",
   "id": "40e70290-060d-476c-9bf1-806f7114938d",
   "metadata": {},
   "source": [
    "There are many NPM Modules available for loading different kinds of files.\n",
    "\n",
    "The jupyter-ijavascript-utils library includes a few simple functions - for requent situations.\n",
    "\n",
    "* [utils.file.pwd](https://jupyter-ijavascript-utils.onrender.com/module-file.html#.pwd) - prints the current directory Jupyter Lab is looking at"
   ]
  },
  {
   "cell_type": "raw",
   "id": "9c818827-fe0b-4aea-8600-e21ca36932ba",
   "metadata": {},
   "source": [
    "utils.file.pwd()\n",
    "// /path/to/notebooks"
   ]
  },
  {
   "cell_type": "markdown",
   "id": "f691e3bd-890e-4de6-8fa0-d77ec5358e47",
   "metadata": {},
   "source": [
    "* [utils.file.listFiles](https://jupyter-ijavascript-utils.onrender.com/module-file.html#.listFiles) - to list the files in a directory"
   ]
  },
  {
   "cell_type": "raw",
   "id": "fba64697-9496-4be2-9c5f-bca2f03dfb26",
   "metadata": {},
   "source": [
    "utils.file.listFiles('.');\n",
    "\n",
    "/*\n",
    "[\n",
    "  'ex_GettingData.ipynb',\n",
    "  'node_modules',\n",
    "  'package-lock.json',\n",
    "  'package.json',\n",
    "  ...\n",
    "]\n",
    "*/"
   ]
  },
  {
   "cell_type": "markdown",
   "id": "db2524e7-1867-4327-8b30-20e020b81c22",
   "metadata": {},
   "source": [
    "* [utils.file.checkFile](https://jupyter-ijavascript-utils.onrender.com/module-file.html#.checkFile) - to return true if a file already exists.\n",
    "\n",
    "**FOR EXAMPLE: checking if your [dotenv credentials]() can be found**"
   ]
  },
  {
   "cell_type": "raw",
   "id": "f5b979f6-6f1b-46ef-ab57-1380691b6cf6",
   "metadata": {},
   "source": [
    "credentialsPath = `${utils.file.pwd()}/credentials.env`;\n",
    "\n",
    "if (utils.file.checkFile('./credentials.env')) {\n",
    "    //-- credentials could not be found\n",
    "    //-- let the user know what is expected\n",
    "    \n",
    "    console.error(`Could not find ${credentialsPath}\n",
    "\n",
    "We use dotenv to securely store credentials\n",
    "and require it to access provider XYZ.\n",
    "\n",
    "* username {string}\n",
    "* password {string}\n",
    "\n",
    "for example:\n",
    "\n",
    "\"\"\"\n",
    "username=\"jdoe@example.com\"\n",
    "password=\"\"\n",
    "\"\"\"\n",
    "\n",
    "Please create this file and run again.\n",
    "`);\n",
    "    throw Error(`credentials file not found:${credentialsPath}\\nPlease read the message above and try again`);\n",
    "    \n",
    "    \n",
    "} else {\n",
    "    //-- the credentials file was found, so load it\n",
    "    credentials = dotenv.config({ path: credentialsPath }).parsed;\n",
    "}\n",
    "\n",
    "//-- check we have all the information needed to move forward\n",
    "\n",
    "if (!credentials.username || !credentials.password) {\n",
    "    throw Error(`Credentials not provided\n",
    "${credentialsPath}`);\n",
    "}\n",
    "\n",
    "//-- indicate success\n",
    "//-- BUT always be careful NOT TO leak credentials\n",
    "console.log(`credentials loaded`);"
   ]
  },
  {
   "cell_type": "markdown",
   "id": "dfd6fb1c-04aa-42bf-9a6a-d24557bf349d",
   "metadata": {},
   "source": [
    "# APIs and Cloud Services\n",
    "\n",
    "[TODO]\n",
    "\n",
    "Remember, we are still using NodeJS - so you can leverage NPM packages to load data.\n",
    "\n",
    "For example:\n",
    "\n",
    "[JSForce](https://jsforce.github.io/) is a brilliant library for working with Salesforce.\n",
    "\n",
    "\n",
    "## Working with Secrets\n",
    "\n",
    "[TODO]\n",
    "\n",
    "Working with Secrets in a jupyter notebook is similar to working with any NodeJS project.\n",
    "\n",
    "[Dotenv](https://www.npmjs.com/package/dotenv) is a staple for working with credentials and highly recommended.\n",
    "\n",
    "Remember though:\n",
    "* DO NOT include credentials within any notebook\n",
    "* If using dotenv, ensure the files are properly secured (as they are outside of the notebook)\n",
    "    * For example, that they are gitignored, have appropriate read access, etc.\n",
    "* As a notebook can provide summaries of data accessed through secure means, always protect the notebook as-well.\n",
    "    * To avoid any security leaks"
   ]
  },
  {
   "cell_type": "markdown",
   "id": "0484b372-13b9-4ff0-94e8-7725884fc77e",
   "metadata": {},
   "source": [
    "## Database Access\n",
    "\n",
    "[TODO]\n",
    "\n",
    "As we are working within NodeJS, there are many NPM libraries that can help with accessing databases.\n",
    "\n",
    "For example: [sequelize](https://www.npmjs.com/package/sequelize) is an Sequelize is a promise-based Node.js ORM tool for Postgres, MySQL, MariaDB, SQLite, DB2 and Microsoft SQL Server. It features solid transaction support, relations, eager and lazy loading, read replication and more.\n",
    "\n",
    "And of course the native database libraries can be used:\n",
    "* [utils.datasets.fetchJSON](http://localhost:8080/module-datasets.html#.fetchJSON)\n",
    "* [utils.datasets.fetchText](http://localhost:8080/module-datasets.html#.fetchText)\n",
    "* etc.\n",
    "\n",
    "Of course, the native libraries can always be used:\n",
    "* [mssql](https://www.npmjs.com/package/mssql) - for working with sql server\n",
    "* [mysql](https://www.npmjs.com/package/mysql) for working with mysql"
   ]
  },
  {
   "cell_type": "markdown",
   "id": "f0b239dc-2ba3-4e50-84af-ee27303bfb0b",
   "metadata": {},
   "source": [
    "# Scraping\n",
    "\n",
    "[TODO]\n",
    "\n",
    "Scraping (retrieving through [fetch](), parsing and collating) can be done within a Jupyter Notebook.\n",
    "\n",
    "We would recommend to keeping this to simple fetches and parsing in general however.\n",
    "\n",
    "This jupyter-ijavascript-utils library includes two convenience functions for working with [fetch](https://www.npmjs.com/package/node-fetch),\n",
    "a simple shim for traditional [JavaScript fetch calls](https://developer.mozilla.org/en-US/docs/Web/API/Fetch_API) from within node.\n",
    "                                                       \n",
    "\n",
    "\n",
    "Additional libraries can also be used to parse the data and generate datasets\n",
    "                             \n",
    "(For example: [cheerio](https://www.npmjs.com/package/cheerio-select))"
   ]
  },
  {
   "cell_type": "markdown",
   "id": "6c065be9-d665-4697-8690-2290e2e6a4af",
   "metadata": {},
   "source": [
    "# Generating\n",
    "\n",
    "[TODO]\n",
    "\n",
    "Generating Data can also be a simple option if desired.\n",
    "\n",
    "We have two sets of methods on the [random module](https://jupyter-ijavascript-utils.onrender.com/module-random.html)\n",
    "\n",
    "-   Generating Random Numbers\n",
    "    -   [randomInteger(min, max)](https://jupyter-ijavascript-utils.onrender.com/module-random.html#.randomInteger) - inclusive integer between min and max values\n",
    "    -   [randomInteger(min, max)](https://jupyter-ijavascript-utils.onrender.com/module-random.html#.random) - inclusive float between min and max values\n",
    "-   Working with Arrays\n",
    "    -   [pickRandom(array)](https://jupyter-ijavascript-utils.onrender.com/module-random.html#.pickRandom) - picks a value at random from the list\n",
    "    -   [randomArray(size, fn)](https://jupyter-ijavascript-utils.onrender.com/module-random.html#.randomArray) - creates an array of size length, with each value generated from fn\n",
    "-   Simplex Noise\n",
    "    -   simplexGenerator(seed) - Number generator between -1 and 1 given an x/y/z coordinate"
   ]
  },
  {
   "cell_type": "markdown",
   "id": "e277bdfc-242f-49a6-95fb-5efd224ed64f",
   "metadata": {},
   "source": [
    "Additionally, there are so many different ways of generating visualizations\n",
    "based on simplex noise.\n",
    "\n",
    "From straight (red - negative / green - positive)\n",
    "\n",
    "![Screenshot of animation](../img/simplexNoiseAnim.gif)\n",
    "\n",
    "To indicators with length, and rotation (negative ccw / positive cw)\n",
    "\n",
    "![Screenshot of animation](../img/noiseFinal.gif)"
   ]
  }
 ],
 "metadata": {
  "kernelspec": {
   "display_name": "JavaScript (Node.js)",
   "language": "javascript",
   "name": "javascript"
  },
  "language_info": {
   "file_extension": ".js",
   "mimetype": "application/javascript",
   "name": "javascript",
   "version": "16.14.2"
  }
 },
 "nbformat": 4,
 "nbformat_minor": 5
}
