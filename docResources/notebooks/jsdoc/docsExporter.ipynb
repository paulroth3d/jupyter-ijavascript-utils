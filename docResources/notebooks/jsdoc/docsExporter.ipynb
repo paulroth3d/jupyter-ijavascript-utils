{
 "cells": [
  {
   "cell_type": "markdown",
   "id": "34669b17-de0d-49ee-9c52-fdecc6fc13ca",
   "metadata": {
    "tags": []
   },
   "source": [
    "# Create a Function Reference similar to Google Sheets\n",
    "\n",
    "https://support.google.com/docs/table/25273"
   ]
  },
  {
   "cell_type": "code",
   "execution_count": 1,
   "id": "1ebc56f3-fd0c-4477-817e-ca32397534f2",
   "metadata": {},
   "outputs": [
    {
     "data": {
      "text/plain": [
       "[ 'utils', 'd3', 'jsdoc-api' ]"
      ]
     },
     "execution_count": 1,
     "metadata": {},
     "output_type": "execute_result"
    }
   ],
   "source": [
    "utils = require('jupyter-ijavascript-utils');\n",
    "d3 = require('d3');\n",
    "jsdoc = require('jsdoc-api');\n",
    "['utils', 'd3', 'jsdoc-api'];"
   ]
  },
  {
   "cell_type": "markdown",
   "id": "16b1cd1a-58a7-4fae-ae1c-693ed549e267",
   "metadata": {},
   "source": [
    "## For some reason this does not work within Notebooks\n",
    "\n",
    "If you run the generateJsdoc.js file within node, then it works.\n",
    "but if you run it here, all you get is undefined.\n",
    "\n"
   ]
  },
  {
   "cell_type": "raw",
   "id": "acf41304-eaf1-47a2-8726-28c5551dd7f5",
   "metadata": {},
   "source": [
    "jsdocs = jsdoc.explainSync({ files: '../../../src/**.js' });\n",
    "//-- gives undefined"
   ]
  },
  {
   "cell_type": "raw",
   "id": "463d1a79-1b37-43e4-8d9b-6847fe23e108",
   "metadata": {},
   "source": [
    "//-- it seems there is a problem with how it is called.\n",
    "//-- and throws this error:\n",
    "/*\n",
    "Error: spawn node ENOENT\n",
    "    at Process.ChildProcess._handle.onexit (node:internal/child_process:283:19)\n",
    "    at onErrorNT (node:internal/child_process:478:16)\n",
    "    at processTicksAndRejections (node:internal/process/task_queues:83:21)\n",
    "*/\n",
    "utils.ijs.await(async($$, console) => {\n",
    "  try {\n",
    "\tjsdocs = await jsdoc.explain({ files: '../../../src/**.js' });\n",
    "  } catch (err) {\n",
    "\tconsole.log(err);\n",
    "  }\n",
    "  console.log(jsdocs);\n",
    "});"
   ]
  },
  {
   "cell_type": "markdown",
   "id": "f0045baa-03cf-4c86-a888-26d8a38976d4",
   "metadata": {},
   "source": [
    "# Load from JSON\n",
    "\n",
    "For some reason, it is able to run in node on the command line,\n",
    "just not inside of jupyter...\n",
    "\n",
    "So, lets run in the command line and get the JSON back."
   ]
  },
  {
   "cell_type": "code",
   "execution_count": 2,
   "id": "6a073103-9036-4b6d-8572-4e40861056cc",
   "metadata": {},
   "outputs": [
    {
     "data": {
      "text/plain": [
       "[ 'fs', 'path', 'childProcess' ]"
      ]
     },
     "execution_count": 2,
     "metadata": {},
     "output_type": "execute_result"
    }
   ],
   "source": [
    "fs = require('fs');\n",
    "path = require('path');\n",
    "childProcess = require('child_process');\n",
    "['fs', 'path', 'childProcess'];"
   ]
  },
  {
   "cell_type": "raw",
   "id": "afdc290d-5c9f-4e0a-b887-e3097a9fe09a",
   "metadata": {},
   "source": [
    "stdout = childProcess.execSync(\"node ./jsdoc/test.js\");\n",
    "console.log(stdout.toString());"
   ]
  },
  {
   "cell_type": "code",
   "execution_count": 3,
   "id": "cbefdfc1-27d1-47e7-873f-5d520e799270",
   "metadata": {
    "scrolled": true,
    "tags": []
   },
   "outputs": [
    {
     "data": {
      "text/plain": [
       "[ 'jsdocInfo' ]"
      ]
     },
     "execution_count": 3,
     "metadata": {},
     "output_type": "execute_result"
    }
   ],
   "source": [
    "jsdocInfo = utils.file.readJSON('./jsdoc/jsdoc.json');\n",
    "['jsdocInfo']"
   ]
  },
  {
   "cell_type": "code",
   "execution_count": 4,
   "id": "b403c06d-8d80-4f75-bdbf-2c86c41ac6bf",
   "metadata": {},
   "outputs": [
    {
     "data": {
      "text/plain": [
       "1292"
      ]
     },
     "execution_count": 4,
     "metadata": {},
     "output_type": "execute_result"
    }
   ],
   "source": [
    "jsdocInfo.length"
   ]
  },
  {
   "cell_type": "code",
   "execution_count": 5,
   "id": "1cc185f5-c7a7-4ff5-b101-7e051b698f4a",
   "metadata": {},
   "outputs": [
    {
     "data": {
      "text/plain": [
       "{\n",
       "  '$schema': 'http://json-schema.org/draft-04/schema#',\n",
       "  type: 'array',\n",
       "  items: {\n",
       "    type: 'object',\n",
       "    properties: {\n",
       "      comment: [Object],\n",
       "      meta: [Object],\n",
       "      undocumented: [Object],\n",
       "      name: [Object],\n",
       "      longname: [Object],\n",
       "      kind: [Object],\n",
       "      scope: [Object],\n",
       "      params: [Object],\n",
       "      description: [Object],\n",
       "      alias: [Object],\n",
       "      memberof: [Object],\n",
       "      returns: [Object],\n",
       "      examples: [Object],\n",
       "      see: [Object],\n",
       "      type: [Object],\n",
       "      access: [Object],\n",
       "      deprecated: [Object],\n",
       "      properties: [Object],\n",
       "      todo: [Object],\n",
       "      defaultvalue: [Object],\n",
       "      exceptions: [Object],\n",
       "      classdesc: [Object],\n",
       "      files: [Object]\n",
       "    },\n",
       "    required: [\n",
       "      'comment',      'meta',\n",
       "      'undocumented', 'name',\n",
       "      'longname',     'kind',\n",
       "      'scope',        'params',\n",
       "      'description',  'memberof',\n",
       "      'returns',      'examples',\n",
       "      'see',          'alias',\n",
       "      'type',         'access',\n",
       "      'properties',   'defaultvalue',\n",
       "      'deprecated',   'classdesc'\n",
       "    ]\n",
       "  }\n",
       "}"
      ]
     },
     "execution_count": 5,
     "metadata": {},
     "output_type": "execute_result"
    }
   ],
   "source": [
    "utils.object.generateSchema(jsdocInfo)"
   ]
  },
  {
   "cell_type": "code",
   "execution_count": 6,
   "id": "21d8ac72-eca1-420c-a36a-32dc8e764825",
   "metadata": {},
   "outputs": [
    {
     "data": {
      "text/plain": [
       "[\n",
       "  {\n",
       "    comment: '/**\\n' +\n",
       "      '   * 2d Simplex Noise value\\n' +\n",
       "      '   * @param {Number} xin - position along the x axis\\n' +\n",
       "      '   * @param {Number} yin - position along the y axis\\n' +\n",
       "      '   * @returns {Number} - [0-1] exclusive \\n' +\n",
       "      '   * @method simplex2d\\n' +\n",
       "      '   * @memberof SimplexGenerator\\n' +\n",
       "      '   * @example\\n' +\n",
       "      '   * const generator = utils.random.simplexGenerator();\\n' +\n",
       "      '   */',\n",
       "    meta: {\n",
       "      filename: 'random_simplex.js',\n",
       "      lineno: 199,\n",
       "      columnno: 2,\n",
       "      path: '/Users/proth/Documents/notebooks/jupyter-ijavascript-utils/src',\n",
       "      code: {}\n",
       "    },\n",
       "    description: '2d Simplex Noise value',\n",
       "    params: [ [Object], [Object] ],\n",
       "    returns: [ [Object] ],\n",
       "    kind: 'function',\n",
       "    name: 'simplex2d',\n",
       "    memberof: 'SimplexGenerator',\n",
       "    examples: [ 'const generator = utils.random.simplexGenerator();' ],\n",
       "    scope: 'static',\n",
       "    longname: 'SimplexGenerator.simplex2d'\n",
       "  }\n",
       "]"
      ]
     },
     "execution_count": 6,
     "metadata": {},
     "output_type": "execute_result"
    }
   ],
   "source": [
    "jsdocInfo.filter((r) => r.longname === 'SimplexGenerator.simplex2d')"
   ]
  },
  {
   "cell_type": "code",
   "execution_count": 7,
   "id": "28412a9a-0587-4b51-bbbb-b67673466e47",
   "metadata": {},
   "outputs": [
    {
     "data": {
      "text/plain": [
       "[\n",
       "  'comment',     'meta',\n",
       "  'description', 'kind',\n",
       "  'name',        'alias',\n",
       "  'longname',    'params',\n",
       "  'returns',     'memberof',\n",
       "  'scope',       'examples'\n",
       "]"
      ]
     },
     "execution_count": 7,
     "metadata": {},
     "output_type": "execute_result"
    }
   ],
   "source": [
    "utils.object.keys(jsdocInfo.filter(r => r.undocumented !== true).slice(0, 10))"
   ]
  },
  {
   "cell_type": "code",
   "execution_count": 11,
   "id": "66134c01-3f28-49f9-a9e8-d00009f8ee29",
   "metadata": {},
   "outputs": [
    {
     "data": {
      "text/html": [
       "<table cellspacing=\"0px\" >\n",
       "<tr >\n",
       "\t<th>meta</th>\n",
       "\t<th>description</th>\n",
       "\t<th>params</th>\n",
       "\t<th>returns</th>\n",
       "\t<th>examples</th>\n",
       "\t<th>name</th>\n",
       "\t<th>longname</th>\n",
       "\t<th>kind</th>\n",
       "\t<th>memberof</th>\n",
       "\t<th>scope</th>\n",
       "</tr>\n",
       "<tr >\n",
       "\t<td >{\n",
       "  \"range\": [\n",
       "    14784,\n",
       "    15024\n",
       "  ],\n",
       "  \"filename\": \"aggregate.js\",\n",
       "  \"lineno\": 416,\n",
       "  \"columnno\": 0,\n",
       "  \"path\": \"/Users/proth/Documents/notebooks/jupyter-ijavascript-utils/src\",\n",
       "  \"code\": {\n",
       "    \"id…</td>\n",
       "\t<td >Finds the mean value (sum of all values / # of values)</td>\n",
       "\t<td >[{\"type\":{\"names\":[\"Array\"]},\"description\":\"-\",\"name\":\"collection\"},{\"type\":{\"names\":[\"function\",\"String\"]},\"description\":\"function to identify the property, string property name or null\",\"name\":\"accessor\"}]</td>\n",
       "\t<td >[{\"type\":{\"names\":[\"Number\"]},\"description\":\"- mean average\"}]</td>\n",
       "\t<td >[\"utils.aggregate.avgMean([0.87, 2.68, 5.31, 3.94, 4.13, 3.58, 3.62, 2.56]);\\n// 3.41\"]</td>\n",
       "\t<td >avgMean</td>\n",
       "\t<td >module:aggregate.avgMean</td>\n",
       "\t<td >function</td>\n",
       "\t<td >module:aggregate</td>\n",
       "\t<td >static</td>\n",
       "</tr>\n",
       "<tr >\n",
       "\t<td >{\n",
       "  \"range\": [\n",
       "    15455,\n",
       "    15829\n",
       "  ],\n",
       "  \"filename\": \"aggregate.js\",\n",
       "  \"lineno\": 432,\n",
       "  \"columnno\": 0,\n",
       "  \"path\": \"/Users/proth/Documents/notebooks/jupyter-ijavascript-utils/src\",\n",
       "  \"code\": {\n",
       "    \"id…</td>\n",
       "\t<td >Finds the median (halfway number in a sorted series)</td>\n",
       "\t<td >[{\"type\":{\"names\":[\"Array\"]},\"description\":\"-\",\"name\":\"collection\"},{\"type\":{\"names\":[\"function\",\"String\"]},\"description\":\"function to identify the property, string property name or null\",\"name\":\"accessor\"}]</td>\n",
       "\t<td >[{\"type\":{\"names\":[\"Number\"]},\"description\":\"- median number from the series\"}]</td>\n",
       "\t<td >[\"utils.aggregate.avgMedian([0.87, 2.68, 5.31, 3.94, 4.13, 3.58, 3.62, 2.56]);\\n// [0.87,2.56,2.68,3.58,3.62,3.94,3.98,4.13,5.31]\\n//                      3.62\"]</td>\n",
       "\t<td >avgMedian</td>\n",
       "\t<td >module:aggregate.avgMedian</td>\n",
       "\t<td >function</td>\n",
       "\t<td >module:aggregate</td>\n",
       "\t<td >static</td>\n",
       "</tr>\n",
       "<tr >\n",
       "\t<td >{\n",
       "  \"range\": [\n",
       "    11054,\n",
       "    11311\n",
       "  ],\n",
       "  \"filename\": \"aggregate.js\",\n",
       "  \"lineno\": 312,\n",
       "  \"columnno\": 0,\n",
       "  \"path\": \"/Users/proth/Documents/notebooks/jupyter-ijavascript-utils/src\",\n",
       "  \"code\": {\n",
       "    \"id…</td>\n",
       "\t<td >Converts an aggregate function to two functions -\n",
       "one that takes all arguments except the collection\n",
       "and one that takes only the collection.\n",
       "\n",
       "For example:\n",
       "\n",
       "```\n",
       "utils.aggregate.unique(collection, (r) => r.city))\n",
       "//-- all unique city values in the collection\n",
       "// ['Chicago', 'New York', 'Seattle', 'Amsterdam']\n",
       "```\n",
       "\n",
       "but what if we know we want the city properties,\n",
       "but don't have the collection yet?\n",
       "\n",
       "```\n",
       "const uniqueCity = utils.aggregate.deferCollection(utils.aggregate.unique, (r) => r.city);\n",
       "...\n",
       "uniqueCity(collection)\n",
       "//-- all the unique city values in the collection\n",
       "// ['Chicago', 'New York', 'Seattle', 'Amsterdam']\n",
       "```\n",
       "\n",
       "note that this is also available under an alias `defer`\n",
       "\n",
       "```\n",
       "const uniqueCity = utils.agg.defer(utils.agg.unique, 'city');\n",
       "...\n",
       "uniqueCity(collection)\n",
       "//-- all the unique city values in the collection\n",
       "// ['Chicago', 'New York', 'Seattle', 'Amsterdam']\n",
       "```</td>\n",
       "\t<td >[{\"type\":{\"names\":[\"function\"]},\"name\":\"aggregateFn\"},{\"type\":{\"names\":[\"any\"]},\"optional\":true,\"variable\":true,\"description\":\"any arguments past the collection argument\",\"name\":\"rest\"}]</td>\n",
       "\t<td >[{\"type\":{\"names\":[\"function\"]},\"description\":\"- (collection) => aggregateFn.apply(this, [collection, ...rest])\"}]</td>\n",
       "\t<td >undefined</td>\n",
       "\t<td >deferCollection</td>\n",
       "\t<td >module:aggregate.deferCollection</td>\n",
       "\t<td >function</td>\n",
       "\t<td >module:aggregate</td>\n",
       "\t<td >static</td>\n",
       "</tr>\n",
       "<tr >\n",
       "\t<td >{\n",
       "  \"range\": [\n",
       "    14277,\n",
       "    14443\n",
       "  ],\n",
       "  \"filename\": \"aggregate.js\",\n",
       "  \"lineno\": 402,\n",
       "  \"columnno\": 0,\n",
       "  \"path\": \"/Users/proth/Documents/notebooks/jupyter-ijavascript-utils/src\",\n",
       "  \"code\": {\n",
       "    \"id…</td>\n",
       "\t<td >The difference between the lowest and the highest values in the collection</td>\n",
       "\t<td >[{\"type\":{\"names\":[\"Array\"]},\"name\":\"collection\"},{\"type\":{\"names\":[\"*\"]},\"name\":\"accessor\"}]</td>\n",
       "\t<td >[{\"type\":{\"names\":[\"Number\"]},\"description\":\"-\"}]</td>\n",
       "\t<td >[\"utils.aggregate.difference([0.87, 2.68, 5.31, 3.94, 4.13, 3.58, 3.62, 2.56]);\\n// 4.44  (max: 5.31 - min: 0.87 = 4.4)\"]</td>\n",
       "\t<td >difference</td>\n",
       "\t<td >module:aggregate.difference</td>\n",
       "\t<td >function</td>\n",
       "\t<td >module:aggregate</td>\n",
       "\t<td >static</td>\n",
       "</tr>\n",
       "<tr >\n",
       "\t<td >{\n",
       "  \"range\": [\n",
       "    11740,\n",
       "    11922\n",
       "  ],\n",
       "  \"filename\": \"aggregate.js\",\n",
       "  \"lineno\": 331,\n",
       "  \"columnno\": 0,\n",
       "  \"path\": \"/Users/proth/Documents/notebooks/jupyter-ijavascript-utils/src\",\n",
       "  \"code\": {\n",
       "    \"id…</td>\n",
       "\t<td >Identifies the min and max of values of a collection</td>\n",
       "\t<td >[{\"type\":{\"names\":[\"Array\"]},\"description\":\"-\",\"name\":\"collection\"},{\"type\":{\"names\":[\"function\",\"String\"]},\"description\":\"function to identify the property, string property name or null\",\"name\":\"accessor\"}]</td>\n",
       "\t<td >[{\"type\":{\"names\":[\"Object\"]},\"description\":\"- structure of ({ min, max })\"}]</td>\n",
       "\t<td >[\"utils.aggregate.extent([0.87, 2.68, 5.31, 3.94, 4.13, 3.58, 3.62, 2.56]);\\n// { min: 0.87, max: 5.31 }\"]</td>\n",
       "\t<td >extent</td>\n",
       "\t<td >module:aggregate.extent</td>\n",
       "\t<td >function</td>\n",
       "\t<td >module:aggregate</td>\n",
       "\t<td >static</td>\n",
       "</tr>\n",
       "<tr >\n",
       "\t<td >{\n",
       "  \"range\": [\n",
       "    16280,\n",
       "    16625\n",
       "  ],\n",
       "  \"filename\": \"aggregate.js\",\n",
       "  \"lineno\": 453,\n",
       "  \"columnno\": 0,\n",
       "  \"path\": \"/Users/proth/Documents/notebooks/jupyter-ijavascript-utils/src\",\n",
       "  \"code\": {\n",
       "    \"id…</td>\n",
       "\t<td >Finds the first value in a list.\n",
       "\n",
       "`NOTE: this short circuits and can be helpful if the values are all identical`</td>\n",
       "\t<td >[{\"type\":{\"names\":[\"Array\"]},\"description\":\"-\",\"name\":\"collection\"},{\"type\":{\"names\":[\"function\",\"String\"]},\"description\":\"function to identify the property, string property name or null\",\"name\":\"accessor\"}]</td>\n",
       "\t<td >[{\"type\":{\"names\":[\"any\"]},\"description\":\"- the first non undefined || null value found\"}]</td>\n",
       "\t<td >[\"utils.aggregate.first([null, undefined, 0.87, 2.68, 5.31, 3.94, 4.13, 3.58, 3.62, 2.56]);\\n// 0.87\"]</td>\n",
       "\t<td >first</td>\n",
       "\t<td >module:aggregate.first</td>\n",
       "\t<td >function</td>\n",
       "\t<td >module:aggregate</td>\n",
       "\t<td >static</td>\n",
       "</tr>\n",
       "<tr >\n",
       "\t<td >{\n",
       "  \"range\": [\n",
       "    13115,\n",
       "    13415\n",
       "  ],\n",
       "  \"filename\": \"aggregate.js\",\n",
       "  \"lineno\": 369,\n",
       "  \"columnno\": 0,\n",
       "  \"path\": \"/Users/proth/Documents/notebooks/jupyter-ijavascript-utils/src\",\n",
       "  \"code\": {\n",
       "    \"id…</td>\n",
       "\t<td >Identifies the largest value in a collection of values.\n",
       "\n",
       "(Note that this works with anything comparable with > )</td>\n",
       "\t<td >[{\"type\":{\"names\":[\"Array\"]},\"description\":\"-\",\"name\":\"collection\"},{\"type\":{\"names\":[\"function\",\"String\"]},\"description\":\"function to identify the property, string property name or null\",\"name\":\"accessor\"}]</td>\n",
       "\t<td >[{\"type\":{\"names\":[\"any\"]},\"description\":\"- largest value where result > any other value in collection\"}]</td>\n",
       "\t<td >[\"utils.aggregate.max([0.87, 2.68, 5.31, 3.94, 4.13, 3.58, 3.62, 2.56]);\\n// 5.31\"]</td>\n",
       "\t<td >max</td>\n",
       "\t<td >module:aggregate.max</td>\n",
       "\t<td >function</td>\n",
       "\t<td >module:aggregate</td>\n",
       "\t<td >static</td>\n",
       "</tr>\n",
       "<tr >\n",
       "\t<td >{\n",
       "  \"range\": [\n",
       "    12367,\n",
       "    12667\n",
       "  ],\n",
       "  \"filename\": \"aggregate.js\",\n",
       "  \"lineno\": 349,\n",
       "  \"columnno\": 0,\n",
       "  \"path\": \"/Users/proth/Documents/notebooks/jupyter-ijavascript-utils/src\",\n",
       "  \"code\": {\n",
       "    \"id…</td>\n",
       "\t<td >Identifies the smallest value in a collection of values.\n",
       "\n",
       "(Note that this works with anything comparable with <)</td>\n",
       "\t<td >[{\"type\":{\"names\":[\"Array\"]},\"description\":\"-\",\"name\":\"collection\"},{\"type\":{\"names\":[\"function\",\"String\"]},\"description\":\"function to identify the property, string property name or null\",\"name\":\"accessor\"}]</td>\n",
       "\t<td >[{\"type\":{\"names\":[\"any\"]},\"description\":\"- smallest value where result < any other value in collection\"}]</td>\n",
       "\t<td >[\"utils.aggregate.min([0.87, 2.68, 5.31, 3.94, 4.13, 3.58, 3.62, 2.56]);\\n// 0.87\"]</td>\n",
       "\t<td >min</td>\n",
       "\t<td >module:aggregate.min</td>\n",
       "\t<td >function</td>\n",
       "\t<td >module:aggregate</td>\n",
       "\t<td >static</td>\n",
       "</tr>\n",
       "<tr >\n",
       "\t<td >{\n",
       "  \"range\": [\n",
       "    9722,\n",
       "    9870\n",
       "  ],\n",
       "  \"filename\": \"aggregate.js\",\n",
       "  \"lineno\": 270,\n",
       "  \"columnno\": 0,\n",
       "  \"path\": \"/Users/proth/Documents/notebooks/jupyter-ijavascript-utils/src\",\n",
       "  \"code\": {\n",
       "    \"id\":…</td>\n",
       "\t<td >Maps an array of values to a single property.\n",
       "\n",
       "For example:\n",
       "\n",
       "```\n",
       "const data = [{ record: 'jobA', val: 1 }, { record: 'jobA', val: 2 },\n",
       " { record: 'jobA', val: 3 }, { record: 'jobA', val: 4 },\n",
       " { record: 'jobA', val: 5 }, { record: 'jobA', val: 6 },\n",
       " { record: 'jobA', val: 7 }, { record: 'jobA', val: 8 },\n",
       " { record: 'jobA', val: 9 }, { record: 'jobA', val: 10 }\n",
       "];\n",
       "\n",
       "utils.object.propertyFromList(data, 'val')\n",
       "//-- [1, 2, 3, 4, 5, 6, 7, 8, 9, 10];\n",
       "\n",
       "utils.object.propertyFromList(data, (r) => r.val);\n",
       "//-- [1, 2, 3, 4, 5, 6, 7, 8, 9, 10];\n",
       "```</td>\n",
       "\t<td >[{\"type\":{\"names\":[\"Array.<Object>\"]},\"description\":\"Array of Objects to be mapped to a single property / value\",\"name\":\"objectArray\"},{\"type\":{\"names\":[\"function\",\"String\"]},\"description\":\"Name of the property or Function to return a value\",\"name\":\"propertyOrFn\"}]</td>\n",
       "\t<td >[{\"type\":{\"names\":[\"Array\"]},\"description\":\"- Array of values\"}]</td>\n",
       "\t<td >undefined</td>\n",
       "\t<td >property</td>\n",
       "\t<td >module:aggregate.property</td>\n",
       "\t<td >function</td>\n",
       "\t<td >module:aggregate</td>\n",
       "\t<td >static</td>\n",
       "</tr>\n",
       "<tr >\n",
       "\t<td >{\n",
       "  \"range\": [\n",
       "    13764,\n",
       "    13972\n",
       "  ],\n",
       "  \"filename\": \"aggregate.js\",\n",
       "  \"lineno\": 387,\n",
       "  \"columnno\": 0,\n",
       "  \"path\": \"/Users/proth/Documents/notebooks/jupyter-ijavascript-utils/src\",\n",
       "  \"code\": {\n",
       "    \"id…</td>\n",
       "\t<td >Sum of the values.</td>\n",
       "\t<td >[{\"type\":{\"names\":[\"Array\"]},\"description\":\"-\",\"name\":\"collection\"},{\"type\":{\"names\":[\"function\",\"String\"]},\"description\":\"function to identify the property, string property name or null\",\"name\":\"accessor\"}]</td>\n",
       "\t<td >[{\"type\":{\"names\":[\"any\"]},\"description\":\"- largest value where result > any other value in collection\"}]</td>\n",
       "\t<td >[\"utils.aggregate.sum([0.87, 2.68, 5.31, 3.94, 4.13, 3.58, 3.62, 2.56]);\\n// 26.69\"]</td>\n",
       "\t<td >sum</td>\n",
       "\t<td >module:aggregate.sum</td>\n",
       "\t<td >function</td>\n",
       "\t<td >module:aggregate</td>\n",
       "\t<td >static</td>\n",
       "</tr>\n",
       "</table>"
      ]
     },
     "execution_count": 11,
     "metadata": {},
     "output_type": "execute_result"
    }
   ],
   "source": [
    "utils.table(jsdocInfo.filter(r => r.undocumented !== true && r.kind === 'function').slice(0, 10))\n",
    "  .columnsToExclude('comment')\n",
    "  .sort('longname')\n",
    "  .formatter(({\n",
    "\tmeta: (val) => utils.format.ellipsify(JSON.stringify(val, null, 2), '200')\n",
    "}))\n",
    "  .render()"
   ]
  },
  {
   "cell_type": "code",
   "execution_count": 9,
   "id": "009dbbfa-f334-4a81-af99-3f5d57ce875b",
   "metadata": {},
   "outputs": [
    {
     "data": {
      "application/json": [
       {
        "comment": "",
        "kind": "constant",
        "longname": "Percentile",
        "meta": {
         "code": {
          "id": "astnode100000003",
          "name": "Percentile",
          "type": "CallExpression",
          "value": ""
         },
         "columnno": 6,
         "filename": "aggregate.js",
         "lineno": 3,
         "path": "/Users/proth/Documents/notebooks/jupyter-ijavascript-utils/src",
         "range": [
          53,
          87
         ]
        },
        "name": "Percentile",
        "params": [],
        "scope": "global",
        "undocumented": true
       },
       {
        "comment": "",
        "kind": "constant",
        "longname": "ArrayUtils",
        "meta": {
         "code": {
          "id": "astnode100000009",
          "name": "ArrayUtils",
          "type": "CallExpression",
          "value": ""
         },
         "columnno": 6,
         "filename": "aggregate.js",
         "lineno": 5,
         "path": "/Users/proth/Documents/notebooks/jupyter-ijavascript-utils/src",
         "range": [
          96,
          127
         ]
        },
        "name": "ArrayUtils",
        "params": [],
        "scope": "global",
        "undocumented": true
       },
       {
        "comment": "",
        "kind": "constant",
        "longname": "ObjectUtils",
        "meta": {
         "code": {
          "id": "astnode100000015",
          "name": "ObjectUtils",
          "type": "CallExpression",
          "value": ""
         },
         "columnno": 6,
         "filename": "aggregate.js",
         "lineno": 6,
         "path": "/Users/proth/Documents/notebooks/jupyter-ijavascript-utils/src",
         "range": [
          135,
          168
         ]
        },
        "name": "ObjectUtils",
        "params": [],
        "scope": "global",
        "undocumented": true
       },
       {
        "comment": "",
        "kind": "constant",
        "longname": "FormatUtils",
        "meta": {
         "code": {
          "id": "astnode100000021",
          "name": "FormatUtils",
          "type": "CallExpression",
          "value": ""
         },
         "columnno": 6,
         "filename": "aggregate.js",
         "lineno": 7,
         "path": "/Users/proth/Documents/notebooks/jupyter-ijavascript-utils/src",
         "range": [
          176,
          209
         ]
        },
        "name": "FormatUtils",
        "params": [],
        "scope": "global",
        "undocumented": true
       },
       {
        "alias": "aggregate",
        "comment": "/**\n * Utilities that provide a reduced value from a collection.\n * \n * (Note that this can also map the collection down first)\n * \n * This can be very helpful with {@link SourceMap#reduce|SourceMap.reduce()}\n * or {@link module:group.by|group.by()} in aggregating a series.\n * \n * Types of methods:\n * \n * * Select a single property\n *   * {@link module:aggregate.property|property()} - maps to a single property (often used with other libraries)\n * * Ranges of values\n *   * {@link module:aggregate.extent|extent()} - returns the min and max of range\n *   * {@link module:aggregate.min|min()} - returns the minimum value of the range\n *   * {@link module:aggregate.max|max()} - returns the maximum value of the range\n *   * {@link module:aggregate.difference|difference()} - returns the difference between max and min values\n * * Average values\n *   * {@link module:aggregate.avgMedian|avgMedian()} - finds the median (halfway number in a sorted series)\n *   * {@link module:aggregate.avgMean|avgMean()} - Finds the mean value (sum of all values / # of values)\n * * Unique / Duplicate values\n *   * {@link module:aggregate.duplicates|duplicates()} - returns values found more than once\n *   * {@link module:aggregate.count|count()} - returns count of values in ways easily convertable to string\n *   * {@link module:aggregate.countMap|countMap()} - return count of values in a map\n *   * {@link module:aggregate.unique|unique()} - returns values found only once\n *   * {@link module:aggregate.distinct|distinct()} - returns the number of unique values found (unique.length)\n *   * {@link module:aggregate.notIn|notIn()} - returns which values are not in a superset\n *   * {@link module:aggregate.isUnique|isUnique()} - returns whether the values in the list are unique\n * * Meta / Coalesce\n *   * {@link module:aggregate.length|length()} - Number of records found in the collection\n *   * {@link module:aggregate.first|first()} - returns first non-null/undefined in list\n *   * {@link module:aggregate.sum|sum()} - sum of a collection\n * * Functional\n *   * {@link module:aggregate.deferCollection|deferCollection(function, bindArg, bindArg, ...)} - bind a function with arguments\n * * Percentile\n *   * {@link module:aggregate.percentile|percentile()} - determines the Nth percentile of a field or value\n *   * {@link module:aggregate.percentile_01|percentile_01()} - 1th percentile\n *   * {@link module:aggregate.percentile_05|percentile_05()} - 5th percentile\n *   * {@link module:aggregate.percentile_10|percentile_10()} - 10th percentile\n *   * {@link module:aggregate.percentile_25|percentile_25()} - 25th percentile\n *   * {@link module:aggregate.percentile_50|percentile_50()} - 50th percentile\n *   * {@link module:aggregate.percentile_75|percentile_75()} - 75th percentile\n *   * {@link module:aggregate.percentile_90|percentile_90()} - 90th percentile\n *   * {@link module:aggregate.percentile_95|percentile_95()} - 95th percentile\n *   * {@link module:aggregate.percentile_99|percentile_99()} - 99th percentile\n * * Top Values\n *   * {@link module:aggregate.topValues|topValues} - top (or bottom) values from a list of objects or literals\n * \n * Please note, there is nothing special for these functions, such as working with {@link SourceMap#reduce|SourceMap.reduce()}\n * \n * They simply accept a collection and provide a result,\n * often using the {@link module:aggregate.evaluateFunctionOrProperty|aggregate.evaluateFunctionOrProperty()}\n * with the second argument.\n * \n * ## Overall Example\n * \n * Assume we have two tyeps of values:\n * \n * ```\n * collection = [\n *   { id: 1, city: 'Seattle',  month: 'Aug', precip: 0.87 },\n *   { id: 0, city: 'Seattle',  month: 'Apr', precip: 2.68 },\n *   { id: 2, city: 'Seattle',  month: 'Dec', precip: 5.31 },\n *   { id: 3, city: 'New York', month: 'Apr', precip: 3.94 },\n *   { id: 4, city: 'New York', month: 'Aug', precip: 4.13 },\n *   { id: 5, city: 'New York', month: 'Dec', precip: 3.58 },\n *   { id: 6, city: 'Chicago',  month: 'Apr', precip: 3.62 },\n *   { id: 8, city: 'Chicago',  month: 'Dec', precip: 2.56 },\n *   { id: 7, city: 'Chicago',  month: 'Aug', precip: 3.98 }\n * ];\n * ```\n * \n * ```\n * // collection.map(r => r.precip);\n * series = [0.87, 2.68, 5.31, 3.94, 4.13, 3.58, 3.62, 2.56, 3.98];\n * ```\n * \n * ## Working with Groups\n * \n * The expected way this will be used most is with the {@link module:group|group.by(collection, field, ...)} call.\n * \n * (See also {@link https://observablehq.com/@d3/d3-group|d3-group functionality})\n * \n * ```\n * utils.group.by(collection, 'city')\n *   .reduce((collection) => ({\n *     monthsReporting: utils.aggregate.unique(collection, 'month'),\n *     avgPrecipitation: utils.aggregate.sum(collection, 'precip'),\n *     numReports: utils.aggregate.length(collection),\n *     minPrecip: utils.aggregate.min(collection, 'precip'),\n *     maxPrecip: utils.aggregate.min(collection, 'precip'),\n *     variancePrecip: utils.aggregate.difference(collection, 'precip'),\n *   }))\n * \n * providing\n * [\n *   {\n *     city: 'Seattle',\n *     monthsReporting: [ 'Aug', 'Apr', 'Dec' ],\n *     avgPrecipitation: 8.86,\n *     numReports: 3,\n *     minPrecip: 0.87,\n *     maxPrecip: 0.87,\n *     variancePrecip: 4.43999\n *   },\n *   {\n *     city: 'New York',\n *     monthsReporting: [ 'Apr', 'Aug', 'Dec' ],\n *     avgPrecipitation: 11.65,\n *     numReports: 3,\n *     minPrecip: 3.58,\n *     maxPrecip: 3.58,\n *     variancePrecip: 0.54999\n *   },\n *   ...\n * ]\n * ```\n * \n * ## Using in Tables\n * \n * ({@link TableGenerator|see TableGenerator})\n * \n * ```\n * new utils.TableGenerator()\n *     .data(\n *       utils.group.by(collection, 'city')\n *        .reduce((collection) => ({\n *          monthsReporting: utils.aggregate.unique(collection, 'month'),\n *          avgPrecipitation: utils.aggregate.sum(collection, 'precip'),\n *          numReports: utils.aggregate.length(collection),\n *          minPrecip: utils.aggregate.min(collection, 'precip'),\n *          maxPrecip: utils.aggregate.min(collection, 'precip'),\n *          variancePrecip: utils.aggregate.difference(collection, 'precip'),\n *        }))\n *     )\n *     .labels({ monthsReporting: 'Months',\n *              avgPrecipitation: 'Avg. Precip.',\n *              numReports: '# Reports'\n *     })\n *     .render()\n * ```\n * \n * ![Screenshot](img/PrecipitationAvgTable.png)\n * \n * ## Using in Vega Charts\n * \n * ({@link module:vega|see vega module})\n * \n * ```\n * utils.vega.svg((vl) => vl.markLine()\n *    .data(\n *       utils.group.by(collection, 'city')\n *        .reduceSeparate((collection) => ({\n *          minPrecip: utils.aggregate.min(collection, 'precip'),\n *          maxPrecip: utils.aggregate.max(collection, 'precip'),\n *          avgPrecip: utils.aggregate.avgMean(collection, 'precip'),\n *        }))\n *    )\n *    .title('Precipitation by City')\n *    .width(400)\n *    .encode(\n *         vl.x().fieldN('city'),\n *         vl.y().fieldQ('_aggregateValue').title('Precipitation'),\n *         vl.color().fieldN('_aggregateKey').title('Calculation')\n *    )\n * );\n * ```\n * \n * ![Screenshot](img/PrecipitationAvgChart.png)\n * \n * ## Working with Simple Arrays\n * \n * Simple arrays do not need a mapping function or property,\n * we can simply pass null (or no second argument at all).\n * \n * ```\n * series = [0.87, 2.68, 5.31, 3.94, 4.13, 3.58, 3.62, 2.56, 3.98];\n * utils.aggregate.min(series, null);\n * // provides 0.87\n * ```\n * \n * This is the same as `series.sort(utils.array.SORT_ASCENDING)[0]`\n * \n * ## Working with Mapping Functions\n * \n * If we want a specific value, we can pass a mapping function first.\n * \n * ```\n * collection = [\n *   { id: 1, city: 'Seattle',  month: 'Aug', precip: 0.87 },\n *   { id: 0, city: 'Seattle',  month: 'Apr', precip: 2.68 },\n *   ...\n * ];\n * \n * utils.aggregate.min(collection, (r) => r.precip);\n * // provides 0.87\n * ```\n * \n * This is the same as:\n * \n * ```\n * collection.map(r => r precip)\n *    .sort(utils.array.SORT_ASCENDING)[0]\n * ```\n * \n * ## Working with Object Properties\n * \n * If we have a specific property (or key) in our 2d collection,\n * then we can just pass that instead.\n * \n * ```\n * collection = [\n *   { id: 1, city: 'Seattle',  month: 'Aug', precip: 0.87 },\n *   { id: 0, city: 'Seattle',  month: 'Apr', precip: 2.68 },\n *   ...\n * ];\n * \n * utils.aggregate.min(collection, 'precip');\n * // provides 0.87\n * ```\n * \n * This is the same as:\n * \n * ```\n * collection.map(r => r precip)\n *    .sort(utils.array.SORT_ASCENDING)[0]\n * ```\n * \n * @namespace aggregate\n * @module aggregate\n * @exports aggregate\n */",
        "description": "Utilities that provide a reduced value from a collection.\n\n(Note that this can also map the collection down first)\n\nThis can be very helpful with {@link SourceMap#reduce|SourceMap.reduce()}\nor {@link module:group.by|group.by()} in aggregating a series.\n\nTypes of methods:\n\n* Select a single property\n  * {@link module:aggregate.property|property()} - maps to a single property (often used with other libraries)\n* Ranges of values\n  * {@link module:aggregate.extent|extent()} - returns the min and max of range\n  * {@link module:aggregate.min|min()} - returns the minimum value of the range\n  * {@link module:aggregate.max|max()} - returns the maximum value of the range\n  * {@link module:aggregate.difference|difference()} - returns the difference between max and min values\n* Average values\n  * {@link module:aggregate.avgMedian|avgMedian()} - finds the median (halfway number in a sorted series)\n  * {@link module:aggregate.avgMean|avgMean()} - Finds the mean value (sum of all values / # of values)\n* Unique / Duplicate values\n  * {@link module:aggregate.duplicates|duplicates()} - returns values found more than once\n  * {@link module:aggregate.count|count()} - returns count of values in ways easily convertable to string\n  * {@link module:aggregate.countMap|countMap()} - return count of values in a map\n  * {@link module:aggregate.unique|unique()} - returns values found only once\n  * {@link module:aggregate.distinct|distinct()} - returns the number of unique values found (unique.length)\n  * {@link module:aggregate.notIn|notIn()} - returns which values are not in a superset\n  * {@link module:aggregate.isUnique|isUnique()} - returns whether the values in the list are unique\n* Meta / Coalesce\n  * {@link module:aggregate.length|length()} - Number of records found in the collection\n  * {@link module:aggregate.first|first()} - returns first non-null/undefined in list\n  * {@link module:aggregate.sum|sum()} - sum of a collection\n* Functional\n  * {@link module:aggregate.deferCollection|deferCollection(function, bindArg, bindArg, ...)} - bind a function with arguments\n* Percentile\n  * {@link module:aggregate.percentile|percentile()} - determines the Nth percentile of a field or value\n  * {@link module:aggregate.percentile_01|percentile_01()} - 1th percentile\n  * {@link module:aggregate.percentile_05|percentile_05()} - 5th percentile\n  * {@link module:aggregate.percentile_10|percentile_10()} - 10th percentile\n  * {@link module:aggregate.percentile_25|percentile_25()} - 25th percentile\n  * {@link module:aggregate.percentile_50|percentile_50()} - 50th percentile\n  * {@link module:aggregate.percentile_75|percentile_75()} - 75th percentile\n  * {@link module:aggregate.percentile_90|percentile_90()} - 90th percentile\n  * {@link module:aggregate.percentile_95|percentile_95()} - 95th percentile\n  * {@link module:aggregate.percentile_99|percentile_99()} - 99th percentile\n* Top Values\n  * {@link module:aggregate.topValues|topValues} - top (or bottom) values from a list of objects or literals\n\nPlease note, there is nothing special for these functions, such as working with {@link SourceMap#reduce|SourceMap.reduce()}\n\nThey simply accept a collection and provide a result,\noften using the {@link module:aggregate.evaluateFunctionOrProperty|aggregate.evaluateFunctionOrProperty()}\nwith the second argument.\n\n## Overall Example\n\nAssume we have two tyeps of values:\n\n```\ncollection = [\n  { id: 1, city: 'Seattle',  month: 'Aug', precip: 0.87 },\n  { id: 0, city: 'Seattle',  month: 'Apr', precip: 2.68 },\n  { id: 2, city: 'Seattle',  month: 'Dec', precip: 5.31 },\n  { id: 3, city: 'New York', month: 'Apr', precip: 3.94 },\n  { id: 4, city: 'New York', month: 'Aug', precip: 4.13 },\n  { id: 5, city: 'New York', month: 'Dec', precip: 3.58 },\n  { id: 6, city: 'Chicago',  month: 'Apr', precip: 3.62 },\n  { id: 8, city: 'Chicago',  month: 'Dec', precip: 2.56 },\n  { id: 7, city: 'Chicago',  month: 'Aug', precip: 3.98 }\n];\n```\n\n```\n// collection.map(r => r.precip);\nseries = [0.87, 2.68, 5.31, 3.94, 4.13, 3.58, 3.62, 2.56, 3.98];\n```\n\n## Working with Groups\n\nThe expected way this will be used most is with the {@link module:group|group.by(collection, field, ...)} call.\n\n(See also {@link https://observablehq.com/@d3/d3-group|d3-group functionality})\n\n```\nutils.group.by(collection, 'city')\n  .reduce((collection) => ({\n    monthsReporting: utils.aggregate.unique(collection, 'month'),\n    avgPrecipitation: utils.aggregate.sum(collection, 'precip'),\n    numReports: utils.aggregate.length(collection),\n    minPrecip: utils.aggregate.min(collection, 'precip'),\n    maxPrecip: utils.aggregate.min(collection, 'precip'),\n    variancePrecip: utils.aggregate.difference(collection, 'precip'),\n  }))\n\nproviding\n[\n  {\n    city: 'Seattle',\n    monthsReporting: [ 'Aug', 'Apr', 'Dec' ],\n    avgPrecipitation: 8.86,\n    numReports: 3,\n    minPrecip: 0.87,\n    maxPrecip: 0.87,\n    variancePrecip: 4.43999\n  },\n  {\n    city: 'New York',\n    monthsReporting: [ 'Apr', 'Aug', 'Dec' ],\n    avgPrecipitation: 11.65,\n    numReports: 3,\n    minPrecip: 3.58,\n    maxPrecip: 3.58,\n    variancePrecip: 0.54999\n  },\n  ...\n]\n```\n\n## Using in Tables\n\n({@link TableGenerator|see TableGenerator})\n\n```\nnew utils.TableGenerator()\n    .data(\n      utils.group.by(collection, 'city')\n       .reduce((collection) => ({\n         monthsReporting: utils.aggregate.unique(collection, 'month'),\n         avgPrecipitation: utils.aggregate.sum(collection, 'precip'),\n         numReports: utils.aggregate.length(collection),\n         minPrecip: utils.aggregate.min(collection, 'precip'),\n         maxPrecip: utils.aggregate.min(collection, 'precip'),\n         variancePrecip: utils.aggregate.difference(collection, 'precip'),\n       }))\n    )\n    .labels({ monthsReporting: 'Months',\n             avgPrecipitation: 'Avg. Precip.',\n             numReports: '# Reports'\n    })\n    .render()\n```\n\n![Screenshot](img/PrecipitationAvgTable.png)\n\n## Using in Vega Charts\n\n({@link module:vega|see vega module})\n\n```\nutils.vega.svg((vl) => vl.markLine()\n   .data(\n      utils.group.by(collection, 'city')\n       .reduceSeparate((collection) => ({\n         minPrecip: utils.aggregate.min(collection, 'precip'),\n         maxPrecip: utils.aggregate.max(collection, 'precip'),\n         avgPrecip: utils.aggregate.avgMean(collection, 'precip'),\n       }))\n   )\n   .title('Precipitation by City')\n   .width(400)\n   .encode(\n        vl.x().fieldN('city'),\n        vl.y().fieldQ('_aggregateValue').title('Precipitation'),\n        vl.color().fieldN('_aggregateKey').title('Calculation')\n   )\n);\n```\n\n![Screenshot](img/PrecipitationAvgChart.png)\n\n## Working with Simple Arrays\n\nSimple arrays do not need a mapping function or property,\nwe can simply pass null (or no second argument at all).\n\n```\nseries = [0.87, 2.68, 5.31, 3.94, 4.13, 3.58, 3.62, 2.56, 3.98];\nutils.aggregate.min(series, null);\n// provides 0.87\n```\n\nThis is the same as `series.sort(utils.array.SORT_ASCENDING)[0]`\n\n## Working with Mapping Functions\n\nIf we want a specific value, we can pass a mapping function first.\n\n```\ncollection = [\n  { id: 1, city: 'Seattle',  month: 'Aug', precip: 0.87 },\n  { id: 0, city: 'Seattle',  month: 'Apr', precip: 2.68 },\n  ...\n];\n\nutils.aggregate.min(collection, (r) => r.precip);\n// provides 0.87\n```\n\nThis is the same as:\n\n```\ncollection.map(r => r precip)\n   .sort(utils.array.SORT_ASCENDING)[0]\n```\n\n## Working with Object Properties\n\nIf we have a specific property (or key) in our 2d collection,\nthen we can just pass that instead.\n\n```\ncollection = [\n  { id: 1, city: 'Seattle',  month: 'Aug', precip: 0.87 },\n  { id: 0, city: 'Seattle',  month: 'Apr', precip: 2.68 },\n  ...\n];\n\nutils.aggregate.min(collection, 'precip');\n// provides 0.87\n```\n\nThis is the same as:\n\n```\ncollection.map(r => r precip)\n   .sort(utils.array.SORT_ASCENDING)[0]\n```",
        "kind": "module",
        "longname": "module:aggregate",
        "meta": {
         "code": {},
         "columnno": 0,
         "filename": "aggregate.js",
         "lineno": 9,
         "path": "/Users/proth/Documents/notebooks/jupyter-ijavascript-utils/src"
        },
        "name": "aggregate"
       },
       {
        "comment": "",
        "kind": "member",
        "longname": "module:aggregate",
        "meta": {
         "code": {
          "id": "astnode100000027",
          "name": "module.exports",
          "paramnames": [],
          "type": "ObjectExpression",
          "value": "{}"
         },
         "columnno": 0,
         "filename": "aggregate.js",
         "lineno": 241,
         "path": "/Users/proth/Documents/notebooks/jupyter-ijavascript-utils/src",
         "range": [
          8781,
          8800
         ]
        },
        "name": "module:aggregate",
        "undocumented": true
       },
       {
        "comment": "",
        "kind": "constant",
        "longname": "module:aggregate~AggregateUtils",
        "memberof": "module:aggregate",
        "meta": {
         "code": {
          "id": "astnode100000033",
          "name": "AggregateUtils",
          "type": "MemberExpression",
          "value": "module.exports"
         },
         "columnno": 6,
         "filename": "aggregate.js",
         "lineno": 244,
         "path": "/Users/proth/Documents/notebooks/jupyter-ijavascript-utils/src",
         "range": [
          8852,
          8883
         ]
        },
        "name": "AggregateUtils",
        "params": [],
        "scope": "inner",
        "undocumented": true
       },
       {
        "comment": "/**\n * Maps an array of values to a single property.\n * \n * For example:\n * \n * ```\n * const data = [{ record: 'jobA', val: 1 }, { record: 'jobA', val: 2 },\n *  { record: 'jobA', val: 3 }, { record: 'jobA', val: 4 },\n *  { record: 'jobA', val: 5 }, { record: 'jobA', val: 6 },\n *  { record: 'jobA', val: 7 }, { record: 'jobA', val: 8 },\n *  { record: 'jobA', val: 9 }, { record: 'jobA', val: 10 }\n * ];\n * \n * utils.object.propertyFromList(data, 'val')\n * //-- [1, 2, 3, 4, 5, 6, 7, 8, 9, 10];\n * \n * utils.object.propertyFromList(data, (r) => r.val);\n * //-- [1, 2, 3, 4, 5, 6, 7, 8, 9, 10];\n * ```\n * \n * @param {Object[]} objectArray - Array of Objects to be mapped to a single property / value\n * @param {Function | String} propertyOrFn - Name of the property or Function to return a value\n * @returns {Array} - Array of values\n */",
        "description": "Maps an array of values to a single property.\n\nFor example:\n\n```\nconst data = [{ record: 'jobA', val: 1 }, { record: 'jobA', val: 2 },\n { record: 'jobA', val: 3 }, { record: 'jobA', val: 4 },\n { record: 'jobA', val: 5 }, { record: 'jobA', val: 6 },\n { record: 'jobA', val: 7 }, { record: 'jobA', val: 8 },\n { record: 'jobA', val: 9 }, { record: 'jobA', val: 10 }\n];\n\nutils.object.propertyFromList(data, 'val')\n//-- [1, 2, 3, 4, 5, 6, 7, 8, 9, 10];\n\nutils.object.propertyFromList(data, (r) => r.val);\n//-- [1, 2, 3, 4, 5, 6, 7, 8, 9, 10];\n```",
        "kind": "function",
        "longname": "module:aggregate.property",
        "memberof": "module:aggregate",
        "meta": {
         "code": {
          "id": "astnode100000039",
          "name": "module.exports.property",
          "paramnames": [
           "objectArray",
           "propertyOrFn"
          ],
          "type": "FunctionExpression",
          "value": "propertyFromList"
         },
         "columnno": 0,
         "filename": "aggregate.js",
         "lineno": 270,
         "path": "/Users/proth/Documents/notebooks/jupyter-ijavascript-utils/src",
         "range": [
          9722,
          9870
         ]
        },
        "name": "property",
        "params": [
         {
          "description": "Array of Objects to be mapped to a single property / value",
          "name": "objectArray",
          "type": {
           "names": [
            "Array.<Object>"
           ]
          }
         },
         {
          "description": "Name of the property or Function to return a value",
          "name": "propertyOrFn",
          "type": {
           "names": [
            "function",
            "String"
           ]
          }
         }
        ],
        "returns": [
         {
          "description": "- Array of values",
          "type": {
           "names": [
            "Array"
           ]
          }
         }
        ],
        "scope": "static"
       },
       {
        "comment": "/**\n * Converts an aggregate function to two functions -\n * one that takes all arguments except the collection\n * and one that takes only the collection.\n * \n * For example:\n * \n * ```\n * utils.aggregate.unique(collection, (r) => r.city))\n * //-- all unique city values in the collection\n * // ['Chicago', 'New York', 'Seattle', 'Amsterdam']\n * ```\n * \n * but what if we know we want the city properties,\n * but don't have the collection yet?\n * \n * ```\n * const uniqueCity = utils.aggregate.deferCollection(utils.aggregate.unique, (r) => r.city);\n * ...\n * uniqueCity(collection)\n * //-- all the unique city values in the collection\n * // ['Chicago', 'New York', 'Seattle', 'Amsterdam']\n * ```\n * \n * note that this is also available under an alias `defer`\n * \n * ```\n * const uniqueCity = utils.agg.defer(utils.agg.unique, 'city');\n * ...\n * uniqueCity(collection)\n * //-- all the unique city values in the collection\n * // ['Chicago', 'New York', 'Seattle', 'Amsterdam']\n * ```\n * \n * @param {Function} aggregateFn\n * @param {...any} [rest] - any arguments past the collection argument\n * @returns {Function} - (collection) => aggregateFn.apply(this, [collection, ...rest])\n */",
        "description": "Converts an aggregate function to two functions -\none that takes all arguments except the collection\nand one that takes only the collection.\n\nFor example:\n\n```\nutils.aggregate.unique(collection, (r) => r.city))\n//-- all unique city values in the collection\n// ['Chicago', 'New York', 'Seattle', 'Amsterdam']\n```\n\nbut what if we know we want the city properties,\nbut don't have the collection yet?\n\n```\nconst uniqueCity = utils.aggregate.deferCollection(utils.aggregate.unique, (r) => r.city);\n...\nuniqueCity(collection)\n//-- all the unique city values in the collection\n// ['Chicago', 'New York', 'Seattle', 'Amsterdam']\n```\n\nnote that this is also available under an alias `defer`\n\n```\nconst uniqueCity = utils.agg.defer(utils.agg.unique, 'city');\n...\nuniqueCity(collection)\n//-- all the unique city values in the collection\n// ['Chicago', 'New York', 'Seattle', 'Amsterdam']\n```",
        "kind": "function",
        "longname": "module:aggregate.deferCollection",
        "memberof": "module:aggregate",
        "meta": {
         "code": {
          "id": "astnode100000058",
          "name": "module.exports.deferCollection",
          "paramnames": [
           "aggregateFn",
           "rest"
          ],
          "type": "ArrowFunctionExpression"
         },
         "columnno": 0,
         "filename": "aggregate.js",
         "lineno": 312,
         "path": "/Users/proth/Documents/notebooks/jupyter-ijavascript-utils/src",
         "range": [
          11054,
          11311
         ],
         "vars": {
          "": null
         }
        },
        "name": "deferCollection",
        "params": [
         {
          "name": "aggregateFn",
          "type": {
           "names": [
            "function"
           ]
          }
         },
         {
          "description": "any arguments past the collection argument",
          "name": "rest",
          "optional": true,
          "type": {
           "names": [
            "any"
           ]
          },
          "variable": true
         }
        ],
        "returns": [
         {
          "description": "- (collection) => aggregateFn.apply(this, [collection, ...rest])",
          "type": {
           "names": [
            "function"
           ]
          }
         }
        ],
        "scope": "static"
       },
       {
        "comment": "",
        "kind": "member",
        "longname": "module:aggregate.defer",
        "memberof": "module:aggregate",
        "meta": {
         "code": {
          "id": "astnode100000092",
          "name": "module.exports.defer",
          "paramnames": [],
          "type": "MemberExpression",
          "value": "module.exports.deferCollection"
         },
         "columnno": 0,
         "filename": "aggregate.js",
         "lineno": 320,
         "path": "/Users/proth/Documents/notebooks/jupyter-ijavascript-utils/src",
         "range": [
          11314,
          11367
         ]
        },
        "name": "defer",
        "scope": "static",
        "undocumented": true
       }
      ]
     },
     "execution_count": 9,
     "metadata": {},
     "output_type": "execute_result"
    }
   ],
   "source": [
    "$$.json(jsdocInfo.slice(0,10))"
   ]
  }
 ],
 "metadata": {
  "kernelspec": {
   "display_name": "JavaScript (Node.js)",
   "language": "javascript",
   "name": "javascript"
  },
  "language_info": {
   "file_extension": ".js",
   "mimetype": "application/javascript",
   "name": "javascript",
   "version": "16.14.2"
  }
 },
 "nbformat": 4,
 "nbformat_minor": 5
}
