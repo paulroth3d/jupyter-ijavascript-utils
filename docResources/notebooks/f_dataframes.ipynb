{
 "cells": [
  {
   "cell_type": "markdown",
   "id": "805c2299-fe83-41a5-ad89-e083a80e952e",
   "metadata": {},
   "source": [
    "**[This walkthrough is also available as a Jupyter ipynb Notebook - you can run yourself](notebooks/f_dataframes.ipynb)**"
   ]
  },
  {
   "cell_type": "raw",
   "id": "fd8b7b40-0ad9-4107-a5a8-b33b35946668",
   "metadata": {},
   "source": [
    "You will often want to group"
   ]
  }
 ],
 "metadata": {
  "kernelspec": {
   "display_name": "JavaScript (Node.js)",
   "language": "javascript",
   "name": "javascript"
  },
  "language_info": {
   "file_extension": ".js",
   "mimetype": "application/javascript",
   "name": "javascript",
   "version": "16.14.2"
  }
 },
 "nbformat": 4,
 "nbformat_minor": 5
}
