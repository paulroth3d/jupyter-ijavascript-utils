{
 "cells": [
  {
   "cell_type": "markdown",
   "id": "078aca2f-5356-40cb-94ff-3332130f069e",
   "metadata": {},
   "source": [
    "In this document, we'll talk about how you can get Jupyter Labs up and running with iJavaScript, and how to download and run your very own Jupyter Notebooks.\n",
    "\n",
    "For those that just want to jump into it:\n",
    "\n",
    "* How do you Install Jupyter\n",
    "   * [or tldr; install Anaconda community edition](https://www.anaconda.com/products/distribution)\n",
    "* Install NodeJS and NPM / Yarn\n",
    "* Installing the iJavaScript Kernel\n",
    "   * ex:\n",
    "   * `npm install -g ijavascript`\n",
    "   * `ijsinstall --spec-path=full`\n",
    "* Running a Jupyter Lab Notebook\n",
    "\n",
    "For those that would like to learn more:\n",
    "\n",
    "* What is Jupyter Anyway\n",
    "* What is the iJavaScript Kernel\n",
    "* Other Notebook Environments"
   ]
  },
  {
   "cell_type": "markdown",
   "id": "ad3e4b9a-cbd1-4b61-9761-2a6d7ae43e82",
   "metadata": {},
   "source": [
    "## How do you Install Jupyter Lab\n",
    "\n",
    "While Jupyter can support many languages, it is built and depends on Python.\n",
    "\n",
    "### I want self contained Python\n",
    "\n",
    "If you don't currently manage Python, we would recommend installing the free [Anaconda for Python 3](https://www.anaconda.com/download) for most cases.\n",
    "\n",
    "The Individual Edition is free and manages versions of Python and Jupyter Lab for you.\n",
    "\n",
"![Screenshot of Anaconda Navigator](../img/Anaconda_NavigatorHome.png)\n",
    "\n",
    "Anaconda includes Python 3, Jupyter Lab, command line (conda) and a GUI (Anaconda Navigator) to install packages and manage environments.\n",
    "\n",
    "Note that after Anaconda is downloaded, there may be a lengthy 'setup' as it downloads the latest packages (a few minutes and about 3Gb)\n",
    "\n",
    "#### Miniconda\n",
    "\n",
    "There is also a smaller package of Anaconda - called MiniConda - that only includes the conda command line tools, Python and the packages they depend on.\n",
    "\n",
    "![Screenshot of MiniConda](../img/Anaconda_MiniCondaHome.png)\n",
    "\n",
    "As such - it does not include JupyterLab out of the box, but there are some great resources on [how to install miniconda and JupyterLab](https://betterprogramming.pub/how-to-use-miniconda-with-python-and-jupyterlab-5ce07845e818), but this might not be the best option for those getting started.\n",
    "\n",
    "[Anaconda provides a comparison between Anaconda and Miniconda here](https://docs.conda.io/projects/conda/en/latest/user-guide/install/download.html#anaconda-or-miniconda)\n",
    "\n",
    "### Or Managing Your Own Environment\n",
    "\n",
    "If you already have Python installed, and are comfortable with managing Python Environments,\n",
    "you do not need a special version of Python or an IDE to use Jupyter Notebooks.\n",
    "\n",
    "[See the Jupyter Lab documentation for installing with mamba, pip, pipenv, and others](https://jupyterlab.readthedocs.io/en/stable/getting_started/installation.html)"
   ]
  },
  {
   "cell_type": "markdown",
   "id": "23ffa529-6388-4ac2-97de-01cc7bac9cc6",
   "metadata": {},
   "source": [
    "## Installing iJavaScript Kernel\n",
    "\n",
    "The installation for iJavaScript kernel depends on Node.js, npm and Jupyter.\n",
    "\n",
    "As we will be running NodeJS, we will require either [npm](https://docs.npmjs.com/downloading-and-installing-node-js-and-npm) or [yarn](https://classic.yarnpkg.com/lang/en/docs/install/)\n",
    "\n",
    "The steps and other details [can be found here](https://n-riesco.github.io/ijavascript/doc/install.md.html)\n",
    "\n",
    "Note that typically for mac, this can be as simple as:\n",
    "\n",
    "```\n",
    "npm install -g ijavascript\n",
    "ijsinstall \n",
    "```\n",
    "\n",
    "Note: I tend to run `ijsinstall --spec-path=full` to ensure the kernel uses the full path, to avoid issues"
   ]
  },
  {
   "cell_type": "markdown",
   "id": "8f7595bd-4e12-4b9a-8d7e-f7b6ecfa812d",
   "metadata": {},
   "source": [
    "# Using Node Modules in a notebook\n",
    "\n",
    "Through the iJavaScript Kernel, modules are searched in the directory that `Jupyter Lab` is launched from.\n",
    "\n",
    "To use this library, simply npm install the library in the same folder you launch Jupyter Lab.\n",
    "\n",
    "```\n",
    "npm install --save jupyter-ijavascript-utils\n",
    "```\n",
    "\n",
    "You should now have these files and folders in that directly you ran the command in:\n",
    "\n",
    "```\n",
    "./\n",
    "    ./package.json\n",
    "    ./node_modules\n",
    "```\n",
    "\n",
    "The [package.json](https://docs.npmjs.com/cli/v7/configuring-npm/package-json) file lists all the modules we require for this project.\n",
    "\n",
    "The [node_modules](https://docs.npmjs.com/cli/v7/configuring-npm/folders#node-modules) are where they are installed."
   ]
  },
  {
   "cell_type": "markdown",
   "id": "12315d8a-6b0f-4e80-910e-6a73d22ce4eb",
   "metadata": {},
   "source": [
    "## Launching Jupyter Lab\n",
    "\n",
    "You can Launch Jupyter Lab from the terminal through the command\n",
    "\n",
    "```\n",
    "jupyter lab\n",
    "```\n",
    "\n",
    "As long as the `npm_modules` folder is accessible within that folder, then the modules will then be available to the iJavaScript Kernel.\n",
    "\n",
    "## Passwords and Security\n",
    "\n",
    "The first time you log-in to your server, you will be prompted to enter a password.\n",
    "\n",
    "Only users that provide the password or the token from launch will be able to access Jupyter Lab.\n",
    "\n",
    "You can also set the password again at a later time, or use other security options.\n",
    "\n",
    "[This section discusses more on Running Jupyter Lab, and Security Options](https://jupyter-notebook.readthedocs.io/en/stable/public_server.html#notebook-server-security)\n",
    "\n",
    "Additionally, [this document discusses overall Security within Jupyter Lab notebooks](https://jupyter-notebook.readthedocs.io/en/stable/security.html)\n",
    "\n",
    "## Launch Screen\n",
    "\n",
    "You'll then see a Launcher tab, such as the following:\n",
    "\n",
    "![Screenshot of Jupyter Lab Launcher](../img/setup_nodeKernel.png)\n",
    "\n",
    "Select `JavaScript` under Notebooks to create an `Untitled.ipynb` notebook."
   ]
  },
  {
   "cell_type": "markdown",
   "id": "f0d8d922-b4c6-4a5c-8149-7e8e46b64948",
   "metadata": {},
   "source": [
    "## Testing JavaScript\n",
    "\n",
    "You can check that the Notebook is working by creating a new JavaScript (Node.JS) notebook.\n",
    "\n",
    "Then enter the following text into the cell\n",
    "\n",
    "```\n",
    "console.log('JavaScript is working');\n",
    "```\n",
    "\n",
    "Execute the cell with the 'Play' / '▶' button\n",
    "\n",
    "![Screenshot of JupyterLab JavaScript check](../img/JupyterLab_CheckWorking.png)\n",
    "\n",
    "## Testing Node Modules are Found\n",
    "\n",
    "Next, create a new Cell with the (+) button with the following code:\n",
    "\n",
    "```\n",
    "utils = require('jupyter-ijavascript-utils');\n",
    "\n",
    "//-- note that the last value returned in a cell is shown in console\n",
    "utils.object.keys(utils);\n",
    "```\n",
    "\n",
    "...and again, execute the cell with the 'Play' / '▶' button\n",
    "\n",
    "This shows the `jupyter-ijavascript-utils` library is available from our `node_modules`\n",
    "\n",
    "![Screenshot of Jupyter with a require](../img/howToUse_require.png)\n",
    "\n",
    "Note that Jupyter executes cells in order from top to bottom.\n",
    "\n",
    "So any cells below the cells below can then use the library."
   ]
  },
  {
   "cell_type": "markdown",
   "id": "3a6e3ea6-419e-4664-a7ce-2e789bce81eb",
   "metadata": {},
   "source": [
    "# Next Steps\n",
    "\n",
    "Please consider checking out one of the other tutorials:\n",
    "\n",
    "* [Example Walkthrough](https://jupyter-ijavascript-utils.onrender.com/tutorial-exampleWalkthrough.html)\n",
    "* [What can I do with this?](https://jupyter-ijavascript-utils.onrender.com/tutorial-whatCanDo.html)\n",
    "\n",
    "And note that the Jupyter Lab Notebook that each was written from is linked at the top.\n",
    "                             \n",
    "Try downloading and running yourself."
   ]
  },
  {
   "cell_type": "markdown",
   "id": "ec6a602e-e753-4ab1-be5b-bccf0b6a2970",
   "metadata": {},
   "source": [
    "-------"
   ]
  },
  {
   "cell_type": "markdown",
   "id": "111f6599-5d4b-4fb1-8523-41a963f9fb0d",
   "metadata": {},
   "source": [
    "## What is Jupyter Anyway?\n",
    "\n",
    "[Jupyter Lab is the latest environment for Jupyter](https://jupyter.org/) as a web-based interactive development environment.\n",
    "\n",
    "It has a very flexible interface to support workflows in data science, scientific computing, computational journalism and machine learning.\n",
    "\n",
    "A notebook is simply a collection of cells that are either `text` ([markdown](https://www.markdownguide.org/basic-syntax/)), or `code`.\n",
    "\n",
    "Jupyter doesn't understand the code itself - and merely passes it to another program that processes it and returns back what should be shown (kernel).\n",
    "\n",
    "![Screenshot of a cell setting a value, and then printing it in markdown](../img/howToUse_cellsBuilding.png)\n",
    "\n",
    "This makes Jupyter Notebooks very versatile as the the limits for languages  Jupyter supports really depends on which Kernels you have installed and registered."
   ]
  },
  {
   "cell_type": "markdown",
   "id": "485a304e-83e5-4771-80c5-25578eb550bb",
   "metadata": {},
   "source": [
    "## Other Notebook Environments\n",
    "\n",
    "### Observable HQ\n",
    "\n",
    "[ObservableHQ](https://observablehq.com/tutorials) provides a really great experience for those familiar with JavaScript.  Although it [isn't technically JavaScript](https://observablehq.com/@observablehq/observables-not-javascript), those familiar with Modern JavaScript will feel right at home.\n",
    "\n",
    "![Screenshot of ObservableHQ](../img/started_observableHQ.png)\n",
    "\n",
    "One item to note about Observable though is that at least some aspect of your notebook will be online, which may be something to consider. See the writeup on [Advanced Embedding and Downloading](https://observablehq.com/@observablehq/advanced-embeds) on how you can embed your notebook on a web page or run it as an ES Module. "
   ]
  },
  {
   "cell_type": "markdown",
   "id": "9fc8171f-ef68-4206-80fa-5bdd3e7c8e98",
   "metadata": {},
   "source": [
    "### Google Collab\n",
    "\n",
    "Google Collab is another online service for running and Authoring Notebooks.\n",
    "\n",
    "See the excellent writeup from [Alexey Okhrimenko on running TensorFlow within GoogleCollab](https://dev.to/obenjiro/silence-of-the-fans-part-1-javascript-quickstart-5f3m)\n",
    "\n",
    "Note the shortlink for an example document that sets up iJavaScript.\n",
    "\n",
    "![Screenshot of Google Collab](../img/started_collab.png)"
   ]
  },
  {
   "cell_type": "markdown",
   "id": "64c44d90-f7e8-4afe-bc5c-32f33f87d9a1",
   "metadata": {},
   "source": [
    "### Visual Studio Code\n",
    "\n",
    "Visual Studio Code also supports Jupyter Notebooks natively now too - [learn more here](https://code.visualstudio.com/docs/datascience/jupyter-notebooks)\n",
    "\n",
    "![Screenshot of VSCode](../img/started_vsCode.png);\n",
    "\n",
    "**Please note that there is an open bug to manage Scripts loaded with `text/html` mimetype - or all those rendered with `htmlScript`**"
   ]
  },
  {
   "cell_type": "markdown",
   "id": "0d4a0dd8-f0f1-4d47-aee1-700a846e6166",
   "metadata": {},
   "source": [
    "## What is the iJavaScript Kernel\n",
    "\n",
    "Jupyter supports multiple languages, but JavaScript is not available out of the box.\n",
    "\n",
    "[Try Jupyter Lab in your browser for the languages that are supported natively](https://jupyter.org/try)\n",
    "\n",
    "Language support is provided through Kernels within Jupyter Lab.\n",
    "\n",
    "[iJavaScript by nriesco](http://n-riesco.github.io/ijavascript/) is a kernel that provides JavaScript support\n",
    "through a Node.js session, and quite a few other smart ideas (such as Promise and Async support), along with various types of output options."
   ]
  }
 ],
 "metadata": {
  "kernelspec": {
   "display_name": "Javascript (Node.js)",
   "language": "javascript",
   "name": "javascript"
  },
  "language_info": {
   "file_extension": ".js",
   "mimetype": "application/javascript",
   "name": "javascript",
   "version": "16.13.0"
  }
 },
 "nbformat": 4,
 "nbformat_minor": 5
}
